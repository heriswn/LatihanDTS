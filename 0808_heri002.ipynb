{
  "nbformat": 4,
  "nbformat_minor": 0,
  "metadata": {
    "colab": {
      "name": "0808_heri002",
      "version": "0.3.2",
      "provenance": [],
      "include_colab_link": true
    },
    "kernelspec": {
      "name": "python3",
      "display_name": "Python 3"
    }
  },
  "cells": [
    {
      "cell_type": "markdown",
      "metadata": {
        "id": "view-in-github",
        "colab_type": "text"
      },
      "source": [
        "<a href=\"https://colab.research.google.com/github/heriswn/LatihanDTS/blob/master/0808_heri002.ipynb\" target=\"_parent\"><img src=\"https://colab.research.google.com/assets/colab-badge.svg\" alt=\"Open In Colab\"/></a>"
      ]
    },
    {
      "cell_type": "markdown",
      "metadata": {
        "id": "uKczsTVB0x2L",
        "colab_type": "text"
      },
      "source": [
        "# Tweets.cvs"
      ]
    },
    {
      "cell_type": "markdown",
      "metadata": {
        "id": "sBLfxztuT0mp",
        "colab_type": "text"
      },
      "source": [
        "# PreProssesing"
      ]
    },
    {
      "cell_type": "code",
      "metadata": {
        "id": "-azGnCg8T2la",
        "colab_type": "code",
        "colab": {
          "base_uri": "https://localhost:8080/",
          "height": 112
        },
        "outputId": "27244c34-1bc5-4fdd-ae10-5f9b00c7afb0"
      },
      "source": [
        "import pandas as pd\n",
        "dsentiment = pd.read_csv('tweets.csv')\n",
        "dsent = dsentiment[['airline_sentiment','text']]\n",
        "dsent.head(2)"
      ],
      "execution_count": 218,
      "outputs": [
        {
          "output_type": "execute_result",
          "data": {
            "text/html": [
              "<div>\n",
              "<style scoped>\n",
              "    .dataframe tbody tr th:only-of-type {\n",
              "        vertical-align: middle;\n",
              "    }\n",
              "\n",
              "    .dataframe tbody tr th {\n",
              "        vertical-align: top;\n",
              "    }\n",
              "\n",
              "    .dataframe thead th {\n",
              "        text-align: right;\n",
              "    }\n",
              "</style>\n",
              "<table border=\"1\" class=\"dataframe\">\n",
              "  <thead>\n",
              "    <tr style=\"text-align: right;\">\n",
              "      <th></th>\n",
              "      <th>airline_sentiment</th>\n",
              "      <th>text</th>\n",
              "    </tr>\n",
              "  </thead>\n",
              "  <tbody>\n",
              "    <tr>\n",
              "      <th>0</th>\n",
              "      <td>neutral</td>\n",
              "      <td>@VirginAmerica What @dhepburn said.</td>\n",
              "    </tr>\n",
              "    <tr>\n",
              "      <th>1</th>\n",
              "      <td>positive</td>\n",
              "      <td>@VirginAmerica plus you've added commercials t...</td>\n",
              "    </tr>\n",
              "  </tbody>\n",
              "</table>\n",
              "</div>"
            ],
            "text/plain": [
              "  airline_sentiment                                               text\n",
              "0           neutral                @VirginAmerica What @dhepburn said.\n",
              "1          positive  @VirginAmerica plus you've added commercials t..."
            ]
          },
          "metadata": {
            "tags": []
          },
          "execution_count": 218
        }
      ]
    },
    {
      "cell_type": "code",
      "metadata": {
        "id": "7ZOVp7QTUABq",
        "colab_type": "code",
        "colab": {}
      },
      "source": [
        "import nltk\n",
        "stop_words = nltk.corpus.stopwords.words('english')\n",
        "text_table = dsent.text\n",
        "text_table = text_table.apply(lambda x: ' '.join(\n",
        "term for term in x.split() if term not in set(stop_words)))"
      ],
      "execution_count": 0,
      "outputs": []
    },
    {
      "cell_type": "code",
      "metadata": {
        "id": "m1BBYiF5UKWC",
        "colab_type": "code",
        "colab": {}
      },
      "source": [
        "text_table = text_table.str.replace(r'\\b[\\w\\-.]+?@\\w+?\\.\\w{2,4}\\b', 'emailaddr')\n",
        "#text_table = text_table.str.replace(r'(http[s]?\\S+)|(\\w+\\.[A-Za-z]{2,4}\\S*), 'httpaddr')\n",
        "text_table = text_table.str.replace(r'£|\\$', 'moneysymb')\n",
        "text_table = text_table.str.replace(r'\\b(\\+\\d{1,2}\\s)?\\d?[\\-(.]?\\d{3}\\)?[\\s.-]?\\d{4}\\b', 'phonenumber')\n",
        "text_table = text_table.str.replace(r'\\d+(\\.\\d+)?', 'numbr')\n",
        "text_table = text_table.str.replace(r'[^\\w\\d\\s]', ' ')\n",
        "text_table = text_table.str.replace(r'\\s+', ' ')\n",
        "text_table = text_table.str.replace(r'^\\s+|\\s+?$', '')\n",
        "text_table = text_table.str.lower()"
      ],
      "execution_count": 0,
      "outputs": []
    },
    {
      "cell_type": "code",
      "metadata": {
        "id": "WG6CObUyUQ6K",
        "colab_type": "code",
        "colab": {}
      },
      "source": [
        "porter = nltk.PorterStemmer()\n",
        "text_table = text_table.apply(lambda x: ' '.join(\n",
        "  porter.stem(term) for term in x.split())\n",
        ")"
      ],
      "execution_count": 0,
      "outputs": []
    },
    {
      "cell_type": "markdown",
      "metadata": {
        "id": "-1XkjEY7UBeh",
        "colab_type": "text"
      },
      "source": [
        "# Manual Classification"
      ]
    },
    {
      "cell_type": "code",
      "metadata": {
        "id": "WPonLCSVyp2d",
        "colab_type": "code",
        "colab": {
          "base_uri": "https://localhost:8080/",
          "height": 236
        },
        "outputId": "1b76625e-b6da-4172-b859-9a68724a7c82"
      },
      "source": [
        "import pandas as pd\n",
        "dsentiment = pd.read_csv('tweets.csv')\n",
        "dsentiment.head(2)"
      ],
      "execution_count": 222,
      "outputs": [
        {
          "output_type": "execute_result",
          "data": {
            "text/html": [
              "<div>\n",
              "<style scoped>\n",
              "    .dataframe tbody tr th:only-of-type {\n",
              "        vertical-align: middle;\n",
              "    }\n",
              "\n",
              "    .dataframe tbody tr th {\n",
              "        vertical-align: top;\n",
              "    }\n",
              "\n",
              "    .dataframe thead th {\n",
              "        text-align: right;\n",
              "    }\n",
              "</style>\n",
              "<table border=\"1\" class=\"dataframe\">\n",
              "  <thead>\n",
              "    <tr style=\"text-align: right;\">\n",
              "      <th></th>\n",
              "      <th>tweet_id</th>\n",
              "      <th>airline_sentiment</th>\n",
              "      <th>airline_sentiment_confidence</th>\n",
              "      <th>negativereason</th>\n",
              "      <th>negativereason_confidence</th>\n",
              "      <th>airline</th>\n",
              "      <th>airline_sentiment_gold</th>\n",
              "      <th>name</th>\n",
              "      <th>negativereason_gold</th>\n",
              "      <th>retweet_count</th>\n",
              "      <th>text</th>\n",
              "      <th>tweet_coord</th>\n",
              "      <th>tweet_created</th>\n",
              "      <th>tweet_location</th>\n",
              "      <th>user_timezone</th>\n",
              "    </tr>\n",
              "  </thead>\n",
              "  <tbody>\n",
              "    <tr>\n",
              "      <th>0</th>\n",
              "      <td>570306133677760513</td>\n",
              "      <td>neutral</td>\n",
              "      <td>1.0000</td>\n",
              "      <td>NaN</td>\n",
              "      <td>NaN</td>\n",
              "      <td>Virgin America</td>\n",
              "      <td>NaN</td>\n",
              "      <td>cairdin</td>\n",
              "      <td>NaN</td>\n",
              "      <td>0</td>\n",
              "      <td>@VirginAmerica What @dhepburn said.</td>\n",
              "      <td>NaN</td>\n",
              "      <td>2015-02-24 11:35:52 -0800</td>\n",
              "      <td>NaN</td>\n",
              "      <td>Eastern Time (US &amp; Canada)</td>\n",
              "    </tr>\n",
              "    <tr>\n",
              "      <th>1</th>\n",
              "      <td>570301130888122368</td>\n",
              "      <td>positive</td>\n",
              "      <td>0.3486</td>\n",
              "      <td>NaN</td>\n",
              "      <td>0.0</td>\n",
              "      <td>Virgin America</td>\n",
              "      <td>NaN</td>\n",
              "      <td>jnardino</td>\n",
              "      <td>NaN</td>\n",
              "      <td>0</td>\n",
              "      <td>@VirginAmerica plus you've added commercials t...</td>\n",
              "      <td>NaN</td>\n",
              "      <td>2015-02-24 11:15:59 -0800</td>\n",
              "      <td>NaN</td>\n",
              "      <td>Pacific Time (US &amp; Canada)</td>\n",
              "    </tr>\n",
              "  </tbody>\n",
              "</table>\n",
              "</div>"
            ],
            "text/plain": [
              "             tweet_id  ...               user_timezone\n",
              "0  570306133677760513  ...  Eastern Time (US & Canada)\n",
              "1  570301130888122368  ...  Pacific Time (US & Canada)\n",
              "\n",
              "[2 rows x 15 columns]"
            ]
          },
          "metadata": {
            "tags": []
          },
          "execution_count": 222
        }
      ]
    },
    {
      "cell_type": "code",
      "metadata": {
        "id": "QUgUTH565AVp",
        "colab_type": "code",
        "colab": {
          "base_uri": "https://localhost:8080/",
          "height": 112
        },
        "outputId": "08bcf855-dad2-4f05-986f-d0ab6ffaebab"
      },
      "source": [
        "dsent = dsentiment[['airline_sentiment','text']]\n",
        "dsent.head(2)"
      ],
      "execution_count": 223,
      "outputs": [
        {
          "output_type": "execute_result",
          "data": {
            "text/html": [
              "<div>\n",
              "<style scoped>\n",
              "    .dataframe tbody tr th:only-of-type {\n",
              "        vertical-align: middle;\n",
              "    }\n",
              "\n",
              "    .dataframe tbody tr th {\n",
              "        vertical-align: top;\n",
              "    }\n",
              "\n",
              "    .dataframe thead th {\n",
              "        text-align: right;\n",
              "    }\n",
              "</style>\n",
              "<table border=\"1\" class=\"dataframe\">\n",
              "  <thead>\n",
              "    <tr style=\"text-align: right;\">\n",
              "      <th></th>\n",
              "      <th>airline_sentiment</th>\n",
              "      <th>text</th>\n",
              "    </tr>\n",
              "  </thead>\n",
              "  <tbody>\n",
              "    <tr>\n",
              "      <th>0</th>\n",
              "      <td>neutral</td>\n",
              "      <td>@VirginAmerica What @dhepburn said.</td>\n",
              "    </tr>\n",
              "    <tr>\n",
              "      <th>1</th>\n",
              "      <td>positive</td>\n",
              "      <td>@VirginAmerica plus you've added commercials t...</td>\n",
              "    </tr>\n",
              "  </tbody>\n",
              "</table>\n",
              "</div>"
            ],
            "text/plain": [
              "  airline_sentiment                                               text\n",
              "0           neutral                @VirginAmerica What @dhepburn said.\n",
              "1          positive  @VirginAmerica plus you've added commercials t..."
            ]
          },
          "metadata": {
            "tags": []
          },
          "execution_count": 223
        }
      ]
    },
    {
      "cell_type": "code",
      "metadata": {
        "id": "Mf2DOlaf8Pxv",
        "colab_type": "code",
        "colab": {
          "base_uri": "https://localhost:8080/",
          "height": 301
        },
        "outputId": "f12d1155-c306-4cfd-b562-0e7223ee7211"
      },
      "source": [
        "import matplotlib.pyplot as plt\n",
        "spam_count = dsent.groupby('airline_sentiment').count()\n",
        "plt.bar(spam_count.index.values, spam_count['text'])\n",
        "plt.xlabel('Sentiment Text')\n",
        "plt.ylabel('Number of Sentiment Texts')"
      ],
      "execution_count": 224,
      "outputs": [
        {
          "output_type": "execute_result",
          "data": {
            "text/plain": [
              "Text(0, 0.5, 'Number of Sentiment Texts')"
            ]
          },
          "metadata": {
            "tags": []
          },
          "execution_count": 224
        },
        {
          "output_type": "display_data",
          "data": {
            "image/png": "[encoded data removed]",
            "text/plain": [
              "<Figure size 432x288 with 1 Axes>"
            ]
          },
          "metadata": {
            "tags": []
          }
        }
      ]
    },
    {
      "cell_type": "code",
      "metadata": {
        "id": "YECLtO8i0uYT",
        "colab_type": "code",
        "colab": {
          "base_uri": "https://localhost:8080/",
          "height": 1000
        },
        "outputId": "974dc634-21b9-4804-c4bf-d6bf98fe7a51"
      },
      "source": [
        "import nltk\n",
        "nltk.download('stopwords')\n",
        "\n",
        "stop_words = nltk.corpus.stopwords.words('english')\n",
        "text_table = dsent.text\n",
        "dsent.text"
      ],
      "execution_count": 225,
      "outputs": [
        {
          "output_type": "stream",
          "text": [
            "[nltk_data] Downloading package stopwords to /root/nltk_data...\n",
            "[nltk_data]   Package stopwords is already up-to-date!\n"
          ],
          "name": "stdout"
        },
        {
          "output_type": "execute_result",
          "data": {
            "text/plain": [
              "0                      @VirginAmerica What @dhepburn said.\n",
              "1        @VirginAmerica plus you've added commercials t...\n",
              "2        @VirginAmerica I didn't today... Must mean I n...\n",
              "3        @VirginAmerica it's really aggressive to blast...\n",
              "4        @VirginAmerica and it's a really big bad thing...\n",
              "5        @VirginAmerica seriously would pay $30 a fligh...\n",
              "6        @VirginAmerica yes, nearly every time I fly VX...\n",
              "7        @VirginAmerica Really missed a prime opportuni...\n",
              "8          @virginamerica Well, I didn't…but NOW I DO! :-D\n",
              "9        @VirginAmerica it was amazing, and arrived an ...\n",
              "10       @VirginAmerica did you know that suicide is th...\n",
              "11       @VirginAmerica I &lt;3 pretty graphics. so muc...\n",
              "12       @VirginAmerica This is such a great deal! Alre...\n",
              "13       @VirginAmerica @virginmedia I'm flying your #f...\n",
              "14                                  @VirginAmerica Thanks!\n",
              "15           @VirginAmerica SFO-PDX schedule is still MIA.\n",
              "16       @VirginAmerica So excited for my first cross c...\n",
              "17       @VirginAmerica  I flew from NYC to SFO last we...\n",
              "18                         I ❤️ flying @VirginAmerica. ☺️👍\n",
              "19       @VirginAmerica you know what would be amazingl...\n",
              "20       @VirginAmerica why are your first fares in May...\n",
              "21       @VirginAmerica I love this graphic. http://t.c...\n",
              "22       @VirginAmerica I love the hipster innovation. ...\n",
              "23       @VirginAmerica will you be making BOS&gt;LAS n...\n",
              "24       @VirginAmerica you guys messed up my seating.....\n",
              "25       @VirginAmerica status match program.  I applie...\n",
              "26       @VirginAmerica What happened 2 ur vegan food o...\n",
              "27       @VirginAmerica do you miss me? Don't worry we'...\n",
              "28       @VirginAmerica amazing to me that we can't get...\n",
              "29       @VirginAmerica LAX to EWR - Middle seat on a r...\n",
              "                               ...                        \n",
              "14610    @AmericanAir I understand the weather issue bu...\n",
              "14611    @AmericanAir guarantee no retribution? If so, ...\n",
              "14612    @AmericanAir a friend is having flight Cancell...\n",
              "14613    @AmericanAir I used the \"call back\" feature wi...\n",
              "14614    @AmericanAir I need to be at work tomorrow at ...\n",
              "14615    @AmericanAir  ugh Dump us in dfw w/no luggage ...\n",
              "14616    @AmericanAir Cancelled Flights my flight, does...\n",
              "14617              @AmericanAir DMing you now! Big thanks.\n",
              "14618    @AmericanAir 3078 is overweight so you pull 2 ...\n",
              "14619    @AmericanAir I love your company and your staf...\n",
              "14620    @AmericanAir I wait 2+ hrs for CS to call me b...\n",
              "14621    @AmericanAir I've been on hold for 55 mins abo...\n",
              "14622    I just need a place to sleep when I land witho...\n",
              "14623    @AmericanAir Love the new planes for the JFK-L...\n",
              "14624    @AmericanAir Call me Chairman, or call me Emer...\n",
              "14625    @AmericanAir Flight 236 was great. Fantastic c...\n",
              "14626    @AmericanAir Flight 953 NYC-Buenos Aires has b...\n",
              "14627    @AmericanAir Flight Cancelled Flightled, can't...\n",
              "14628    Thank you. “@AmericanAir: @jlhalldc Customer R...\n",
              "14629    @AmericanAir How do I change my flight if the ...\n",
              "14630                          @AmericanAir Thanks! He is.\n",
              "14631    @AmericanAir thx for nothing on getting us out...\n",
              "14632    “@AmericanAir: @TilleyMonsta George, that does...\n",
              "14633    @AmericanAir my flight was Cancelled Flightled...\n",
              "14634           @AmericanAir right on cue with the delays👌\n",
              "14635    @AmericanAir thank you we got on a different f...\n",
              "14636    @AmericanAir leaving over 20 minutes Late Flig...\n",
              "14637    @AmericanAir Please bring American Airlines to...\n",
              "14638    @AmericanAir you have my money, you change my ...\n",
              "14639    @AmericanAir we have 8 ppl so we need 2 know h...\n",
              "Name: text, Length: 14640, dtype: object"
            ]
          },
          "metadata": {
            "tags": []
          },
          "execution_count": 225
        }
      ]
    },
    {
      "cell_type": "code",
      "metadata": {
        "id": "eYwe-mKnIBwj",
        "colab_type": "code",
        "colab": {}
      },
      "source": [
        "text_table = text_table.apply(lambda x: ' '.join(\n",
        "    term for term in x.split() if term not in set(stop_words))\n",
        ")\n",
        "text_table = text_table.str.replace(r'\\b[\\w\\-.]+?@\\w+?\\.\\w{2,4}\\b', 'emailaddr')\n",
        "text_table = text_table.str.lower()\n",
        "text_table = text_table.str.replace(r'[^\\w\\d\\s]', ' ')\n",
        "text_table = text_table.str.replace(r'\\s+', ' ')\n",
        "text_table = text_table.str.replace(r'^\\s+|\\s+?$', ' ')"
      ],
      "execution_count": 0,
      "outputs": []
    },
    {
      "cell_type": "code",
      "metadata": {
        "id": "tzhfd6iHH9PJ",
        "colab_type": "code",
        "colab": {
          "base_uri": "https://localhost:8080/",
          "height": 202
        },
        "outputId": "553937c8-6a3e-4ee6-8004-a0afe4a18183"
      },
      "source": [
        "porter = nltk.PorterStemmer()\n",
        "dsent.text = text_table.apply(lambda x: ' '.join(\n",
        "    porter.stem(term) for term in x.split())\n",
        ")"
      ],
      "execution_count": 227,
      "outputs": [
        {
          "output_type": "stream",
          "text": [
            "/usr/local/lib/python3.6/dist-packages/pandas/core/generic.py:5096: SettingWithCopyWarning: \n",
            "A value is trying to be set on a copy of a slice from a DataFrame.\n",
            "Try using .loc[row_indexer,col_indexer] = value instead\n",
            "\n",
            "See the caveats in the documentation: http://pandas.pydata.org/pandas-docs/stable/indexing.html#indexing-view-versus-copy\n",
            "  self[name] = value\n"
          ],
          "name": "stderr"
        },
        {
          "output_type": "execute_result",
          "data": {
            "text/plain": [
              "0              virginamerica what dhepburn said\n",
              "1    virginamerica plu ad commerci experi tacki\n",
              "Name: text, dtype: object"
            ]
          },
          "metadata": {
            "tags": []
          },
          "execution_count": 227
        }
      ]
    },
    {
      "cell_type": "code",
      "metadata": {
        "id": "PeGHaxul3AtC",
        "colab_type": "code",
        "colab": {}
      },
      "source": [
        "from sklearn.feature_extraction.text import CountVectorizer\n",
        "from nltk.tokenize import RegexpTokenizer"
      ],
      "execution_count": 0,
      "outputs": []
    },
    {
      "cell_type": "code",
      "metadata": {
        "id": "F1P5yLxR9EYP",
        "colab_type": "code",
        "colab": {
          "base_uri": "https://localhost:8080/",
          "height": 54
        },
        "outputId": "a5115cab-0b73-470f-f915-8e8b66102eda"
      },
      "source": [
        "token = RegexpTokenizer(r'[a-zA-Z0-9]+')\n",
        "cv = CountVectorizer(lowercase=True, stop_words='english', ngram_range=(1,1), tokenizer=token.tokenize)\n",
        "text1 = cv.fit_transform(text_table)\n",
        "text1"
      ],
      "execution_count": 229,
      "outputs": [
        {
          "output_type": "execute_result",
          "data": {
            "text/plain": [
              "<14640x14780 sparse matrix of type '<class 'numpy.int64'>'\n",
              "\twith 138722 stored elements in Compressed Sparse Row format>"
            ]
          },
          "metadata": {
            "tags": []
          },
          "execution_count": 229
        }
      ]
    },
    {
      "cell_type": "code",
      "metadata": {
        "id": "1pMqz7KW9cIO",
        "colab_type": "code",
        "colab": {}
      },
      "source": [
        "s = ' '.join(dsent.text)\n",
        "str_list = s.lower().split()\n",
        "unique_words = set(str_list)"
      ],
      "execution_count": 0,
      "outputs": []
    },
    {
      "cell_type": "code",
      "metadata": {
        "id": "vCdxhDCR9u2e",
        "colab_type": "code",
        "colab": {}
      },
      "source": [
        "dictwords = dict()\n",
        "for words in unique_words:\n",
        "    dictwords[words] = [str_list.count(words)]"
      ],
      "execution_count": 0,
      "outputs": []
    },
    {
      "cell_type": "code",
      "metadata": {
        "id": "6meVP4q79-2t",
        "colab_type": "code",
        "colab": {}
      },
      "source": [
        "dsentpositive = dsent[dsent.airline_sentiment == 'positive']\n",
        "dsentnegative = dsent[dsent.airline_sentiment == 'negative']\n",
        "dsentnatural = dsent[dsent.airline_sentiment == 'natural']"
      ],
      "execution_count": 0,
      "outputs": []
    },
    {
      "cell_type": "code",
      "metadata": {
        "id": "4Ts2vkl0_H1N",
        "colab_type": "code",
        "colab": {}
      },
      "source": [
        "spositive = ' '.join(dsentpositive.text)\n",
        "snegative = ' '.join(dsentnegative.text)\n",
        "snatural = ' '.join(dsentnatural.text)"
      ],
      "execution_count": 0,
      "outputs": []
    },
    {
      "cell_type": "code",
      "metadata": {
        "id": "_Uj0zfKAZih-",
        "colab_type": "code",
        "colab": {}
      },
      "source": [
        "spositive_list = spositive.lower().split()\n",
        "snegative_list = snegative.lower().split()\n",
        "snatural_list = snatural.lower().split()"
      ],
      "execution_count": 0,
      "outputs": []
    },
    {
      "cell_type": "code",
      "metadata": {
        "id": "DMGhQq4n_6St",
        "colab_type": "code",
        "colab": {}
      },
      "source": [
        "for words in unique_words:\n",
        "    ipositive = spositive_list.count(words)\n",
        "    inegative = snegative_list.count(words)\n",
        "    inatural = snatural_list.count(words)\n",
        "    dictwords[words].append(ipositive)\n",
        "    dictwords[words].append(inegative)\n",
        "    dictwords[words].append(inatural)\n",
        "    dictwords[words].append(inegative - ipositive)\n",
        "    dictwords[words].append(ipositive - inegative)"
      ],
      "execution_count": 0,
      "outputs": []
    },
    {
      "cell_type": "code",
      "metadata": {
        "id": "D5ZgT3fxWNq3",
        "colab_type": "code",
        "colab": {}
      },
      "source": [
        "sortnegative = sorted(dictwords.items(), key=lambda x: x[1][4], reverse=True)\n",
        "sortpositive = sorted(dictwords.items(), key=lambda x: x[1][5], reverse=True)"
      ],
      "execution_count": 0,
      "outputs": []
    },
    {
      "cell_type": "code",
      "metadata": {
        "id": "mbvjSq6OE22q",
        "colab_type": "code",
        "colab": {
          "base_uri": "https://localhost:8080/",
          "height": 1000
        },
        "outputId": "24d485da-3603-4651-9d58-fac6a6200089"
      },
      "source": [
        "dictneg = sortnegative[:100]\n",
        "dictpos = sortpositive[:100]\n",
        "dictneg"
      ],
      "execution_count": 237,
      "outputs": [
        {
          "output_type": "execute_result",
          "data": {
            "text/plain": [
              "[('i', [6406, 722, 4363, 0, 3641, -3641]),\n",
              " ('flight', [4861, 449, 3605, 0, 3156, -3156]),\n",
              " ('unit', [4164, 529, 2899, 0, 2370, -2370]),\n",
              " ('usairway', [3052, 277, 2374, 0, 2097, -2097]),\n",
              " ('americanair', [2964, 355, 2110, 0, 1755, -1755]),\n",
              " ('hour', [1155, 22, 1101, 0, 1079, -1079]),\n",
              " ('get', [1621, 152, 1197, 0, 1045, -1045]),\n",
              " ('cancel', [1065, 38, 926, 0, 888, -888]),\n",
              " ('delay', [1010, 45, 916, 0, 871, -871]),\n",
              " ('t', [1968, 294, 1065, 0, 771, -771]),\n",
              " ('2', [894, 44, 735, 0, 691, -691]),\n",
              " ('call', [792, 33, 701, 0, 668, -668]),\n",
              " ('custom', [945, 124, 783, 0, 659, -659]),\n",
              " ('time', [987, 114, 761, 0, 647, -647]),\n",
              " ('hold', [687, 9, 654, 0, 645, -645]),\n",
              " ('southwestair', [2461, 576, 1214, 0, 638, -638]),\n",
              " ('bag', [771, 43, 665, 0, 622, -622]),\n",
              " ('wait', [754, 50, 670, 0, 620, -620]),\n",
              " ('servic', [1004, 164, 777, 0, 613, -613]),\n",
              " ('help', [1061, 156, 730, 0, 574, -574]),\n",
              " ('can', [815, 47, 607, 0, 560, -560]),\n",
              " ('plane', [735, 65, 601, 0, 536, -536]),\n",
              " ('s', [1200, 161, 691, 0, 530, -530]),\n",
              " ('jetblu', [2396, 595, 1053, 0, 458, -458]),\n",
              " ('tri', [586, 30, 486, 0, 456, -456]),\n",
              " ('still', [586, 40, 494, 0, 454, -454]),\n",
              " ('need', [688, 24, 478, 0, 454, -454]),\n",
              " ('flightl', [526, 13, 465, 0, 452, -452]),\n",
              " ('m', [721, 73, 519, 0, 446, -446]),\n",
              " ('amp', [683, 82, 503, 0, 421, -421]),\n",
              " ('one', [589, 54, 451, 0, 397, -397]),\n",
              " ('go', [637, 58, 453, 0, 395, -395]),\n",
              " ('us', [674, 87, 480, 0, 393, -393]),\n",
              " ('day', [558, 62, 453, 0, 391, -391]),\n",
              " ('no', [472, 22, 398, 0, 376, -376]),\n",
              " ('phone', [460, 24, 398, 0, 374, -374]),\n",
              " ('gate', [542, 65, 429, 0, 364, -364]),\n",
              " ('late', [426, 19, 378, 0, 359, -359]),\n",
              " ('miss', [411, 24, 361, 0, 337, -337]),\n",
              " ('seat', [518, 46, 382, 0, 336, -336]),\n",
              " ('it', [694, 116, 451, 0, 335, -335]),\n",
              " ('ve', [436, 34, 362, 0, 328, -328]),\n",
              " ('3', [422, 25, 347, 0, 322, -322]),\n",
              " ('would', [561, 61, 377, 0, 316, -316]),\n",
              " ('back', [534, 73, 382, 0, 309, -309]),\n",
              " ('agent', [421, 50, 356, 0, 306, -306]),\n",
              " ('book', [515, 42, 347, 0, 305, -305]),\n",
              " ('minut', [348, 14, 315, 0, 301, -301]),\n",
              " ('chang', [468, 32, 323, 0, 291, -291]),\n",
              " ('airlin', [558, 107, 395, 0, 288, -288]),\n",
              " ('check', [472, 39, 327, 0, 288, -288]),\n",
              " ('hr', [297, 2, 286, 0, 284, -284]),\n",
              " ('min', [313, 9, 293, 0, 284, -284]),\n",
              " ('fli', [703, 134, 411, 0, 277, -277]),\n",
              " ('4', [355, 28, 303, 0, 275, -275]),\n",
              " ('what', [391, 16, 288, 0, 272, -272]),\n",
              " ('pleas', [576, 63, 331, 0, 268, -268]),\n",
              " ('never', [321, 21, 283, 0, 262, -262]),\n",
              " ('now', [413, 55, 312, 0, 257, -257]),\n",
              " ('1', [349, 20, 269, 0, 249, -249]),\n",
              " ('say', [328, 16, 265, 0, 249, -249]),\n",
              " ('5', [300, 11, 254, 0, 243, -243]),\n",
              " ('like', [453, 64, 306, 0, 242, -242]),\n",
              " ('not', [317, 21, 262, 0, 241, -241]),\n",
              " ('luggag', [265, 6, 247, 0, 241, -241]),\n",
              " ('worst', [241, 0, 241, 0, 241, -241]),\n",
              " ('told', [270, 6, 245, 0, 239, -239]),\n",
              " ('we', [469, 71, 310, 0, 239, -239]),\n",
              " ('sit', [271, 7, 245, 0, 238, -238]),\n",
              " ('thi', [332, 29, 267, 0, 238, -238]),\n",
              " ('make', [482, 91, 323, 0, 232, -232]),\n",
              " ('that', [451, 77, 308, 0, 231, -231]),\n",
              " ('connect', [321, 26, 255, 0, 229, -229]),\n",
              " ('even', [325, 35, 260, 0, 225, -225]),\n",
              " ('take', [378, 46, 271, 0, 225, -225]),\n",
              " ('co', [1216, 233, 457, 0, 224, -224]),\n",
              " ('rebook', [265, 10, 230, 0, 220, -220]),\n",
              " ('board', [354, 39, 259, 0, 220, -220]),\n",
              " ('http', [1211, 233, 452, 0, 219, -219]),\n",
              " ('airport', [372, 44, 262, 0, 218, -218]),\n",
              " ('want', [335, 28, 246, 0, 218, -218]),\n",
              " ('issu', [295, 27, 245, 0, 218, -218]),\n",
              " ('peopl', [289, 26, 243, 0, 217, -217]),\n",
              " ('ticket', [401, 36, 249, 0, 213, -213]),\n",
              " ('u', [347, 47, 259, 0, 212, -212]),\n",
              " ('problem', [311, 27, 237, 0, 210, -210]),\n",
              " ('me', [386, 59, 269, 0, 210, -210]),\n",
              " ('due', [242, 5, 213, 0, 208, -208]),\n",
              " ('lost', [243, 15, 221, 0, 206, -206]),\n",
              " ('got', [468, 100, 299, 0, 199, -199]),\n",
              " ('last', [307, 35, 229, 0, 194, -194]),\n",
              " ('work', [412, 86, 280, 0, 194, -194]),\n",
              " ('anoth', [273, 26, 218, 0, 192, -192]),\n",
              " ('weather', [316, 35, 225, 0, 190, -190]),\n",
              " ('today', [433, 83, 273, 0, 190, -190]),\n",
              " ('line', [212, 6, 195, 0, 189, -189]),\n",
              " ('realli', [302, 47, 236, 0, 189, -189]),\n",
              " ('email', [284, 12, 200, 0, 188, -188]),\n",
              " ('someon', [242, 11, 198, 0, 187, -187]),\n",
              " ('w', [265, 21, 208, 0, 187, -187])]"
            ]
          },
          "metadata": {
            "tags": []
          },
          "execution_count": 237
        }
      ]
    },
    {
      "cell_type": "code",
      "metadata": {
        "id": "4ANSHBGuE6VK",
        "colab_type": "code",
        "colab": {}
      },
      "source": [
        "newlist = []\n",
        "for i in dictfreq:\n",
        "    newlist.append(i[0])"
      ],
      "execution_count": 0,
      "outputs": []
    },
    {
      "cell_type": "code",
      "metadata": {
        "id": "IXwPcpsfE9lr",
        "colab_type": "code",
        "colab": {
          "base_uri": "https://localhost:8080/",
          "height": 72
        },
        "outputId": "2b607745-28d1-4935-d598-cf2e1e49815e"
      },
      "source": [
        "from nltk.tokenize import word_tokenize\n",
        "nltk.download('punkt')"
      ],
      "execution_count": 239,
      "outputs": [
        {
          "output_type": "stream",
          "text": [
            "[nltk_data] Downloading package punkt to /root/nltk_data...\n",
            "[nltk_data]   Package punkt is already up-to-date!\n"
          ],
          "name": "stdout"
        },
        {
          "output_type": "execute_result",
          "data": {
            "text/plain": [
              "True"
            ]
          },
          "metadata": {
            "tags": []
          },
          "execution_count": 239
        }
      ]
    },
    {
      "cell_type": "code",
      "metadata": {
        "id": "2PnNRkpRE_ga",
        "colab_type": "code",
        "colab": {
          "base_uri": "https://localhost:8080/",
          "height": 35
        },
        "outputId": "299fafc3-7453-4318-ddcd-331d55b5e2b6"
      },
      "source": [
        "2 / len(word_tokenize(dsent.text[0]))"
      ],
      "execution_count": 240,
      "outputs": [
        {
          "output_type": "execute_result",
          "data": {
            "text/plain": [
              "0.5"
            ]
          },
          "metadata": {
            "tags": []
          },
          "execution_count": 240
        }
      ]
    },
    {
      "cell_type": "code",
      "metadata": {
        "id": "z4JSdjKKFC-J",
        "colab_type": "code",
        "colab": {}
      },
      "source": [
        "threshold = 3\n",
        "label2 = []\n",
        "\n",
        "for text in dsent.text:\n",
        "    count = 0\n",
        "    totalWord = 0\n",
        "    for word in word_tokenize(text):\n",
        "        if word in newlist:\n",
        "            count += 1\n",
        "        totalWord += 1\n",
        "        \n",
        "    if totalWord != 0 and count/totalWord > threshold:\n",
        "        label2.append('negative')\n",
        "    else:\n",
        "        label2.append('positive')"
      ],
      "execution_count": 0,
      "outputs": []
    },
    {
      "cell_type": "code",
      "metadata": {
        "id": "NlXwEuA-FQp6",
        "colab_type": "code",
        "colab": {
          "base_uri": "https://localhost:8080/",
          "height": 35
        },
        "outputId": "708f9a0b-173c-49f3-e2c0-000d71476a82"
      },
      "source": [
        "count = 0\n",
        "\n",
        "for i in range(0, len(label2)):\n",
        "    if label2[i] == dsent.airline_sentiment[i]:\n",
        "        count += 1\n",
        "\n",
        "print(count/len(label2))"
      ],
      "execution_count": 242,
      "outputs": [
        {
          "output_type": "stream",
          "text": [
            "0.16140710382513662\n"
          ],
          "name": "stdout"
        }
      ]
    },
    {
      "cell_type": "markdown",
      "metadata": {
        "id": "6C1nNzewRr7d",
        "colab_type": "text"
      },
      "source": [
        "# Netural Network for Text Classification"
      ]
    },
    {
      "cell_type": "code",
      "metadata": {
        "id": "5JeZDO1GRp1j",
        "colab_type": "code",
        "colab": {
          "base_uri": "https://localhost:8080/",
          "height": 147
        },
        "outputId": "5baa231d-ab1d-4c5b-cb16-2c42d39872e2"
      },
      "source": [
        "from sklearn.preprocessing import LabelEncoder\n",
        "lb_make = LabelEncoder()\n",
        "dsent['sent_code'] = lb_make.fit_transform(dsent['airline_sentiment'])"
      ],
      "execution_count": 243,
      "outputs": [
        {
          "output_type": "stream",
          "text": [
            "/usr/local/lib/python3.6/dist-packages/ipykernel_launcher.py:3: SettingWithCopyWarning: \n",
            "A value is trying to be set on a copy of a slice from a DataFrame.\n",
            "Try using .loc[row_indexer,col_indexer] = value instead\n",
            "\n",
            "See the caveats in the documentation: http://pandas.pydata.org/pandas-docs/stable/indexing.html#indexing-view-versus-copy\n",
            "  This is separate from the ipykernel package so we can avoid doing imports until\n"
          ],
          "name": "stderr"
        }
      ]
    },
    {
      "cell_type": "code",
      "metadata": {
        "id": "UbFaxIJrSCMj",
        "colab_type": "code",
        "colab": {}
      },
      "source": [
        "from sklearn.feature_extraction.text import CountVectorizer\n",
        "from nltk.tokenize import RegexpTokenizer\n",
        "token = RegexpTokenizer(r'[a-zA-Z0-9]+')\n",
        "cv = CountVectorizer(lowercase=True, stop_words='english', ngram_range=(1,1), tokenizer=token.tokenize)\n",
        "text_counts = cv.fit_transform(dsent['text'])"
      ],
      "execution_count": 0,
      "outputs": []
    },
    {
      "cell_type": "code",
      "metadata": {
        "id": "7n1cQ-LTRyKi",
        "colab_type": "code",
        "colab": {}
      },
      "source": [
        "from sklearn.model_selection import train_test_split\n",
        "X_train, X_test, y_train, y_test = train_test_split(text_counts, dsent['sent_code'], test_size=0.3, random_state=123)"
      ],
      "execution_count": 0,
      "outputs": []
    },
    {
      "cell_type": "code",
      "metadata": {
        "id": "RriKdxBSSyiC",
        "colab_type": "code",
        "colab": {
          "base_uri": "https://localhost:8080/",
          "height": 35
        },
        "outputId": "6b8ced2a-7e89-443a-feea-69bdf250554e"
      },
      "source": [
        "from sklearn.naive_bayes import MultinomialNB\n",
        "from sklearn import metrics\n",
        "clf = MultinomialNB().fit(X_train, y_train)\n",
        "predicted = clf.predict(X_test)\n",
        "print('MultinomialNB Accuracy:', metrics.accuracy_score(y_test, predicted))"
      ],
      "execution_count": 246,
      "outputs": [
        {
          "output_type": "stream",
          "text": [
            "MultinomialNB Accuracy: 0.7670765027322405\n"
          ],
          "name": "stdout"
        }
      ]
    },
    {
      "cell_type": "markdown",
      "metadata": {
        "id": "AuepEKbqbkSf",
        "colab_type": "text"
      },
      "source": [
        "# Coba yang lain"
      ]
    },
    {
      "cell_type": "code",
      "metadata": {
        "id": "mUIJuBUSTheD",
        "colab_type": "code",
        "colab": {}
      },
      "source": [
        "from sklearn.neighbors import KNeighborsClassifier\n",
        "from sklearn.linear_model import LogisticRegression\n",
        "from sklearn.svm import SVC\n",
        "from sklearn.tree import DecisionTreeClassifier\n",
        "from sklearn.ensemble import RandomForestClassifier"
      ],
      "execution_count": 0,
      "outputs": []
    },
    {
      "cell_type": "code",
      "metadata": {
        "id": "0r6IC9rRbqve",
        "colab_type": "code",
        "colab": {}
      },
      "source": [
        "models = {\n",
        "    \"knn\": KNeighborsClassifier(n_neighbors=1),\n",
        "    \"logit\": LogisticRegression(solver=\"lbfgs\", multi_class=\"auto\"),\n",
        "    \"svm\": SVC(kernel=\"rbf\", gamma=\"auto\"),\n",
        "    \"decision_tree\": DecisionTreeClassifier(),\n",
        "    \"random_forest\": RandomForestClassifier(n_estimators=100),\n",
        "}"
      ],
      "execution_count": 0,
      "outputs": []
    },
    {
      "cell_type": "code",
      "metadata": {
        "id": "I_oVBoyWbtNu",
        "colab_type": "code",
        "colab": {
          "base_uri": "https://localhost:8080/",
          "height": 166
        },
        "outputId": "1c366073-b5cf-4587-ab2b-ad29ac8b5f3f"
      },
      "source": [
        "for i in models:\n",
        "    models[i].fit(X_train, y_train)\n",
        "    predicted = models[i].predict(X_test)\n",
        "    print('{} Accuracy: {}'.format(i, metrics.accuracy_score(y_test, predicted)))"
      ],
      "execution_count": 249,
      "outputs": [
        {
          "output_type": "stream",
          "text": [
            "knn Accuracy: 0.5209471766848816\n"
          ],
          "name": "stdout"
        },
        {
          "output_type": "stream",
          "text": [
            "/usr/local/lib/python3.6/dist-packages/sklearn/linear_model/logistic.py:947: ConvergenceWarning: lbfgs failed to converge. Increase the number of iterations.\n",
            "  \"of iterations.\", ConvergenceWarning)\n"
          ],
          "name": "stderr"
        },
        {
          "output_type": "stream",
          "text": [
            "logit Accuracy: 0.8010018214936248\n",
            "svm Accuracy: 0.6318306010928961\n",
            "decision_tree Accuracy: 0.6955828779599271\n",
            "random_forest Accuracy: 0.770264116575592\n"
          ],
          "name": "stdout"
        }
      ]
    },
    {
      "cell_type": "code",
      "metadata": {
        "id": "P_G5Uv9sb4Re",
        "colab_type": "code",
        "colab": {}
      },
      "source": [
        ""
      ],
      "execution_count": 0,
      "outputs": []
    }
  ]
}