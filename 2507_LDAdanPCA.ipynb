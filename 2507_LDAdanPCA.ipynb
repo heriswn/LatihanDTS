{
  "nbformat": 4,
  "nbformat_minor": 0,
  "metadata": {
    "colab": {
      "name": "2507_LDAdanPCA",
      "version": "0.3.2",
      "provenance": [],
      "include_colab_link": true
    },
    "kernelspec": {
      "name": "python3",
      "display_name": "Python 3"
    }
  },
  "cells": [
    {
      "cell_type": "markdown",
      "metadata": {
        "id": "view-in-github",
        "colab_type": "text"
      },
      "source": [
        "<a href=\"https://colab.research.google.com/github/heriswn/LatihanDTS/blob/master/2507_LDAdanPCA.ipynb\" target=\"_parent\"><img src=\"https://colab.research.google.com/assets/colab-badge.svg\" alt=\"Open In Colab\"/></a>"
      ]
    },
    {
      "cell_type": "markdown",
      "metadata": {
        "id": "ZNE7NDYGDuWS",
        "colab_type": "text"
      },
      "source": [
        "# TUGAS PCA DAN LDA"
      ]
    },
    {
      "cell_type": "markdown",
      "metadata": {
        "id": "WpPHsNXND7Fo",
        "colab_type": "text"
      },
      "source": [
        "## Exercise 1"
      ]
    },
    {
      "cell_type": "markdown",
      "metadata": {
        "id": "eVh8fI2sEDGk",
        "colab_type": "text"
      },
      "source": [
        "### Prepare"
      ]
    },
    {
      "cell_type": "code",
      "metadata": {
        "id": "2G61Z9TeD6AM",
        "colab_type": "code",
        "colab": {}
      },
      "source": [
        "import pandas as pd\n",
        "import numpy as np\n",
        "\n",
        "from sklearn.neighbors import KNeighborsClassifier\n",
        "from sklearn.naive_bayes import GaussianNB\n",
        "from sklearn.linear_model import LogisticRegression\n",
        "from sklearn.svm import SVC\n",
        "from sklearn.tree import DecisionTreeClassifier\n",
        "from sklearn.ensemble import RandomForestClassifier\n",
        "from sklearn.model_selection import train_test_split\n",
        "from sklearn.metrics import classification_report\n",
        "from sklearn.datasets import load_breast_cancer"
      ],
      "execution_count": 0,
      "outputs": []
    },
    {
      "cell_type": "markdown",
      "metadata": {
        "id": "sOIXJK3GEkhA",
        "colab_type": "text"
      },
      "source": [
        "### Menginput dataset Breast Cancer"
      ]
    },
    {
      "cell_type": "code",
      "metadata": {
        "id": "EfheKlIsEZp9",
        "colab_type": "code",
        "colab": {}
      },
      "source": [
        "bc = load_breast_cancer()\n",
        "data = bc.data\n",
        "labels = np.reshape(bc.target,(569,1))\n",
        "features = bc.feature_names\n",
        "features_labels = np.append(features,'label')\n",
        "final_data = np.concatenate([data,labels],axis=1)\n",
        "df = pd.DataFrame(final_data)\n",
        "df.columns = features_labels\n",
        "df['label'].replace(0, 'Malignant',inplace=True)\n",
        "df['label'].replace(1, 'Benign',inplace=True)"
      ],
      "execution_count": 0,
      "outputs": []
    },
    {
      "cell_type": "code",
      "metadata": {
        "id": "EsjV0hrdEgN5",
        "colab_type": "code",
        "colab": {
          "base_uri": "https://localhost:8080/",
          "height": 258
        },
        "outputId": "330be330-c1ed-428b-878f-ec7f6e079e20"
      },
      "source": [
        "df.head()"
      ],
      "execution_count": 50,
      "outputs": [
        {
          "output_type": "execute_result",
          "data": {
            "text/html": [
              "<div>\n",
              "<style scoped>\n",
              "    .dataframe tbody tr th:only-of-type {\n",
              "        vertical-align: middle;\n",
              "    }\n",
              "\n",
              "    .dataframe tbody tr th {\n",
              "        vertical-align: top;\n",
              "    }\n",
              "\n",
              "    .dataframe thead th {\n",
              "        text-align: right;\n",
              "    }\n",
              "</style>\n",
              "<table border=\"1\" class=\"dataframe\">\n",
              "  <thead>\n",
              "    <tr style=\"text-align: right;\">\n",
              "      <th></th>\n",
              "      <th>mean radius</th>\n",
              "      <th>mean texture</th>\n",
              "      <th>mean perimeter</th>\n",
              "      <th>mean area</th>\n",
              "      <th>mean smoothness</th>\n",
              "      <th>mean compactness</th>\n",
              "      <th>mean concavity</th>\n",
              "      <th>mean concave points</th>\n",
              "      <th>mean symmetry</th>\n",
              "      <th>mean fractal dimension</th>\n",
              "      <th>radius error</th>\n",
              "      <th>texture error</th>\n",
              "      <th>perimeter error</th>\n",
              "      <th>area error</th>\n",
              "      <th>smoothness error</th>\n",
              "      <th>compactness error</th>\n",
              "      <th>concavity error</th>\n",
              "      <th>concave points error</th>\n",
              "      <th>symmetry error</th>\n",
              "      <th>fractal dimension error</th>\n",
              "      <th>worst radius</th>\n",
              "      <th>worst texture</th>\n",
              "      <th>worst perimeter</th>\n",
              "      <th>worst area</th>\n",
              "      <th>worst smoothness</th>\n",
              "      <th>worst compactness</th>\n",
              "      <th>worst concavity</th>\n",
              "      <th>worst concave points</th>\n",
              "      <th>worst symmetry</th>\n",
              "      <th>worst fractal dimension</th>\n",
              "      <th>label</th>\n",
              "    </tr>\n",
              "  </thead>\n",
              "  <tbody>\n",
              "    <tr>\n",
              "      <th>0</th>\n",
              "      <td>17.99</td>\n",
              "      <td>10.38</td>\n",
              "      <td>122.80</td>\n",
              "      <td>1001.0</td>\n",
              "      <td>0.11840</td>\n",
              "      <td>0.27760</td>\n",
              "      <td>0.3001</td>\n",
              "      <td>0.14710</td>\n",
              "      <td>0.2419</td>\n",
              "      <td>0.07871</td>\n",
              "      <td>1.0950</td>\n",
              "      <td>0.9053</td>\n",
              "      <td>8.589</td>\n",
              "      <td>153.40</td>\n",
              "      <td>0.006399</td>\n",
              "      <td>0.04904</td>\n",
              "      <td>0.05373</td>\n",
              "      <td>0.01587</td>\n",
              "      <td>0.03003</td>\n",
              "      <td>0.006193</td>\n",
              "      <td>25.38</td>\n",
              "      <td>17.33</td>\n",
              "      <td>184.60</td>\n",
              "      <td>2019.0</td>\n",
              "      <td>0.1622</td>\n",
              "      <td>0.6656</td>\n",
              "      <td>0.7119</td>\n",
              "      <td>0.2654</td>\n",
              "      <td>0.4601</td>\n",
              "      <td>0.11890</td>\n",
              "      <td>Malignant</td>\n",
              "    </tr>\n",
              "    <tr>\n",
              "      <th>1</th>\n",
              "      <td>20.57</td>\n",
              "      <td>17.77</td>\n",
              "      <td>132.90</td>\n",
              "      <td>1326.0</td>\n",
              "      <td>0.08474</td>\n",
              "      <td>0.07864</td>\n",
              "      <td>0.0869</td>\n",
              "      <td>0.07017</td>\n",
              "      <td>0.1812</td>\n",
              "      <td>0.05667</td>\n",
              "      <td>0.5435</td>\n",
              "      <td>0.7339</td>\n",
              "      <td>3.398</td>\n",
              "      <td>74.08</td>\n",
              "      <td>0.005225</td>\n",
              "      <td>0.01308</td>\n",
              "      <td>0.01860</td>\n",
              "      <td>0.01340</td>\n",
              "      <td>0.01389</td>\n",
              "      <td>0.003532</td>\n",
              "      <td>24.99</td>\n",
              "      <td>23.41</td>\n",
              "      <td>158.80</td>\n",
              "      <td>1956.0</td>\n",
              "      <td>0.1238</td>\n",
              "      <td>0.1866</td>\n",
              "      <td>0.2416</td>\n",
              "      <td>0.1860</td>\n",
              "      <td>0.2750</td>\n",
              "      <td>0.08902</td>\n",
              "      <td>Malignant</td>\n",
              "    </tr>\n",
              "    <tr>\n",
              "      <th>2</th>\n",
              "      <td>19.69</td>\n",
              "      <td>21.25</td>\n",
              "      <td>130.00</td>\n",
              "      <td>1203.0</td>\n",
              "      <td>0.10960</td>\n",
              "      <td>0.15990</td>\n",
              "      <td>0.1974</td>\n",
              "      <td>0.12790</td>\n",
              "      <td>0.2069</td>\n",
              "      <td>0.05999</td>\n",
              "      <td>0.7456</td>\n",
              "      <td>0.7869</td>\n",
              "      <td>4.585</td>\n",
              "      <td>94.03</td>\n",
              "      <td>0.006150</td>\n",
              "      <td>0.04006</td>\n",
              "      <td>0.03832</td>\n",
              "      <td>0.02058</td>\n",
              "      <td>0.02250</td>\n",
              "      <td>0.004571</td>\n",
              "      <td>23.57</td>\n",
              "      <td>25.53</td>\n",
              "      <td>152.50</td>\n",
              "      <td>1709.0</td>\n",
              "      <td>0.1444</td>\n",
              "      <td>0.4245</td>\n",
              "      <td>0.4504</td>\n",
              "      <td>0.2430</td>\n",
              "      <td>0.3613</td>\n",
              "      <td>0.08758</td>\n",
              "      <td>Malignant</td>\n",
              "    </tr>\n",
              "    <tr>\n",
              "      <th>3</th>\n",
              "      <td>11.42</td>\n",
              "      <td>20.38</td>\n",
              "      <td>77.58</td>\n",
              "      <td>386.1</td>\n",
              "      <td>0.14250</td>\n",
              "      <td>0.28390</td>\n",
              "      <td>0.2414</td>\n",
              "      <td>0.10520</td>\n",
              "      <td>0.2597</td>\n",
              "      <td>0.09744</td>\n",
              "      <td>0.4956</td>\n",
              "      <td>1.1560</td>\n",
              "      <td>3.445</td>\n",
              "      <td>27.23</td>\n",
              "      <td>0.009110</td>\n",
              "      <td>0.07458</td>\n",
              "      <td>0.05661</td>\n",
              "      <td>0.01867</td>\n",
              "      <td>0.05963</td>\n",
              "      <td>0.009208</td>\n",
              "      <td>14.91</td>\n",
              "      <td>26.50</td>\n",
              "      <td>98.87</td>\n",
              "      <td>567.7</td>\n",
              "      <td>0.2098</td>\n",
              "      <td>0.8663</td>\n",
              "      <td>0.6869</td>\n",
              "      <td>0.2575</td>\n",
              "      <td>0.6638</td>\n",
              "      <td>0.17300</td>\n",
              "      <td>Malignant</td>\n",
              "    </tr>\n",
              "    <tr>\n",
              "      <th>4</th>\n",
              "      <td>20.29</td>\n",
              "      <td>14.34</td>\n",
              "      <td>135.10</td>\n",
              "      <td>1297.0</td>\n",
              "      <td>0.10030</td>\n",
              "      <td>0.13280</td>\n",
              "      <td>0.1980</td>\n",
              "      <td>0.10430</td>\n",
              "      <td>0.1809</td>\n",
              "      <td>0.05883</td>\n",
              "      <td>0.7572</td>\n",
              "      <td>0.7813</td>\n",
              "      <td>5.438</td>\n",
              "      <td>94.44</td>\n",
              "      <td>0.011490</td>\n",
              "      <td>0.02461</td>\n",
              "      <td>0.05688</td>\n",
              "      <td>0.01885</td>\n",
              "      <td>0.01756</td>\n",
              "      <td>0.005115</td>\n",
              "      <td>22.54</td>\n",
              "      <td>16.67</td>\n",
              "      <td>152.20</td>\n",
              "      <td>1575.0</td>\n",
              "      <td>0.1374</td>\n",
              "      <td>0.2050</td>\n",
              "      <td>0.4000</td>\n",
              "      <td>0.1625</td>\n",
              "      <td>0.2364</td>\n",
              "      <td>0.07678</td>\n",
              "      <td>Malignant</td>\n",
              "    </tr>\n",
              "  </tbody>\n",
              "</table>\n",
              "</div>"
            ],
            "text/plain": [
              "   mean radius  mean texture  ...  worst fractal dimension      label\n",
              "0        17.99         10.38  ...                  0.11890  Malignant\n",
              "1        20.57         17.77  ...                  0.08902  Malignant\n",
              "2        19.69         21.25  ...                  0.08758  Malignant\n",
              "3        11.42         20.38  ...                  0.17300  Malignant\n",
              "4        20.29         14.34  ...                  0.07678  Malignant\n",
              "\n",
              "[5 rows x 31 columns]"
            ]
          },
          "metadata": {
            "tags": []
          },
          "execution_count": 50
        }
      ]
    },
    {
      "cell_type": "markdown",
      "metadata": {
        "id": "SR73aL2SHIhc",
        "colab_type": "text"
      },
      "source": [
        "### Cek missing values"
      ]
    },
    {
      "cell_type": "code",
      "metadata": {
        "id": "yV5lt76uHL82",
        "colab_type": "code",
        "colab": {}
      },
      "source": [
        "cols=['mean radius', 'mean texture', 'mean perimeter', 'mean area',\n",
        " 'mean smoothness', 'mean compactness', 'mean concavity',\n",
        " 'mean concave points', 'mean symmetry', 'mean fractal dimension',\n",
        " 'radius error', 'texture error', 'perimeter error', 'area error',\n",
        " 'smoothness error', 'compactness error', 'concavity error',\n",
        " 'concave points error', 'symmetry error', 'fractal dimension error',\n",
        " 'worst radius', 'worst texture', 'worst perimeter', 'worst area',\n",
        " 'worst smoothness', 'worst compactness', 'worst concavity',\n",
        " 'worst concave points', 'worst symmetry', 'worst fractal dimension', 'label']"
      ],
      "execution_count": 0,
      "outputs": []
    },
    {
      "cell_type": "code",
      "metadata": {
        "id": "j48SQZfTHZU4",
        "colab_type": "code",
        "colab": {
          "base_uri": "https://localhost:8080/",
          "height": 598
        },
        "outputId": "75f8f820-d7a5-4264-c378-6c2dbf750660"
      },
      "source": [
        "for i in cols:\n",
        "    nr=df[df[i]=='?'].shape[0]\n",
        "    if nr>0:\n",
        "        print(i,':',nr)\n",
        "    else:\n",
        "        print(i,': No missing values')"
      ],
      "execution_count": 52,
      "outputs": [
        {
          "output_type": "stream",
          "text": [
            "mean radius : No missing values\n",
            "mean texture : No missing values\n",
            "mean perimeter : No missing values\n",
            "mean area : No missing values\n",
            "mean smoothness : No missing values\n",
            "mean compactness : No missing values\n",
            "mean concavity : No missing values\n",
            "mean concave points : No missing values\n",
            "mean symmetry : No missing values\n",
            "mean fractal dimension : No missing values\n",
            "radius error : No missing values\n",
            "texture error : No missing values\n",
            "perimeter error : No missing values\n",
            "area error : No missing values\n",
            "smoothness error : No missing values\n",
            "compactness error : No missing values\n",
            "concavity error : No missing values\n",
            "concave points error : No missing values\n",
            "symmetry error : No missing values\n",
            "fractal dimension error : No missing values\n",
            "worst radius : No missing values\n",
            "worst texture : No missing values\n",
            "worst perimeter : No missing values\n",
            "worst area : No missing values\n",
            "worst smoothness : No missing values\n",
            "worst compactness : No missing values\n",
            "worst concavity : No missing values\n",
            "worst concave points : No missing values\n",
            "worst symmetry : No missing values\n",
            "worst fractal dimension : No missing values\n",
            "label : No missing values\n"
          ],
          "name": "stdout"
        },
        {
          "output_type": "stream",
          "text": [
            "/usr/local/lib/python3.6/dist-packages/pandas/core/ops.py:1649: FutureWarning: elementwise comparison failed; returning scalar instead, but in the future will perform elementwise comparison\n",
            "  result = method(y)\n"
          ],
          "name": "stderr"
        }
      ]
    },
    {
      "cell_type": "markdown",
      "metadata": {
        "id": "IBx1V9IJEwis",
        "colab_type": "text"
      },
      "source": [
        "## Klasifikasi"
      ]
    },
    {
      "cell_type": "markdown",
      "metadata": {
        "id": "gF-xvuBbHncT",
        "colab_type": "text"
      },
      "source": [
        "### Menginput model yang akan diujikan dan menginput subset random training dan testing"
      ]
    },
    {
      "cell_type": "code",
      "metadata": {
        "id": "iU2psJD0EufW",
        "colab_type": "code",
        "colab": {}
      },
      "source": [
        "models = {\n",
        "\"knn\": KNeighborsClassifier(n_neighbors=1),\n",
        "\"naive_bayes\": GaussianNB(),\n",
        "\"logit\": LogisticRegression(solver=\"lbfgs\", multi_class=\"auto\"),\n",
        "\"svm\": SVC(kernel=\"rbf\", gamma=\"auto\"),\n",
        "\"decision_tree\": DecisionTreeClassifier(),\n",
        "\"random_forest\": RandomForestClassifier(n_estimators=100),\n",
        "}"
      ],
      "execution_count": 0,
      "outputs": []
    },
    {
      "cell_type": "markdown",
      "metadata": {
        "id": "rxu8t4A6H-Nx",
        "colab_type": "text"
      },
      "source": [
        "### Hasil dengan model Logistic Regression dr dataset awal"
      ]
    },
    {
      "cell_type": "code",
      "metadata": {
        "id": "8T6YuWVsH7Ms",
        "colab_type": "code",
        "colab": {
          "base_uri": "https://localhost:8080/",
          "height": 221
        },
        "outputId": "4f0b08db-44be-412a-beca-19bf73b36f91"
      },
      "source": [
        "labels = df.columns[:30]\n",
        "\n",
        "X = df.loc[:, features].values\n",
        "y = df['label']\n",
        "\n",
        "X_train, X_test, y_train, y_test = train_test_split(X, y, test_size=0.3, random_state=None)\n",
        "\n",
        "LR = LogisticRegression(random_state=None, solver='lbfgs', multi_class='multinomial').fit(X_train, y_train)\n",
        "LR.predict(X_test)\n",
        "\n",
        "print(round(LR.score(X_test, y_test), 4))\n",
        "print(classification_report(y_test, LR.predict(X_test)))"
      ],
      "execution_count": 54,
      "outputs": [
        {
          "output_type": "stream",
          "text": [
            "0.9357\n",
            "              precision    recall  f1-score   support\n",
            "\n",
            "      Benign       0.94      0.96      0.95       111\n",
            "   Malignant       0.93      0.88      0.91        60\n",
            "\n",
            "    accuracy                           0.94       171\n",
            "   macro avg       0.93      0.92      0.93       171\n",
            "weighted avg       0.94      0.94      0.94       171\n",
            "\n"
          ],
          "name": "stdout"
        },
        {
          "output_type": "stream",
          "text": [
            "/usr/local/lib/python3.6/dist-packages/sklearn/linear_model/logistic.py:947: ConvergenceWarning: lbfgs failed to converge. Increase the number of iterations.\n",
            "  \"of iterations.\", ConvergenceWarning)\n"
          ],
          "name": "stderr"
        }
      ]
    },
    {
      "cell_type": "code",
      "metadata": {
        "id": "9zPAMKEjIOrY",
        "colab_type": "code",
        "colab": {
          "base_uri": "https://localhost:8080/",
          "height": 187
        },
        "outputId": "168da41e-387c-4c4c-fec2-bc831cfcf9bb"
      },
      "source": [
        "RF = RandomForestClassifier(n_estimators=1000, max_depth=10, random_state=None).fit(X_train, y_train)\n",
        "RF.predict(X_test)\n",
        "print(round(RF.score(X_test, y_test), 4))\n",
        "print(classification_report(y_test, RF.predict(X_test)))"
      ],
      "execution_count": 55,
      "outputs": [
        {
          "output_type": "stream",
          "text": [
            "0.9766\n",
            "              precision    recall  f1-score   support\n",
            "\n",
            "      Benign       0.97      0.99      0.98       111\n",
            "   Malignant       0.98      0.95      0.97        60\n",
            "\n",
            "    accuracy                           0.98       171\n",
            "   macro avg       0.98      0.97      0.97       171\n",
            "weighted avg       0.98      0.98      0.98       171\n",
            "\n"
          ],
          "name": "stdout"
        }
      ]
    },
    {
      "cell_type": "code",
      "metadata": {
        "id": "6Vpitr3yOIr6",
        "colab_type": "code",
        "colab": {
          "base_uri": "https://localhost:8080/",
          "height": 204
        },
        "outputId": "02b53c9a-eed6-4069-809d-d3efe70fc7b7"
      },
      "source": [
        "from sklearn.preprocessing import StandardScaler\n",
        "from sklearn.decomposition import PCA\n",
        "x = df.loc[:, features].values\n",
        "# normalizing: mean=0; std=1\n",
        "x = StandardScaler().fit_transform(x)\n",
        "pca = PCA(n_components=3)\n",
        "pC_df = pca.fit_transform(x)\n",
        "principal_df = pd.DataFrame(data = pC_df, columns = ['PC1', 'PC2', 'PC3'])\n",
        "principal_df.tail()"
      ],
      "execution_count": 56,
      "outputs": [
        {
          "output_type": "execute_result",
          "data": {
            "text/html": [
              "<div>\n",
              "<style scoped>\n",
              "    .dataframe tbody tr th:only-of-type {\n",
              "        vertical-align: middle;\n",
              "    }\n",
              "\n",
              "    .dataframe tbody tr th {\n",
              "        vertical-align: top;\n",
              "    }\n",
              "\n",
              "    .dataframe thead th {\n",
              "        text-align: right;\n",
              "    }\n",
              "</style>\n",
              "<table border=\"1\" class=\"dataframe\">\n",
              "  <thead>\n",
              "    <tr style=\"text-align: right;\">\n",
              "      <th></th>\n",
              "      <th>PC1</th>\n",
              "      <th>PC2</th>\n",
              "      <th>PC3</th>\n",
              "    </tr>\n",
              "  </thead>\n",
              "  <tbody>\n",
              "    <tr>\n",
              "      <th>564</th>\n",
              "      <td>6.439315</td>\n",
              "      <td>-3.576817</td>\n",
              "      <td>2.459483</td>\n",
              "    </tr>\n",
              "    <tr>\n",
              "      <th>565</th>\n",
              "      <td>3.793382</td>\n",
              "      <td>-3.584048</td>\n",
              "      <td>2.088476</td>\n",
              "    </tr>\n",
              "    <tr>\n",
              "      <th>566</th>\n",
              "      <td>1.256179</td>\n",
              "      <td>-1.902297</td>\n",
              "      <td>0.562733</td>\n",
              "    </tr>\n",
              "    <tr>\n",
              "      <th>567</th>\n",
              "      <td>10.374794</td>\n",
              "      <td>1.672010</td>\n",
              "      <td>-1.877026</td>\n",
              "    </tr>\n",
              "    <tr>\n",
              "      <th>568</th>\n",
              "      <td>-5.475243</td>\n",
              "      <td>-0.670636</td>\n",
              "      <td>1.490432</td>\n",
              "    </tr>\n",
              "  </tbody>\n",
              "</table>\n",
              "</div>"
            ],
            "text/plain": [
              "           PC1       PC2       PC3\n",
              "564   6.439315 -3.576817  2.459483\n",
              "565   3.793382 -3.584048  2.088476\n",
              "566   1.256179 -1.902297  0.562733\n",
              "567  10.374794  1.672010 -1.877026\n",
              "568  -5.475243 -0.670636  1.490432"
            ]
          },
          "metadata": {
            "tags": []
          },
          "execution_count": 56
        }
      ]
    },
    {
      "cell_type": "code",
      "metadata": {
        "id": "AbW5vmfQOLYZ",
        "colab_type": "code",
        "colab": {
          "base_uri": "https://localhost:8080/",
          "height": 34
        },
        "outputId": "c6e7d8ab-61f7-4d9c-dc66-64f11b3632e3"
      },
      "source": [
        "print('Explained variation per principal component:{}'.format(pca.explained_variance_ratio_))"
      ],
      "execution_count": 57,
      "outputs": [
        {
          "output_type": "stream",
          "text": [
            "Explained variation per principal component:[0.44272026 0.18971182 0.09393163]\n"
          ],
          "name": "stdout"
        }
      ]
    },
    {
      "cell_type": "code",
      "metadata": {
        "id": "EodKnv5cORBr",
        "colab_type": "code",
        "colab": {
          "base_uri": "https://localhost:8080/",
          "height": 187
        },
        "outputId": "2de764d3-0d53-43b0-b850-5e75970163fe"
      },
      "source": [
        "labels = df.columns[:30]\n",
        "\n",
        "\n",
        "X = principal_df\n",
        "y = df['label']\n",
        "\n",
        "X_train, X_test, y_train, y_test = train_test_split(X, y, test_size=0.3, random_state=None)\n",
        "\n",
        "LR = LogisticRegression(random_state=None, solver='lbfgs', multi_class='multinomial').fit(X_train, y_train)\n",
        "LR.predict(X_test)\n",
        "\n",
        "print(round(LR.score(X_test, y_test), 4))\n",
        "print(classification_report(y_test, LR.predict(X_test)))"
      ],
      "execution_count": 58,
      "outputs": [
        {
          "output_type": "stream",
          "text": [
            "0.9591\n",
            "              precision    recall  f1-score   support\n",
            "\n",
            "      Benign       0.97      0.96      0.97       103\n",
            "   Malignant       0.94      0.96      0.95        68\n",
            "\n",
            "    accuracy                           0.96       171\n",
            "   macro avg       0.96      0.96      0.96       171\n",
            "weighted avg       0.96      0.96      0.96       171\n",
            "\n"
          ],
          "name": "stdout"
        }
      ]
    },
    {
      "cell_type": "code",
      "metadata": {
        "id": "zFDWKslnOUJZ",
        "colab_type": "code",
        "colab": {
          "base_uri": "https://localhost:8080/",
          "height": 187
        },
        "outputId": "2885585a-0f5f-4ebb-f600-ba7c1b95aaf9"
      },
      "source": [
        "RF = RandomForestClassifier(n_estimators=1000, max_depth=10, random_state=None).fit(X_train, y_train)\n",
        "RF.predict(X_test)\n",
        "print(round(RF.score(X_test, y_test), 4))\n",
        "print(classification_report(y_test, RF.predict(X_test)))"
      ],
      "execution_count": 59,
      "outputs": [
        {
          "output_type": "stream",
          "text": [
            "0.9591\n",
            "              precision    recall  f1-score   support\n",
            "\n",
            "      Benign       0.94      0.99      0.97       103\n",
            "   Malignant       0.98      0.91      0.95        68\n",
            "\n",
            "    accuracy                           0.96       171\n",
            "   macro avg       0.96      0.95      0.96       171\n",
            "weighted avg       0.96      0.96      0.96       171\n",
            "\n"
          ],
          "name": "stdout"
        }
      ]
    },
    {
      "cell_type": "code",
      "metadata": {
        "id": "MECaLbH3OWsa",
        "colab_type": "code",
        "colab": {}
      },
      "source": [
        ""
      ],
      "execution_count": 0,
      "outputs": []
    }
  ]
}