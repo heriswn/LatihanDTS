{
  "nbformat": 4,
  "nbformat_minor": 0,
  "metadata": {
    "colab": {
      "name": "3107_heri002",
      "version": "0.3.2",
      "provenance": [],
      "include_colab_link": true
    },
    "kernelspec": {
      "name": "python3",
      "display_name": "Python 3"
    }
  },
  "cells": [
    {
      "cell_type": "markdown",
      "metadata": {
        "id": "view-in-github",
        "colab_type": "text"
      },
      "source": [
        "<a href=\"https://colab.research.google.com/github/heriswn/LatihanDTS/blob/master/3107_heri002.ipynb\" target=\"_parent\"><img src=\"https://colab.research.google.com/assets/colab-badge.svg\" alt=\"Open In Colab\"/></a>"
      ]
    },
    {
      "cell_type": "markdown",
      "metadata": {
        "id": "qrIAwXyQmyJy",
        "colab_type": "text"
      },
      "source": [
        "# Recurrent Neural Network"
      ]
    },
    {
      "cell_type": "markdown",
      "metadata": {
        "id": "V8jNN8VgvdWw",
        "colab_type": "text"
      },
      "source": [
        "## Import Packages"
      ]
    },
    {
      "cell_type": "code",
      "metadata": {
        "id": "ay3vU7vfm3Qg",
        "colab_type": "code",
        "colab": {}
      },
      "source": [
        "import numpy as np\n",
        "from rnn_utils import *"
      ],
      "execution_count": 0,
      "outputs": []
    },
    {
      "cell_type": "markdown",
      "metadata": {
        "id": "kjHNqP1NvxZs",
        "colab_type": "text"
      },
      "source": [
        "## RNN-Cell"
      ]
    },
    {
      "cell_type": "code",
      "metadata": {
        "id": "Sfp_n3sdvqDM",
        "colab_type": "code",
        "colab": {
          "base_uri": "https://localhost:8080/",
          "height": 147
        },
        "outputId": "6ea83f93-9482-4b9c-9ff6-f2a70e7c0d99"
      },
      "source": [
        "def rnn_cell_forward(xt, a_prev, parameters):\n",
        "  \n",
        "  Wax = parameters[\"Wax\"]\n",
        "  Waa = parameters[\"Waa\"]\n",
        "  Wya = parameters[\"Wya\"]\n",
        "  ba = parameters[\"ba\"]\n",
        "  by = parameters[\"by\"]\n",
        "  \n",
        "  a_next = np.tanh(np.dot(Wax,xt)+np.dot(Waa,a_prev)+ba)\n",
        "  \n",
        "  yt_pred = softmax(np.dot(Wya,a_next)+by)\n",
        "  \n",
        "  cache = (a_next, a_prev, xt, parameters)\n",
        "  \n",
        "  return a_next, yt_pred, cache\n",
        "np.random.seed(1)\n",
        "xt = np.random.randn(3,10)\n",
        "a_prev = np.random.randn(5,10)\n",
        "Waa = np.random.randn(5,5)\n",
        "Wax = np.random.randn(5,3)\n",
        "Wya = np.random.randn(2,5)\n",
        "ba = np.random.randn(5,1)\n",
        "by = np.random.randn(2,1)\n",
        "parameters = {\"Waa\":Waa,\"Wax\":Wax,\"Wya\":Wya,\"ba\":ba,\"by\":by}\n",
        "\n",
        "a_next, yt_pred, cache = rnn_cell_forward(xt, a_prev, parameters)\n",
        "print(\"a_next[4] =\", a_next[4])\n",
        "print(\"a_next.shape =\", a_next.shape)\n",
        "print(\"yt_pred[1] =\", yt_pred[1])\n",
        "print(\"yt_pred.shape =\", yt_pred.shape)"
      ],
      "execution_count": 26,
      "outputs": [
        {
          "output_type": "stream",
          "text": [
            "a_next[4] = [ 0.59584544  0.18141802  0.61311866  0.99808218  0.85016201  0.99980978\n",
            " -0.18887155  0.99815551  0.6531151   0.82872037]\n",
            "a_next.shape = (5, 10)\n",
            "yt_pred[1] = [0.9888161  0.01682021 0.21140899 0.36817467 0.98988387 0.88945212\n",
            " 0.36920224 0.9966312  0.9982559  0.17746526]\n",
            "yt_pred.shape = (2, 10)\n"
          ],
          "name": "stdout"
        }
      ]
    },
    {
      "cell_type": "markdown",
      "metadata": {
        "id": "G0e5Xk1vyFyV",
        "colab_type": "text"
      },
      "source": [
        "## RNN forward pass"
      ]
    },
    {
      "cell_type": "code",
      "metadata": {
        "id": "q120uP1Rx5Wb",
        "colab_type": "code",
        "colab": {
          "base_uri": "https://localhost:8080/",
          "height": 127
        },
        "outputId": "3a41fe4f-48f8-41b4-9e1c-744ae3621593"
      },
      "source": [
        "def rnn_forward(x, a0,parameters):\n",
        "  caches = []\n",
        "  \n",
        "  n_x,m, T_x = x.shape\n",
        "  n_y, n_a = parameters[\"Wya\"].shape\n",
        "  \n",
        "  a = np.zeros((n_a, m, T_x))\n",
        "  y_pred = np.zeros((n_y, m, T_x))\n",
        "  \n",
        "  a_next = a0\n",
        "  \n",
        "  for t in range(0, T_x):\n",
        "       a_next, yt_pred, cache = rnn_cell_forward(x[:,:,t], a_next, parameters)\n",
        "       a[:,:,t] = a_next\n",
        "       y_pred[:,:,t] = yt_pred\n",
        "       caches.append(cache)\n",
        "  caches = (caches, x)\n",
        "  \n",
        "  return a, y_pred, caches\n",
        "np.random.seed(1)\n",
        "x = np.random.randn(3,10,4)\n",
        "a0 = np.random.randn(5,10)\n",
        "Waa = np.random.randn(5,5)\n",
        "Wax = np.random.randn(5,3)\n",
        "Wya = np.random.randn(2,5)\n",
        "ba = np.random.randn(5,1)\n",
        "by = np.random.randn(2,1)\n",
        "parameters = {\"Waa\":Waa,\"Wax\":Wax,\"Wya\":Wya,\"ba\":ba,\"by\":by}\n",
        "\n",
        "a, y_pred, caches = rnn_forward(x, a0, parameters)\n",
        "print(\"a[4][1] =\", a[4][1])\n",
        "print(\"a.shape =\", a.shape)\n",
        "print(\"y_pred[1][3] =\", y_pred[1][3])\n",
        "print(\"y_pred.shape =\", y_pred.shape)\n",
        "print(\"caches[1][1][3] =\", caches[1][1][3])\n",
        "print(\"len(caches) =\", len(caches))"
      ],
      "execution_count": 27,
      "outputs": [
        {
          "output_type": "stream",
          "text": [
            "a[4][1] = [-0.99999375  0.77911235 -0.99861469 -0.99833267]\n",
            "a.shape = (5, 10, 4)\n",
            "y_pred[1][3] = [0.79560373 0.86224861 0.11118257 0.81515947]\n",
            "y_pred.shape = (2, 10, 4)\n",
            "caches[1][1][3] = [-1.1425182  -0.34934272 -0.20889423  0.58662319]\n",
            "len(caches) = 2\n"
          ],
          "name": "stdout"
        }
      ]
    },
    {
      "cell_type": "markdown",
      "metadata": {
        "id": "GDQgLeU_1Qo7",
        "colab_type": "text"
      },
      "source": [
        "## Long Short-Term Memory (lstm) Network"
      ]
    },
    {
      "cell_type": "code",
      "metadata": {
        "id": "-spqaXgU04Wq",
        "colab_type": "code",
        "colab": {
          "base_uri": "https://localhost:8080/",
          "height": 257
        },
        "outputId": "4816d06d-6104-4d9c-e8fd-40bd7339d85c"
      },
      "source": [
        "def lstm_cell_forward(xt, a_prev, c_prev, parameters):\n",
        "  \n",
        "  Wf = parameters[\"Wf\"]\n",
        "  bf = parameters[\"bf\"]\n",
        "  Wi = parameters[\"Wi\"]\n",
        "  bi = parameters[\"bi\"]\n",
        "  Wc = parameters[\"Wc\"]\n",
        "  bc = parameters[\"bc\"]\n",
        "  Wo = parameters[\"Wo\"]\n",
        "  bo = parameters[\"bo\"]\n",
        "  Wy = parameters[\"Wy\"]\n",
        "  by = parameters[\"by\"]\n",
        "  \n",
        "  n_x, m = xt.shape\n",
        "  n_y, n_a = Wy.shape\n",
        "  \n",
        "  concat = np.zeros((n_x + n_a, m))\n",
        "  concat[: n_a,:] = a_prev\n",
        "  concat[n_a :,:] = xt\n",
        "  \n",
        "  ft = sigmoid(np.dot(Wf, concat) + bf)\n",
        "  it = sigmoid(np.dot(Wi, concat) + bi)\n",
        "  cct = np.tanh(np.dot(Wc, concat) + bc)\n",
        "  c_next = ft * c_prev + it * cct\n",
        "  ot = sigmoid(np.dot(Wo, concat) + bo)\n",
        "  a_next = ot * np.tanh(c_next)\n",
        "\n",
        "  \n",
        "  yt_pred = softmax(np.dot(Wy,a_next)+by)\n",
        "  \n",
        "  cache = (a_next, c_next, a_prev, c_prev, ft, it, cct, ot, xt, parameters)\n",
        "  \n",
        "  return a_next, c_next, yt_pred, cache\n",
        "\n",
        "np.random.seed(1)\n",
        "xt = np.random.randn(3,10)\n",
        "a_prev = np.random.randn(5,10)\n",
        "c_prev = np.random.randn(5,10)\n",
        "Wf = np.random.randn(5, 5+3)\n",
        "bf = np.random.randn(5,1)\n",
        "Wi = np.random.randn(5, 5+3)\n",
        "bi = np.random.randn(5,1)\n",
        "Wo = np.random.randn(5, 5+3)\n",
        "bo = np.random.randn(5,1)\n",
        "Wc = np.random.randn(5, 5+3)\n",
        "bc = np.random.randn(5,1)\n",
        "Wy = np.random.randn(2,5)\n",
        "by = np.random.randn(2,1)\n",
        "\n",
        "parameters = {\"Wf\": Wf, \"Wi\": Wi, \"Wo\": Wo, \"Wc\": Wc, \"Wy\": Wy, \"bf\": bf, \"bi\": bi, \"bo\": bo, \"bc\": bc, \"by\": by}\n",
        "\n",
        "a_next, c_next, yt, cache = lstm_cell_forward(xt, a_prev, c_prev, parameters)\n",
        "print(\"a_next[4] = \", a_next[4])\n",
        "print(\"a_next.shape = \", c_next.shape)\n",
        "print(\"c_next[2] = \", c_next[2])\n",
        "print(\"c_next.shape = \", c_next.shape)\n",
        "print(\"yt[1] =\", yt[1])\n",
        "print(\"yt.shape = \", yt.shape)\n",
        "print(\"cache[1][3] =\", cache[1][3])\n",
        "print(\"len(cache) = \", len(cache))"
      ],
      "execution_count": 28,
      "outputs": [
        {
          "output_type": "stream",
          "text": [
            "a_next[4] =  [-0.66408471  0.0036921   0.02088357  0.22834167 -0.85575339  0.00138482\n",
            "  0.76566531  0.34631421 -0.00215674  0.43827275]\n",
            "a_next.shape =  (5, 10)\n",
            "c_next[2] =  [ 0.63267805  1.00570849  0.35504474  0.20690913 -1.64566718  0.11832942\n",
            "  0.76449811 -0.0981561  -0.74348425 -0.26810932]\n",
            "c_next.shape =  (5, 10)\n",
            "yt[1] = [0.79913913 0.15986619 0.22412122 0.15606108 0.97057211 0.31146381\n",
            " 0.00943007 0.12666353 0.39380172 0.07828381]\n",
            "yt.shape =  (2, 10)\n",
            "cache[1][3] = [-0.16263996  1.03729328  0.72938082 -0.54101719  0.02752074 -0.30821874\n",
            "  0.07651101 -1.03752894  1.41219977 -0.37647422]\n",
            "len(cache) =  10\n"
          ],
          "name": "stdout"
        }
      ]
    },
    {
      "cell_type": "markdown",
      "metadata": {
        "id": "iAjMTYbW42_T",
        "colab_type": "text"
      },
      "source": [
        "## Forward pass for LSTM"
      ]
    },
    {
      "cell_type": "code",
      "metadata": {
        "id": "24T3g8mI4wzK",
        "colab_type": "code",
        "colab": {
          "base_uri": "https://localhost:8080/",
          "height": 184
        },
        "outputId": "54d858e7-cd9d-406d-a14c-5d84a0c76f05"
      },
      "source": [
        "def lstm_forward(x, a0, parameters):\n",
        "  \n",
        "  caches = []\n",
        "  \n",
        "  n_x, m, T_x = x.shape\n",
        "  n_y, n_a = parameters[\"Wy\"].shape\n",
        "  \n",
        "  a = np.zeros((n_a, m, T_x))\n",
        "  c = np.zeros((n_a, m, T_x))\n",
        "  y = np.zeros((n_y, m, T_x))\n",
        "  \n",
        "  a_next = a0\n",
        "  c_next = np.zeros((n_a, m))\n",
        "  \n",
        "  for t in range(0, T_x):\n",
        "    \n",
        "      a_next, c_next, yt, cache = lstm_cell_forward(x[:,:,t], a_next, c_next, parameters)\n",
        "    \n",
        "      a[:,:,t] = a_next\n",
        "    \n",
        "      y[:,:,t] = yt\n",
        "    \n",
        "      c[:,:,t] = c_next\n",
        "    \n",
        "      caches.append(cache)\n",
        "    \n",
        "  caches = (caches, x)\n",
        "  \n",
        "  return a, y, c, caches\n",
        "\n",
        "np.random.seed(1)\n",
        "x = np.random.randn(3,10,7)\n",
        "a0 = np.random.randn(5,10)\n",
        "Wf = np.random.randn(5, 5+3)\n",
        "bf = np.random.randn(5,1)\n",
        "Wi = np.random.randn(5, 5+3)\n",
        "bi = np.random.randn(5,1)\n",
        "Wo = np.random.randn(5, 5+3)\n",
        "bo = np.random.randn(5,1)\n",
        "Wc = np.random.randn(5, 5+3)\n",
        "bc = np.random.randn(5,1)\n",
        "Wy = np.random.randn(2,5)\n",
        "by = np.random.randn(2,1)\n",
        "\n",
        "parameters = {\"Wf\": Wf, \"Wi\": Wi, \"Wo\": Wo, \"Wc\": Wc, \"Wy\": Wy, \n",
        "              \"bf\": bf, \"bi\": bi, \"bo\": bo, \"bc\": bc, \"by\": by}\n",
        "\n",
        "a, y, c, caches = lstm_forward(x, a0, parameters)\n",
        "print(\"a[4][3][6] = \", a[4][3][6])\n",
        "print(\"a.shape = \", a.shape)\n",
        "print(\"y[1][4][3] =\", y[1][4][3])\n",
        "print(\"y.shape = \", y.shape)\n",
        "print(\"caches[1][1[1]] =\", caches[1][1][1])\n",
        "print(\"c[1][2][1]\", c[1][2][1])\n",
        "print(\"len(caches) = \", len(caches))\n",
        "    "
      ],
      "execution_count": 29,
      "outputs": [
        {
          "output_type": "stream",
          "text": [
            "a[4][3][6] =  0.17211776753291672\n",
            "a.shape =  (5, 10, 7)\n",
            "y[1][4][3] = 0.9508734618501101\n",
            "y.shape =  (2, 10, 7)\n",
            "caches[1][1[1]] = [ 0.82797464  0.23009474  0.76201118 -0.22232814 -0.20075807  0.18656139\n",
            "  0.41005165]\n",
            "c[1][2][1] -0.8555449167181981\n",
            "len(caches) =  2\n"
          ],
          "name": "stdout"
        }
      ]
    },
    {
      "cell_type": "markdown",
      "metadata": {
        "id": "GRaQ2bfs-VVv",
        "colab_type": "text"
      },
      "source": [
        "## Backpropagation in recurrent neural networks\n",
        "### Basic RNN backward pass"
      ]
    },
    {
      "cell_type": "code",
      "metadata": {
        "id": "vXZ_zshR6fpZ",
        "colab_type": "code",
        "colab": {
          "base_uri": "https://localhost:8080/",
          "height": 201
        },
        "outputId": "4bfce3b0-9361-4479-a87d-782d8023d6d0"
      },
      "source": [
        "def rnn_cell_backward(da_next, cache):\n",
        "  (a_next, a_prev, xt, parameters) = cache\n",
        "  \n",
        "  Wax = parameters[\"Wax\"]\n",
        "  Waa = parameters[\"Waa\"]\n",
        "  Wya = parameters[\"Wya\"]\n",
        "  ba = parameters[\"ba\"]\n",
        "  by = parameters[\"by\"]\n",
        "  \n",
        "  dtanh = 1 - np.power(a_next,2)\n",
        "  \n",
        "  dxt = np.dot(Wax.T, da_next*dtanh) \n",
        "  dWax = np.dot(da_next*dtanh, xt.T)\n",
        "\n",
        "  da_prev = np.dot(Waa.T, da_next*dtanh)\n",
        "  dWaa = np.dot(da_next*dtanh, a_prev.T)\n",
        "  \n",
        "  dba = np.sum(da_next*dtanh, axis = 1, keepdims=True)\n",
        "  \n",
        "  gradients = {\"dxt\": dxt, \"da_prev\": da_prev, \"dWax\": dWax, \"dWaa\": dWaa, \"dba\": dba}\n",
        "    \n",
        "  return gradients\n",
        "\n",
        "np.random.seed(1)\n",
        "xt = np.random.randn(3,10)\n",
        "a_prev = np.random.randn(5,10)\n",
        "Wax = np.random.randn(5,3)\n",
        "Waa = np.random.randn(5,5)\n",
        "Wya = np.random.randn(2,5)\n",
        "b = np.random.randn(5,1)\n",
        "by = np.random.randn(2,1)\n",
        "parameters = {\"Wax\": Wax, \"Waa\": Waa, \"Wya\": Wya, \"ba\": ba, \"by\": by}\n",
        "\n",
        "a_next, yt, cache = rnn_cell_forward(xt, a_prev, parameters)\n",
        "\n",
        "da_next = np.random.randn(5,10)\n",
        "gradients = rnn_cell_backward(da_next, cache)\n",
        "print(\"gradients[\\\"dxt\\\"][1][2] =\", gradients[\"dxt\"][1][2])\n",
        "print(\"gradients[\\\"dxt\\\"].shape =\", gradients[\"dxt\"].shape)\n",
        "print(\"gradients[\\\"da_prev\\\"][2][3] =\", gradients[\"da_prev\"][2][3])\n",
        "print(\"gradients[\\\"da_prev\\\"].shape =\", gradients[\"da_prev\"].shape)\n",
        "print(\"gradients[\\\"dWax\\\"][3][1] =\", gradients[\"dWax\"][3][1])\n",
        "print(\"gradients[\\\"dWax\\\"].shape =\", gradients[\"dWax\"].shape)\n",
        "print(\"gradients[\\\"dWaa\\\"][1][2] =\", gradients[\"dWaa\"][1][2])\n",
        "print(\"gradients[\\\"dWaa\\\"].shape =\", gradients[\"dWaa\"].shape)\n",
        "print(\"gradients[\\\"dba\\\"][4] =\", gradients[\"dba\"][4])\n",
        "print(\"gradients[\\\"dba\\\"].shape =\", gradients[\"dba\"].shape)\n",
        "  "
      ],
      "execution_count": 31,
      "outputs": [
        {
          "output_type": "stream",
          "text": [
            "gradients[\"dxt\"][1][2] = -0.4605641030588796\n",
            "gradients[\"dxt\"].shape = (3, 10)\n",
            "gradients[\"da_prev\"][2][3] = 0.08429686538067724\n",
            "gradients[\"da_prev\"].shape = (5, 10)\n",
            "gradients[\"dWax\"][3][1] = 0.39308187392193034\n",
            "gradients[\"dWax\"].shape = (5, 3)\n",
            "gradients[\"dWaa\"][1][2] = -0.28483955786960663\n",
            "gradients[\"dWaa\"].shape = (5, 5)\n",
            "gradients[\"dba\"][4] = [0.80517166]\n",
            "gradients[\"dba\"].shape = (5, 1)\n"
          ],
          "name": "stdout"
        }
      ]
    },
    {
      "cell_type": "markdown",
      "metadata": {
        "id": "-BZg3snIFL4F",
        "colab_type": "text"
      },
      "source": [
        "## Backward pass through the RNN"
      ]
    },
    {
      "cell_type": "code",
      "metadata": {
        "id": "QtDGxRwQD_qG",
        "colab_type": "code",
        "colab": {
          "base_uri": "https://localhost:8080/",
          "height": 221
        },
        "outputId": "d4420e0c-8c4a-41a5-89bf-6c8024fe2f50"
      },
      "source": [
        "def rnn_backward(da, caches):\n",
        "    (caches, x) = caches\n",
        "    (a1, a0, x1, parameters) = caches[1]\n",
        "    \n",
        "    n_a, m, T_x = da.shape\n",
        "    n_x, m = x1.shape\n",
        "    \n",
        "    dx = np.zeros((n_x, m, T_x))\n",
        "    dWax = np.zeros((n_a, n_x))\n",
        "    dWaa = np.zeros((n_a,n_a))\n",
        "    dba = np.zeros((n_a,1))\n",
        "    da0 = np.zeros((n_a,m))\n",
        "    da_prevt = np.zeros((n_a,m))\n",
        "    \n",
        "    for t in reversed(range(0, T_x)):\n",
        "        \n",
        "        gradients = rnn_cell_backward(da[:,:,t] + da_prevt, caches[t])\n",
        "        \n",
        "        dxt, da_prevt, dWaxt, dWaat, dbat = gradients[\"dxt\"], gradients[\"da_prev\"], gradients[\"dWax\"], gradients[\"dWaa\"], gradients[\"dba\"]\n",
        "        \n",
        "        dx[:,:,t] = dxt\n",
        "        dWax += dWaxt\n",
        "        dWaa += dWaat\n",
        "        dba += dbat\n",
        "        \n",
        "    da0 = da_prevt\n",
        "    \n",
        "    gradients = {\"dx\":dx,\"da0\":da0,\"dWax\":dWax,\"dWaa\":dWaa,\"dba\":dba}\n",
        "    \n",
        "    return gradients\n",
        "  \n",
        "np.random.seed(1)\n",
        "x = np.random.randn(3,10,4)\n",
        "a0 = np.random.randn(5,10)\n",
        "Wax = np.random.randn(5,3)\n",
        "Waa = np.random.randn(5,5)\n",
        "Wya = np.random.randn(2,5)\n",
        "ba = np.random.randn(5,1)\n",
        "by = np.random.randn(2,1)\n",
        "parameters = {\"Wax\": Wax, \"Waa\": Waa, \"Wya\": Wya, \"ba\": ba, \"by\": by}\n",
        "a, y, caches = rnn_forward(x, a0, parameters)\n",
        "da = np.random.randn(5, 10, 4)\n",
        "gradients = rnn_backward(da, caches)\n",
        "\n",
        "print(\"gradients[\\\"dx\\\"][1][2] =\", gradients[\"dx\"][1][2])\n",
        "print(\"gradients[\\\"dx\\\"].shape =\", gradients[\"dx\"].shape)\n",
        "print(\"gradients[\\\"da0\\\"][2][3] =\", gradients[\"da0\"][2][3])\n",
        "print(\"gradients[\\\"da0\\\"].shape =\", gradients[\"da0\"].shape)\n",
        "print(\"gradients[\\\"dWax\\\"][3][1] =\", gradients[\"dWax\"][3][1])\n",
        "print(\"gradients[\\\"dWax\\\"].shape =\", gradients[\"dWax\"].shape)\n",
        "print(\"gradients[\\\"dWaa\\\"][1][2] =\", gradients[\"dWaa\"][1][2])\n",
        "print(\"gradients[\\\"dWaa\\\"].shape =\", gradients[\"dWaa\"].shape)\n",
        "print(\"gradients[\\\"dba\\\"][4] =\", gradients[\"dba\"][4])\n",
        "print(\"gradients[\\\"dba\\\"].shape =\", gradients[\"dba\"].shape)\n",
        "  "
      ],
      "execution_count": 34,
      "outputs": [
        {
          "output_type": "stream",
          "text": [
            "gradients[\"dx\"][1][2] = [-2.07101689 -0.59255627  0.02466855  0.01483317]\n",
            "gradients[\"dx\"].shape = (3, 10, 4)\n",
            "gradients[\"da0\"][2][3] = -0.31494237512664996\n",
            "gradients[\"da0\"].shape = (5, 10)\n",
            "gradients[\"dWax\"][3][1] = 11.264104496527777\n",
            "gradients[\"dWax\"].shape = (5, 3)\n",
            "gradients[\"dWaa\"][1][2] = 2.303333126579893\n",
            "gradients[\"dWaa\"].shape = (5, 5)\n",
            "gradients[\"dba\"][4] = [-0.74747722]\n",
            "gradients[\"dba\"].shape = (5, 1)\n"
          ],
          "name": "stdout"
        }
      ]
    },
    {
      "cell_type": "markdown",
      "metadata": {
        "id": "HAJPFMwtJcgz",
        "colab_type": "text"
      },
      "source": [
        "## LSTM backward pass\n",
        "### One step backward"
      ]
    },
    {
      "cell_type": "code",
      "metadata": {
        "id": "z7giHAIEGxqU",
        "colab_type": "code",
        "colab": {
          "base_uri": "https://localhost:8080/",
          "height": 421
        },
        "outputId": "4da80b61-37b6-4007-9f07-88eb38dc5d1a"
      },
      "source": [
        "def lstm_cell_backward(da_next, dc_next, cache):\n",
        "    (a_next, c_next, a_prev, c_prev, ft, it, cct, ot, xt, parameters) = cache\n",
        "  \n",
        "    n_x, m = xt.shape\n",
        "    n_a, m = a_next.shape\n",
        "  \n",
        "    dot = da_next*np.tanh(c_next)\n",
        "    dcct = (da_next*ot*(1-np.power(np.tanh(c_next),2))+dc_next)*it\n",
        "    dit = (da_next*ot*(1-np.power(np.tanh(c_next),2))+dc_next)*cct\n",
        "    dft = (da_next*ot*(1-np.power(np.tanh(c_next),2))+dc_next)*c_prev\n",
        "  \n",
        "    dit = dit*it*(1-it)\n",
        "    dft = dft*ft*(1-ft)\n",
        "    dot = dot*ot*(1-ot)\n",
        "    dcct = dcct*(1-np.power(cct, 2))\n",
        "  \n",
        "    concat = np.zeros((n_x+n_a,m))\n",
        "    concat[: n_a,:] = a_prev\n",
        "    concat[n_a :, :] = xt\n",
        "    dWf = np.dot(dft, np.hstack([a_prev.T, xt.T]))\n",
        "    dWi = np.dot(dit, np.hstack([a_prev.T, xt.T]))\n",
        "    dWc = np.dot(dcct, np.hstack([a_prev.T, xt.T]))\n",
        "    dWo = np.dot(dot, np.hstack([a_prev.T, xt.T]))\n",
        "    dbf = np.sum(dft, axis=1, keepdims=True)\n",
        "    dbi = np.sum(dit, axis=1, keepdims=True)\n",
        "    dbc = np.sum(dcct, axis=1, keepdims=True)\n",
        "    dbo = np.sum(dot, axis=1, keepdims=True)\n",
        "    \n",
        "    da_prev = np.dot(Wf[:, :n_a].T, dft) + np.dot(Wc[:, :n_a].T, dcct) + np.dot(Wi[:, :n_a].T, dit) + np.dot(Wo[:, :n_a].T, dot)\n",
        "    dc_prev = (da_next * ot * (1 - np.tanh(c_next) ** 2) + dc_next) * ft\n",
        "    dxt = np.dot(Wf[:, n_a:].T, dft) + np.dot(Wc[:, n_a:].T, dcct) + np.dot(Wi[:, n_a:].T, dit) + np.dot(Wo[:, n_a:].T, dot)\n",
        "   \n",
        "    gradients = {\"dxt\": dxt, \"da_prev\": da_prev, \"dc_prev\": dc_prev, \"dWf\": dWf,\"dbf\": dbf, \"dWi\": dWi,\"dbi\": dbi,\n",
        "                \"dWc\": dWc,\"dbc\": dbc, \"dWo\": dWo,\"dbo\": dbo}\n",
        "\n",
        "    return gradients\n",
        "\n",
        "np.random.seed(1)\n",
        "xt = np.random.randn(3,10)\n",
        "a_prev = np.random.randn(5,10)\n",
        "c_prev = np.random.randn(5,10)\n",
        "Wf = np.random.randn(5, 5+3)\n",
        "bf = np.random.randn(5,1)\n",
        "Wi = np.random.randn(5, 5+3)\n",
        "bi = np.random.randn(5,1)\n",
        "Wo = np.random.randn(5, 5+3)\n",
        "bo = np.random.randn(5,1)\n",
        "Wc = np.random.randn(5, 5+3)\n",
        "bc = np.random.randn(5,1)\n",
        "Wy = np.random.randn(2,5)\n",
        "by = np.random.randn(2,1)\n",
        "\n",
        "parameters = {\"Wf\": Wf, \"Wi\": Wi, \"Wo\": Wo, \"Wc\": Wc, \"Wy\": Wy, \"bf\": bf, \"bi\": bi, \"bo\": bo, \"bc\": bc, \"by\": by}\n",
        "\n",
        "a_next, c_next, yt, cache = lstm_cell_forward(xt, a_prev, c_prev, parameters)\n",
        "\n",
        "da_next = np.random.randn(5,10)\n",
        "dc_next = np.random.randn(5,10)\n",
        "gradients = lstm_cell_backward(da_next, dc_next, cache)\n",
        "print(\"gradients[\\\"dxt\\\"][1][2] =\", gradients[\"dxt\"][1][2])\n",
        "print(\"gradients[\\\"dxt\\\"].shape =\", gradients[\"dxt\"].shape)\n",
        "print(\"gradients[\\\"da_prev\\\"][2][3] =\", gradients[\"da_prev\"][2][3])\n",
        "print(\"gradients[\\\"da_prev\\\"].shape =\", gradients[\"da_prev\"].shape)\n",
        "print(\"gradients[\\\"dc_prev\\\"][2][3] =\", gradients[\"dc_prev\"][2][3])\n",
        "print(\"gradients[\\\"dc_prev\\\"].shape =\", gradients[\"dc_prev\"].shape)\n",
        "print(\"gradients[\\\"dWf\\\"][3][1] =\", gradients[\"dWf\"][3][1])\n",
        "print(\"gradients[\\\"dWf\\\"].shape =\", gradients[\"dWf\"].shape)\n",
        "print(\"gradients[\\\"dWi\\\"][1][2] =\", gradients[\"dWi\"][1][2])\n",
        "print(\"gradients[\\\"dWi\\\"].shape =\", gradients[\"dWi\"].shape)\n",
        "print(\"gradients[\\\"dWc\\\"][3][1] =\", gradients[\"dWc\"][3][1])\n",
        "print(\"gradients[\\\"dWc\\\"].shape =\", gradients[\"dWc\"].shape)\n",
        "print(\"gradients[\\\"dWo\\\"][1][2] =\", gradients[\"dWo\"][1][2])\n",
        "print(\"gradients[\\\"dWo\\\"].shape =\", gradients[\"dWo\"].shape)\n",
        "print(\"gradients[\\\"dbf\\\"][4] =\", gradients[\"dbf\"][4])\n",
        "print(\"gradients[\\\"dbf\\\"].shape =\", gradients[\"dbf\"].shape)\n",
        "print(\"gradients[\\\"dbi\\\"][4] =\", gradients[\"dbi\"][4])\n",
        "print(\"gradients[\\\"dbi\\\"].shape =\", gradients[\"dbi\"].shape)\n",
        "print(\"gradients[\\\"dbc\\\"][4] =\", gradients[\"dbc\"][4])\n",
        "print(\"gradients[\\\"dbc\\\"].shape =\", gradients[\"dbc\"].shape)\n",
        "print(\"gradients[\\\"dbo\\\"][4] =\", gradients[\"dbo\"][4])\n",
        "print(\"gradients[\\\"dbo\\\"].shape =\", gradients[\"dbo\"].shape)"
      ],
      "execution_count": 40,
      "outputs": [
        {
          "output_type": "stream",
          "text": [
            "gradients[\"dxt\"][1][2] = 3.230559115109188\n",
            "gradients[\"dxt\"].shape = (3, 10)\n",
            "gradients[\"da_prev\"][2][3] = -0.06396214197109233\n",
            "gradients[\"da_prev\"].shape = (5, 10)\n",
            "gradients[\"dc_prev\"][2][3] = 0.7975220387970015\n",
            "gradients[\"dc_prev\"].shape = (5, 10)\n",
            "gradients[\"dWf\"][3][1] = -0.14795483816449675\n",
            "gradients[\"dWf\"].shape = (5, 8)\n",
            "gradients[\"dWi\"][1][2] = 1.0574980552259903\n",
            "gradients[\"dWi\"].shape = (5, 8)\n",
            "gradients[\"dWc\"][3][1] = 2.304562163687667\n",
            "gradients[\"dWc\"].shape = (5, 8)\n",
            "gradients[\"dWo\"][1][2] = 0.3313115952892109\n",
            "gradients[\"dWo\"].shape = (5, 8)\n",
            "gradients[\"dbf\"][4] = [0.18864637]\n",
            "gradients[\"dbf\"].shape = (5, 1)\n",
            "gradients[\"dbi\"][4] = [-0.40142491]\n",
            "gradients[\"dbi\"].shape = (5, 1)\n",
            "gradients[\"dbc\"][4] = [0.25587763]\n",
            "gradients[\"dbc\"].shape = (5, 1)\n",
            "gradients[\"dbo\"][4] = [0.13893342]\n",
            "gradients[\"dbo\"].shape = (5, 1)\n"
          ],
          "name": "stdout"
        }
      ]
    },
    {
      "cell_type": "markdown",
      "metadata": {
        "id": "kRFDIlMON46a",
        "colab_type": "text"
      },
      "source": [
        "### Reference\n",
        "https://github.com/Kulbear/deep-learning-coursera/blob/master/Sequence%20Models/Building%20a%20Recurrent%20Neural%20Network%20-%20Step%20by%20Step%20-%20v2.ipynb"
      ]
    }
  ]
}