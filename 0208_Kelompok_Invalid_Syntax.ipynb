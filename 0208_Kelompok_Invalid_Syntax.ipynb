{
  "nbformat": 4,
  "nbformat_minor": 0,
  "metadata": {
    "kernelspec": {
      "display_name": "Python 3",
      "language": "python",
      "name": "python3"
    },
    "language_info": {
      "codemirror_mode": {
        "name": "ipython",
        "version": 3
      },
      "file_extension": ".py",
      "mimetype": "text/x-python",
      "name": "python",
      "nbconvert_exporter": "python",
      "pygments_lexer": "ipython3",
      "version": "3.7.4"
    },
    "colab": {
      "name": "0208_Kelompok_Invalid_Syntax.ipynb",
      "version": "0.3.2",
      "provenance": [],
      "include_colab_link": true
    }
  },
  "cells": [
    {
      "cell_type": "markdown",
      "metadata": {
        "id": "view-in-github",
        "colab_type": "text"
      },
      "source": [
        "<a href=\"https://colab.research.google.com/github/heriswn/LatihanDTS/blob/master/0208_Kelompok_Invalid_Syntax.ipynb\" target=\"_parent\"><img src=\"https://colab.research.google.com/assets/colab-badge.svg\" alt=\"Open In Colab\"/></a>"
      ]
    },
    {
      "cell_type": "markdown",
      "metadata": {
        "id": "fajacV5Lr3Yq",
        "colab_type": "text"
      },
      "source": [
        "----\n",
        "#  <center> Tugas DTS ITB 2019\n",
        "----\n",
        "### Kelompok:\n",
        "  1. Ganang Iqbal R\n",
        "  2. Muttaqien Rodhiya Robbi\n",
        "  3. Heri Setiawan"
      ]
    },
    {
      "cell_type": "markdown",
      "metadata": {
        "id": "YPHXotPXgUGB",
        "colab_type": "text"
      },
      "source": [
        "----\n",
        "#  <center> Project 1.  Yeast Classification using Random Forest Classifier\n",
        "----"
      ]
    },
    {
      "cell_type": "markdown",
      "metadata": {
        "id": "FJ9cEURArwZC",
        "colab_type": "text"
      },
      "source": [
        "## Goals: Predicting the Cellular Localization Sites of Proteins"
      ]
    },
    {
      "cell_type": "markdown",
      "metadata": {
        "id": "2uuqMZh9gUGD",
        "colab_type": "text"
      },
      "source": [
        "##### Attribute Information\n",
        "0. Sequence Name: Accession number for the SWISS-PROT database\n",
        "1. mcg: McGeoch's method for signal sequence recognition.\n",
        "2. gvh: von Heijne's method for signal sequence recognition.\n",
        "3. alm: Score of the ALOM membrane spanning region prediction program.\n",
        "4. mit: Score of discriminant analysis of the amino acid content of the N-terminal region (20 residues long) of mitochondrial and non-mitochondrial proteins.\n",
        "5. erl: Presence of \"HDEL\" substring (thought to act as a signal for retention in the endoplasmic reticulum lumen). Binary attribute.\n",
        "6. pox: Peroxisomal targeting signal in the C-terminus.\n",
        "7. vac: Score of discriminant analysis of the amino acid content of vacuolar and extracellular proteins.\n",
        "8. nuc: Score of discriminant analysis of nuclear localization signals of nuclear and non-nuclear proteins.\n",
        "9. Cellular Localization Sites of Proteins"
      ]
    },
    {
      "cell_type": "code",
      "metadata": {
        "id": "3Juek1d1gUGE",
        "colab_type": "code",
        "colab": {}
      },
      "source": [
        "import numpy as np\n",
        "import pandas as pd\n",
        "import scipy as sp\n",
        "import matplotlib as plt\n",
        "import seaborn as sns"
      ],
      "execution_count": 0,
      "outputs": []
    },
    {
      "cell_type": "code",
      "metadata": {
        "id": "9ejXZwZRgUGK",
        "colab_type": "code",
        "colab": {}
      },
      "source": [
        "data=pd.read_csv(\"yeast.data\",header=None,delim_whitespace=True)"
      ],
      "execution_count": 0,
      "outputs": []
    },
    {
      "cell_type": "code",
      "metadata": {
        "scrolled": false,
        "id": "9GdEA8GqgUGO",
        "colab_type": "code",
        "outputId": "90e12b52-ffe3-4c9e-b663-eef57d826ff2",
        "colab": {
          "base_uri": "https://localhost:8080/",
          "height": 204
        }
      },
      "source": [
        "data.head()"
      ],
      "execution_count": 0,
      "outputs": [
        {
          "output_type": "execute_result",
          "data": {
            "text/html": [
              "<div>\n",
              "<style scoped>\n",
              "    .dataframe tbody tr th:only-of-type {\n",
              "        vertical-align: middle;\n",
              "    }\n",
              "\n",
              "    .dataframe tbody tr th {\n",
              "        vertical-align: top;\n",
              "    }\n",
              "\n",
              "    .dataframe thead th {\n",
              "        text-align: right;\n",
              "    }\n",
              "</style>\n",
              "<table border=\"1\" class=\"dataframe\">\n",
              "  <thead>\n",
              "    <tr style=\"text-align: right;\">\n",
              "      <th></th>\n",
              "      <th>0</th>\n",
              "      <th>1</th>\n",
              "      <th>2</th>\n",
              "      <th>3</th>\n",
              "      <th>4</th>\n",
              "      <th>5</th>\n",
              "      <th>6</th>\n",
              "      <th>7</th>\n",
              "      <th>8</th>\n",
              "      <th>9</th>\n",
              "    </tr>\n",
              "  </thead>\n",
              "  <tbody>\n",
              "    <tr>\n",
              "      <th>0</th>\n",
              "      <td>ADT1_YEAST</td>\n",
              "      <td>0.58</td>\n",
              "      <td>0.61</td>\n",
              "      <td>0.47</td>\n",
              "      <td>0.13</td>\n",
              "      <td>0.5</td>\n",
              "      <td>0.0</td>\n",
              "      <td>0.48</td>\n",
              "      <td>0.22</td>\n",
              "      <td>MIT</td>\n",
              "    </tr>\n",
              "    <tr>\n",
              "      <th>1</th>\n",
              "      <td>ADT2_YEAST</td>\n",
              "      <td>0.43</td>\n",
              "      <td>0.67</td>\n",
              "      <td>0.48</td>\n",
              "      <td>0.27</td>\n",
              "      <td>0.5</td>\n",
              "      <td>0.0</td>\n",
              "      <td>0.53</td>\n",
              "      <td>0.22</td>\n",
              "      <td>MIT</td>\n",
              "    </tr>\n",
              "    <tr>\n",
              "      <th>2</th>\n",
              "      <td>ADT3_YEAST</td>\n",
              "      <td>0.64</td>\n",
              "      <td>0.62</td>\n",
              "      <td>0.49</td>\n",
              "      <td>0.15</td>\n",
              "      <td>0.5</td>\n",
              "      <td>0.0</td>\n",
              "      <td>0.53</td>\n",
              "      <td>0.22</td>\n",
              "      <td>MIT</td>\n",
              "    </tr>\n",
              "    <tr>\n",
              "      <th>3</th>\n",
              "      <td>AAR2_YEAST</td>\n",
              "      <td>0.58</td>\n",
              "      <td>0.44</td>\n",
              "      <td>0.57</td>\n",
              "      <td>0.13</td>\n",
              "      <td>0.5</td>\n",
              "      <td>0.0</td>\n",
              "      <td>0.54</td>\n",
              "      <td>0.22</td>\n",
              "      <td>NUC</td>\n",
              "    </tr>\n",
              "    <tr>\n",
              "      <th>4</th>\n",
              "      <td>AATM_YEAST</td>\n",
              "      <td>0.42</td>\n",
              "      <td>0.44</td>\n",
              "      <td>0.48</td>\n",
              "      <td>0.54</td>\n",
              "      <td>0.5</td>\n",
              "      <td>0.0</td>\n",
              "      <td>0.48</td>\n",
              "      <td>0.22</td>\n",
              "      <td>MIT</td>\n",
              "    </tr>\n",
              "  </tbody>\n",
              "</table>\n",
              "</div>"
            ],
            "text/plain": [
              "            0     1     2     3     4    5    6     7     8    9\n",
              "0  ADT1_YEAST  0.58  0.61  0.47  0.13  0.5  0.0  0.48  0.22  MIT\n",
              "1  ADT2_YEAST  0.43  0.67  0.48  0.27  0.5  0.0  0.53  0.22  MIT\n",
              "2  ADT3_YEAST  0.64  0.62  0.49  0.15  0.5  0.0  0.53  0.22  MIT\n",
              "3  AAR2_YEAST  0.58  0.44  0.57  0.13  0.5  0.0  0.54  0.22  NUC\n",
              "4  AATM_YEAST  0.42  0.44  0.48  0.54  0.5  0.0  0.48  0.22  MIT"
            ]
          },
          "metadata": {
            "tags": []
          },
          "execution_count": 3
        }
      ]
    },
    {
      "cell_type": "markdown",
      "metadata": {
        "id": "BgNYdroCgUGU",
        "colab_type": "text"
      },
      "source": [
        "# Checking Data"
      ]
    },
    {
      "cell_type": "code",
      "metadata": {
        "id": "7BWEogtbgUGW",
        "colab_type": "code",
        "outputId": "e27a48a4-d024-4292-e8f5-f86b7eac8eb9",
        "colab": {
          "base_uri": "https://localhost:8080/",
          "height": 71
        }
      },
      "source": [
        "for i in range(9):\n",
        "    nr=data[data[i]=='?'].shape[0]\n",
        "    if nr>0:\n",
        "        print(i,':',nr)"
      ],
      "execution_count": 0,
      "outputs": [
        {
          "output_type": "stream",
          "text": [
            "/usr/local/lib/python3.6/dist-packages/pandas/core/ops.py:1649: FutureWarning: elementwise comparison failed; returning scalar instead, but in the future will perform elementwise comparison\n",
            "  result = method(y)\n"
          ],
          "name": "stderr"
        }
      ]
    },
    {
      "cell_type": "code",
      "metadata": {
        "id": "jIhmF0D9gUGd",
        "colab_type": "code",
        "outputId": "c5bcadff-4125-4016-a780-1a2561a23fa8",
        "colab": {
          "base_uri": "https://localhost:8080/",
          "height": 272
        }
      },
      "source": [
        "data.info()"
      ],
      "execution_count": 0,
      "outputs": [
        {
          "output_type": "stream",
          "text": [
            "<class 'pandas.core.frame.DataFrame'>\n",
            "RangeIndex: 1484 entries, 0 to 1483\n",
            "Data columns (total 10 columns):\n",
            "0    1484 non-null object\n",
            "1    1484 non-null float64\n",
            "2    1484 non-null float64\n",
            "3    1484 non-null float64\n",
            "4    1484 non-null float64\n",
            "5    1484 non-null float64\n",
            "6    1484 non-null float64\n",
            "7    1484 non-null float64\n",
            "8    1484 non-null float64\n",
            "9    1484 non-null object\n",
            "dtypes: float64(8), object(2)\n",
            "memory usage: 116.0+ KB\n"
          ],
          "name": "stdout"
        }
      ]
    },
    {
      "cell_type": "code",
      "metadata": {
        "id": "jZ-lRYvMgUGh",
        "colab_type": "code",
        "outputId": "58964211-adcf-4992-c036-c480486e4395",
        "colab": {
          "base_uri": "https://localhost:8080/",
          "height": 297
        }
      },
      "source": [
        "data.describe()"
      ],
      "execution_count": 0,
      "outputs": [
        {
          "output_type": "execute_result",
          "data": {
            "text/html": [
              "<div>\n",
              "<style scoped>\n",
              "    .dataframe tbody tr th:only-of-type {\n",
              "        vertical-align: middle;\n",
              "    }\n",
              "\n",
              "    .dataframe tbody tr th {\n",
              "        vertical-align: top;\n",
              "    }\n",
              "\n",
              "    .dataframe thead th {\n",
              "        text-align: right;\n",
              "    }\n",
              "</style>\n",
              "<table border=\"1\" class=\"dataframe\">\n",
              "  <thead>\n",
              "    <tr style=\"text-align: right;\">\n",
              "      <th></th>\n",
              "      <th>1</th>\n",
              "      <th>2</th>\n",
              "      <th>3</th>\n",
              "      <th>4</th>\n",
              "      <th>5</th>\n",
              "      <th>6</th>\n",
              "      <th>7</th>\n",
              "      <th>8</th>\n",
              "    </tr>\n",
              "  </thead>\n",
              "  <tbody>\n",
              "    <tr>\n",
              "      <th>count</th>\n",
              "      <td>1484.000000</td>\n",
              "      <td>1484.000000</td>\n",
              "      <td>1484.000000</td>\n",
              "      <td>1484.000000</td>\n",
              "      <td>1484.000000</td>\n",
              "      <td>1484.000000</td>\n",
              "      <td>1484.000000</td>\n",
              "      <td>1484.000000</td>\n",
              "    </tr>\n",
              "    <tr>\n",
              "      <th>mean</th>\n",
              "      <td>0.500121</td>\n",
              "      <td>0.499933</td>\n",
              "      <td>0.500034</td>\n",
              "      <td>0.261186</td>\n",
              "      <td>0.504717</td>\n",
              "      <td>0.007500</td>\n",
              "      <td>0.499885</td>\n",
              "      <td>0.276199</td>\n",
              "    </tr>\n",
              "    <tr>\n",
              "      <th>std</th>\n",
              "      <td>0.137299</td>\n",
              "      <td>0.123924</td>\n",
              "      <td>0.086670</td>\n",
              "      <td>0.137098</td>\n",
              "      <td>0.048351</td>\n",
              "      <td>0.075683</td>\n",
              "      <td>0.057797</td>\n",
              "      <td>0.106491</td>\n",
              "    </tr>\n",
              "    <tr>\n",
              "      <th>min</th>\n",
              "      <td>0.110000</td>\n",
              "      <td>0.130000</td>\n",
              "      <td>0.210000</td>\n",
              "      <td>0.000000</td>\n",
              "      <td>0.500000</td>\n",
              "      <td>0.000000</td>\n",
              "      <td>0.000000</td>\n",
              "      <td>0.000000</td>\n",
              "    </tr>\n",
              "    <tr>\n",
              "      <th>25%</th>\n",
              "      <td>0.410000</td>\n",
              "      <td>0.420000</td>\n",
              "      <td>0.460000</td>\n",
              "      <td>0.170000</td>\n",
              "      <td>0.500000</td>\n",
              "      <td>0.000000</td>\n",
              "      <td>0.480000</td>\n",
              "      <td>0.220000</td>\n",
              "    </tr>\n",
              "    <tr>\n",
              "      <th>50%</th>\n",
              "      <td>0.490000</td>\n",
              "      <td>0.490000</td>\n",
              "      <td>0.510000</td>\n",
              "      <td>0.220000</td>\n",
              "      <td>0.500000</td>\n",
              "      <td>0.000000</td>\n",
              "      <td>0.510000</td>\n",
              "      <td>0.220000</td>\n",
              "    </tr>\n",
              "    <tr>\n",
              "      <th>75%</th>\n",
              "      <td>0.580000</td>\n",
              "      <td>0.570000</td>\n",
              "      <td>0.550000</td>\n",
              "      <td>0.320000</td>\n",
              "      <td>0.500000</td>\n",
              "      <td>0.000000</td>\n",
              "      <td>0.530000</td>\n",
              "      <td>0.300000</td>\n",
              "    </tr>\n",
              "    <tr>\n",
              "      <th>max</th>\n",
              "      <td>1.000000</td>\n",
              "      <td>1.000000</td>\n",
              "      <td>1.000000</td>\n",
              "      <td>1.000000</td>\n",
              "      <td>1.000000</td>\n",
              "      <td>0.830000</td>\n",
              "      <td>0.730000</td>\n",
              "      <td>1.000000</td>\n",
              "    </tr>\n",
              "  </tbody>\n",
              "</table>\n",
              "</div>"
            ],
            "text/plain": [
              "                 1            2  ...            7            8\n",
              "count  1484.000000  1484.000000  ...  1484.000000  1484.000000\n",
              "mean      0.500121     0.499933  ...     0.499885     0.276199\n",
              "std       0.137299     0.123924  ...     0.057797     0.106491\n",
              "min       0.110000     0.130000  ...     0.000000     0.000000\n",
              "25%       0.410000     0.420000  ...     0.480000     0.220000\n",
              "50%       0.490000     0.490000  ...     0.510000     0.220000\n",
              "75%       0.580000     0.570000  ...     0.530000     0.300000\n",
              "max       1.000000     1.000000  ...     0.730000     1.000000\n",
              "\n",
              "[8 rows x 8 columns]"
            ]
          },
          "metadata": {
            "tags": []
          },
          "execution_count": 6
        }
      ]
    },
    {
      "cell_type": "markdown",
      "metadata": {
        "id": "rPM7u6hMgUGm",
        "colab_type": "text"
      },
      "source": [
        "No missing values"
      ]
    },
    {
      "cell_type": "code",
      "metadata": {
        "id": "VE9gZJp1gUGo",
        "colab_type": "code",
        "outputId": "6bdcbec1-f2b1-4f67-feae-fc34edf0e07d",
        "colab": {
          "base_uri": "https://localhost:8080/",
          "height": 918
        }
      },
      "source": [
        "for i in range(len(data.columns)):\n",
        "    if (data[i].dtypes in ['int64','float64']):\n",
        "        print('\\nAttribute-',i,':',data[i].dtypes)\n",
        "        Q1=data[i].quantile(0.25)\n",
        "        print('Q1',Q1)\n",
        "        Q3=data[i].quantile(0.75)\n",
        "        print('Q3',Q3)\n",
        "        IQR=Q3-Q1\n",
        "        print('IQR',IQR)\n",
        "        min=data[i].min()\n",
        "        max=data[i].max()\n",
        "        min_IQR=Q1-1.5*IQR\n",
        "        max_IQR=Q3+1.5*IQR\n",
        "        if (min<min_IQR):\n",
        "            print('Low outlier is found')\n",
        "        if (max>max_IQR):\n",
        "            print('High outlier is found')"
      ],
      "execution_count": 0,
      "outputs": [
        {
          "output_type": "stream",
          "text": [
            "\n",
            "Attribute- 1 : float64\n",
            "Q1 0.41\n",
            "Q3 0.58\n",
            "IQR 0.16999999999999998\n",
            "Low outlier is found\n",
            "High outlier is found\n",
            "\n",
            "Attribute- 2 : float64\n",
            "Q1 0.42\n",
            "Q3 0.57\n",
            "IQR 0.14999999999999997\n",
            "Low outlier is found\n",
            "High outlier is found\n",
            "\n",
            "Attribute- 3 : float64\n",
            "Q1 0.46\n",
            "Q3 0.55\n",
            "IQR 0.09000000000000002\n",
            "Low outlier is found\n",
            "High outlier is found\n",
            "\n",
            "Attribute- 4 : float64\n",
            "Q1 0.17\n",
            "Q3 0.32\n",
            "IQR 0.15\n",
            "High outlier is found\n",
            "\n",
            "Attribute- 5 : float64\n",
            "Q1 0.5\n",
            "Q3 0.5\n",
            "IQR 0.0\n",
            "High outlier is found\n",
            "\n",
            "Attribute- 6 : float64\n",
            "Q1 0.0\n",
            "Q3 0.0\n",
            "IQR 0.0\n",
            "High outlier is found\n",
            "\n",
            "Attribute- 7 : float64\n",
            "Q1 0.48\n",
            "Q3 0.53\n",
            "IQR 0.050000000000000044\n",
            "Low outlier is found\n",
            "High outlier is found\n",
            "\n",
            "Attribute- 8 : float64\n",
            "Q1 0.22\n",
            "Q3 0.3\n",
            "IQR 0.07999999999999999\n",
            "Low outlier is found\n",
            "High outlier is found\n"
          ],
          "name": "stdout"
        }
      ]
    },
    {
      "cell_type": "code",
      "metadata": {
        "id": "0f69yAyggUGv",
        "colab_type": "code",
        "outputId": "fa0f5d15-780f-46f0-f76f-31327ecabc51",
        "colab": {
          "base_uri": "https://localhost:8080/",
          "height": 34
        }
      },
      "source": [
        "data.shape"
      ],
      "execution_count": 0,
      "outputs": [
        {
          "output_type": "execute_result",
          "data": {
            "text/plain": [
              "(1484, 10)"
            ]
          },
          "metadata": {
            "tags": []
          },
          "execution_count": 8
        }
      ]
    },
    {
      "cell_type": "code",
      "metadata": {
        "id": "6YOfiWXrgUG1",
        "colab_type": "code",
        "outputId": "37b957ca-a444-4263-af75-5a1d7a65883d",
        "colab": {
          "base_uri": "https://localhost:8080/",
          "height": 204
        }
      },
      "source": [
        "data[9].value_counts()"
      ],
      "execution_count": 0,
      "outputs": [
        {
          "output_type": "execute_result",
          "data": {
            "text/plain": [
              "CYT    463\n",
              "NUC    429\n",
              "MIT    244\n",
              "ME3    163\n",
              "ME2     51\n",
              "ME1     44\n",
              "EXC     35\n",
              "VAC     30\n",
              "POX     20\n",
              "ERL      5\n",
              "Name: 9, dtype: int64"
            ]
          },
          "metadata": {
            "tags": []
          },
          "execution_count": 9
        }
      ]
    },
    {
      "cell_type": "code",
      "metadata": {
        "id": "32eI8J8egUG5",
        "colab_type": "code",
        "colab": {}
      },
      "source": [
        "data=data.iloc[:,1:]"
      ],
      "execution_count": 0,
      "outputs": []
    },
    {
      "cell_type": "code",
      "metadata": {
        "id": "acD-M7DYgUG9",
        "colab_type": "code",
        "outputId": "0101f0f9-ea7a-42e3-f9f1-e9672658703d",
        "colab": {
          "base_uri": "https://localhost:8080/",
          "height": 34
        }
      },
      "source": [
        "data.shape"
      ],
      "execution_count": 0,
      "outputs": [
        {
          "output_type": "execute_result",
          "data": {
            "text/plain": [
              "(1484, 9)"
            ]
          },
          "metadata": {
            "tags": []
          },
          "execution_count": 11
        }
      ]
    },
    {
      "cell_type": "code",
      "metadata": {
        "id": "yIamiSTxgUHB",
        "colab_type": "code",
        "outputId": "d879aa59-db2a-44f5-ee3a-e23c1746fd6b",
        "colab": {
          "base_uri": "https://localhost:8080/",
          "height": 204
        }
      },
      "source": [
        "data.head()"
      ],
      "execution_count": 0,
      "outputs": [
        {
          "output_type": "execute_result",
          "data": {
            "text/html": [
              "<div>\n",
              "<style scoped>\n",
              "    .dataframe tbody tr th:only-of-type {\n",
              "        vertical-align: middle;\n",
              "    }\n",
              "\n",
              "    .dataframe tbody tr th {\n",
              "        vertical-align: top;\n",
              "    }\n",
              "\n",
              "    .dataframe thead th {\n",
              "        text-align: right;\n",
              "    }\n",
              "</style>\n",
              "<table border=\"1\" class=\"dataframe\">\n",
              "  <thead>\n",
              "    <tr style=\"text-align: right;\">\n",
              "      <th></th>\n",
              "      <th>1</th>\n",
              "      <th>2</th>\n",
              "      <th>3</th>\n",
              "      <th>4</th>\n",
              "      <th>5</th>\n",
              "      <th>6</th>\n",
              "      <th>7</th>\n",
              "      <th>8</th>\n",
              "      <th>9</th>\n",
              "    </tr>\n",
              "  </thead>\n",
              "  <tbody>\n",
              "    <tr>\n",
              "      <th>0</th>\n",
              "      <td>0.58</td>\n",
              "      <td>0.61</td>\n",
              "      <td>0.47</td>\n",
              "      <td>0.13</td>\n",
              "      <td>0.5</td>\n",
              "      <td>0.0</td>\n",
              "      <td>0.48</td>\n",
              "      <td>0.22</td>\n",
              "      <td>MIT</td>\n",
              "    </tr>\n",
              "    <tr>\n",
              "      <th>1</th>\n",
              "      <td>0.43</td>\n",
              "      <td>0.67</td>\n",
              "      <td>0.48</td>\n",
              "      <td>0.27</td>\n",
              "      <td>0.5</td>\n",
              "      <td>0.0</td>\n",
              "      <td>0.53</td>\n",
              "      <td>0.22</td>\n",
              "      <td>MIT</td>\n",
              "    </tr>\n",
              "    <tr>\n",
              "      <th>2</th>\n",
              "      <td>0.64</td>\n",
              "      <td>0.62</td>\n",
              "      <td>0.49</td>\n",
              "      <td>0.15</td>\n",
              "      <td>0.5</td>\n",
              "      <td>0.0</td>\n",
              "      <td>0.53</td>\n",
              "      <td>0.22</td>\n",
              "      <td>MIT</td>\n",
              "    </tr>\n",
              "    <tr>\n",
              "      <th>3</th>\n",
              "      <td>0.58</td>\n",
              "      <td>0.44</td>\n",
              "      <td>0.57</td>\n",
              "      <td>0.13</td>\n",
              "      <td>0.5</td>\n",
              "      <td>0.0</td>\n",
              "      <td>0.54</td>\n",
              "      <td>0.22</td>\n",
              "      <td>NUC</td>\n",
              "    </tr>\n",
              "    <tr>\n",
              "      <th>4</th>\n",
              "      <td>0.42</td>\n",
              "      <td>0.44</td>\n",
              "      <td>0.48</td>\n",
              "      <td>0.54</td>\n",
              "      <td>0.5</td>\n",
              "      <td>0.0</td>\n",
              "      <td>0.48</td>\n",
              "      <td>0.22</td>\n",
              "      <td>MIT</td>\n",
              "    </tr>\n",
              "  </tbody>\n",
              "</table>\n",
              "</div>"
            ],
            "text/plain": [
              "      1     2     3     4    5    6     7     8    9\n",
              "0  0.58  0.61  0.47  0.13  0.5  0.0  0.48  0.22  MIT\n",
              "1  0.43  0.67  0.48  0.27  0.5  0.0  0.53  0.22  MIT\n",
              "2  0.64  0.62  0.49  0.15  0.5  0.0  0.53  0.22  MIT\n",
              "3  0.58  0.44  0.57  0.13  0.5  0.0  0.54  0.22  NUC\n",
              "4  0.42  0.44  0.48  0.54  0.5  0.0  0.48  0.22  MIT"
            ]
          },
          "metadata": {
            "tags": []
          },
          "execution_count": 12
        }
      ]
    },
    {
      "cell_type": "code",
      "metadata": {
        "id": "y8H_BU_SgUHF",
        "colab_type": "code",
        "outputId": "5a2d26a5-f932-4748-cacd-d8259aa5d594",
        "colab": {
          "base_uri": "https://localhost:8080/",
          "height": 71
        }
      },
      "source": [
        "from imblearn.over_sampling import RandomOverSampler\n",
        "import collections as clc"
      ],
      "execution_count": 0,
      "outputs": [
        {
          "output_type": "stream",
          "text": [
            "/usr/local/lib/python3.6/dist-packages/sklearn/externals/six.py:31: DeprecationWarning: The module is deprecated in version 0.21 and will be removed in version 0.23 since we've dropped support for Python 2.7. Please rely on the official version of six (https://pypi.org/project/six/).\n",
            "  \"(https://pypi.org/project/six/).\", DeprecationWarning)\n"
          ],
          "name": "stderr"
        }
      ]
    },
    {
      "cell_type": "code",
      "metadata": {
        "id": "ZPP-fbAEgUHJ",
        "colab_type": "code",
        "colab": {}
      },
      "source": [
        "X=data.iloc[:,:-1].values\n",
        "Y=data.iloc[:,-1].values\n",
        "\n",
        "ros = RandomOverSampler()\n",
        "X, Y = ros.fit_sample(X, Y)"
      ],
      "execution_count": 0,
      "outputs": []
    },
    {
      "cell_type": "code",
      "metadata": {
        "id": "Xz3yjUHogUHQ",
        "colab_type": "code",
        "colab": {}
      },
      "source": [
        "Y=np.reshape(Y,(4630,1))"
      ],
      "execution_count": 0,
      "outputs": []
    },
    {
      "cell_type": "code",
      "metadata": {
        "id": "mcff_z1TgUHT",
        "colab_type": "code",
        "colab": {}
      },
      "source": [
        "data=np.concatenate([X,Y],axis=1)\n",
        "data=pd.DataFrame(data)"
      ],
      "execution_count": 0,
      "outputs": []
    },
    {
      "cell_type": "code",
      "metadata": {
        "id": "5gbk8NmbgUHY",
        "colab_type": "code",
        "outputId": "549b75fa-cd8e-41db-9544-37c0586cbff4",
        "colab": {
          "base_uri": "https://localhost:8080/",
          "height": 204
        }
      },
      "source": [
        "data.head()"
      ],
      "execution_count": 0,
      "outputs": [
        {
          "output_type": "execute_result",
          "data": {
            "text/html": [
              "<div>\n",
              "<style scoped>\n",
              "    .dataframe tbody tr th:only-of-type {\n",
              "        vertical-align: middle;\n",
              "    }\n",
              "\n",
              "    .dataframe tbody tr th {\n",
              "        vertical-align: top;\n",
              "    }\n",
              "\n",
              "    .dataframe thead th {\n",
              "        text-align: right;\n",
              "    }\n",
              "</style>\n",
              "<table border=\"1\" class=\"dataframe\">\n",
              "  <thead>\n",
              "    <tr style=\"text-align: right;\">\n",
              "      <th></th>\n",
              "      <th>0</th>\n",
              "      <th>1</th>\n",
              "      <th>2</th>\n",
              "      <th>3</th>\n",
              "      <th>4</th>\n",
              "      <th>5</th>\n",
              "      <th>6</th>\n",
              "      <th>7</th>\n",
              "      <th>8</th>\n",
              "    </tr>\n",
              "  </thead>\n",
              "  <tbody>\n",
              "    <tr>\n",
              "      <th>0</th>\n",
              "      <td>0.58</td>\n",
              "      <td>0.61</td>\n",
              "      <td>0.47</td>\n",
              "      <td>0.13</td>\n",
              "      <td>0.5</td>\n",
              "      <td>0</td>\n",
              "      <td>0.48</td>\n",
              "      <td>0.22</td>\n",
              "      <td>MIT</td>\n",
              "    </tr>\n",
              "    <tr>\n",
              "      <th>1</th>\n",
              "      <td>0.43</td>\n",
              "      <td>0.67</td>\n",
              "      <td>0.48</td>\n",
              "      <td>0.27</td>\n",
              "      <td>0.5</td>\n",
              "      <td>0</td>\n",
              "      <td>0.53</td>\n",
              "      <td>0.22</td>\n",
              "      <td>MIT</td>\n",
              "    </tr>\n",
              "    <tr>\n",
              "      <th>2</th>\n",
              "      <td>0.64</td>\n",
              "      <td>0.62</td>\n",
              "      <td>0.49</td>\n",
              "      <td>0.15</td>\n",
              "      <td>0.5</td>\n",
              "      <td>0</td>\n",
              "      <td>0.53</td>\n",
              "      <td>0.22</td>\n",
              "      <td>MIT</td>\n",
              "    </tr>\n",
              "    <tr>\n",
              "      <th>3</th>\n",
              "      <td>0.58</td>\n",
              "      <td>0.44</td>\n",
              "      <td>0.57</td>\n",
              "      <td>0.13</td>\n",
              "      <td>0.5</td>\n",
              "      <td>0</td>\n",
              "      <td>0.54</td>\n",
              "      <td>0.22</td>\n",
              "      <td>NUC</td>\n",
              "    </tr>\n",
              "    <tr>\n",
              "      <th>4</th>\n",
              "      <td>0.42</td>\n",
              "      <td>0.44</td>\n",
              "      <td>0.48</td>\n",
              "      <td>0.54</td>\n",
              "      <td>0.5</td>\n",
              "      <td>0</td>\n",
              "      <td>0.48</td>\n",
              "      <td>0.22</td>\n",
              "      <td>MIT</td>\n",
              "    </tr>\n",
              "  </tbody>\n",
              "</table>\n",
              "</div>"
            ],
            "text/plain": [
              "      0     1     2     3    4  5     6     7    8\n",
              "0  0.58  0.61  0.47  0.13  0.5  0  0.48  0.22  MIT\n",
              "1  0.43  0.67  0.48  0.27  0.5  0  0.53  0.22  MIT\n",
              "2  0.64  0.62  0.49  0.15  0.5  0  0.53  0.22  MIT\n",
              "3  0.58  0.44  0.57  0.13  0.5  0  0.54  0.22  NUC\n",
              "4  0.42  0.44  0.48  0.54  0.5  0  0.48  0.22  MIT"
            ]
          },
          "metadata": {
            "tags": []
          },
          "execution_count": 17
        }
      ]
    },
    {
      "cell_type": "code",
      "metadata": {
        "id": "aP5YlvBNgUHc",
        "colab_type": "code",
        "colab": {}
      },
      "source": [
        "from sklearn.neighbors import KNeighborsClassifier\n",
        "from sklearn.naive_bayes import GaussianNB\n",
        "from sklearn.linear_model import LogisticRegression\n",
        "from sklearn.svm import SVC\n",
        "from sklearn.tree import DecisionTreeClassifier\n",
        "from sklearn.ensemble import RandomForestClassifier\n",
        "from sklearn.model_selection import train_test_split\n",
        "from sklearn.model_selection import KFold\n",
        "from sklearn.metrics import accuracy_score\n",
        "from sklearn.metrics import classification_report"
      ],
      "execution_count": 0,
      "outputs": []
    },
    {
      "cell_type": "code",
      "metadata": {
        "id": "ClrFTI4FgUHg",
        "colab_type": "code",
        "colab": {}
      },
      "source": [
        "models = {\n",
        "\"knn\": KNeighborsClassifier(n_neighbors=1),\n",
        "\"naive_bayes\": GaussianNB(),\n",
        "\"logit\": LogisticRegression(solver=\"lbfgs\", multi_class=\"auto\"),\n",
        "\"svm\": SVC(kernel=\"rbf\", gamma=\"auto\"),\n",
        "\"decision_tree\": DecisionTreeClassifier(),\n",
        "\"random_forest\": RandomForestClassifier(n_estimators=100),\n",
        "}"
      ],
      "execution_count": 0,
      "outputs": []
    },
    {
      "cell_type": "code",
      "metadata": {
        "id": "ODuaNc_bgUHm",
        "colab_type": "code",
        "outputId": "f7c2a343-eb92-4578-fec8-ee03b18e9f6a",
        "colab": {
          "base_uri": "https://localhost:8080/",
          "height": 34
        }
      },
      "source": [
        "print(\"[INFO] loading data...\")\n",
        "X=data.iloc[:,:-1].values\n",
        "Y=data.iloc[:,-1].values\n",
        "model_names=[\"knn\",\"naive_bayes\",\"logit\",\"svm\",\"decision_tree\",\"random_forest\"]\n",
        "targets=['CYT','NUC','MIT','ME3','ME2','ME1','EXC','VAC','POX','ERL']\n",
        "\n",
        "(trainX, testX, trainY, testY) = train_test_split(X,Y, random_state=3, test_size=0.25)"
      ],
      "execution_count": 0,
      "outputs": [
        {
          "output_type": "stream",
          "text": [
            "[INFO] loading data...\n"
          ],
          "name": "stdout"
        }
      ]
    },
    {
      "cell_type": "code",
      "metadata": {
        "id": "89h0L8SagUHv",
        "colab_type": "code",
        "colab": {}
      },
      "source": [
        "def modfoldclass(x,y,n,mod):\n",
        "    for i in range(len(mod)):\n",
        "        kf=KFold(n_splits=n)\n",
        "        kf.get_n_splits(x)\n",
        "        model=models[mod[i]]\n",
        "        j=0\n",
        "        accuracy=[]\n",
        "        print('Hasil dari model '+mod[i]+'\\n')\n",
        "        for train_index,test_index in kf.split(x):\n",
        "            X_train,X_test=x[train_index],x[test_index]\n",
        "            Y_train,Y_test=y[train_index],y[test_index]\n",
        "            \n",
        "            model.fit(X_train,Y_train)\n",
        "            Y_pred=model.predict(X_test)\n",
        "            \n",
        "            accuracy.append(accuracy_score(Y_test,Y_pred))\n",
        "            print('Subset ',j+1,' accuracy= ',accuracy[j])\n",
        "            j+=1\n",
        "            \n",
        "        print('Average accuracy= ',np.mean(accuracy))\n",
        "        print('\\n')"
      ],
      "execution_count": 0,
      "outputs": []
    },
    {
      "cell_type": "code",
      "metadata": {
        "id": "taMwDlKPgUHz",
        "colab_type": "code",
        "outputId": "843d112f-3ca0-4732-f52b-e312d78cc9e2",
        "colab": {
          "base_uri": "https://localhost:8080/",
          "height": 1000
        }
      },
      "source": [
        "result=modfoldclass(X,Y,5,model_names)"
      ],
      "execution_count": 0,
      "outputs": [
        {
          "output_type": "stream",
          "text": [
            "Hasil dari model knn\n",
            "\n",
            "Subset  1  accuracy=  0.6371490280777538\n",
            "Subset  2  accuracy=  0.7505399568034558\n",
            "Subset  3  accuracy=  1.0\n",
            "Subset  4  accuracy=  1.0\n",
            "Subset  5  accuracy=  1.0\n",
            "Average accuracy=  0.8775377969762419\n",
            "\n",
            "\n",
            "Hasil dari model naive_bayes\n",
            "\n",
            "Subset  1  accuracy=  0.326133909287257\n",
            "Subset  2  accuracy=  0.46976241900647947\n",
            "Subset  3  accuracy=  0.7213822894168467\n",
            "Subset  4  accuracy=  0.023758099352051837\n",
            "Subset  5  accuracy=  0.5345572354211663\n",
            "Average accuracy=  0.4151187904967603\n",
            "\n",
            "\n",
            "Hasil dari model logit\n",
            "\n"
          ],
          "name": "stdout"
        },
        {
          "output_type": "stream",
          "text": [
            "/usr/local/lib/python3.6/dist-packages/sklearn/linear_model/logistic.py:947: ConvergenceWarning: lbfgs failed to converge. Increase the number of iterations.\n",
            "  \"of iterations.\", ConvergenceWarning)\n"
          ],
          "name": "stderr"
        },
        {
          "output_type": "stream",
          "text": [
            "Subset  1  accuracy=  0.38120950323974084\n"
          ],
          "name": "stdout"
        },
        {
          "output_type": "stream",
          "text": [
            "/usr/local/lib/python3.6/dist-packages/sklearn/linear_model/logistic.py:947: ConvergenceWarning: lbfgs failed to converge. Increase the number of iterations.\n",
            "  \"of iterations.\", ConvergenceWarning)\n"
          ],
          "name": "stderr"
        },
        {
          "output_type": "stream",
          "text": [
            "Subset  2  accuracy=  0.6166306695464363\n"
          ],
          "name": "stdout"
        },
        {
          "output_type": "stream",
          "text": [
            "/usr/local/lib/python3.6/dist-packages/sklearn/linear_model/logistic.py:947: ConvergenceWarning: lbfgs failed to converge. Increase the number of iterations.\n",
            "  \"of iterations.\", ConvergenceWarning)\n"
          ],
          "name": "stderr"
        },
        {
          "output_type": "stream",
          "text": [
            "Subset  3  accuracy=  0.09719222462203024\n"
          ],
          "name": "stdout"
        },
        {
          "output_type": "stream",
          "text": [
            "/usr/local/lib/python3.6/dist-packages/sklearn/linear_model/logistic.py:947: ConvergenceWarning: lbfgs failed to converge. Increase the number of iterations.\n",
            "  \"of iterations.\", ConvergenceWarning)\n"
          ],
          "name": "stderr"
        },
        {
          "output_type": "stream",
          "text": [
            "Subset  4  accuracy=  0.23974082073434125\n"
          ],
          "name": "stdout"
        },
        {
          "output_type": "stream",
          "text": [
            "/usr/local/lib/python3.6/dist-packages/sklearn/linear_model/logistic.py:947: ConvergenceWarning: lbfgs failed to converge. Increase the number of iterations.\n",
            "  \"of iterations.\", ConvergenceWarning)\n"
          ],
          "name": "stderr"
        },
        {
          "output_type": "stream",
          "text": [
            "Subset  5  accuracy=  0.2159827213822894\n",
            "Average accuracy=  0.3101511879049676\n",
            "\n",
            "\n",
            "Hasil dari model svm\n",
            "\n",
            "Subset  1  accuracy=  0.3174946004319654\n",
            "Subset  2  accuracy=  0.6069114470842333\n",
            "Subset  3  accuracy=  0.09719222462203024\n",
            "Subset  4  accuracy=  0.11123110151187905\n",
            "Subset  5  accuracy=  0.2451403887688985\n",
            "Average accuracy=  0.27559395248380125\n",
            "\n",
            "\n",
            "Hasil dari model decision_tree\n",
            "\n",
            "Subset  1  accuracy=  0.6123110151187905\n",
            "Subset  2  accuracy=  0.7278617710583153\n",
            "Subset  3  accuracy=  1.0\n",
            "Subset  4  accuracy=  1.0\n",
            "Subset  5  accuracy=  1.0\n",
            "Average accuracy=  0.8680345572354211\n",
            "\n",
            "\n",
            "Hasil dari model random_forest\n",
            "\n",
            "Subset  1  accuracy=  0.6900647948164147\n",
            "Subset  2  accuracy=  0.7721382289416847\n",
            "Subset  3  accuracy=  1.0\n",
            "Subset  4  accuracy=  1.0\n",
            "Subset  5  accuracy=  1.0\n",
            "Average accuracy=  0.8924406047516198\n",
            "\n",
            "\n"
          ],
          "name": "stdout"
        }
      ]
    },
    {
      "cell_type": "markdown",
      "metadata": {
        "id": "6T8M-Ilzps3Q",
        "colab_type": "text"
      },
      "source": [
        "----\n",
        "#  <center> Project 2: Metro Interstate Trafic Volume Dataset\n",
        "----"
      ]
    },
    {
      "cell_type": "markdown",
      "metadata": {
        "id": "MAoi4SZPpxui",
        "colab_type": "text"
      },
      "source": [
        "## Import the Data"
      ]
    },
    {
      "cell_type": "code",
      "metadata": {
        "id": "eLMtrQTAgUH2",
        "colab_type": "code",
        "colab": {}
      },
      "source": [
        "import numpy as np\n",
        "import scipy as sp\n",
        "import pandas as pd\n",
        "import matplotlib.pyplot as plt\n",
        "import seaborn as sns\n",
        "import datetime\n",
        "import calendar\n",
        "from sklearn.linear_model import LinearRegression\n",
        "from sklearn import preprocessing\n",
        "from sklearn.model_selection import train_test_split"
      ],
      "execution_count": 0,
      "outputs": []
    },
    {
      "cell_type": "code",
      "metadata": {
        "id": "aeo33rU0p0jD",
        "colab_type": "code",
        "outputId": "480a7836-bcb2-423a-f220-5e2990e7bbbf",
        "colab": {
          "base_uri": "https://localhost:8080/",
          "height": 394
        }
      },
      "source": [
        "#read the data\n",
        "df = pd.read_csv(\"Metro_Interstate_Traffic_Volume.csv\", sep=\",\", parse_dates=['date_time'])\n",
        "#declare date_time format\n",
        "pd.to_datetime(df['date_time'], format=\"%Y-%d-%m %H::%M:%S\")\n",
        "##change the date into day\n",
        "df['day'] = df.apply(lambda row: row[7].strftime('%A'), axis=1)\n",
        "df.head()"
      ],
      "execution_count": 0,
      "outputs": [
        {
          "output_type": "execute_result",
          "data": {
            "text/html": [
              "<div>\n",
              "<style scoped>\n",
              "    .dataframe tbody tr th:only-of-type {\n",
              "        vertical-align: middle;\n",
              "    }\n",
              "\n",
              "    .dataframe tbody tr th {\n",
              "        vertical-align: top;\n",
              "    }\n",
              "\n",
              "    .dataframe thead th {\n",
              "        text-align: right;\n",
              "    }\n",
              "</style>\n",
              "<table border=\"1\" class=\"dataframe\">\n",
              "  <thead>\n",
              "    <tr style=\"text-align: right;\">\n",
              "      <th></th>\n",
              "      <th>holiday</th>\n",
              "      <th>temp</th>\n",
              "      <th>rain_1h</th>\n",
              "      <th>snow_1h</th>\n",
              "      <th>clouds_all</th>\n",
              "      <th>weather_main</th>\n",
              "      <th>weather_description</th>\n",
              "      <th>date_time</th>\n",
              "      <th>traffic_volume</th>\n",
              "      <th>day</th>\n",
              "    </tr>\n",
              "  </thead>\n",
              "  <tbody>\n",
              "    <tr>\n",
              "      <th>0</th>\n",
              "      <td>None</td>\n",
              "      <td>288.28</td>\n",
              "      <td>0.0</td>\n",
              "      <td>0.0</td>\n",
              "      <td>40</td>\n",
              "      <td>Clouds</td>\n",
              "      <td>scattered clouds</td>\n",
              "      <td>2012-10-02 09:00:00</td>\n",
              "      <td>5545</td>\n",
              "      <td>Tuesday</td>\n",
              "    </tr>\n",
              "    <tr>\n",
              "      <th>1</th>\n",
              "      <td>None</td>\n",
              "      <td>289.36</td>\n",
              "      <td>0.0</td>\n",
              "      <td>0.0</td>\n",
              "      <td>75</td>\n",
              "      <td>Clouds</td>\n",
              "      <td>broken clouds</td>\n",
              "      <td>2012-10-02 10:00:00</td>\n",
              "      <td>4516</td>\n",
              "      <td>Tuesday</td>\n",
              "    </tr>\n",
              "    <tr>\n",
              "      <th>2</th>\n",
              "      <td>None</td>\n",
              "      <td>289.58</td>\n",
              "      <td>0.0</td>\n",
              "      <td>0.0</td>\n",
              "      <td>90</td>\n",
              "      <td>Clouds</td>\n",
              "      <td>overcast clouds</td>\n",
              "      <td>2012-10-02 11:00:00</td>\n",
              "      <td>4767</td>\n",
              "      <td>Tuesday</td>\n",
              "    </tr>\n",
              "    <tr>\n",
              "      <th>3</th>\n",
              "      <td>None</td>\n",
              "      <td>290.13</td>\n",
              "      <td>0.0</td>\n",
              "      <td>0.0</td>\n",
              "      <td>90</td>\n",
              "      <td>Clouds</td>\n",
              "      <td>overcast clouds</td>\n",
              "      <td>2012-10-02 12:00:00</td>\n",
              "      <td>5026</td>\n",
              "      <td>Tuesday</td>\n",
              "    </tr>\n",
              "    <tr>\n",
              "      <th>4</th>\n",
              "      <td>None</td>\n",
              "      <td>291.14</td>\n",
              "      <td>0.0</td>\n",
              "      <td>0.0</td>\n",
              "      <td>75</td>\n",
              "      <td>Clouds</td>\n",
              "      <td>broken clouds</td>\n",
              "      <td>2012-10-02 13:00:00</td>\n",
              "      <td>4918</td>\n",
              "      <td>Tuesday</td>\n",
              "    </tr>\n",
              "  </tbody>\n",
              "</table>\n",
              "</div>"
            ],
            "text/plain": [
              "  holiday    temp  rain_1h  ...           date_time  traffic_volume      day\n",
              "0    None  288.28      0.0  ... 2012-10-02 09:00:00            5545  Tuesday\n",
              "1    None  289.36      0.0  ... 2012-10-02 10:00:00            4516  Tuesday\n",
              "2    None  289.58      0.0  ... 2012-10-02 11:00:00            4767  Tuesday\n",
              "3    None  290.13      0.0  ... 2012-10-02 12:00:00            5026  Tuesday\n",
              "4    None  291.14      0.0  ... 2012-10-02 13:00:00            4918  Tuesday\n",
              "\n",
              "[5 rows x 10 columns]"
            ]
          },
          "metadata": {
            "tags": []
          },
          "execution_count": 24
        }
      ]
    },
    {
      "cell_type": "markdown",
      "metadata": {
        "id": "IPwPgktsqwCq",
        "colab_type": "text"
      },
      "source": [
        "## Check the Data"
      ]
    },
    {
      "cell_type": "code",
      "metadata": {
        "id": "v2d2AGDsp4Pk",
        "colab_type": "code",
        "outputId": "a5a9e1b4-18ca-4fdf-d3ba-baaae27b2e9f",
        "colab": {
          "base_uri": "https://localhost:8080/",
          "height": 272
        }
      },
      "source": [
        "df.info()"
      ],
      "execution_count": 0,
      "outputs": [
        {
          "output_type": "stream",
          "text": [
            "<class 'pandas.core.frame.DataFrame'>\n",
            "RangeIndex: 48204 entries, 0 to 48203\n",
            "Data columns (total 10 columns):\n",
            "holiday                48204 non-null object\n",
            "temp                   48204 non-null float64\n",
            "rain_1h                48204 non-null float64\n",
            "snow_1h                48204 non-null float64\n",
            "clouds_all             48204 non-null int64\n",
            "weather_main           48204 non-null object\n",
            "weather_description    48204 non-null object\n",
            "date_time              48204 non-null datetime64[ns]\n",
            "traffic_volume         48204 non-null int64\n",
            "day                    48204 non-null object\n",
            "dtypes: datetime64[ns](1), float64(3), int64(2), object(4)\n",
            "memory usage: 3.7+ MB\n"
          ],
          "name": "stdout"
        }
      ]
    },
    {
      "cell_type": "code",
      "metadata": {
        "id": "1tR-I0dJqgoP",
        "colab_type": "code",
        "outputId": "8ba5ecc0-ae1f-4160-957a-9780e3beae4d",
        "colab": {
          "base_uri": "https://localhost:8080/",
          "height": 297
        }
      },
      "source": [
        "df.describe()"
      ],
      "execution_count": 0,
      "outputs": [
        {
          "output_type": "execute_result",
          "data": {
            "text/html": [
              "<div>\n",
              "<style scoped>\n",
              "    .dataframe tbody tr th:only-of-type {\n",
              "        vertical-align: middle;\n",
              "    }\n",
              "\n",
              "    .dataframe tbody tr th {\n",
              "        vertical-align: top;\n",
              "    }\n",
              "\n",
              "    .dataframe thead th {\n",
              "        text-align: right;\n",
              "    }\n",
              "</style>\n",
              "<table border=\"1\" class=\"dataframe\">\n",
              "  <thead>\n",
              "    <tr style=\"text-align: right;\">\n",
              "      <th></th>\n",
              "      <th>temp</th>\n",
              "      <th>rain_1h</th>\n",
              "      <th>snow_1h</th>\n",
              "      <th>clouds_all</th>\n",
              "      <th>traffic_volume</th>\n",
              "    </tr>\n",
              "  </thead>\n",
              "  <tbody>\n",
              "    <tr>\n",
              "      <th>count</th>\n",
              "      <td>48204.000000</td>\n",
              "      <td>48204.000000</td>\n",
              "      <td>48204.000000</td>\n",
              "      <td>48204.000000</td>\n",
              "      <td>48204.000000</td>\n",
              "    </tr>\n",
              "    <tr>\n",
              "      <th>mean</th>\n",
              "      <td>281.205870</td>\n",
              "      <td>0.334264</td>\n",
              "      <td>0.000222</td>\n",
              "      <td>49.362231</td>\n",
              "      <td>3259.818355</td>\n",
              "    </tr>\n",
              "    <tr>\n",
              "      <th>std</th>\n",
              "      <td>13.338232</td>\n",
              "      <td>44.789133</td>\n",
              "      <td>0.008168</td>\n",
              "      <td>39.015750</td>\n",
              "      <td>1986.860670</td>\n",
              "    </tr>\n",
              "    <tr>\n",
              "      <th>min</th>\n",
              "      <td>0.000000</td>\n",
              "      <td>0.000000</td>\n",
              "      <td>0.000000</td>\n",
              "      <td>0.000000</td>\n",
              "      <td>0.000000</td>\n",
              "    </tr>\n",
              "    <tr>\n",
              "      <th>25%</th>\n",
              "      <td>272.160000</td>\n",
              "      <td>0.000000</td>\n",
              "      <td>0.000000</td>\n",
              "      <td>1.000000</td>\n",
              "      <td>1193.000000</td>\n",
              "    </tr>\n",
              "    <tr>\n",
              "      <th>50%</th>\n",
              "      <td>282.450000</td>\n",
              "      <td>0.000000</td>\n",
              "      <td>0.000000</td>\n",
              "      <td>64.000000</td>\n",
              "      <td>3380.000000</td>\n",
              "    </tr>\n",
              "    <tr>\n",
              "      <th>75%</th>\n",
              "      <td>291.806000</td>\n",
              "      <td>0.000000</td>\n",
              "      <td>0.000000</td>\n",
              "      <td>90.000000</td>\n",
              "      <td>4933.000000</td>\n",
              "    </tr>\n",
              "    <tr>\n",
              "      <th>max</th>\n",
              "      <td>310.070000</td>\n",
              "      <td>9831.300000</td>\n",
              "      <td>0.510000</td>\n",
              "      <td>100.000000</td>\n",
              "      <td>7280.000000</td>\n",
              "    </tr>\n",
              "  </tbody>\n",
              "</table>\n",
              "</div>"
            ],
            "text/plain": [
              "               temp       rain_1h       snow_1h    clouds_all  traffic_volume\n",
              "count  48204.000000  48204.000000  48204.000000  48204.000000    48204.000000\n",
              "mean     281.205870      0.334264      0.000222     49.362231     3259.818355\n",
              "std       13.338232     44.789133      0.008168     39.015750     1986.860670\n",
              "min        0.000000      0.000000      0.000000      0.000000        0.000000\n",
              "25%      272.160000      0.000000      0.000000      1.000000     1193.000000\n",
              "50%      282.450000      0.000000      0.000000     64.000000     3380.000000\n",
              "75%      291.806000      0.000000      0.000000     90.000000     4933.000000\n",
              "max      310.070000   9831.300000      0.510000    100.000000     7280.000000"
            ]
          },
          "metadata": {
            "tags": []
          },
          "execution_count": 26
        }
      ]
    },
    {
      "cell_type": "code",
      "metadata": {
        "id": "32D69PL3qkY5",
        "colab_type": "code",
        "outputId": "93260768-14c3-4406-beeb-972ce47eaa54",
        "colab": {
          "base_uri": "https://localhost:8080/",
          "height": 238
        }
      },
      "source": [
        "df['holiday'].value_counts()"
      ],
      "execution_count": 0,
      "outputs": [
        {
          "output_type": "execute_result",
          "data": {
            "text/plain": [
              "None                         48143\n",
              "Labor Day                        7\n",
              "Thanksgiving Day                 6\n",
              "New Years Day                    6\n",
              "Martin Luther King Jr Day        6\n",
              "Christmas Day                    6\n",
              "Memorial Day                     5\n",
              "Columbus Day                     5\n",
              "Veterans Day                     5\n",
              "Independence Day                 5\n",
              "State Fair                       5\n",
              "Washingtons Birthday             5\n",
              "Name: holiday, dtype: int64"
            ]
          },
          "metadata": {
            "tags": []
          },
          "execution_count": 27
        }
      ]
    },
    {
      "cell_type": "code",
      "metadata": {
        "id": "QFB-zOvsqnHz",
        "colab_type": "code",
        "outputId": "34608bf5-ce17-4ae0-cd04-def4204e0fe9",
        "colab": {
          "base_uri": "https://localhost:8080/",
          "height": 394
        }
      },
      "source": [
        "# create def for category to number 0/1 at holiday row\n",
        "def translate_holiday(df):\n",
        "    if df['holiday'] == 'None':\n",
        "        return 0\n",
        "    else:\n",
        "        return 1\n",
        "# create code holiday\n",
        "df['holiday_code']=df.apply(translate_holiday,axis=1)\n",
        "df.head()"
      ],
      "execution_count": 0,
      "outputs": [
        {
          "output_type": "execute_result",
          "data": {
            "text/html": [
              "<div>\n",
              "<style scoped>\n",
              "    .dataframe tbody tr th:only-of-type {\n",
              "        vertical-align: middle;\n",
              "    }\n",
              "\n",
              "    .dataframe tbody tr th {\n",
              "        vertical-align: top;\n",
              "    }\n",
              "\n",
              "    .dataframe thead th {\n",
              "        text-align: right;\n",
              "    }\n",
              "</style>\n",
              "<table border=\"1\" class=\"dataframe\">\n",
              "  <thead>\n",
              "    <tr style=\"text-align: right;\">\n",
              "      <th></th>\n",
              "      <th>holiday</th>\n",
              "      <th>temp</th>\n",
              "      <th>rain_1h</th>\n",
              "      <th>snow_1h</th>\n",
              "      <th>clouds_all</th>\n",
              "      <th>weather_main</th>\n",
              "      <th>weather_description</th>\n",
              "      <th>date_time</th>\n",
              "      <th>traffic_volume</th>\n",
              "      <th>day</th>\n",
              "      <th>holiday_code</th>\n",
              "    </tr>\n",
              "  </thead>\n",
              "  <tbody>\n",
              "    <tr>\n",
              "      <th>0</th>\n",
              "      <td>None</td>\n",
              "      <td>288.28</td>\n",
              "      <td>0.0</td>\n",
              "      <td>0.0</td>\n",
              "      <td>40</td>\n",
              "      <td>Clouds</td>\n",
              "      <td>scattered clouds</td>\n",
              "      <td>2012-10-02 09:00:00</td>\n",
              "      <td>5545</td>\n",
              "      <td>Tuesday</td>\n",
              "      <td>0</td>\n",
              "    </tr>\n",
              "    <tr>\n",
              "      <th>1</th>\n",
              "      <td>None</td>\n",
              "      <td>289.36</td>\n",
              "      <td>0.0</td>\n",
              "      <td>0.0</td>\n",
              "      <td>75</td>\n",
              "      <td>Clouds</td>\n",
              "      <td>broken clouds</td>\n",
              "      <td>2012-10-02 10:00:00</td>\n",
              "      <td>4516</td>\n",
              "      <td>Tuesday</td>\n",
              "      <td>0</td>\n",
              "    </tr>\n",
              "    <tr>\n",
              "      <th>2</th>\n",
              "      <td>None</td>\n",
              "      <td>289.58</td>\n",
              "      <td>0.0</td>\n",
              "      <td>0.0</td>\n",
              "      <td>90</td>\n",
              "      <td>Clouds</td>\n",
              "      <td>overcast clouds</td>\n",
              "      <td>2012-10-02 11:00:00</td>\n",
              "      <td>4767</td>\n",
              "      <td>Tuesday</td>\n",
              "      <td>0</td>\n",
              "    </tr>\n",
              "    <tr>\n",
              "      <th>3</th>\n",
              "      <td>None</td>\n",
              "      <td>290.13</td>\n",
              "      <td>0.0</td>\n",
              "      <td>0.0</td>\n",
              "      <td>90</td>\n",
              "      <td>Clouds</td>\n",
              "      <td>overcast clouds</td>\n",
              "      <td>2012-10-02 12:00:00</td>\n",
              "      <td>5026</td>\n",
              "      <td>Tuesday</td>\n",
              "      <td>0</td>\n",
              "    </tr>\n",
              "    <tr>\n",
              "      <th>4</th>\n",
              "      <td>None</td>\n",
              "      <td>291.14</td>\n",
              "      <td>0.0</td>\n",
              "      <td>0.0</td>\n",
              "      <td>75</td>\n",
              "      <td>Clouds</td>\n",
              "      <td>broken clouds</td>\n",
              "      <td>2012-10-02 13:00:00</td>\n",
              "      <td>4918</td>\n",
              "      <td>Tuesday</td>\n",
              "      <td>0</td>\n",
              "    </tr>\n",
              "  </tbody>\n",
              "</table>\n",
              "</div>"
            ],
            "text/plain": [
              "  holiday    temp  rain_1h  ...  traffic_volume      day holiday_code\n",
              "0    None  288.28      0.0  ...            5545  Tuesday            0\n",
              "1    None  289.36      0.0  ...            4516  Tuesday            0\n",
              "2    None  289.58      0.0  ...            4767  Tuesday            0\n",
              "3    None  290.13      0.0  ...            5026  Tuesday            0\n",
              "4    None  291.14      0.0  ...            4918  Tuesday            0\n",
              "\n",
              "[5 rows x 11 columns]"
            ]
          },
          "metadata": {
            "tags": []
          },
          "execution_count": 28
        }
      ]
    },
    {
      "cell_type": "code",
      "metadata": {
        "id": "_FdHOUQMqpIy",
        "colab_type": "code",
        "outputId": "547240a4-7379-4ec0-9ad1-baca7402afee",
        "colab": {
          "base_uri": "https://localhost:8080/",
          "height": 204
        }
      },
      "source": [
        "#hide the columns which we have been change to another columns\n",
        "df=df.drop(columns='holiday')\n",
        "df=df.drop(columns='rain_1h')\n",
        "df=df.drop(columns='snow_1h')\n",
        "df=df.drop(columns='date_time')\n",
        "df.head()"
      ],
      "execution_count": 0,
      "outputs": [
        {
          "output_type": "execute_result",
          "data": {
            "text/html": [
              "<div>\n",
              "<style scoped>\n",
              "    .dataframe tbody tr th:only-of-type {\n",
              "        vertical-align: middle;\n",
              "    }\n",
              "\n",
              "    .dataframe tbody tr th {\n",
              "        vertical-align: top;\n",
              "    }\n",
              "\n",
              "    .dataframe thead th {\n",
              "        text-align: right;\n",
              "    }\n",
              "</style>\n",
              "<table border=\"1\" class=\"dataframe\">\n",
              "  <thead>\n",
              "    <tr style=\"text-align: right;\">\n",
              "      <th></th>\n",
              "      <th>temp</th>\n",
              "      <th>clouds_all</th>\n",
              "      <th>weather_main</th>\n",
              "      <th>weather_description</th>\n",
              "      <th>traffic_volume</th>\n",
              "      <th>day</th>\n",
              "      <th>holiday_code</th>\n",
              "    </tr>\n",
              "  </thead>\n",
              "  <tbody>\n",
              "    <tr>\n",
              "      <th>0</th>\n",
              "      <td>288.28</td>\n",
              "      <td>40</td>\n",
              "      <td>Clouds</td>\n",
              "      <td>scattered clouds</td>\n",
              "      <td>5545</td>\n",
              "      <td>Tuesday</td>\n",
              "      <td>0</td>\n",
              "    </tr>\n",
              "    <tr>\n",
              "      <th>1</th>\n",
              "      <td>289.36</td>\n",
              "      <td>75</td>\n",
              "      <td>Clouds</td>\n",
              "      <td>broken clouds</td>\n",
              "      <td>4516</td>\n",
              "      <td>Tuesday</td>\n",
              "      <td>0</td>\n",
              "    </tr>\n",
              "    <tr>\n",
              "      <th>2</th>\n",
              "      <td>289.58</td>\n",
              "      <td>90</td>\n",
              "      <td>Clouds</td>\n",
              "      <td>overcast clouds</td>\n",
              "      <td>4767</td>\n",
              "      <td>Tuesday</td>\n",
              "      <td>0</td>\n",
              "    </tr>\n",
              "    <tr>\n",
              "      <th>3</th>\n",
              "      <td>290.13</td>\n",
              "      <td>90</td>\n",
              "      <td>Clouds</td>\n",
              "      <td>overcast clouds</td>\n",
              "      <td>5026</td>\n",
              "      <td>Tuesday</td>\n",
              "      <td>0</td>\n",
              "    </tr>\n",
              "    <tr>\n",
              "      <th>4</th>\n",
              "      <td>291.14</td>\n",
              "      <td>75</td>\n",
              "      <td>Clouds</td>\n",
              "      <td>broken clouds</td>\n",
              "      <td>4918</td>\n",
              "      <td>Tuesday</td>\n",
              "      <td>0</td>\n",
              "    </tr>\n",
              "  </tbody>\n",
              "</table>\n",
              "</div>"
            ],
            "text/plain": [
              "     temp  clouds_all weather_main  ... traffic_volume      day holiday_code\n",
              "0  288.28          40       Clouds  ...           5545  Tuesday            0\n",
              "1  289.36          75       Clouds  ...           4516  Tuesday            0\n",
              "2  289.58          90       Clouds  ...           4767  Tuesday            0\n",
              "3  290.13          90       Clouds  ...           5026  Tuesday            0\n",
              "4  291.14          75       Clouds  ...           4918  Tuesday            0\n",
              "\n",
              "[5 rows x 7 columns]"
            ]
          },
          "metadata": {
            "tags": []
          },
          "execution_count": 29
        }
      ]
    },
    {
      "cell_type": "markdown",
      "metadata": {
        "id": "3ac5GU3-q0Am",
        "colab_type": "text"
      },
      "source": [
        "## Identify outlier"
      ]
    },
    {
      "cell_type": "code",
      "metadata": {
        "id": "o9ezZ3v0qrEO",
        "colab_type": "code",
        "outputId": "b303b8a5-63dc-4638-aab4-835afa590244",
        "colab": {
          "base_uri": "https://localhost:8080/",
          "height": 306
        }
      },
      "source": [
        "#identify the rest outlier\n",
        "for i in df.columns:\n",
        "    if (i!='holiday_code') and (df[i].dtypes in ['int64', 'float64']):\n",
        "        print('\\nAttribute-',i,':',df[i].dtypes)\n",
        "        Q1=df[i].quantile(0.25)\n",
        "        print('Q1', Q1)\n",
        "        Q3=df[i].quantile(0.75)\n",
        "        print('Q3', Q3)\n",
        "        IQR=Q3-Q1\n",
        "        print('IQR', IQR)\n",
        "        min=df[i].min()\n",
        "        max=df[i].max()\n",
        "        min_IQR=Q1-1.5*IQR\n",
        "        max_IQR=Q3+1.5*IQR\n",
        "        if(min<min_IQR):\n",
        "            print('Low outlier is found')\n",
        "            print(\"min : \", min_IQR)\n",
        "        if(max>max_IQR):\n",
        "            print('High outlier is found')\n",
        "            print(\"max : \", max_IQR)"
      ],
      "execution_count": 0,
      "outputs": [
        {
          "output_type": "stream",
          "text": [
            "\n",
            "Attribute- temp : float64\n",
            "Q1 272.16\n",
            "Q3 291.806\n",
            "IQR 19.645999999999958\n",
            "Low outlier is found\n",
            "min :  242.6910000000001\n",
            "\n",
            "Attribute- clouds_all : int64\n",
            "Q1 1.0\n",
            "Q3 90.0\n",
            "IQR 89.0\n",
            "\n",
            "Attribute- traffic_volume : int64\n",
            "Q1 1193.0\n",
            "Q3 4933.0\n",
            "IQR 3740.0\n"
          ],
          "name": "stdout"
        }
      ]
    },
    {
      "cell_type": "markdown",
      "metadata": {
        "id": "OFNQnXKHq4Gg",
        "colab_type": "text"
      },
      "source": [
        "## Drop outlier"
      ]
    },
    {
      "cell_type": "code",
      "metadata": {
        "id": "FXA1UVaQq16G",
        "colab_type": "code",
        "outputId": "3d52f5d3-e084-4c59-c53a-2580c9097237",
        "colab": {
          "base_uri": "https://localhost:8080/",
          "height": 68
        }
      },
      "source": [
        "#drop outlier\n",
        "df_no_outlier = df[df[\"temp\"]>242.7]\n",
        "print ('[PERBANDINGAN UKURAN DATA]')\n",
        "print ('shape without oulier:', df_no_outlier.shape)\n",
        "print ('shape with outlier  :', df.shape)"
      ],
      "execution_count": 0,
      "outputs": [
        {
          "output_type": "stream",
          "text": [
            "[PERBANDINGAN UKURAN DATA]\n",
            "shape without oulier: (48194, 7)\n",
            "shape with outlier  : (48204, 7)\n"
          ],
          "name": "stdout"
        }
      ]
    },
    {
      "cell_type": "markdown",
      "metadata": {
        "id": "Mu5dKxbPq99H",
        "colab_type": "text"
      },
      "source": [
        "# DATA MODELLING"
      ]
    },
    {
      "cell_type": "markdown",
      "metadata": {
        "id": "lN9iMe1zq_ji",
        "colab_type": "text"
      },
      "source": [
        "## Encode"
      ]
    },
    {
      "cell_type": "code",
      "metadata": {
        "id": "oQS-8nqtq7lw",
        "colab_type": "code",
        "outputId": "55d7abce-f88e-4387-c112-9b9398bbb0e0",
        "colab": {
          "base_uri": "https://localhost:8080/",
          "height": 204
        }
      },
      "source": [
        "#change the trafic_volume position\n",
        "df['traffic_vol'] = df['traffic_volume']\n",
        "df=df.drop(columns='traffic_volume')\n",
        "#encode data dengan outlier\n",
        "le = preprocessing.LabelEncoder()\n",
        "for i in df.columns:\n",
        "    if (df[i].dtypes=='object'):\n",
        "        le.fit(df[i])\n",
        "        df[i]=le.transform(df[i])\n",
        "df.head()"
      ],
      "execution_count": 0,
      "outputs": [
        {
          "output_type": "execute_result",
          "data": {
            "text/html": [
              "<div>\n",
              "<style scoped>\n",
              "    .dataframe tbody tr th:only-of-type {\n",
              "        vertical-align: middle;\n",
              "    }\n",
              "\n",
              "    .dataframe tbody tr th {\n",
              "        vertical-align: top;\n",
              "    }\n",
              "\n",
              "    .dataframe thead th {\n",
              "        text-align: right;\n",
              "    }\n",
              "</style>\n",
              "<table border=\"1\" class=\"dataframe\">\n",
              "  <thead>\n",
              "    <tr style=\"text-align: right;\">\n",
              "      <th></th>\n",
              "      <th>temp</th>\n",
              "      <th>clouds_all</th>\n",
              "      <th>weather_main</th>\n",
              "      <th>weather_description</th>\n",
              "      <th>day</th>\n",
              "      <th>holiday_code</th>\n",
              "      <th>traffic_vol</th>\n",
              "    </tr>\n",
              "  </thead>\n",
              "  <tbody>\n",
              "    <tr>\n",
              "      <th>0</th>\n",
              "      <td>288.28</td>\n",
              "      <td>40</td>\n",
              "      <td>1</td>\n",
              "      <td>24</td>\n",
              "      <td>5</td>\n",
              "      <td>0</td>\n",
              "      <td>5545</td>\n",
              "    </tr>\n",
              "    <tr>\n",
              "      <th>1</th>\n",
              "      <td>289.36</td>\n",
              "      <td>75</td>\n",
              "      <td>1</td>\n",
              "      <td>2</td>\n",
              "      <td>5</td>\n",
              "      <td>0</td>\n",
              "      <td>4516</td>\n",
              "    </tr>\n",
              "    <tr>\n",
              "      <th>2</th>\n",
              "      <td>289.58</td>\n",
              "      <td>90</td>\n",
              "      <td>1</td>\n",
              "      <td>19</td>\n",
              "      <td>5</td>\n",
              "      <td>0</td>\n",
              "      <td>4767</td>\n",
              "    </tr>\n",
              "    <tr>\n",
              "      <th>3</th>\n",
              "      <td>290.13</td>\n",
              "      <td>90</td>\n",
              "      <td>1</td>\n",
              "      <td>19</td>\n",
              "      <td>5</td>\n",
              "      <td>0</td>\n",
              "      <td>5026</td>\n",
              "    </tr>\n",
              "    <tr>\n",
              "      <th>4</th>\n",
              "      <td>291.14</td>\n",
              "      <td>75</td>\n",
              "      <td>1</td>\n",
              "      <td>2</td>\n",
              "      <td>5</td>\n",
              "      <td>0</td>\n",
              "      <td>4918</td>\n",
              "    </tr>\n",
              "  </tbody>\n",
              "</table>\n",
              "</div>"
            ],
            "text/plain": [
              "     temp  clouds_all  weather_main  ...  day  holiday_code  traffic_vol\n",
              "0  288.28          40             1  ...    5             0         5545\n",
              "1  289.36          75             1  ...    5             0         4516\n",
              "2  289.58          90             1  ...    5             0         4767\n",
              "3  290.13          90             1  ...    5             0         5026\n",
              "4  291.14          75             1  ...    5             0         4918\n",
              "\n",
              "[5 rows x 7 columns]"
            ]
          },
          "metadata": {
            "tags": []
          },
          "execution_count": 32
        }
      ]
    },
    {
      "cell_type": "code",
      "metadata": {
        "id": "EjUxx0ZvrC8p",
        "colab_type": "code",
        "outputId": "cebf586a-f9d7-458b-eaea-333674897ac4",
        "colab": {
          "base_uri": "https://localhost:8080/",
          "height": 204
        }
      },
      "source": [
        "#change the trafic_volume position\n",
        "df_no_outlier['traffic_vol'] = df_no_outlier['traffic_volume']\n",
        "df_no_outlier=df_no_outlier.drop(columns='traffic_volume')\n",
        "#encode data dengan withoutoutlier\n",
        "ge = preprocessing.LabelEncoder()\n",
        "for i in df_no_outlier.columns:\n",
        "    if (df_no_outlier[i].dtypes=='object'):\n",
        "        ge.fit(df_no_outlier[i])\n",
        "        df_no_outlier[i]=ge.transform(df_no_outlier[i])\n",
        "df_no_outlier.head()"
      ],
      "execution_count": 0,
      "outputs": [
        {
          "output_type": "execute_result",
          "data": {
            "text/html": [
              "<div>\n",
              "<style scoped>\n",
              "    .dataframe tbody tr th:only-of-type {\n",
              "        vertical-align: middle;\n",
              "    }\n",
              "\n",
              "    .dataframe tbody tr th {\n",
              "        vertical-align: top;\n",
              "    }\n",
              "\n",
              "    .dataframe thead th {\n",
              "        text-align: right;\n",
              "    }\n",
              "</style>\n",
              "<table border=\"1\" class=\"dataframe\">\n",
              "  <thead>\n",
              "    <tr style=\"text-align: right;\">\n",
              "      <th></th>\n",
              "      <th>temp</th>\n",
              "      <th>clouds_all</th>\n",
              "      <th>weather_main</th>\n",
              "      <th>weather_description</th>\n",
              "      <th>day</th>\n",
              "      <th>holiday_code</th>\n",
              "      <th>traffic_vol</th>\n",
              "    </tr>\n",
              "  </thead>\n",
              "  <tbody>\n",
              "    <tr>\n",
              "      <th>0</th>\n",
              "      <td>288.28</td>\n",
              "      <td>40</td>\n",
              "      <td>1</td>\n",
              "      <td>24</td>\n",
              "      <td>5</td>\n",
              "      <td>0</td>\n",
              "      <td>5545</td>\n",
              "    </tr>\n",
              "    <tr>\n",
              "      <th>1</th>\n",
              "      <td>289.36</td>\n",
              "      <td>75</td>\n",
              "      <td>1</td>\n",
              "      <td>2</td>\n",
              "      <td>5</td>\n",
              "      <td>0</td>\n",
              "      <td>4516</td>\n",
              "    </tr>\n",
              "    <tr>\n",
              "      <th>2</th>\n",
              "      <td>289.58</td>\n",
              "      <td>90</td>\n",
              "      <td>1</td>\n",
              "      <td>19</td>\n",
              "      <td>5</td>\n",
              "      <td>0</td>\n",
              "      <td>4767</td>\n",
              "    </tr>\n",
              "    <tr>\n",
              "      <th>3</th>\n",
              "      <td>290.13</td>\n",
              "      <td>90</td>\n",
              "      <td>1</td>\n",
              "      <td>19</td>\n",
              "      <td>5</td>\n",
              "      <td>0</td>\n",
              "      <td>5026</td>\n",
              "    </tr>\n",
              "    <tr>\n",
              "      <th>4</th>\n",
              "      <td>291.14</td>\n",
              "      <td>75</td>\n",
              "      <td>1</td>\n",
              "      <td>2</td>\n",
              "      <td>5</td>\n",
              "      <td>0</td>\n",
              "      <td>4918</td>\n",
              "    </tr>\n",
              "  </tbody>\n",
              "</table>\n",
              "</div>"
            ],
            "text/plain": [
              "     temp  clouds_all  weather_main  ...  day  holiday_code  traffic_vol\n",
              "0  288.28          40             1  ...    5             0         5545\n",
              "1  289.36          75             1  ...    5             0         4516\n",
              "2  289.58          90             1  ...    5             0         4767\n",
              "3  290.13          90             1  ...    5             0         5026\n",
              "4  291.14          75             1  ...    5             0         4918\n",
              "\n",
              "[5 rows x 7 columns]"
            ]
          },
          "metadata": {
            "tags": []
          },
          "execution_count": 33
        }
      ]
    },
    {
      "cell_type": "markdown",
      "metadata": {
        "id": "wQ4d_AmjrHZ6",
        "colab_type": "text"
      },
      "source": [
        "### Train Dataset"
      ]
    },
    {
      "cell_type": "code",
      "metadata": {
        "id": "V3LVNsKCrFZd",
        "colab_type": "code",
        "outputId": "5dfab61d-08fd-4a19-ecdb-a426c3fd1e84",
        "colab": {
          "base_uri": "https://localhost:8080/",
          "height": 34
        }
      },
      "source": [
        "#train data with outlier\n",
        "X1 = df.iloc[:, :-1].values\n",
        "Y1 = df.iloc[:, -1].values\n",
        "\n",
        "(trainX1, testX1, trainY1, testY1)= train_test_split(X1, Y1, random_state=3, test_size=0.25)\n",
        "\n",
        "#train data without oulier\n",
        "A1 = df_no_outlier.iloc[:, :-1].values\n",
        "B1 = df_no_outlier.iloc[:, -1].values\n",
        "\n",
        "(trainA1, testA1, trainB1, testB1)= train_test_split(A1, B1, random_state=3, test_size=0.25)\n",
        "print(\"Berhasil ditrain gans...\")"
      ],
      "execution_count": 0,
      "outputs": [
        {
          "output_type": "stream",
          "text": [
            "Berhasil ditrain gans...\n"
          ],
          "name": "stdout"
        }
      ]
    },
    {
      "cell_type": "code",
      "metadata": {
        "id": "L689H6dZrJFd",
        "colab_type": "code",
        "outputId": "940ce057-90ef-4686-c61c-b005c65e374c",
        "colab": {
          "base_uri": "https://localhost:8080/",
          "height": 219
        }
      },
      "source": [
        "from sklearn.linear_model import LinearRegression\n",
        "from sklearn.metrics import mean_absolute_error\n",
        "from sklearn.metrics import mean_squared_error\n",
        "import math\n",
        "\n",
        "model = LinearRegression()\n",
        "model.fit(trainX1, trainY1)\n",
        "\n",
        "print('Hasil dari model LinearRegression')\n",
        "print(\"\\nErrornya segini gan yang ada outliernya:\")\n",
        "predictions = model.predict(testX1)\n",
        "print('MAE  =',mean_absolute_error(testY1, predictions))\n",
        "print('MSE  =',mean_squared_error(testY1, predictions))\n",
        "print('RMSE =',math.sqrt(mean_squared_error(testY1, predictions)))\n",
        "print('--------------------------')\n",
        "\n",
        "model.fit(trainA1, trainB1)\n",
        "\n",
        "print(\"Errornya segini gan yang tidak ada outliernya:\")\n",
        "predictions = model.predict(testA1)\n",
        "print('MAE  =',mean_absolute_error(testB1, predictions))\n",
        "print('MSE  =',mean_squared_error(testB1, predictions))\n",
        "print('RMSE =',math.sqrt(mean_squared_error(testB1, predictions)))"
      ],
      "execution_count": 39,
      "outputs": [
        {
          "output_type": "stream",
          "text": [
            "Hasil dari model LinearRegression\n",
            "\n",
            "Errornya segini gan yang ada outliernya:\n",
            "MAE  = 1706.3849124128662\n",
            "MSE  = 3832602.590530008\n",
            "RMSE = 1957.7033969756521\n",
            "--------------------------\n",
            "Errornya segini gan yang tidak ada outliernya:\n",
            "MAE  = 1706.0564590459776\n",
            "MSE  = 3828124.01794691\n",
            "RMSE = 1956.559229348018\n"
          ],
          "name": "stdout"
        }
      ]
    },
    {
      "cell_type": "markdown",
      "metadata": {
        "id": "6Cd8ClmwrNLf",
        "colab_type": "text"
      },
      "source": [
        "### K-Fold Train Dataset"
      ]
    },
    {
      "cell_type": "code",
      "metadata": {
        "id": "oUC24wKarLIH",
        "colab_type": "code",
        "colab": {}
      },
      "source": [
        "from sklearn.linear_model import LinearRegression\n",
        "from sklearn.model_selection import KFold\n",
        "from sklearn.metrics import mean_absolute_error\n",
        "from sklearn.metrics import mean_squared_error\n",
        "import math\n",
        "from statistics import mean\n",
        "\n",
        "modelsr = {\"linear_r\": LinearRegression()}\n",
        "modnamer = [\"linear_r\"]\n",
        "\n",
        "X2 = df.iloc[:, :-1].values\n",
        "Y2 = df.iloc[:, -1].values\n",
        "A2 = df_no_outlier.iloc[:, :-1].values\n",
        "B2 = df_no_outlier.iloc[:, -1].values\n",
        "\n",
        "def modelkfold(x, y, n, mod):\n",
        "    for i in range(len(mod)):\n",
        "        kf = KFold(n_splits = n)\n",
        "        kf.get_n_splits(x)\n",
        "        model = modelsr[mod[i]]\n",
        "        \n",
        "        meanAbsoluteError = []\n",
        "        meanSquareError = []\n",
        "        rootMeanSquareError = []\n",
        "        j = 0\n",
        "        print('Hasil dari model ' + mod[i] + '\\n')\n",
        "        for train_index, test_index in kf.split(x):\n",
        "            X_train, X_test = x[train_index], x[test_index]\n",
        "            Y_train, Y_test = y[train_index], y[test_index]\n",
        "            \n",
        "            model.fit(X_train, Y_train)\n",
        "            Y_pred = model.predict(X_test)\n",
        "            \n",
        "            meanAbsoluteError.append(mean_absolute_error(Y_test, Y_pred))\n",
        "            meanSquareError.append(mean_squared_error(Y_test, Y_pred))\n",
        "            rootMeanSquareError.append(math.sqrt(mean_squared_error(Y_test, Y_pred)))\n",
        "            \n",
        "            print('Fold ', j+1, ' MAE  = ', meanAbsoluteError[j])\n",
        "            print('Fold ', j+1, ' MSE  = ', meanSquareError[j])\n",
        "            print('Fold ', j+1, ' RMSE = ', rootMeanSquareError[j])\n",
        "            print('-------------------------------------')\n",
        "        \n",
        "            j = j + 1\n",
        "    \n",
        "        print(\"Rata-rata MAE  = \", mean(meanAbsoluteError))\n",
        "        print(\"Rata-rata MSE  = \", mean(meanSquareError))\n",
        "        print(\"Rata-rata RMSE = \", mean(rootMeanSquareError))\n",
        "        print('\\n')"
      ],
      "execution_count": 0,
      "outputs": []
    },
    {
      "cell_type": "code",
      "metadata": {
        "id": "vRcQXJ2lrO8N",
        "colab_type": "code",
        "outputId": "eef11e0b-be0d-451f-f282-38254b5e1282",
        "colab": {
          "base_uri": "https://localhost:8080/",
          "height": 513
        }
      },
      "source": [
        "modelkfold(X2, Y2, 5, modnamer)"
      ],
      "execution_count": 42,
      "outputs": [
        {
          "output_type": "stream",
          "text": [
            "Hasil dari model linear_r\n",
            "\n",
            "Fold  1  MAE  =  1759.5171635757763\n",
            "Fold  1  MSE  =  4035633.5751005705\n",
            "Fold  1  RMSE =  2008.8886417869385\n",
            "-------------------------------------\n",
            "Fold  2  MAE  =  1693.770862868243\n",
            "Fold  2  MSE  =  3796919.096092816\n",
            "Fold  2  RMSE =  1948.5684735448267\n",
            "-------------------------------------\n",
            "Fold  3  MAE  =  1688.0568958707497\n",
            "Fold  3  MSE  =  3760847.238466728\n",
            "Fold  3  RMSE =  1939.2903956000835\n",
            "-------------------------------------\n",
            "Fold  4  MAE  =  1694.5802157253706\n",
            "Fold  4  MSE  =  3791213.771139774\n",
            "Fold  4  RMSE =  1947.1039446161508\n",
            "-------------------------------------\n",
            "Fold  5  MAE  =  1671.2971407402038\n",
            "Fold  5  MSE  =  3697711.791927314\n",
            "Fold  5  RMSE =  1922.9435228126993\n",
            "-------------------------------------\n",
            "Rata-rata MAE  =  1701.4444557560687\n",
            "Rata-rata MSE  =  3816465.0945454403\n",
            "Rata-rata RMSE =  1953.3589956721398\n",
            "\n",
            "\n"
          ],
          "name": "stdout"
        }
      ]
    },
    {
      "cell_type": "code",
      "metadata": {
        "id": "C_m4InxVmtIh",
        "colab_type": "code",
        "colab": {
          "base_uri": "https://localhost:8080/",
          "height": 513
        },
        "outputId": "c20158dc-8786-4855-89c5-254283605703"
      },
      "source": [
        "modelkfold(A2, B2, 5, modnamer)"
      ],
      "execution_count": 43,
      "outputs": [
        {
          "output_type": "stream",
          "text": [
            "Hasil dari model linear_r\n",
            "\n",
            "Fold  1  MAE  =  1758.4078214858414\n",
            "Fold  1  MSE  =  4032915.880461082\n",
            "Fold  1  RMSE =  2008.2121104258588\n",
            "-------------------------------------\n",
            "Fold  2  MAE  =  1691.1436356719319\n",
            "Fold  2  MSE  =  3779818.4239605484\n",
            "Fold  2  RMSE =  1944.1755126429682\n",
            "-------------------------------------\n",
            "Fold  3  MAE  =  1686.879665219238\n",
            "Fold  3  MSE  =  3762441.602571975\n",
            "Fold  3  RMSE =  1939.7014209851925\n",
            "-------------------------------------\n",
            "Fold  4  MAE  =  1692.6551908813103\n",
            "Fold  4  MSE  =  3788475.2452950864\n",
            "Fold  4  RMSE =  1946.4005870568078\n",
            "-------------------------------------\n",
            "Fold  5  MAE  =  1670.920379187932\n",
            "Fold  5  MSE  =  3701016.20759889\n",
            "Fold  5  RMSE =  1923.802538619515\n",
            "-------------------------------------\n",
            "Rata-rata MAE  =  1700.0013384892507\n",
            "Rata-rata MSE  =  3812933.4719775165\n",
            "Rata-rata RMSE =  1952.4584339460685\n",
            "\n",
            "\n"
          ],
          "name": "stdout"
        }
      ]
    },
    {
      "cell_type": "markdown",
      "metadata": {
        "id": "xdLgYNacrVst",
        "colab_type": "text"
      },
      "source": [
        "------\n",
        "### <center> Simpulan\n",
        "------"
      ]
    },
    {
      "cell_type": "markdown",
      "metadata": {
        "id": "6JECDO3brZPS",
        "colab_type": "text"
      },
      "source": [
        "Model LinearRegression dengan K-Fold pada data dengan menghilangkan outlier pada kolom 'temp' menghasilkan MEA, MSE, dan RMSE lebih kecil, sehingga model yang digunakan **model LinearRegression dengan K-Fold dengan data tanpa outlier**"
      ]
    },
    {
      "cell_type": "code",
      "metadata": {
        "id": "QEYwBjzMmxuR",
        "colab_type": "code",
        "colab": {}
      },
      "source": [
        ""
      ],
      "execution_count": 0,
      "outputs": []
    }
  ]
}