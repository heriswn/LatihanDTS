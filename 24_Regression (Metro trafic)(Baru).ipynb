{
  "nbformat": 4,
  "nbformat_minor": 0,
  "metadata": {
    "kernelspec": {
      "display_name": "Python 3",
      "language": "python",
      "name": "python3"
    },
    "language_info": {
      "codemirror_mode": {
        "name": "ipython",
        "version": 3
      },
      "file_extension": ".py",
      "mimetype": "text/x-python",
      "name": "python",
      "nbconvert_exporter": "python",
      "pygments_lexer": "ipython3",
      "version": "3.5.4"
    },
    "colab": {
      "name": "24. Regression (Metro ...) (Baru).ipynb",
      "version": "0.3.2",
      "provenance": [],
      "include_colab_link": true
    }
  },
  "cells": [
    {
      "cell_type": "markdown",
      "metadata": {
        "id": "view-in-github",
        "colab_type": "text"
      },
      "source": [
        "<a href=\"https://colab.research.google.com/github/heriswn/LatihanDTS/blob/master/24_Regression%20(Metro%20trafic)(Baru).ipynb\" target=\"_parent\"><img src=\"https://colab.research.google.com/assets/colab-badge.svg\" alt=\"Open In Colab\"/></a>"
      ]
    },
    {
      "cell_type": "markdown",
      "metadata": {
        "id": "r1mvFPWYiP4L",
        "colab_type": "text"
      },
      "source": [
        "----\n",
        "#  <center> Project 2: Metro Interstate Trafic Volume Dataset\n",
        "----\n",
        "# Author: Ganang\n"
      ]
    },
    {
      "cell_type": "markdown",
      "metadata": {
        "id": "VSvJPU4qiP4O",
        "colab_type": "text"
      },
      "source": [
        "## Import the Data"
      ]
    },
    {
      "cell_type": "code",
      "metadata": {
        "id": "zLz6360GiP4P",
        "colab_type": "code",
        "colab": {}
      },
      "source": [
        "import numpy as np\n",
        "import scipy as sp\n",
        "import pandas as pd\n",
        "import matplotlib.pyplot as plt\n",
        "import seaborn as sns\n",
        "import datetime\n",
        "import calendar\n",
        "from sklearn.linear_model import LinearRegression\n",
        "from sklearn import preprocessing\n",
        "from sklearn.model_selection import train_test_split"
      ],
      "execution_count": 0,
      "outputs": []
    },
    {
      "cell_type": "code",
      "metadata": {
        "scrolled": true,
        "id": "jQWUiKv4iP4V",
        "colab_type": "code",
        "colab": {},
        "outputId": "6dbdaa7d-3edc-42a8-df5d-eecdcee36729"
      },
      "source": [
        "#read the data\n",
        "df = pd.read_csv(\"Metro_Interstate_Traffic_Volume.csv\", sep=\",\", parse_dates=['date_time'])\n",
        "#declare date_time format\n",
        "pd.to_datetime(df['date_time'], format=\"%Y-%d-%m %H::%M:%S\")\n",
        "##change the date into day\n",
        "df['day'] = df.apply(lambda row: row[7].strftime('%A'), axis=1)\n",
        "df.head()"
      ],
      "execution_count": 0,
      "outputs": [
        {
          "output_type": "execute_result",
          "data": {
            "text/html": [
              "<div>\n",
              "<style scoped>\n",
              "    .dataframe tbody tr th:only-of-type {\n",
              "        vertical-align: middle;\n",
              "    }\n",
              "\n",
              "    .dataframe tbody tr th {\n",
              "        vertical-align: top;\n",
              "    }\n",
              "\n",
              "    .dataframe thead th {\n",
              "        text-align: right;\n",
              "    }\n",
              "</style>\n",
              "<table border=\"1\" class=\"dataframe\">\n",
              "  <thead>\n",
              "    <tr style=\"text-align: right;\">\n",
              "      <th></th>\n",
              "      <th>holiday</th>\n",
              "      <th>temp</th>\n",
              "      <th>rain_1h</th>\n",
              "      <th>snow_1h</th>\n",
              "      <th>clouds_all</th>\n",
              "      <th>weather_main</th>\n",
              "      <th>weather_description</th>\n",
              "      <th>date_time</th>\n",
              "      <th>traffic_volume</th>\n",
              "      <th>day</th>\n",
              "    </tr>\n",
              "  </thead>\n",
              "  <tbody>\n",
              "    <tr>\n",
              "      <th>0</th>\n",
              "      <td>None</td>\n",
              "      <td>288.28</td>\n",
              "      <td>0.0</td>\n",
              "      <td>0.0</td>\n",
              "      <td>40</td>\n",
              "      <td>Clouds</td>\n",
              "      <td>scattered clouds</td>\n",
              "      <td>2012-10-02 09:00:00</td>\n",
              "      <td>5545</td>\n",
              "      <td>Tuesday</td>\n",
              "    </tr>\n",
              "    <tr>\n",
              "      <th>1</th>\n",
              "      <td>None</td>\n",
              "      <td>289.36</td>\n",
              "      <td>0.0</td>\n",
              "      <td>0.0</td>\n",
              "      <td>75</td>\n",
              "      <td>Clouds</td>\n",
              "      <td>broken clouds</td>\n",
              "      <td>2012-10-02 10:00:00</td>\n",
              "      <td>4516</td>\n",
              "      <td>Tuesday</td>\n",
              "    </tr>\n",
              "    <tr>\n",
              "      <th>2</th>\n",
              "      <td>None</td>\n",
              "      <td>289.58</td>\n",
              "      <td>0.0</td>\n",
              "      <td>0.0</td>\n",
              "      <td>90</td>\n",
              "      <td>Clouds</td>\n",
              "      <td>overcast clouds</td>\n",
              "      <td>2012-10-02 11:00:00</td>\n",
              "      <td>4767</td>\n",
              "      <td>Tuesday</td>\n",
              "    </tr>\n",
              "    <tr>\n",
              "      <th>3</th>\n",
              "      <td>None</td>\n",
              "      <td>290.13</td>\n",
              "      <td>0.0</td>\n",
              "      <td>0.0</td>\n",
              "      <td>90</td>\n",
              "      <td>Clouds</td>\n",
              "      <td>overcast clouds</td>\n",
              "      <td>2012-10-02 12:00:00</td>\n",
              "      <td>5026</td>\n",
              "      <td>Tuesday</td>\n",
              "    </tr>\n",
              "    <tr>\n",
              "      <th>4</th>\n",
              "      <td>None</td>\n",
              "      <td>291.14</td>\n",
              "      <td>0.0</td>\n",
              "      <td>0.0</td>\n",
              "      <td>75</td>\n",
              "      <td>Clouds</td>\n",
              "      <td>broken clouds</td>\n",
              "      <td>2012-10-02 13:00:00</td>\n",
              "      <td>4918</td>\n",
              "      <td>Tuesday</td>\n",
              "    </tr>\n",
              "  </tbody>\n",
              "</table>\n",
              "</div>"
            ],
            "text/plain": [
              "  holiday    temp  rain_1h  snow_1h  clouds_all weather_main  \\\n",
              "0    None  288.28      0.0      0.0          40       Clouds   \n",
              "1    None  289.36      0.0      0.0          75       Clouds   \n",
              "2    None  289.58      0.0      0.0          90       Clouds   \n",
              "3    None  290.13      0.0      0.0          90       Clouds   \n",
              "4    None  291.14      0.0      0.0          75       Clouds   \n",
              "\n",
              "  weather_description           date_time  traffic_volume      day  \n",
              "0    scattered clouds 2012-10-02 09:00:00            5545  Tuesday  \n",
              "1       broken clouds 2012-10-02 10:00:00            4516  Tuesday  \n",
              "2     overcast clouds 2012-10-02 11:00:00            4767  Tuesday  \n",
              "3     overcast clouds 2012-10-02 12:00:00            5026  Tuesday  \n",
              "4       broken clouds 2012-10-02 13:00:00            4918  Tuesday  "
            ]
          },
          "metadata": {
            "tags": []
          },
          "execution_count": 2
        }
      ]
    },
    {
      "cell_type": "markdown",
      "metadata": {
        "id": "h4qUQ-lNiP4a",
        "colab_type": "text"
      },
      "source": [
        "## Check the Data"
      ]
    },
    {
      "cell_type": "code",
      "metadata": {
        "id": "m0fxkLjIiP4c",
        "colab_type": "code",
        "colab": {},
        "outputId": "841a4fd4-39f4-4b00-f0f2-3cd05b562ddb"
      },
      "source": [
        "df.info()"
      ],
      "execution_count": 0,
      "outputs": [
        {
          "output_type": "stream",
          "text": [
            "<class 'pandas.core.frame.DataFrame'>\n",
            "RangeIndex: 48204 entries, 0 to 48203\n",
            "Data columns (total 10 columns):\n",
            "holiday                48204 non-null object\n",
            "temp                   48204 non-null float64\n",
            "rain_1h                48204 non-null float64\n",
            "snow_1h                48204 non-null float64\n",
            "clouds_all             48204 non-null int64\n",
            "weather_main           48204 non-null object\n",
            "weather_description    48204 non-null object\n",
            "date_time              48204 non-null datetime64[ns]\n",
            "traffic_volume         48204 non-null int64\n",
            "day                    48204 non-null object\n",
            "dtypes: datetime64[ns](1), float64(3), int64(2), object(4)\n",
            "memory usage: 3.7+ MB\n"
          ],
          "name": "stdout"
        }
      ]
    },
    {
      "cell_type": "code",
      "metadata": {
        "id": "PLbhpAE-iP4g",
        "colab_type": "code",
        "colab": {},
        "outputId": "ba4a87b2-433b-4495-e82f-5dd37a1ea101"
      },
      "source": [
        "df.describe()"
      ],
      "execution_count": 0,
      "outputs": [
        {
          "output_type": "execute_result",
          "data": {
            "text/html": [
              "<div>\n",
              "<style scoped>\n",
              "    .dataframe tbody tr th:only-of-type {\n",
              "        vertical-align: middle;\n",
              "    }\n",
              "\n",
              "    .dataframe tbody tr th {\n",
              "        vertical-align: top;\n",
              "    }\n",
              "\n",
              "    .dataframe thead th {\n",
              "        text-align: right;\n",
              "    }\n",
              "</style>\n",
              "<table border=\"1\" class=\"dataframe\">\n",
              "  <thead>\n",
              "    <tr style=\"text-align: right;\">\n",
              "      <th></th>\n",
              "      <th>temp</th>\n",
              "      <th>rain_1h</th>\n",
              "      <th>snow_1h</th>\n",
              "      <th>clouds_all</th>\n",
              "      <th>traffic_volume</th>\n",
              "    </tr>\n",
              "  </thead>\n",
              "  <tbody>\n",
              "    <tr>\n",
              "      <th>count</th>\n",
              "      <td>48204.000000</td>\n",
              "      <td>48204.000000</td>\n",
              "      <td>48204.000000</td>\n",
              "      <td>48204.000000</td>\n",
              "      <td>48204.000000</td>\n",
              "    </tr>\n",
              "    <tr>\n",
              "      <th>mean</th>\n",
              "      <td>281.205870</td>\n",
              "      <td>0.334264</td>\n",
              "      <td>0.000222</td>\n",
              "      <td>49.362231</td>\n",
              "      <td>3259.818355</td>\n",
              "    </tr>\n",
              "    <tr>\n",
              "      <th>std</th>\n",
              "      <td>13.338232</td>\n",
              "      <td>44.789133</td>\n",
              "      <td>0.008168</td>\n",
              "      <td>39.015750</td>\n",
              "      <td>1986.860670</td>\n",
              "    </tr>\n",
              "    <tr>\n",
              "      <th>min</th>\n",
              "      <td>0.000000</td>\n",
              "      <td>0.000000</td>\n",
              "      <td>0.000000</td>\n",
              "      <td>0.000000</td>\n",
              "      <td>0.000000</td>\n",
              "    </tr>\n",
              "    <tr>\n",
              "      <th>25%</th>\n",
              "      <td>272.160000</td>\n",
              "      <td>0.000000</td>\n",
              "      <td>0.000000</td>\n",
              "      <td>1.000000</td>\n",
              "      <td>1193.000000</td>\n",
              "    </tr>\n",
              "    <tr>\n",
              "      <th>50%</th>\n",
              "      <td>282.450000</td>\n",
              "      <td>0.000000</td>\n",
              "      <td>0.000000</td>\n",
              "      <td>64.000000</td>\n",
              "      <td>3380.000000</td>\n",
              "    </tr>\n",
              "    <tr>\n",
              "      <th>75%</th>\n",
              "      <td>291.806000</td>\n",
              "      <td>0.000000</td>\n",
              "      <td>0.000000</td>\n",
              "      <td>90.000000</td>\n",
              "      <td>4933.000000</td>\n",
              "    </tr>\n",
              "    <tr>\n",
              "      <th>max</th>\n",
              "      <td>310.070000</td>\n",
              "      <td>9831.300000</td>\n",
              "      <td>0.510000</td>\n",
              "      <td>100.000000</td>\n",
              "      <td>7280.000000</td>\n",
              "    </tr>\n",
              "  </tbody>\n",
              "</table>\n",
              "</div>"
            ],
            "text/plain": [
              "               temp       rain_1h       snow_1h    clouds_all  traffic_volume\n",
              "count  48204.000000  48204.000000  48204.000000  48204.000000    48204.000000\n",
              "mean     281.205870      0.334264      0.000222     49.362231     3259.818355\n",
              "std       13.338232     44.789133      0.008168     39.015750     1986.860670\n",
              "min        0.000000      0.000000      0.000000      0.000000        0.000000\n",
              "25%      272.160000      0.000000      0.000000      1.000000     1193.000000\n",
              "50%      282.450000      0.000000      0.000000     64.000000     3380.000000\n",
              "75%      291.806000      0.000000      0.000000     90.000000     4933.000000\n",
              "max      310.070000   9831.300000      0.510000    100.000000     7280.000000"
            ]
          },
          "metadata": {
            "tags": []
          },
          "execution_count": 4
        }
      ]
    },
    {
      "cell_type": "code",
      "metadata": {
        "id": "b-cfhsx6iP4k",
        "colab_type": "code",
        "colab": {},
        "outputId": "e676b833-1fec-438f-b726-31f8335f86c1"
      },
      "source": [
        "df['holiday'].value_counts()"
      ],
      "execution_count": 0,
      "outputs": [
        {
          "output_type": "execute_result",
          "data": {
            "text/plain": [
              "None                         48143\n",
              "Labor Day                        7\n",
              "Martin Luther King Jr Day        6\n",
              "Christmas Day                    6\n",
              "New Years Day                    6\n",
              "Thanksgiving Day                 6\n",
              "Columbus Day                     5\n",
              "Veterans Day                     5\n",
              "State Fair                       5\n",
              "Memorial Day                     5\n",
              "Independence Day                 5\n",
              "Washingtons Birthday             5\n",
              "Name: holiday, dtype: int64"
            ]
          },
          "metadata": {
            "tags": []
          },
          "execution_count": 87
        }
      ]
    },
    {
      "cell_type": "code",
      "metadata": {
        "id": "BiVcaY0iiP4n",
        "colab_type": "code",
        "colab": {},
        "outputId": "b3cfb720-3230-44d5-e26e-f82a0481e2d8"
      },
      "source": [
        "# create def for category to number 0/1 at holiday row\n",
        "def translate_holiday(df):\n",
        "    if df['holiday'] == 'None':\n",
        "        return 0\n",
        "    else:\n",
        "        return 1\n",
        "# create code holiday\n",
        "df['holiday_code']=df.apply(translate_holiday,axis=1)\n",
        "df.head()"
      ],
      "execution_count": 0,
      "outputs": [
        {
          "output_type": "execute_result",
          "data": {
            "text/html": [
              "<div>\n",
              "<style scoped>\n",
              "    .dataframe tbody tr th:only-of-type {\n",
              "        vertical-align: middle;\n",
              "    }\n",
              "\n",
              "    .dataframe tbody tr th {\n",
              "        vertical-align: top;\n",
              "    }\n",
              "\n",
              "    .dataframe thead th {\n",
              "        text-align: right;\n",
              "    }\n",
              "</style>\n",
              "<table border=\"1\" class=\"dataframe\">\n",
              "  <thead>\n",
              "    <tr style=\"text-align: right;\">\n",
              "      <th></th>\n",
              "      <th>holiday</th>\n",
              "      <th>temp</th>\n",
              "      <th>rain_1h</th>\n",
              "      <th>snow_1h</th>\n",
              "      <th>clouds_all</th>\n",
              "      <th>weather_main</th>\n",
              "      <th>weather_description</th>\n",
              "      <th>date_time</th>\n",
              "      <th>traffic_volume</th>\n",
              "      <th>day</th>\n",
              "      <th>holiday_code</th>\n",
              "    </tr>\n",
              "  </thead>\n",
              "  <tbody>\n",
              "    <tr>\n",
              "      <th>0</th>\n",
              "      <td>None</td>\n",
              "      <td>288.28</td>\n",
              "      <td>0.0</td>\n",
              "      <td>0.0</td>\n",
              "      <td>40</td>\n",
              "      <td>Clouds</td>\n",
              "      <td>scattered clouds</td>\n",
              "      <td>2012-10-02 09:00:00</td>\n",
              "      <td>5545</td>\n",
              "      <td>Tuesday</td>\n",
              "      <td>0</td>\n",
              "    </tr>\n",
              "    <tr>\n",
              "      <th>1</th>\n",
              "      <td>None</td>\n",
              "      <td>289.36</td>\n",
              "      <td>0.0</td>\n",
              "      <td>0.0</td>\n",
              "      <td>75</td>\n",
              "      <td>Clouds</td>\n",
              "      <td>broken clouds</td>\n",
              "      <td>2012-10-02 10:00:00</td>\n",
              "      <td>4516</td>\n",
              "      <td>Tuesday</td>\n",
              "      <td>0</td>\n",
              "    </tr>\n",
              "    <tr>\n",
              "      <th>2</th>\n",
              "      <td>None</td>\n",
              "      <td>289.58</td>\n",
              "      <td>0.0</td>\n",
              "      <td>0.0</td>\n",
              "      <td>90</td>\n",
              "      <td>Clouds</td>\n",
              "      <td>overcast clouds</td>\n",
              "      <td>2012-10-02 11:00:00</td>\n",
              "      <td>4767</td>\n",
              "      <td>Tuesday</td>\n",
              "      <td>0</td>\n",
              "    </tr>\n",
              "    <tr>\n",
              "      <th>3</th>\n",
              "      <td>None</td>\n",
              "      <td>290.13</td>\n",
              "      <td>0.0</td>\n",
              "      <td>0.0</td>\n",
              "      <td>90</td>\n",
              "      <td>Clouds</td>\n",
              "      <td>overcast clouds</td>\n",
              "      <td>2012-10-02 12:00:00</td>\n",
              "      <td>5026</td>\n",
              "      <td>Tuesday</td>\n",
              "      <td>0</td>\n",
              "    </tr>\n",
              "    <tr>\n",
              "      <th>4</th>\n",
              "      <td>None</td>\n",
              "      <td>291.14</td>\n",
              "      <td>0.0</td>\n",
              "      <td>0.0</td>\n",
              "      <td>75</td>\n",
              "      <td>Clouds</td>\n",
              "      <td>broken clouds</td>\n",
              "      <td>2012-10-02 13:00:00</td>\n",
              "      <td>4918</td>\n",
              "      <td>Tuesday</td>\n",
              "      <td>0</td>\n",
              "    </tr>\n",
              "  </tbody>\n",
              "</table>\n",
              "</div>"
            ],
            "text/plain": [
              "  holiday    temp  rain_1h  snow_1h  clouds_all weather_main  \\\n",
              "0    None  288.28      0.0      0.0          40       Clouds   \n",
              "1    None  289.36      0.0      0.0          75       Clouds   \n",
              "2    None  289.58      0.0      0.0          90       Clouds   \n",
              "3    None  290.13      0.0      0.0          90       Clouds   \n",
              "4    None  291.14      0.0      0.0          75       Clouds   \n",
              "\n",
              "  weather_description           date_time  traffic_volume      day  \\\n",
              "0    scattered clouds 2012-10-02 09:00:00            5545  Tuesday   \n",
              "1       broken clouds 2012-10-02 10:00:00            4516  Tuesday   \n",
              "2     overcast clouds 2012-10-02 11:00:00            4767  Tuesday   \n",
              "3     overcast clouds 2012-10-02 12:00:00            5026  Tuesday   \n",
              "4       broken clouds 2012-10-02 13:00:00            4918  Tuesday   \n",
              "\n",
              "   holiday_code  \n",
              "0             0  \n",
              "1             0  \n",
              "2             0  \n",
              "3             0  \n",
              "4             0  "
            ]
          },
          "metadata": {
            "tags": []
          },
          "execution_count": 5
        }
      ]
    },
    {
      "cell_type": "code",
      "metadata": {
        "id": "uA0nKWHDiP4r",
        "colab_type": "code",
        "colab": {},
        "outputId": "e18d17c4-bf79-4317-b8d0-4e0423363027"
      },
      "source": [
        "#hide the columns which we have been change to another columns\n",
        "df=df.drop(columns='holiday')\n",
        "df=df.drop(columns='rain_1h')\n",
        "df=df.drop(columns='snow_1h')\n",
        "df=df.drop(columns='date_time')\n",
        "df.head()"
      ],
      "execution_count": 0,
      "outputs": [
        {
          "output_type": "execute_result",
          "data": {
            "text/html": [
              "<div>\n",
              "<style scoped>\n",
              "    .dataframe tbody tr th:only-of-type {\n",
              "        vertical-align: middle;\n",
              "    }\n",
              "\n",
              "    .dataframe tbody tr th {\n",
              "        vertical-align: top;\n",
              "    }\n",
              "\n",
              "    .dataframe thead th {\n",
              "        text-align: right;\n",
              "    }\n",
              "</style>\n",
              "<table border=\"1\" class=\"dataframe\">\n",
              "  <thead>\n",
              "    <tr style=\"text-align: right;\">\n",
              "      <th></th>\n",
              "      <th>temp</th>\n",
              "      <th>clouds_all</th>\n",
              "      <th>weather_main</th>\n",
              "      <th>weather_description</th>\n",
              "      <th>traffic_volume</th>\n",
              "      <th>day</th>\n",
              "      <th>holiday_code</th>\n",
              "    </tr>\n",
              "  </thead>\n",
              "  <tbody>\n",
              "    <tr>\n",
              "      <th>0</th>\n",
              "      <td>288.28</td>\n",
              "      <td>40</td>\n",
              "      <td>Clouds</td>\n",
              "      <td>scattered clouds</td>\n",
              "      <td>5545</td>\n",
              "      <td>Tuesday</td>\n",
              "      <td>0</td>\n",
              "    </tr>\n",
              "    <tr>\n",
              "      <th>1</th>\n",
              "      <td>289.36</td>\n",
              "      <td>75</td>\n",
              "      <td>Clouds</td>\n",
              "      <td>broken clouds</td>\n",
              "      <td>4516</td>\n",
              "      <td>Tuesday</td>\n",
              "      <td>0</td>\n",
              "    </tr>\n",
              "    <tr>\n",
              "      <th>2</th>\n",
              "      <td>289.58</td>\n",
              "      <td>90</td>\n",
              "      <td>Clouds</td>\n",
              "      <td>overcast clouds</td>\n",
              "      <td>4767</td>\n",
              "      <td>Tuesday</td>\n",
              "      <td>0</td>\n",
              "    </tr>\n",
              "    <tr>\n",
              "      <th>3</th>\n",
              "      <td>290.13</td>\n",
              "      <td>90</td>\n",
              "      <td>Clouds</td>\n",
              "      <td>overcast clouds</td>\n",
              "      <td>5026</td>\n",
              "      <td>Tuesday</td>\n",
              "      <td>0</td>\n",
              "    </tr>\n",
              "    <tr>\n",
              "      <th>4</th>\n",
              "      <td>291.14</td>\n",
              "      <td>75</td>\n",
              "      <td>Clouds</td>\n",
              "      <td>broken clouds</td>\n",
              "      <td>4918</td>\n",
              "      <td>Tuesday</td>\n",
              "      <td>0</td>\n",
              "    </tr>\n",
              "  </tbody>\n",
              "</table>\n",
              "</div>"
            ],
            "text/plain": [
              "     temp  clouds_all weather_main weather_description  traffic_volume  \\\n",
              "0  288.28          40       Clouds    scattered clouds            5545   \n",
              "1  289.36          75       Clouds       broken clouds            4516   \n",
              "2  289.58          90       Clouds     overcast clouds            4767   \n",
              "3  290.13          90       Clouds     overcast clouds            5026   \n",
              "4  291.14          75       Clouds       broken clouds            4918   \n",
              "\n",
              "       day  holiday_code  \n",
              "0  Tuesday             0  \n",
              "1  Tuesday             0  \n",
              "2  Tuesday             0  \n",
              "3  Tuesday             0  \n",
              "4  Tuesday             0  "
            ]
          },
          "metadata": {
            "tags": []
          },
          "execution_count": 6
        }
      ]
    },
    {
      "cell_type": "markdown",
      "metadata": {
        "id": "TTUyMZK2iP4x",
        "colab_type": "text"
      },
      "source": [
        "## Identify outlier"
      ]
    },
    {
      "cell_type": "code",
      "metadata": {
        "id": "BMMrwSXCiP4x",
        "colab_type": "code",
        "colab": {},
        "outputId": "de876f8b-6d58-46dc-d6bf-98f6b11e1696"
      },
      "source": [
        "#identify the rest outlier\n",
        "for i in df.columns:\n",
        "    if (i!='holiday_code') and (df[i].dtypes in ['int64', 'float64']):\n",
        "        print('\\nAttribute-',i,':',df[i].dtypes)\n",
        "        Q1=df[i].quantile(0.25)\n",
        "        print('Q1', Q1)\n",
        "        Q3=df[i].quantile(0.75)\n",
        "        print('Q3', Q3)\n",
        "        IQR=Q3-Q1\n",
        "        print('IQR', IQR)\n",
        "        min=df[i].min()\n",
        "        max=df[i].max()\n",
        "        min_IQR=Q1-1.5*IQR\n",
        "        max_IQR=Q3+1.5*IQR\n",
        "        if(min<min_IQR):\n",
        "            print('Low outlier is found')\n",
        "            print(\"min : \", min_IQR)\n",
        "        if(max>max_IQR):\n",
        "            print('High outlier is found')\n",
        "            print(\"max : \", max_IQR)"
      ],
      "execution_count": 0,
      "outputs": [
        {
          "output_type": "stream",
          "text": [
            "\n",
            "Attribute- temp : float64\n",
            "Q1 272.16\n",
            "Q3 291.806\n",
            "IQR 19.645999999999958\n",
            "Low outlier is found\n",
            "min :  242.6910000000001\n",
            "\n",
            "Attribute- clouds_all : int64\n",
            "Q1 1.0\n",
            "Q3 90.0\n",
            "IQR 89.0\n",
            "\n",
            "Attribute- traffic_volume : int64\n",
            "Q1 1193.0\n",
            "Q3 4933.0\n",
            "IQR 3740.0\n"
          ],
          "name": "stdout"
        }
      ]
    },
    {
      "cell_type": "markdown",
      "metadata": {
        "id": "AJ14xvCNiP41",
        "colab_type": "text"
      },
      "source": [
        "## Drop outlier"
      ]
    },
    {
      "cell_type": "code",
      "metadata": {
        "id": "fM4iYZtEiP42",
        "colab_type": "code",
        "colab": {},
        "outputId": "008b4623-0415-4d9c-f02d-8a2e7693e358"
      },
      "source": [
        "#drop outlier\n",
        "df_no_outlier = df[df[\"temp\"]>242.7]\n",
        "print ('[PERBANDINGAN UKURAN DATA]')\n",
        "print ('shape without oulier:', df_no_outlier.shape)\n",
        "print ('shape with outlier  :', df.shape)"
      ],
      "execution_count": 0,
      "outputs": [
        {
          "output_type": "stream",
          "text": [
            "[PERBANDINGAN UKURAN DATA]\n",
            "shape without oulier: (48194, 7)\n",
            "shape with outlier  : (48204, 7)\n"
          ],
          "name": "stdout"
        }
      ]
    },
    {
      "cell_type": "markdown",
      "metadata": {
        "id": "Ez2sN3CAiP46",
        "colab_type": "text"
      },
      "source": [
        "# DATA MODELLING"
      ]
    },
    {
      "cell_type": "markdown",
      "metadata": {
        "id": "agJoz0Q7iP46",
        "colab_type": "text"
      },
      "source": [
        "### Encode"
      ]
    },
    {
      "cell_type": "code",
      "metadata": {
        "id": "1ni_icyCiP48",
        "colab_type": "code",
        "colab": {},
        "outputId": "09a3fe89-7503-4780-cd3b-8d95d1f0751b"
      },
      "source": [
        "#change the trafic_volume position\n",
        "df['traffic_vol'] = df['traffic_volume']\n",
        "df=df.drop(columns='traffic_volume')\n",
        "#encode data dengan outlier\n",
        "le = preprocessing.LabelEncoder()\n",
        "for i in df.columns:\n",
        "    if (df[i].dtypes=='object'):\n",
        "        le.fit(df[i])\n",
        "        df[i]=le.transform(df[i])\n",
        "df.head()"
      ],
      "execution_count": 0,
      "outputs": [
        {
          "output_type": "execute_result",
          "data": {
            "text/html": [
              "<div>\n",
              "<style scoped>\n",
              "    .dataframe tbody tr th:only-of-type {\n",
              "        vertical-align: middle;\n",
              "    }\n",
              "\n",
              "    .dataframe tbody tr th {\n",
              "        vertical-align: top;\n",
              "    }\n",
              "\n",
              "    .dataframe thead th {\n",
              "        text-align: right;\n",
              "    }\n",
              "</style>\n",
              "<table border=\"1\" class=\"dataframe\">\n",
              "  <thead>\n",
              "    <tr style=\"text-align: right;\">\n",
              "      <th></th>\n",
              "      <th>temp</th>\n",
              "      <th>clouds_all</th>\n",
              "      <th>weather_main</th>\n",
              "      <th>weather_description</th>\n",
              "      <th>day</th>\n",
              "      <th>holiday_code</th>\n",
              "      <th>traffic_vol</th>\n",
              "    </tr>\n",
              "  </thead>\n",
              "  <tbody>\n",
              "    <tr>\n",
              "      <th>0</th>\n",
              "      <td>288.28</td>\n",
              "      <td>40</td>\n",
              "      <td>1</td>\n",
              "      <td>24</td>\n",
              "      <td>5</td>\n",
              "      <td>0</td>\n",
              "      <td>5545</td>\n",
              "    </tr>\n",
              "    <tr>\n",
              "      <th>1</th>\n",
              "      <td>289.36</td>\n",
              "      <td>75</td>\n",
              "      <td>1</td>\n",
              "      <td>2</td>\n",
              "      <td>5</td>\n",
              "      <td>0</td>\n",
              "      <td>4516</td>\n",
              "    </tr>\n",
              "    <tr>\n",
              "      <th>2</th>\n",
              "      <td>289.58</td>\n",
              "      <td>90</td>\n",
              "      <td>1</td>\n",
              "      <td>19</td>\n",
              "      <td>5</td>\n",
              "      <td>0</td>\n",
              "      <td>4767</td>\n",
              "    </tr>\n",
              "    <tr>\n",
              "      <th>3</th>\n",
              "      <td>290.13</td>\n",
              "      <td>90</td>\n",
              "      <td>1</td>\n",
              "      <td>19</td>\n",
              "      <td>5</td>\n",
              "      <td>0</td>\n",
              "      <td>5026</td>\n",
              "    </tr>\n",
              "    <tr>\n",
              "      <th>4</th>\n",
              "      <td>291.14</td>\n",
              "      <td>75</td>\n",
              "      <td>1</td>\n",
              "      <td>2</td>\n",
              "      <td>5</td>\n",
              "      <td>0</td>\n",
              "      <td>4918</td>\n",
              "    </tr>\n",
              "  </tbody>\n",
              "</table>\n",
              "</div>"
            ],
            "text/plain": [
              "     temp  clouds_all  weather_main  weather_description  day  holiday_code  \\\n",
              "0  288.28          40             1                   24    5             0   \n",
              "1  289.36          75             1                    2    5             0   \n",
              "2  289.58          90             1                   19    5             0   \n",
              "3  290.13          90             1                   19    5             0   \n",
              "4  291.14          75             1                    2    5             0   \n",
              "\n",
              "   traffic_vol  \n",
              "0         5545  \n",
              "1         4516  \n",
              "2         4767  \n",
              "3         5026  \n",
              "4         4918  "
            ]
          },
          "metadata": {
            "tags": []
          },
          "execution_count": 9
        }
      ]
    },
    {
      "cell_type": "code",
      "metadata": {
        "id": "tm97uBCHiP4-",
        "colab_type": "code",
        "colab": {},
        "outputId": "d8201ca8-2aa7-443d-f9e1-9ba62b4dc019"
      },
      "source": [
        "#change the trafic_volume position\n",
        "df_no_outlier['traffic_vol'] = df_no_outlier['traffic_volume']\n",
        "df_no_outlier=df_no_outlier.drop(columns='traffic_volume')\n",
        "#encode data dengan withoutoutlier\n",
        "ge = preprocessing.LabelEncoder()\n",
        "for i in df_no_outlier.columns:\n",
        "    if (df_no_outlier[i].dtypes=='object'):\n",
        "        ge.fit(df_no_outlier[i])\n",
        "        df_no_outlier[i]=ge.transform(df_no_outlier[i])\n",
        "df_no_outlier.head()"
      ],
      "execution_count": 0,
      "outputs": [
        {
          "output_type": "execute_result",
          "data": {
            "text/html": [
              "<div>\n",
              "<style scoped>\n",
              "    .dataframe tbody tr th:only-of-type {\n",
              "        vertical-align: middle;\n",
              "    }\n",
              "\n",
              "    .dataframe tbody tr th {\n",
              "        vertical-align: top;\n",
              "    }\n",
              "\n",
              "    .dataframe thead th {\n",
              "        text-align: right;\n",
              "    }\n",
              "</style>\n",
              "<table border=\"1\" class=\"dataframe\">\n",
              "  <thead>\n",
              "    <tr style=\"text-align: right;\">\n",
              "      <th></th>\n",
              "      <th>temp</th>\n",
              "      <th>clouds_all</th>\n",
              "      <th>weather_main</th>\n",
              "      <th>weather_description</th>\n",
              "      <th>day</th>\n",
              "      <th>holiday_code</th>\n",
              "      <th>traffic_vol</th>\n",
              "    </tr>\n",
              "  </thead>\n",
              "  <tbody>\n",
              "    <tr>\n",
              "      <th>0</th>\n",
              "      <td>288.28</td>\n",
              "      <td>40</td>\n",
              "      <td>1</td>\n",
              "      <td>24</td>\n",
              "      <td>5</td>\n",
              "      <td>0</td>\n",
              "      <td>5545</td>\n",
              "    </tr>\n",
              "    <tr>\n",
              "      <th>1</th>\n",
              "      <td>289.36</td>\n",
              "      <td>75</td>\n",
              "      <td>1</td>\n",
              "      <td>2</td>\n",
              "      <td>5</td>\n",
              "      <td>0</td>\n",
              "      <td>4516</td>\n",
              "    </tr>\n",
              "    <tr>\n",
              "      <th>2</th>\n",
              "      <td>289.58</td>\n",
              "      <td>90</td>\n",
              "      <td>1</td>\n",
              "      <td>19</td>\n",
              "      <td>5</td>\n",
              "      <td>0</td>\n",
              "      <td>4767</td>\n",
              "    </tr>\n",
              "    <tr>\n",
              "      <th>3</th>\n",
              "      <td>290.13</td>\n",
              "      <td>90</td>\n",
              "      <td>1</td>\n",
              "      <td>19</td>\n",
              "      <td>5</td>\n",
              "      <td>0</td>\n",
              "      <td>5026</td>\n",
              "    </tr>\n",
              "    <tr>\n",
              "      <th>4</th>\n",
              "      <td>291.14</td>\n",
              "      <td>75</td>\n",
              "      <td>1</td>\n",
              "      <td>2</td>\n",
              "      <td>5</td>\n",
              "      <td>0</td>\n",
              "      <td>4918</td>\n",
              "    </tr>\n",
              "  </tbody>\n",
              "</table>\n",
              "</div>"
            ],
            "text/plain": [
              "     temp  clouds_all  weather_main  weather_description  day  holiday_code  \\\n",
              "0  288.28          40             1                   24    5             0   \n",
              "1  289.36          75             1                    2    5             0   \n",
              "2  289.58          90             1                   19    5             0   \n",
              "3  290.13          90             1                   19    5             0   \n",
              "4  291.14          75             1                    2    5             0   \n",
              "\n",
              "   traffic_vol  \n",
              "0         5545  \n",
              "1         4516  \n",
              "2         4767  \n",
              "3         5026  \n",
              "4         4918  "
            ]
          },
          "metadata": {
            "tags": []
          },
          "execution_count": 14
        }
      ]
    },
    {
      "cell_type": "markdown",
      "metadata": {
        "id": "L6FAn07LiP5C",
        "colab_type": "text"
      },
      "source": [
        "### Train Dataset"
      ]
    },
    {
      "cell_type": "code",
      "metadata": {
        "id": "-84RXK-YiP5D",
        "colab_type": "code",
        "colab": {},
        "outputId": "d4a7b3d9-256f-4cc6-88c1-1b3ed5c614f0"
      },
      "source": [
        "#train data with outlier\n",
        "X1 = df.iloc[:, :-1].values\n",
        "Y1 = df.iloc[:, -1].values\n",
        "\n",
        "(trainX1, testX1, trainY1, testY1)= train_test_split(X1, Y1, random_state=3, test_size=0.25)\n",
        "\n",
        "#train data without oulier\n",
        "A1 = df_no_outlier.iloc[:, :-1].values\n",
        "B1 = df_no_outlier.iloc[:, -1].values\n",
        "\n",
        "(trainA1, testA1, trainB1, testB1)= train_test_split(A1, B1, random_state=3, test_size=0.25)\n",
        "print(\"Berhasil ditrain gans...\")"
      ],
      "execution_count": 0,
      "outputs": [
        {
          "output_type": "stream",
          "text": [
            "Berhasil ditrain gans...\n"
          ],
          "name": "stdout"
        }
      ]
    },
    {
      "cell_type": "code",
      "metadata": {
        "id": "yN1q_VKpiP5G",
        "colab_type": "code",
        "colab": {},
        "outputId": "8229059f-4a3f-4918-bc35-8a36d3b256c9"
      },
      "source": [
        "from sklearn.linear_model import LinearRegression\n",
        "from sklearn.metrics import mean_absolute_error\n",
        "from sklearn.metrics import mean_squared_error\n",
        "import math\n",
        "\n",
        "model = LinearRegression()\n",
        "model.fit(trainX1, trainY1)\n",
        "\n",
        "print('Hasil dari model LinearRegression')\n",
        "print(\"\\nErrornya segini gan yang ada outliernya:\")\n",
        "predictions = model.predict(testX1)\n",
        "print('MAE  =',mean_absolute_error(testY1, predictions))\n",
        "print('MSE  =',mean_squared_error(testY1, predictions))\n",
        "print('RMSE =',math.sqrt(mean_squared_error(testY1, predictions)))\n",
        "print('--------------------------')\n",
        "\n",
        "model.fit(trainA1, trainB1)\n",
        "\n",
        "print(\"Errornya segini gan yang tidak ada outliernya:\")\n",
        "predictions = model.predict(testA1)\n",
        "print('MAE  =',mean_absolute_error(testB1, predictions))\n",
        "print('MSE  =',mean_squared_error(testB1, predictions))\n",
        "print('RMSE =',math.sqrt(mean_squared_error(testB1, predictions)))"
      ],
      "execution_count": 0,
      "outputs": [
        {
          "output_type": "stream",
          "text": [
            "Hasil dari model LinearRegression\n",
            "\n",
            "Errornya segini gan yang ada outliernya:\n",
            "MAE  = 1706.3849124128662\n",
            "MSE  = 3832602.590530008\n",
            "RMSE = 1957.7033969756521\n",
            "--------------------------\n",
            "Errornya segini gan yang tidak ada outliernya:\n",
            "MAE  = 1706.056459045978\n",
            "MSE  = 3828124.0179469106\n",
            "RMSE = 1956.559229348018\n"
          ],
          "name": "stdout"
        }
      ]
    },
    {
      "cell_type": "markdown",
      "metadata": {
        "id": "6ea02SUriP5J",
        "colab_type": "text"
      },
      "source": [
        "### K-Fold Train Dataset"
      ]
    },
    {
      "cell_type": "code",
      "metadata": {
        "id": "MzXDzMNciP5K",
        "colab_type": "code",
        "colab": {}
      },
      "source": [
        "from sklearn.linear_model import LinearRegression\n",
        "from sklearn.model_selection import KFold\n",
        "from sklearn.metrics import mean_absolute_error\n",
        "from sklearn.metrics import mean_squared_error\n",
        "import math\n",
        "from statistics import mean\n",
        "\n",
        "modelsr = {\"linear_r\": LinearRegression()}\n",
        "modnamer = [\"linear_r\"]\n",
        "\n",
        "X2 = df.iloc[:, :-1].values\n",
        "Y2 = df.iloc[:, -1].values\n",
        "A2 = df_no_outlier.iloc[:, :-1].values\n",
        "B2 = df_no_outlier.iloc[:, -1].values\n",
        "\n",
        "def modelkfold(x, y, n, mod):\n",
        "    for i in range(len(mod)):\n",
        "        kf = KFold(n_splits = n)\n",
        "        kf.get_n_splits(x)\n",
        "        model = modelsr[mod[i]]\n",
        "        \n",
        "        meanAbsoluteError = []\n",
        "        meanSquareError = []\n",
        "        rootMeanSquareError = []\n",
        "        j = 0\n",
        "        print('Hasil dari model ' + mod[i] + '\\n')\n",
        "        for train_index, test_index in kf.split(x):\n",
        "            X_train, X_test = x[train_index], x[test_index]\n",
        "            Y_train, Y_test = y[train_index], y[test_index]\n",
        "            \n",
        "            model.fit(X_train, Y_train)\n",
        "            Y_pred = model.predict(X_test)\n",
        "            \n",
        "            meanAbsoluteError.append(mean_absolute_error(Y_test, Y_pred))\n",
        "            meanSquareError.append(mean_squared_error(Y_test, Y_pred))\n",
        "            rootMeanSquareError.append(math.sqrt(mean_squared_error(Y_test, Y_pred)))\n",
        "            \n",
        "            print('Fold ', j+1, ' MAE  = ', meanAbsoluteError[j])\n",
        "            print('Fold ', j+1, ' MSE  = ', meanSquareError[j])\n",
        "            print('Fold ', j+1, ' RMSE = ', rootMeanSquareError[j])\n",
        "            print('-------------------------------------')\n",
        "        \n",
        "            j = j + 1\n",
        "    \n",
        "        print(\"Rata-rata MAE  = \", mean(meanAbsoluteError))\n",
        "        print(\"Rata-rata MSE  = \", mean(meanSquareError))\n",
        "        print(\"Rata-rata RMSE = \", mean(rootMeanSquareError))\n",
        "        print('\\n')"
      ],
      "execution_count": 0,
      "outputs": []
    },
    {
      "cell_type": "code",
      "metadata": {
        "id": "mZOVl86niP5N",
        "colab_type": "code",
        "colab": {},
        "outputId": "a37adace-1f6f-42e5-acc5-cbc890f132e2"
      },
      "source": [
        "modelkfold(X2, Y2, 5, modnamer)"
      ],
      "execution_count": 0,
      "outputs": [
        {
          "output_type": "stream",
          "text": [
            "Hasil dari model linear_r\n",
            "\n",
            "Fold  1  MAE  =  1759.5171635757767\n",
            "Fold  1  MSE  =  4035633.5751005714\n",
            "Fold  1  RMSE =  2008.8886417869387\n",
            "-------------------------------------\n",
            "Fold  2  MAE  =  1693.7708628682428\n",
            "Fold  2  MSE  =  3796919.096092817\n",
            "Fold  2  RMSE =  1948.568473544827\n",
            "-------------------------------------\n",
            "Fold  3  MAE  =  1688.0568958707495\n",
            "Fold  3  MSE  =  3760847.238466727\n",
            "Fold  3  RMSE =  1939.2903956000832\n",
            "-------------------------------------\n",
            "Fold  4  MAE  =  1694.5802157253709\n",
            "Fold  4  MSE  =  3791213.771139775\n",
            "Fold  4  RMSE =  1947.103944616151\n",
            "-------------------------------------\n",
            "Fold  5  MAE  =  1671.2971407402038\n",
            "Fold  5  MSE  =  3697711.791927314\n",
            "Fold  5  RMSE =  1922.9435228126993\n",
            "-------------------------------------\n",
            "Rata-rata MAE  =  1701.4444557560687\n",
            "Rata-rata MSE  =  3816465.0945454407\n",
            "Rata-rata RMSE =  1953.3589956721398\n",
            "\n",
            "\n"
          ],
          "name": "stdout"
        }
      ]
    },
    {
      "cell_type": "code",
      "metadata": {
        "id": "xJMUOwFaiP5P",
        "colab_type": "code",
        "colab": {},
        "outputId": "d426cf53-4075-448a-ad47-981c59fef69d"
      },
      "source": [
        "modelkfold(A2, B2, 5, modnamer)"
      ],
      "execution_count": 0,
      "outputs": [
        {
          "output_type": "stream",
          "text": [
            "Hasil dari model linear_r\n",
            "\n",
            "Fold  1  MAE  =  1758.4078214858414\n",
            "Fold  1  MSE  =  4032915.880461081\n",
            "Fold  1  RMSE =  2008.2121104258586\n",
            "-------------------------------------\n",
            "Fold  2  MAE  =  1691.1436356719319\n",
            "Fold  2  MSE  =  3779818.4239605484\n",
            "Fold  2  RMSE =  1944.1755126429682\n",
            "-------------------------------------\n",
            "Fold  3  MAE  =  1686.8796652192382\n",
            "Fold  3  MSE  =  3762441.602571975\n",
            "Fold  3  RMSE =  1939.7014209851925\n",
            "-------------------------------------\n",
            "Fold  4  MAE  =  1692.6551908813103\n",
            "Fold  4  MSE  =  3788475.2452950864\n",
            "Fold  4  RMSE =  1946.4005870568078\n",
            "-------------------------------------\n",
            "Fold  5  MAE  =  1670.9203791879322\n",
            "Fold  5  MSE  =  3701016.20759889\n",
            "Fold  5  RMSE =  1923.802538619515\n",
            "-------------------------------------\n",
            "Rata-rata MAE  =  1700.0013384892509\n",
            "Rata-rata MSE  =  3812933.471977516\n",
            "Rata-rata RMSE =  1952.4584339460685\n",
            "\n",
            "\n"
          ],
          "name": "stdout"
        }
      ]
    },
    {
      "cell_type": "markdown",
      "metadata": {
        "id": "j0yutiNziP5T",
        "colab_type": "text"
      },
      "source": [
        "------\n",
        "### <center> Simpulan\n",
        "------"
      ]
    },
    {
      "cell_type": "markdown",
      "metadata": {
        "id": "nzXXe4gKiP5U",
        "colab_type": "text"
      },
      "source": [
        "Model LinearRegression dengan K-Fold pada data dengan menghilangkan outlier pada kolom 'temp' menghasilkan MEA, MSE, dan RMSE lebih kecil, sehingga model yang digunakan **model LinearRegression dengan K-Fold dengan data tanpa outlier**"
      ]
    },
    {
      "cell_type": "code",
      "metadata": {
        "id": "mz8iR5OCiP5V",
        "colab_type": "code",
        "colab": {}
      },
      "source": [
        ""
      ],
      "execution_count": 0,
      "outputs": []
    }
  ]
}