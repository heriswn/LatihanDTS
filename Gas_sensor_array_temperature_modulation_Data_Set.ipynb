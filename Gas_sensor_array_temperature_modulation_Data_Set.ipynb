{
  "nbformat": 4,
  "nbformat_minor": 0,
  "metadata": {
    "kernelspec": {
      "display_name": "Python 3",
      "language": "python",
      "name": "python3"
    },
    "language_info": {
      "codemirror_mode": {
        "name": "ipython",
        "version": 3
      },
      "file_extension": ".py",
      "mimetype": "text/x-python",
      "name": "python",
      "nbconvert_exporter": "python",
      "pygments_lexer": "ipython3",
      "version": "3.5.4"
    },
    "colab": {
      "name": "Gas sensor array temperature modulation Data Set.ipynb",
      "version": "0.3.2",
      "provenance": [],
      "include_colab_link": true
    }
  },
  "cells": [
    {
      "cell_type": "markdown",
      "metadata": {
        "id": "view-in-github",
        "colab_type": "text"
      },
      "source": [
        "<a href=\"https://colab.research.google.com/github/heriswn/LatihanDTS/blob/master/Gas_sensor_array_temperature_modulation_Data_Set.ipynb\" target=\"_parent\"><img src=\"https://colab.research.google.com/assets/colab-badge.svg\" alt=\"Open In Colab\"/></a>"
      ]
    },
    {
      "cell_type": "markdown",
      "metadata": {
        "id": "wh0gaxCEZn1I",
        "colab_type": "text"
      },
      "source": [
        "# Gas sensor array temperature modulation Data Set\n",
        "## Abstract\n",
        "Abstract: A chemical detection platform composed of 14 temperature-modulated metal oxide (MOX) gas sensors was exposed during 3 weeks to mixtures of carbon monoxide and humid synthetic air in a gas chamber.\n",
        "## Data Set Information\n",
        "A chemical detection platform composed of 14 temperature-modulated metal oxide semiconductor (MOX) gas sensors was exposed to dynamic mixtures of carbon monoxide (CO) and humid synthetic air in a gas chamber. \n",
        "\n",
        "The acquired time series of the sensors and the measured values of CO concentration, humidity and temperature inside the gas chamber are provided. \n",
        "\n",
        "a) Chemical detection platform: \n",
        "The chemical detection platform was composed of 14 MOX gas sensors that generate a time-dependent multivariate response to the different gas stimuli. \n",
        "The utilized sensors were made commercially available by Figaro Engineering (7 units of TGS 3870-A04) and FIS (7 units of SB-500-12). \n",
        "The operating temperature of the sensors was controlled by the built-in heater, which voltage was modulated in the range 0.2-0.9 V in cycles of 20 and 25 s, following the manufacturer recommendations (0.9 V for 5s, 0.2 V for 20s, 0.9 V for 5 s, 0.2 V for 25 s, ...). \n",
        "The sensors were pre-heated for one week before starting the experiments. \n",
        "The MOX read-out circuits consisted of voltage dividers with 1 MOhm load resistors and powered at 5V. \n",
        "The output voltage of the sensors was sampled at 3.5 Hz using an Agilent HP34970A/34901A DAQ configured at 15 bits of precision and input impedance greater than 10 GOhm. \n",
        "\n",
        "b) Generator of dynamic gas mixtures \n",
        "Dynamic mixtures of CO and humid synthetic air were delivered from high purity gases in cylinders to a small-sized polytetrafluoroethylene (PTFE) test chamber (250 cm3 internal volume), by means of a piping system and mass flow controllers (MFCs). \n",
        "Gas mixing was performed using mass flow controllers (MFC),which controlled three different gas streams (CO, wet air and dry air). These streams were delivered from high quality pressurized \n",
        "gases in cylinders. \n",
        "The selected MFCs (EL-FLOW Select, Bronkhorst) had full scale flow rates of 1000 mln/min for the dry and wet air streams and 3 mln/min for the CO channel. \n",
        "The CO bottle contained 1600 ppm of CO diluted in synthetic air with 21 Â± 1% O2. \n",
        "The relative uncertainty in the generated CO concentration was below 5.5%. \n",
        "The wet and dry air streams were both delivered from a synthetic air bottle with 99.995% purity and 21 Â± 1% O2. \n",
        "Humidification of the wet stream was based on the saturation method using a glass bubbler (Drechsler bottles). \n",
        "\n",
        "c) Temperature/humidity values \n",
        "A temperature/humidity sensor (SHT75, from Sensirion) provided reference humidity and temperature values inside the test chamber with tolerance below 1.8% r.h. and 0.5 ÂºC, respectively, every 5 s. \n",
        "The temperature variations inside the gas chamber, for each experiment, were below 3 ÂºC. \n",
        "\n",
        "d) Experimental protocol: \n",
        "Each experiment consisted on 100 measurements: 10 experimental concentrations uniformly distributed in the range 0-20 ppm and 10 replicates per concentration. \n",
        "Each replicate had a relative humidity randomly chosen from a uniform distribution between 15% and 75% r.h. \n",
        "At the beginning of each experiment, the gas chamber was cleaned for 15 min using a stream of synthetic air at a flow rate of 240 mln/min. \n",
        "After that, the gas mixtures were released in random order at a constant flow rate of 240 mln/min for 15 min each. \n",
        "A single experiment lasted 25 hours (100 samples x 15 minutes/sample) and was replicated on 13 working days spanning a natural period of 17 days.\n",
        "\n",
        "## Atribute information:\n",
        "The dataset is presented in 13 text files, where each file corresponds to a different measurement day. The filenames indicate the timestamp (yyyymmdd_HHMMSS) of the start of the measurements. \n",
        "Each file includes the acquired time series, presented in 20 columns: Time (s), CO concentration (ppm), Humidity (%r.h.), Temperature (ÂºC), Flow rate (mL/min), Heater voltage (V), and the resistance of the 14 gas sensors: R1 (MOhm),R2 (MOhm),R3 (MOhm),R4 (MOhm),R5 (MOhm),R6 (MOhm),R7 (MOhm),R8 (MOhm),R9 (MOhm),R10 (MOhm),R11 (MOhm),R12 (MOhm),R13 (MOhm),R14 (MOhm) \n",
        "Resistance values R1-R7 correspond to FIGARO TGS 3870 A-04 sensors, whereas R8-R14 correspond to FIS SB-500-12 units. \n",
        "The time series are sampled at 3.5 Hz."
      ]
    },
    {
      "cell_type": "code",
      "metadata": {
        "id": "lU_ZqgL9Uhza",
        "colab_type": "code",
        "colab": {}
      },
      "source": [
        "import numpy as np\n",
        "import pandas as pd\n",
        "from sklearn.model_selection import train_test_split\n",
        "from sklearn.linear_model import LinearRegression\n",
        "from sklearn.linear_model import LogisticRegression\n",
        "from sklearn import preprocessing\n",
        "from sklearn import utils"
      ],
      "execution_count": 0,
      "outputs": []
    },
    {
      "cell_type": "code",
      "metadata": {
        "id": "3EWQtT3JUhzg",
        "colab_type": "code",
        "colab": {}
      },
      "source": [
        "df = pd.read_csv('20160930_203718.csv')"
      ],
      "execution_count": 0,
      "outputs": []
    },
    {
      "cell_type": "code",
      "metadata": {
        "id": "Rj0LwJgFUhzk",
        "colab_type": "code",
        "outputId": "3c38d822-f220-449d-fa5a-a85fcd79eb72",
        "colab": {
          "base_uri": "https://localhost:8080/",
          "height": 258
        }
      },
      "source": [
        "df.head()"
      ],
      "execution_count": 0,
      "outputs": [
        {
          "output_type": "execute_result",
          "data": {
            "text/html": [
              "<div>\n",
              "<style scoped>\n",
              "    .dataframe tbody tr th:only-of-type {\n",
              "        vertical-align: middle;\n",
              "    }\n",
              "\n",
              "    .dataframe tbody tr th {\n",
              "        vertical-align: top;\n",
              "    }\n",
              "\n",
              "    .dataframe thead th {\n",
              "        text-align: right;\n",
              "    }\n",
              "</style>\n",
              "<table border=\"1\" class=\"dataframe\">\n",
              "  <thead>\n",
              "    <tr style=\"text-align: right;\">\n",
              "      <th></th>\n",
              "      <th>Time (s)</th>\n",
              "      <th>CO (ppm)</th>\n",
              "      <th>Humidity (%r.h.)</th>\n",
              "      <th>Temperature (C)</th>\n",
              "      <th>Flow rate (mL/min)</th>\n",
              "      <th>Heater voltage (V)</th>\n",
              "      <th>R1 (MOhm)</th>\n",
              "      <th>R2 (MOhm)</th>\n",
              "      <th>R3 (MOhm)</th>\n",
              "      <th>R4 (MOhm)</th>\n",
              "      <th>R5 (MOhm)</th>\n",
              "      <th>R6 (MOhm)</th>\n",
              "      <th>R7 (MOhm)</th>\n",
              "      <th>R8 (MOhm)</th>\n",
              "      <th>R9 (MOhm)</th>\n",
              "      <th>R10 (MOhm)</th>\n",
              "      <th>R11 (MOhm)</th>\n",
              "      <th>R12 (MOhm)</th>\n",
              "      <th>R13 (MOhm)</th>\n",
              "      <th>R14 (MOhm)</th>\n",
              "    </tr>\n",
              "  </thead>\n",
              "  <tbody>\n",
              "    <tr>\n",
              "      <th>0</th>\n",
              "      <td>0.000</td>\n",
              "      <td>0.0</td>\n",
              "      <td>49.7534</td>\n",
              "      <td>23.7184</td>\n",
              "      <td>233.2737</td>\n",
              "      <td>0.8993</td>\n",
              "      <td>0.2231</td>\n",
              "      <td>0.6365</td>\n",
              "      <td>1.1493</td>\n",
              "      <td>0.8483</td>\n",
              "      <td>1.2534</td>\n",
              "      <td>1.4449</td>\n",
              "      <td>1.9906</td>\n",
              "      <td>1.3303</td>\n",
              "      <td>1.4480</td>\n",
              "      <td>1.9148</td>\n",
              "      <td>3.4651</td>\n",
              "      <td>5.2144</td>\n",
              "      <td>6.5806</td>\n",
              "      <td>8.6385</td>\n",
              "    </tr>\n",
              "    <tr>\n",
              "      <th>1</th>\n",
              "      <td>0.309</td>\n",
              "      <td>0.0</td>\n",
              "      <td>55.8400</td>\n",
              "      <td>26.6200</td>\n",
              "      <td>241.6323</td>\n",
              "      <td>0.2112</td>\n",
              "      <td>2.1314</td>\n",
              "      <td>5.3552</td>\n",
              "      <td>9.7569</td>\n",
              "      <td>6.3188</td>\n",
              "      <td>9.4472</td>\n",
              "      <td>10.5769</td>\n",
              "      <td>13.6317</td>\n",
              "      <td>21.9829</td>\n",
              "      <td>16.1902</td>\n",
              "      <td>24.2780</td>\n",
              "      <td>31.1014</td>\n",
              "      <td>34.7193</td>\n",
              "      <td>31.7505</td>\n",
              "      <td>41.9167</td>\n",
              "    </tr>\n",
              "    <tr>\n",
              "      <th>2</th>\n",
              "      <td>0.618</td>\n",
              "      <td>0.0</td>\n",
              "      <td>55.8400</td>\n",
              "      <td>26.6200</td>\n",
              "      <td>241.3888</td>\n",
              "      <td>0.2070</td>\n",
              "      <td>10.5318</td>\n",
              "      <td>22.5612</td>\n",
              "      <td>37.2635</td>\n",
              "      <td>17.7848</td>\n",
              "      <td>33.0704</td>\n",
              "      <td>36.3160</td>\n",
              "      <td>42.5746</td>\n",
              "      <td>49.7495</td>\n",
              "      <td>31.7533</td>\n",
              "      <td>57.7289</td>\n",
              "      <td>53.6275</td>\n",
              "      <td>56.9212</td>\n",
              "      <td>47.8255</td>\n",
              "      <td>62.9436</td>\n",
              "    </tr>\n",
              "    <tr>\n",
              "      <th>3</th>\n",
              "      <td>0.926</td>\n",
              "      <td>0.0</td>\n",
              "      <td>55.8400</td>\n",
              "      <td>26.6200</td>\n",
              "      <td>241.1461</td>\n",
              "      <td>0.2042</td>\n",
              "      <td>29.5749</td>\n",
              "      <td>49.5111</td>\n",
              "      <td>65.6318</td>\n",
              "      <td>26.1447</td>\n",
              "      <td>58.3847</td>\n",
              "      <td>67.5130</td>\n",
              "      <td>68.0064</td>\n",
              "      <td>59.2824</td>\n",
              "      <td>36.7821</td>\n",
              "      <td>66.0832</td>\n",
              "      <td>66.8349</td>\n",
              "      <td>66.9695</td>\n",
              "      <td>50.3730</td>\n",
              "      <td>64.8363</td>\n",
              "    </tr>\n",
              "    <tr>\n",
              "      <th>4</th>\n",
              "      <td>1.234</td>\n",
              "      <td>0.0</td>\n",
              "      <td>55.8400</td>\n",
              "      <td>26.6200</td>\n",
              "      <td>240.9121</td>\n",
              "      <td>0.2030</td>\n",
              "      <td>49.5111</td>\n",
              "      <td>67.0368</td>\n",
              "      <td>77.8317</td>\n",
              "      <td>27.9625</td>\n",
              "      <td>71.7732</td>\n",
              "      <td>79.9474</td>\n",
              "      <td>79.8631</td>\n",
              "      <td>62.5385</td>\n",
              "      <td>39.6271</td>\n",
              "      <td>68.1441</td>\n",
              "      <td>62.0947</td>\n",
              "      <td>49.4614</td>\n",
              "      <td>52.8453</td>\n",
              "      <td>66.8445</td>\n",
              "    </tr>\n",
              "  </tbody>\n",
              "</table>\n",
              "</div>"
            ],
            "text/plain": [
              "   Time (s)  CO (ppm)  Humidity (%r.h.)  ...  R12 (MOhm)  R13 (MOhm)  R14 (MOhm)\n",
              "0     0.000       0.0           49.7534  ...      5.2144      6.5806      8.6385\n",
              "1     0.309       0.0           55.8400  ...     34.7193     31.7505     41.9167\n",
              "2     0.618       0.0           55.8400  ...     56.9212     47.8255     62.9436\n",
              "3     0.926       0.0           55.8400  ...     66.9695     50.3730     64.8363\n",
              "4     1.234       0.0           55.8400  ...     49.4614     52.8453     66.8445\n",
              "\n",
              "[5 rows x 20 columns]"
            ]
          },
          "metadata": {
            "tags": []
          },
          "execution_count": 7
        }
      ]
    },
    {
      "cell_type": "code",
      "metadata": {
        "id": "7wtLcGqcc51c",
        "colab_type": "code",
        "outputId": "d9a7e897-6e71-4ea2-d993-161a7c1b136c",
        "colab": {
          "base_uri": "https://localhost:8080/",
          "height": 334
        }
      },
      "source": [
        "df.describe()"
      ],
      "execution_count": 0,
      "outputs": [
        {
          "output_type": "execute_result",
          "data": {
            "text/html": [
              "<div>\n",
              "<style scoped>\n",
              "    .dataframe tbody tr th:only-of-type {\n",
              "        vertical-align: middle;\n",
              "    }\n",
              "\n",
              "    .dataframe tbody tr th {\n",
              "        vertical-align: top;\n",
              "    }\n",
              "\n",
              "    .dataframe thead th {\n",
              "        text-align: right;\n",
              "    }\n",
              "</style>\n",
              "<table border=\"1\" class=\"dataframe\">\n",
              "  <thead>\n",
              "    <tr style=\"text-align: right;\">\n",
              "      <th></th>\n",
              "      <th>Time (s)</th>\n",
              "      <th>CO (ppm)</th>\n",
              "      <th>Humidity (%r.h.)</th>\n",
              "      <th>Temperature (C)</th>\n",
              "      <th>Flow rate (mL/min)</th>\n",
              "      <th>Heater voltage (V)</th>\n",
              "      <th>R1 (MOhm)</th>\n",
              "      <th>R2 (MOhm)</th>\n",
              "      <th>R3 (MOhm)</th>\n",
              "      <th>R4 (MOhm)</th>\n",
              "      <th>R5 (MOhm)</th>\n",
              "      <th>R6 (MOhm)</th>\n",
              "      <th>R7 (MOhm)</th>\n",
              "      <th>R8 (MOhm)</th>\n",
              "      <th>R9 (MOhm)</th>\n",
              "      <th>R10 (MOhm)</th>\n",
              "      <th>R11 (MOhm)</th>\n",
              "      <th>R12 (MOhm)</th>\n",
              "      <th>R13 (MOhm)</th>\n",
              "      <th>R14 (MOhm)</th>\n",
              "    </tr>\n",
              "  </thead>\n",
              "  <tbody>\n",
              "    <tr>\n",
              "      <th>count</th>\n",
              "      <td>295719.000000</td>\n",
              "      <td>295719.000000</td>\n",
              "      <td>295719.000000</td>\n",
              "      <td>295719.000000</td>\n",
              "      <td>295719.000000</td>\n",
              "      <td>295719.000000</td>\n",
              "      <td>295719.000000</td>\n",
              "      <td>295719.000000</td>\n",
              "      <td>295719.000000</td>\n",
              "      <td>295719.000000</td>\n",
              "      <td>295719.000000</td>\n",
              "      <td>295719.000000</td>\n",
              "      <td>295719.000000</td>\n",
              "      <td>295719.000000</td>\n",
              "      <td>295719.000000</td>\n",
              "      <td>295719.000000</td>\n",
              "      <td>295719.000000</td>\n",
              "      <td>295719.000000</td>\n",
              "      <td>295719.000000</td>\n",
              "      <td>295719.000000</td>\n",
              "    </tr>\n",
              "    <tr>\n",
              "      <th>mean</th>\n",
              "      <td>45457.823660</td>\n",
              "      <td>9.900786</td>\n",
              "      <td>45.966022</td>\n",
              "      <td>26.476381</td>\n",
              "      <td>239.942669</td>\n",
              "      <td>0.355293</td>\n",
              "      <td>14.962249</td>\n",
              "      <td>17.396103</td>\n",
              "      <td>22.233080</td>\n",
              "      <td>18.429670</td>\n",
              "      <td>31.054371</td>\n",
              "      <td>28.773424</td>\n",
              "      <td>31.675358</td>\n",
              "      <td>25.705773</td>\n",
              "      <td>21.295420</td>\n",
              "      <td>25.224047</td>\n",
              "      <td>27.087685</td>\n",
              "      <td>24.833538</td>\n",
              "      <td>21.742677</td>\n",
              "      <td>27.978418</td>\n",
              "    </tr>\n",
              "    <tr>\n",
              "      <th>std</th>\n",
              "      <td>26242.177649</td>\n",
              "      <td>6.429229</td>\n",
              "      <td>12.315889</td>\n",
              "      <td>0.211647</td>\n",
              "      <td>1.947498</td>\n",
              "      <td>0.288663</td>\n",
              "      <td>22.368187</td>\n",
              "      <td>26.648398</td>\n",
              "      <td>28.695365</td>\n",
              "      <td>15.210454</td>\n",
              "      <td>26.675759</td>\n",
              "      <td>27.238787</td>\n",
              "      <td>27.594177</td>\n",
              "      <td>18.652030</td>\n",
              "      <td>16.050916</td>\n",
              "      <td>20.224830</td>\n",
              "      <td>20.191156</td>\n",
              "      <td>18.278996</td>\n",
              "      <td>16.783496</td>\n",
              "      <td>21.642733</td>\n",
              "    </tr>\n",
              "    <tr>\n",
              "      <th>min</th>\n",
              "      <td>0.000000</td>\n",
              "      <td>0.000000</td>\n",
              "      <td>17.500000</td>\n",
              "      <td>23.718400</td>\n",
              "      <td>0.000000</td>\n",
              "      <td>0.199000</td>\n",
              "      <td>0.031500</td>\n",
              "      <td>0.056000</td>\n",
              "      <td>0.054000</td>\n",
              "      <td>0.040200</td>\n",
              "      <td>0.048900</td>\n",
              "      <td>0.048500</td>\n",
              "      <td>0.053400</td>\n",
              "      <td>0.033000</td>\n",
              "      <td>0.029200</td>\n",
              "      <td>0.036600</td>\n",
              "      <td>0.031000</td>\n",
              "      <td>0.032700</td>\n",
              "      <td>0.033000</td>\n",
              "      <td>0.031400</td>\n",
              "    </tr>\n",
              "    <tr>\n",
              "      <th>25%</th>\n",
              "      <td>22727.738500</td>\n",
              "      <td>4.440000</td>\n",
              "      <td>36.170000</td>\n",
              "      <td>26.300000</td>\n",
              "      <td>239.895800</td>\n",
              "      <td>0.200000</td>\n",
              "      <td>0.404800</td>\n",
              "      <td>0.484100</td>\n",
              "      <td>0.586300</td>\n",
              "      <td>2.068300</td>\n",
              "      <td>1.785200</td>\n",
              "      <td>1.582800</td>\n",
              "      <td>1.884400</td>\n",
              "      <td>11.291500</td>\n",
              "      <td>8.375700</td>\n",
              "      <td>7.448500</td>\n",
              "      <td>10.255300</td>\n",
              "      <td>9.384700</td>\n",
              "      <td>7.514900</td>\n",
              "      <td>9.499800</td>\n",
              "    </tr>\n",
              "    <tr>\n",
              "      <th>50%</th>\n",
              "      <td>45460.834000</td>\n",
              "      <td>8.890000</td>\n",
              "      <td>46.670000</td>\n",
              "      <td>26.460000</td>\n",
              "      <td>239.972900</td>\n",
              "      <td>0.200000</td>\n",
              "      <td>1.644100</td>\n",
              "      <td>1.356100</td>\n",
              "      <td>4.055400</td>\n",
              "      <td>18.579600</td>\n",
              "      <td>32.317000</td>\n",
              "      <td>22.990300</td>\n",
              "      <td>31.405400</td>\n",
              "      <td>25.808100</td>\n",
              "      <td>20.664100</td>\n",
              "      <td>23.121100</td>\n",
              "      <td>26.853300</td>\n",
              "      <td>24.903000</td>\n",
              "      <td>20.661400</td>\n",
              "      <td>26.279500</td>\n",
              "    </tr>\n",
              "    <tr>\n",
              "      <th>75%</th>\n",
              "      <td>68177.907000</td>\n",
              "      <td>15.560000</td>\n",
              "      <td>55.330000</td>\n",
              "      <td>26.620000</td>\n",
              "      <td>240.046200</td>\n",
              "      <td>0.207000</td>\n",
              "      <td>25.159500</td>\n",
              "      <td>28.860100</td>\n",
              "      <td>45.099400</td>\n",
              "      <td>29.209800</td>\n",
              "      <td>50.562000</td>\n",
              "      <td>49.605500</td>\n",
              "      <td>52.417400</td>\n",
              "      <td>39.041300</td>\n",
              "      <td>32.778100</td>\n",
              "      <td>39.319400</td>\n",
              "      <td>41.334400</td>\n",
              "      <td>38.116600</td>\n",
              "      <td>33.397600</td>\n",
              "      <td>43.436200</td>\n",
              "    </tr>\n",
              "    <tr>\n",
              "      <th>max</th>\n",
              "      <td>90909.778000</td>\n",
              "      <td>20.000000</td>\n",
              "      <td>71.960000</td>\n",
              "      <td>26.940000</td>\n",
              "      <td>275.180300</td>\n",
              "      <td>0.901000</td>\n",
              "      <td>113.486800</td>\n",
              "      <td>154.629000</td>\n",
              "      <td>182.343300</td>\n",
              "      <td>91.822600</td>\n",
              "      <td>124.194900</td>\n",
              "      <td>138.201900</td>\n",
              "      <td>151.012000</td>\n",
              "      <td>102.826500</td>\n",
              "      <td>84.987700</td>\n",
              "      <td>134.999000</td>\n",
              "      <td>108.852100</td>\n",
              "      <td>90.289400</td>\n",
              "      <td>75.413500</td>\n",
              "      <td>108.663300</td>\n",
              "    </tr>\n",
              "  </tbody>\n",
              "</table>\n",
              "</div>"
            ],
            "text/plain": [
              "            Time (s)       CO (ppm)  ...     R13 (MOhm)     R14 (MOhm)\n",
              "count  295719.000000  295719.000000  ...  295719.000000  295719.000000\n",
              "mean    45457.823660       9.900786  ...      21.742677      27.978418\n",
              "std     26242.177649       6.429229  ...      16.783496      21.642733\n",
              "min         0.000000       0.000000  ...       0.033000       0.031400\n",
              "25%     22727.738500       4.440000  ...       7.514900       9.499800\n",
              "50%     45460.834000       8.890000  ...      20.661400      26.279500\n",
              "75%     68177.907000      15.560000  ...      33.397600      43.436200\n",
              "max     90909.778000      20.000000  ...      75.413500     108.663300\n",
              "\n",
              "[8 rows x 20 columns]"
            ]
          },
          "metadata": {
            "tags": []
          },
          "execution_count": 8
        }
      ]
    },
    {
      "cell_type": "code",
      "metadata": {
        "id": "NNi-z79sUhzq",
        "colab_type": "code",
        "outputId": "17aa5b00-08e2-46cd-a124-618465ac4d23",
        "colab": {
          "base_uri": "https://localhost:8080/",
          "height": 442
        }
      },
      "source": [
        "df.info()"
      ],
      "execution_count": 0,
      "outputs": [
        {
          "output_type": "stream",
          "text": [
            "<class 'pandas.core.frame.DataFrame'>\n",
            "RangeIndex: 295719 entries, 0 to 295718\n",
            "Data columns (total 20 columns):\n",
            "Time (s)              295719 non-null float64\n",
            "CO (ppm)              295719 non-null float64\n",
            "Humidity (%r.h.)      295719 non-null float64\n",
            "Temperature (C)       295719 non-null float64\n",
            "Flow rate (mL/min)    295719 non-null float64\n",
            "Heater voltage (V)    295719 non-null float64\n",
            "R1 (MOhm)             295719 non-null float64\n",
            "R2 (MOhm)             295719 non-null float64\n",
            "R3 (MOhm)             295719 non-null float64\n",
            "R4 (MOhm)             295719 non-null float64\n",
            "R5 (MOhm)             295719 non-null float64\n",
            "R6 (MOhm)             295719 non-null float64\n",
            "R7 (MOhm)             295719 non-null float64\n",
            "R8 (MOhm)             295719 non-null float64\n",
            "R9 (MOhm)             295719 non-null float64\n",
            "R10 (MOhm)            295719 non-null float64\n",
            "R11 (MOhm)            295719 non-null float64\n",
            "R12 (MOhm)            295719 non-null float64\n",
            "R13 (MOhm)            295719 non-null float64\n",
            "R14 (MOhm)            295719 non-null float64\n",
            "dtypes: float64(20)\n",
            "memory usage: 45.1 MB\n"
          ],
          "name": "stdout"
        }
      ]
    },
    {
      "cell_type": "code",
      "metadata": {
        "id": "v-h1YYpZUhzu",
        "colab_type": "code",
        "outputId": "c4471314-f243-43f5-8c2a-ff0581a2acc4",
        "colab": {
          "base_uri": "https://localhost:8080/",
          "height": 34
        }
      },
      "source": [
        "df.shape"
      ],
      "execution_count": 0,
      "outputs": [
        {
          "output_type": "execute_result",
          "data": {
            "text/plain": [
              "(295719, 20)"
            ]
          },
          "metadata": {
            "tags": []
          },
          "execution_count": 10
        }
      ]
    },
    {
      "cell_type": "code",
      "metadata": {
        "id": "zbz592njUhzz",
        "colab_type": "code",
        "outputId": "dba1ccd7-acee-4ce9-df18-b7fb20227c95",
        "colab": {
          "base_uri": "https://localhost:8080/",
          "height": 34
        }
      },
      "source": [
        "len(df.columns)"
      ],
      "execution_count": 0,
      "outputs": [
        {
          "output_type": "execute_result",
          "data": {
            "text/plain": [
              "20"
            ]
          },
          "metadata": {
            "tags": []
          },
          "execution_count": 11
        }
      ]
    },
    {
      "cell_type": "code",
      "metadata": {
        "id": "oQEIiA2OUhz3",
        "colab_type": "code",
        "outputId": "622cb39d-13c2-4ffa-bf38-39201578ba45",
        "colab": {
          "base_uri": "https://localhost:8080/",
          "height": 258
        }
      },
      "source": [
        "df.head()"
      ],
      "execution_count": 0,
      "outputs": [
        {
          "output_type": "execute_result",
          "data": {
            "text/html": [
              "<div>\n",
              "<style scoped>\n",
              "    .dataframe tbody tr th:only-of-type {\n",
              "        vertical-align: middle;\n",
              "    }\n",
              "\n",
              "    .dataframe tbody tr th {\n",
              "        vertical-align: top;\n",
              "    }\n",
              "\n",
              "    .dataframe thead th {\n",
              "        text-align: right;\n",
              "    }\n",
              "</style>\n",
              "<table border=\"1\" class=\"dataframe\">\n",
              "  <thead>\n",
              "    <tr style=\"text-align: right;\">\n",
              "      <th></th>\n",
              "      <th>Time (s)</th>\n",
              "      <th>CO (ppm)</th>\n",
              "      <th>Humidity (%r.h.)</th>\n",
              "      <th>Temperature (C)</th>\n",
              "      <th>Flow rate (mL/min)</th>\n",
              "      <th>Heater voltage (V)</th>\n",
              "      <th>R1 (MOhm)</th>\n",
              "      <th>R2 (MOhm)</th>\n",
              "      <th>R3 (MOhm)</th>\n",
              "      <th>R4 (MOhm)</th>\n",
              "      <th>R5 (MOhm)</th>\n",
              "      <th>R6 (MOhm)</th>\n",
              "      <th>R7 (MOhm)</th>\n",
              "      <th>R8 (MOhm)</th>\n",
              "      <th>R9 (MOhm)</th>\n",
              "      <th>R10 (MOhm)</th>\n",
              "      <th>R11 (MOhm)</th>\n",
              "      <th>R12 (MOhm)</th>\n",
              "      <th>R13 (MOhm)</th>\n",
              "      <th>R14 (MOhm)</th>\n",
              "    </tr>\n",
              "  </thead>\n",
              "  <tbody>\n",
              "    <tr>\n",
              "      <th>0</th>\n",
              "      <td>0.000</td>\n",
              "      <td>0.0</td>\n",
              "      <td>49.7534</td>\n",
              "      <td>23.7184</td>\n",
              "      <td>233.2737</td>\n",
              "      <td>0.8993</td>\n",
              "      <td>0.2231</td>\n",
              "      <td>0.6365</td>\n",
              "      <td>1.1493</td>\n",
              "      <td>0.8483</td>\n",
              "      <td>1.2534</td>\n",
              "      <td>1.4449</td>\n",
              "      <td>1.9906</td>\n",
              "      <td>1.3303</td>\n",
              "      <td>1.4480</td>\n",
              "      <td>1.9148</td>\n",
              "      <td>3.4651</td>\n",
              "      <td>5.2144</td>\n",
              "      <td>6.5806</td>\n",
              "      <td>8.6385</td>\n",
              "    </tr>\n",
              "    <tr>\n",
              "      <th>1</th>\n",
              "      <td>0.309</td>\n",
              "      <td>0.0</td>\n",
              "      <td>55.8400</td>\n",
              "      <td>26.6200</td>\n",
              "      <td>241.6323</td>\n",
              "      <td>0.2112</td>\n",
              "      <td>2.1314</td>\n",
              "      <td>5.3552</td>\n",
              "      <td>9.7569</td>\n",
              "      <td>6.3188</td>\n",
              "      <td>9.4472</td>\n",
              "      <td>10.5769</td>\n",
              "      <td>13.6317</td>\n",
              "      <td>21.9829</td>\n",
              "      <td>16.1902</td>\n",
              "      <td>24.2780</td>\n",
              "      <td>31.1014</td>\n",
              "      <td>34.7193</td>\n",
              "      <td>31.7505</td>\n",
              "      <td>41.9167</td>\n",
              "    </tr>\n",
              "    <tr>\n",
              "      <th>2</th>\n",
              "      <td>0.618</td>\n",
              "      <td>0.0</td>\n",
              "      <td>55.8400</td>\n",
              "      <td>26.6200</td>\n",
              "      <td>241.3888</td>\n",
              "      <td>0.2070</td>\n",
              "      <td>10.5318</td>\n",
              "      <td>22.5612</td>\n",
              "      <td>37.2635</td>\n",
              "      <td>17.7848</td>\n",
              "      <td>33.0704</td>\n",
              "      <td>36.3160</td>\n",
              "      <td>42.5746</td>\n",
              "      <td>49.7495</td>\n",
              "      <td>31.7533</td>\n",
              "      <td>57.7289</td>\n",
              "      <td>53.6275</td>\n",
              "      <td>56.9212</td>\n",
              "      <td>47.8255</td>\n",
              "      <td>62.9436</td>\n",
              "    </tr>\n",
              "    <tr>\n",
              "      <th>3</th>\n",
              "      <td>0.926</td>\n",
              "      <td>0.0</td>\n",
              "      <td>55.8400</td>\n",
              "      <td>26.6200</td>\n",
              "      <td>241.1461</td>\n",
              "      <td>0.2042</td>\n",
              "      <td>29.5749</td>\n",
              "      <td>49.5111</td>\n",
              "      <td>65.6318</td>\n",
              "      <td>26.1447</td>\n",
              "      <td>58.3847</td>\n",
              "      <td>67.5130</td>\n",
              "      <td>68.0064</td>\n",
              "      <td>59.2824</td>\n",
              "      <td>36.7821</td>\n",
              "      <td>66.0832</td>\n",
              "      <td>66.8349</td>\n",
              "      <td>66.9695</td>\n",
              "      <td>50.3730</td>\n",
              "      <td>64.8363</td>\n",
              "    </tr>\n",
              "    <tr>\n",
              "      <th>4</th>\n",
              "      <td>1.234</td>\n",
              "      <td>0.0</td>\n",
              "      <td>55.8400</td>\n",
              "      <td>26.6200</td>\n",
              "      <td>240.9121</td>\n",
              "      <td>0.2030</td>\n",
              "      <td>49.5111</td>\n",
              "      <td>67.0368</td>\n",
              "      <td>77.8317</td>\n",
              "      <td>27.9625</td>\n",
              "      <td>71.7732</td>\n",
              "      <td>79.9474</td>\n",
              "      <td>79.8631</td>\n",
              "      <td>62.5385</td>\n",
              "      <td>39.6271</td>\n",
              "      <td>68.1441</td>\n",
              "      <td>62.0947</td>\n",
              "      <td>49.4614</td>\n",
              "      <td>52.8453</td>\n",
              "      <td>66.8445</td>\n",
              "    </tr>\n",
              "  </tbody>\n",
              "</table>\n",
              "</div>"
            ],
            "text/plain": [
              "   Time (s)  CO (ppm)  Humidity (%r.h.)  ...  R12 (MOhm)  R13 (MOhm)  R14 (MOhm)\n",
              "0     0.000       0.0           49.7534  ...      5.2144      6.5806      8.6385\n",
              "1     0.309       0.0           55.8400  ...     34.7193     31.7505     41.9167\n",
              "2     0.618       0.0           55.8400  ...     56.9212     47.8255     62.9436\n",
              "3     0.926       0.0           55.8400  ...     66.9695     50.3730     64.8363\n",
              "4     1.234       0.0           55.8400  ...     49.4614     52.8453     66.8445\n",
              "\n",
              "[5 rows x 20 columns]"
            ]
          },
          "metadata": {
            "tags": []
          },
          "execution_count": 12
        }
      ]
    },
    {
      "cell_type": "code",
      "metadata": {
        "id": "xpdBdwo3Uhz7",
        "colab_type": "code",
        "colab": {}
      },
      "source": [
        "models={\n",
        "    \"logit\": LogisticRegression(solver=\"lbfgs\", multi_class=\"auto\")\n",
        "}"
      ],
      "execution_count": 0,
      "outputs": []
    },
    {
      "cell_type": "code",
      "metadata": {
        "id": "P1RsLpfAUhz-",
        "colab_type": "code",
        "colab": {}
      },
      "source": [
        "#col = ['Temperature (C)']"
      ],
      "execution_count": 0,
      "outputs": []
    },
    {
      "cell_type": "code",
      "metadata": {
        "id": "zAm6Os-1Uh0C",
        "colab_type": "code",
        "colab": {}
      },
      "source": [
        "#cols = ['Heater voltage (V)']"
      ],
      "execution_count": 0,
      "outputs": []
    },
    {
      "cell_type": "code",
      "metadata": {
        "id": "8Qlaj_ydUh0H",
        "colab_type": "code",
        "outputId": "7cc508cf-ad8e-4f00-81b9-9c8a54a88fdc",
        "colab": {
          "base_uri": "https://localhost:8080/",
          "height": 34
        }
      },
      "source": [
        "print('[INFO] loading data...')\n",
        "dataset = df\n",
        "X = df.iloc[:, : -1].values\n",
        "y = df.iloc[:, -1].values\n",
        "\n",
        "(trainX, testX, trainy, testy) = train_test_split(X, y, random_state=3, test_size=0.25)"
      ],
      "execution_count": 0,
      "outputs": [
        {
          "output_type": "stream",
          "text": [
            "[INFO] loading data...\n"
          ],
          "name": "stdout"
        }
      ]
    },
    {
      "cell_type": "code",
      "metadata": {
        "id": "bff_9FrhUh0M",
        "colab_type": "code",
        "outputId": "f3804133-e062-4d4d-9f16-1983da5e4f13",
        "colab": {
          "base_uri": "https://localhost:8080/",
          "height": 377
        }
      },
      "source": [
        "clf = LogisticRegression()\n",
        "clf.fit(X, y)"
      ],
      "execution_count": 0,
      "outputs": [
        {
          "output_type": "stream",
          "text": [
            "/usr/local/lib/python3.6/dist-packages/sklearn/linear_model/logistic.py:432: FutureWarning: Default solver will be changed to 'lbfgs' in 0.22. Specify a solver to silence this warning.\n",
            "  FutureWarning)\n"
          ],
          "name": "stderr"
        },
        {
          "output_type": "error",
          "ename": "ValueError",
          "evalue": "ignored",
          "traceback": [
            "\u001b[0;31m---------------------------------------------------------------------------\u001b[0m",
            "\u001b[0;31mValueError\u001b[0m                                Traceback (most recent call last)",
            "\u001b[0;32m<ipython-input-17-01bb788c7c79>\u001b[0m in \u001b[0;36m<module>\u001b[0;34m()\u001b[0m\n\u001b[1;32m      1\u001b[0m \u001b[0mclf\u001b[0m \u001b[0;34m=\u001b[0m \u001b[0mLogisticRegression\u001b[0m\u001b[0;34m(\u001b[0m\u001b[0;34m)\u001b[0m\u001b[0;34m\u001b[0m\u001b[0;34m\u001b[0m\u001b[0m\n\u001b[0;32m----> 2\u001b[0;31m \u001b[0mclf\u001b[0m\u001b[0;34m.\u001b[0m\u001b[0mfit\u001b[0m\u001b[0;34m(\u001b[0m\u001b[0mX\u001b[0m\u001b[0;34m,\u001b[0m \u001b[0my\u001b[0m\u001b[0;34m)\u001b[0m\u001b[0;34m\u001b[0m\u001b[0;34m\u001b[0m\u001b[0m\n\u001b[0m",
            "\u001b[0;32m/usr/local/lib/python3.6/dist-packages/sklearn/linear_model/logistic.py\u001b[0m in \u001b[0;36mfit\u001b[0;34m(self, X, y, sample_weight)\u001b[0m\n\u001b[1;32m   1531\u001b[0m         X, y = check_X_y(X, y, accept_sparse='csr', dtype=_dtype, order=\"C\",\n\u001b[1;32m   1532\u001b[0m                          accept_large_sparse=solver != 'liblinear')\n\u001b[0;32m-> 1533\u001b[0;31m         \u001b[0mcheck_classification_targets\u001b[0m\u001b[0;34m(\u001b[0m\u001b[0my\u001b[0m\u001b[0;34m)\u001b[0m\u001b[0;34m\u001b[0m\u001b[0;34m\u001b[0m\u001b[0m\n\u001b[0m\u001b[1;32m   1534\u001b[0m         \u001b[0mself\u001b[0m\u001b[0;34m.\u001b[0m\u001b[0mclasses_\u001b[0m \u001b[0;34m=\u001b[0m \u001b[0mnp\u001b[0m\u001b[0;34m.\u001b[0m\u001b[0munique\u001b[0m\u001b[0;34m(\u001b[0m\u001b[0my\u001b[0m\u001b[0;34m)\u001b[0m\u001b[0;34m\u001b[0m\u001b[0;34m\u001b[0m\u001b[0m\n\u001b[1;32m   1535\u001b[0m         \u001b[0mn_samples\u001b[0m\u001b[0;34m,\u001b[0m \u001b[0mn_features\u001b[0m \u001b[0;34m=\u001b[0m \u001b[0mX\u001b[0m\u001b[0;34m.\u001b[0m\u001b[0mshape\u001b[0m\u001b[0;34m\u001b[0m\u001b[0;34m\u001b[0m\u001b[0m\n",
            "\u001b[0;32m/usr/local/lib/python3.6/dist-packages/sklearn/utils/multiclass.py\u001b[0m in \u001b[0;36mcheck_classification_targets\u001b[0;34m(y)\u001b[0m\n\u001b[1;32m    167\u001b[0m     if y_type not in ['binary', 'multiclass', 'multiclass-multioutput',\n\u001b[1;32m    168\u001b[0m                       'multilabel-indicator', 'multilabel-sequences']:\n\u001b[0;32m--> 169\u001b[0;31m         \u001b[0;32mraise\u001b[0m \u001b[0mValueError\u001b[0m\u001b[0;34m(\u001b[0m\u001b[0;34m\"Unknown label type: %r\"\u001b[0m \u001b[0;34m%\u001b[0m \u001b[0my_type\u001b[0m\u001b[0;34m)\u001b[0m\u001b[0;34m\u001b[0m\u001b[0;34m\u001b[0m\u001b[0m\n\u001b[0m\u001b[1;32m    170\u001b[0m \u001b[0;34m\u001b[0m\u001b[0m\n\u001b[1;32m    171\u001b[0m \u001b[0;34m\u001b[0m\u001b[0m\n",
            "\u001b[0;31mValueError\u001b[0m: Unknown label type: 'continuous'"
          ]
        }
      ]
    },
    {
      "cell_type": "code",
      "metadata": {
        "id": "NuFEDnr2Uh0Q",
        "colab_type": "code",
        "colab": {}
      },
      "source": [
        "lab_enc = preprocessing.LabelEncoder()\n",
        "training_scores_encoded = lab_enc.fit_transform(y)\n",
        "print(training_scores_encoded)\n",
        "print(utils.multiclass.type_of_target(y))\n",
        "print(utils.multiclass.type_of_target(y.astype('int')))\n",
        "print(utils.multiclass.type_of_target(training_scores_encoded))"
      ],
      "execution_count": 0,
      "outputs": []
    },
    {
      "cell_type": "code",
      "metadata": {
        "id": "rNkDT_5jUh0W",
        "colab_type": "code",
        "colab": {}
      },
      "source": [
        "#clf = LogisticRegression()\n",
        "#clf.fit(X, training_scores_encoded)\n",
        "#print(\"LogisticRegression\")\n",
        "#print(clf.predict(prediction_data_test))"
      ],
      "execution_count": 0,
      "outputs": []
    },
    {
      "cell_type": "code",
      "metadata": {
        "id": "iqk6JFLnUh0a",
        "colab_type": "code",
        "colab": {}
      },
      "source": [
        "#model = LinearRegression()"
      ],
      "execution_count": 0,
      "outputs": []
    },
    {
      "cell_type": "code",
      "metadata": {
        "id": "Ax0e6W69Uh0d",
        "colab_type": "code",
        "colab": {}
      },
      "source": [
        "#model.fit(x, y)"
      ],
      "execution_count": 0,
      "outputs": []
    },
    {
      "cell_type": "code",
      "metadata": {
        "id": "ih0nZWk_Uh0h",
        "colab_type": "code",
        "colab": {}
      },
      "source": [
        "#model = LinearRegression().fit(x, y)"
      ],
      "execution_count": 0,
      "outputs": []
    },
    {
      "cell_type": "code",
      "metadata": {
        "id": "UOes122yUh0k",
        "colab_type": "code",
        "colab": {}
      },
      "source": [
        "#r_sq = model.score(x, y)"
      ],
      "execution_count": 0,
      "outputs": []
    },
    {
      "cell_type": "code",
      "metadata": {
        "id": "rDops6mDUh0o",
        "colab_type": "code",
        "colab": {}
      },
      "source": [
        "#print('coefficient of determination:', r_sq)"
      ],
      "execution_count": 0,
      "outputs": []
    },
    {
      "cell_type": "code",
      "metadata": {
        "id": "vEHYDVJfUh0r",
        "colab_type": "code",
        "colab": {}
      },
      "source": [
        "#print('intercept:', model.intercept_)"
      ],
      "execution_count": 0,
      "outputs": []
    },
    {
      "cell_type": "code",
      "metadata": {
        "id": "RKu_l_6HUh0y",
        "colab_type": "code",
        "colab": {}
      },
      "source": [
        "#print('slope:', model.coef_)"
      ],
      "execution_count": 0,
      "outputs": []
    },
    {
      "cell_type": "code",
      "metadata": {
        "id": "X781N_BeUh06",
        "colab_type": "code",
        "colab": {}
      },
      "source": [
        "from sklearn.metrics import mean_absolute_error\n",
        "\n",
        "model = models[\"logit\"]\n",
        "model.fit(trainX, trainy)\n",
        "\n",
        "print(\"[INFO] evaluation...\")\n",
        "predictions = model.predict(testX)\n",
        "print(mean_absolute_error(testy, predictions))"
      ],
      "execution_count": 0,
      "outputs": []
    },
    {
      "cell_type": "code",
      "metadata": {
        "id": "-xaRZ4CQUh1C",
        "colab_type": "code",
        "colab": {}
      },
      "source": [
        ""
      ],
      "execution_count": 0,
      "outputs": []
    },
    {
      "cell_type": "code",
      "metadata": {
        "id": "VHK7n3E_Uh1F",
        "colab_type": "code",
        "colab": {}
      },
      "source": [
        ""
      ],
      "execution_count": 0,
      "outputs": []
    },
    {
      "cell_type": "code",
      "metadata": {
        "id": "_rLAYxZ7Uh1I",
        "colab_type": "code",
        "colab": {}
      },
      "source": [
        ""
      ],
      "execution_count": 0,
      "outputs": []
    }
  ]
}