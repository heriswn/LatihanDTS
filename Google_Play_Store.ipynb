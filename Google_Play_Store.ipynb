{
  "nbformat": 4,
  "nbformat_minor": 0,
  "metadata": {
    "colab": {
      "name": "Google Play Store",
      "version": "0.3.2",
      "provenance": [],
      "include_colab_link": true
    },
    "kernelspec": {
      "name": "python3",
      "display_name": "Python 3"
    }
  },
  "cells": [
    {
      "cell_type": "markdown",
      "metadata": {
        "id": "view-in-github",
        "colab_type": "text"
      },
      "source": [
        "<a href=\"https://colab.research.google.com/github/heriswn/LatihanDTS/blob/master/Google_Play_Store.ipynb\" target=\"_parent\"><img src=\"https://colab.research.google.com/assets/colab-badge.svg\" alt=\"Open In Colab\"/></a>"
      ]
    },
    {
      "cell_type": "code",
      "metadata": {
        "id": "s_p-dISfEfrH",
        "colab_type": "code",
        "colab": {}
      },
      "source": [
        "import numpy as np\n",
        "import pandas as pd\n",
        "import scipy as sp\n",
        "import matplotlib as plt\n",
        "import seaborn as sns"
      ],
      "execution_count": 0,
      "outputs": []
    },
    {
      "cell_type": "code",
      "metadata": {
        "id": "3KYWSW61FyD7",
        "colab_type": "code",
        "colab": {}
      },
      "source": [
        "data=pd.read_csv(\"googleplaystore.csv\")"
      ],
      "execution_count": 0,
      "outputs": []
    },
    {
      "cell_type": "code",
      "metadata": {
        "id": "3eY7ddoTGdIC",
        "colab_type": "code",
        "colab": {
          "base_uri": "https://localhost:8080/",
          "height": 267
        },
        "outputId": "f273cf2b-fca6-4c98-b948-1323ab1c94ab"
      },
      "source": [
        "data.head(2)"
      ],
      "execution_count": 84,
      "outputs": [
        {
          "output_type": "execute_result",
          "data": {
            "text/html": [
              "<div>\n",
              "<style scoped>\n",
              "    .dataframe tbody tr th:only-of-type {\n",
              "        vertical-align: middle;\n",
              "    }\n",
              "\n",
              "    .dataframe tbody tr th {\n",
              "        vertical-align: top;\n",
              "    }\n",
              "\n",
              "    .dataframe thead th {\n",
              "        text-align: right;\n",
              "    }\n",
              "</style>\n",
              "<table border=\"1\" class=\"dataframe\">\n",
              "  <thead>\n",
              "    <tr style=\"text-align: right;\">\n",
              "      <th></th>\n",
              "      <th>App</th>\n",
              "      <th>Category</th>\n",
              "      <th>Rating</th>\n",
              "      <th>Reviews</th>\n",
              "      <th>Size</th>\n",
              "      <th>Installs</th>\n",
              "      <th>Type</th>\n",
              "      <th>Price</th>\n",
              "      <th>Content Rating</th>\n",
              "      <th>Genres</th>\n",
              "      <th>Last Updated</th>\n",
              "      <th>Current Ver</th>\n",
              "      <th>Android Ver</th>\n",
              "    </tr>\n",
              "  </thead>\n",
              "  <tbody>\n",
              "    <tr>\n",
              "      <th>0</th>\n",
              "      <td>Photo Editor &amp; Candy Camera &amp; Grid &amp; ScrapBook</td>\n",
              "      <td>ART_AND_DESIGN</td>\n",
              "      <td>4.1</td>\n",
              "      <td>159</td>\n",
              "      <td>19M</td>\n",
              "      <td>10,000+</td>\n",
              "      <td>Free</td>\n",
              "      <td>0</td>\n",
              "      <td>Everyone</td>\n",
              "      <td>Art &amp; Design</td>\n",
              "      <td>January 7, 2018</td>\n",
              "      <td>1.0.0</td>\n",
              "      <td>4.0.3 and up</td>\n",
              "    </tr>\n",
              "    <tr>\n",
              "      <th>1</th>\n",
              "      <td>Coloring book moana</td>\n",
              "      <td>ART_AND_DESIGN</td>\n",
              "      <td>3.9</td>\n",
              "      <td>967</td>\n",
              "      <td>14M</td>\n",
              "      <td>500,000+</td>\n",
              "      <td>Free</td>\n",
              "      <td>0</td>\n",
              "      <td>Everyone</td>\n",
              "      <td>Art &amp; Design;Pretend Play</td>\n",
              "      <td>January 15, 2018</td>\n",
              "      <td>2.0.0</td>\n",
              "      <td>4.0.3 and up</td>\n",
              "    </tr>\n",
              "  </tbody>\n",
              "</table>\n",
              "</div>"
            ],
            "text/plain": [
              "                                              App  ...   Android Ver\n",
              "0  Photo Editor & Candy Camera & Grid & ScrapBook  ...  4.0.3 and up\n",
              "1                             Coloring book moana  ...  4.0.3 and up\n",
              "\n",
              "[2 rows x 13 columns]"
            ]
          },
          "metadata": {
            "tags": []
          },
          "execution_count": 84
        }
      ]
    },
    {
      "cell_type": "markdown",
      "metadata": {
        "id": "lGWfmAU2XLkx",
        "colab_type": "text"
      },
      "source": [
        "# Eksplorasi setiap feature\n",
        "(data memiliki 12 tipe objek dan 1 tipe numerik)\n",
        "\n",
        "1. Size\n",
        "2. Installs\n",
        "3. Reviews\n",
        "4. Rating\n",
        "5. Type\n",
        "6. Price\n",
        "7. Category\n",
        "8. Content Rating\n",
        "9. Genres\n",
        "10. Last Updated\n",
        "11. Current Version\n",
        "12. Android Version"
      ]
    },
    {
      "cell_type": "markdown",
      "metadata": {
        "id": "4YEaTTf7Xfae",
        "colab_type": "text"
      },
      "source": [
        "## Size"
      ]
    },
    {
      "cell_type": "code",
      "metadata": {
        "id": "Sg-zkypYG7Bu",
        "colab_type": "code",
        "colab": {
          "base_uri": "https://localhost:8080/",
          "height": 1000
        },
        "outputId": "429124ba-4e82-40cd-d0ba-658cc4809f89"
      },
      "source": [
        "data.Size.value_counts()"
      ],
      "execution_count": 85,
      "outputs": [
        {
          "output_type": "execute_result",
          "data": {
            "text/plain": [
              "Varies with device    1695\n",
              "11M                    198\n",
              "12M                    196\n",
              "14M                    194\n",
              "13M                    191\n",
              "15M                    184\n",
              "17M                    160\n",
              "19M                    154\n",
              "16M                    149\n",
              "26M                    149\n",
              "25M                    143\n",
              "20M                    139\n",
              "21M                    138\n",
              "24M                    136\n",
              "10M                    136\n",
              "18M                    133\n",
              "23M                    117\n",
              "22M                    114\n",
              "29M                    103\n",
              "27M                     97\n",
              "28M                     95\n",
              "30M                     84\n",
              "33M                     79\n",
              "3.3M                    77\n",
              "37M                     76\n",
              "35M                     72\n",
              "31M                     70\n",
              "2.9M                    69\n",
              "2.3M                    68\n",
              "2.5M                    68\n",
              "                      ... \n",
              "241k                     1\n",
              "259k                     1\n",
              "597k                     1\n",
              "885k                     1\n",
              "540k                     1\n",
              "782k                     1\n",
              "270k                     1\n",
              "226k                     1\n",
              "720k                     1\n",
              "11k                      1\n",
              "516k                     1\n",
              "953k                     1\n",
              "970k                     1\n",
              "170k                     1\n",
              "924k                     1\n",
              "41k                      1\n",
              "801k                     1\n",
              "756k                     1\n",
              "444k                     1\n",
              "234k                     1\n",
              "544k                     1\n",
              "809k                     1\n",
              "208k                     1\n",
              "954k                     1\n",
              "200k                     1\n",
              "582k                     1\n",
              "609k                     1\n",
              "14k                      1\n",
              "976k                     1\n",
              "860k                     1\n",
              "Name: Size, Length: 462, dtype: int64"
            ]
          },
          "metadata": {
            "tags": []
          },
          "execution_count": 85
        }
      ]
    },
    {
      "cell_type": "markdown",
      "metadata": {
        "id": "XU-fWvHXXzBA",
        "colab_type": "text"
      },
      "source": [
        "Dapat dilihat ada satuan kilo (k) dan Mega (M). Replace k dan M dengan nilai sesuai nilainya."
      ]
    },
    {
      "cell_type": "code",
      "metadata": {
        "id": "9eTdlwGaYW5q",
        "colab_type": "code",
        "colab": {
          "base_uri": "https://localhost:8080/",
          "height": 1000
        },
        "outputId": "a9e81ce4-df40-46c1-b222-29946ff9b3ad"
      },
      "source": [
        "data.Size=data.Size.str.replace('k','e+3')\n",
        "data.Size=data.Size.str.replace('M','e+6')\n",
        "data.Size"
      ],
      "execution_count": 86,
      "outputs": [
        {
          "output_type": "execute_result",
          "data": {
            "text/plain": [
              "0                     19e+6\n",
              "1                     14e+6\n",
              "2                    8.7e+6\n",
              "3                     25e+6\n",
              "4                    2.8e+6\n",
              "5                    5.6e+6\n",
              "6                     19e+6\n",
              "7                     29e+6\n",
              "8                     33e+6\n",
              "9                    3.1e+6\n",
              "10                    28e+6\n",
              "11                    12e+6\n",
              "12                    20e+6\n",
              "13                    21e+6\n",
              "14                    37e+6\n",
              "15                   2.7e+6\n",
              "16                   5.5e+6\n",
              "17                    17e+6\n",
              "18                    39e+6\n",
              "19                    31e+6\n",
              "20                    14e+6\n",
              "21                    12e+6\n",
              "22                   4.2e+6\n",
              "23                   7.0e+6\n",
              "24                    23e+6\n",
              "25                   6.0e+6\n",
              "26                    25e+6\n",
              "27                   6.1e+6\n",
              "28                   4.6e+6\n",
              "29                   4.2e+6\n",
              "                ...        \n",
              "10811                3.9e+6\n",
              "10812                 13e+6\n",
              "10813                2.7e+6\n",
              "10814                 31e+6\n",
              "10815                4.9e+6\n",
              "10816                6.8e+6\n",
              "10817                8.0e+6\n",
              "10818                1.5e+6\n",
              "10819                3.6e+6\n",
              "10820                8.6e+6\n",
              "10821                2.5e+6\n",
              "10822                3.1e+6\n",
              "10823                2.9e+6\n",
              "10824                 82e+6\n",
              "10825                7.7e+6\n",
              "10826    Varies with device\n",
              "10827                 13e+6\n",
              "10828                 13e+6\n",
              "10829                7.4e+6\n",
              "10830                2.3e+6\n",
              "10831                9.8e+6\n",
              "10832                582e+3\n",
              "10833                619e+3\n",
              "10834                2.6e+6\n",
              "10835                9.6e+6\n",
              "10836                 53e+6\n",
              "10837                3.6e+6\n",
              "10838                9.5e+6\n",
              "10839    Varies with device\n",
              "10840                 19e+6\n",
              "Name: Size, Length: 10841, dtype: object"
            ]
          },
          "metadata": {
            "tags": []
          },
          "execution_count": 86
        }
      ]
    },
    {
      "cell_type": "markdown",
      "metadata": {
        "id": "Zoz3F_h2YnpK",
        "colab_type": "text"
      },
      "source": [
        "Kita punya dua tipe nilai dari data Size.\n",
        "1. nilai exponensial (belum di convert ke string)\n",
        "2. Strings (tidak bisa diconvert ke numerik)\n",
        "\n",
        "untuk mengconvert category 1 ke numerik, jadikan category 1 dan 2 sebagai boolean array temp"
      ]
    },
    {
      "cell_type": "code",
      "metadata": {
        "id": "iTIlWBI2Geef",
        "colab_type": "code",
        "colab": {
          "base_uri": "https://localhost:8080/",
          "height": 119
        },
        "outputId": "e29cc695-d26d-4b69-a223-c0886e64ad9e"
      },
      "source": [
        "def is_convertable(v):\n",
        "    try:\n",
        "        float(v)\n",
        "        return True\n",
        "    except ValueError:\n",
        "        return False\n",
        "    \n",
        "temp=data.Size.apply(lambda x: is_convertable(x))\n",
        "temp.head()"
      ],
      "execution_count": 87,
      "outputs": [
        {
          "output_type": "execute_result",
          "data": {
            "text/plain": [
              "0    True\n",
              "1    True\n",
              "2    True\n",
              "3    True\n",
              "4    True\n",
              "Name: Size, dtype: bool"
            ]
          },
          "metadata": {
            "tags": []
          },
          "execution_count": 87
        }
      ]
    },
    {
      "cell_type": "markdown",
      "metadata": {
        "id": "fraM5nZhaHTG",
        "colab_type": "text"
      },
      "source": [
        "Sekarang cek nilai non numerik"
      ]
    },
    {
      "cell_type": "code",
      "metadata": {
        "id": "pxwql9HBaM-m",
        "colab_type": "code",
        "colab": {
          "base_uri": "https://localhost:8080/",
          "height": 68
        },
        "outputId": "89ee60c3-887f-4dd2-f0f7-ba69efb5e61b"
      },
      "source": [
        "data.Size[~temp].value_counts()"
      ],
      "execution_count": 88,
      "outputs": [
        {
          "output_type": "execute_result",
          "data": {
            "text/plain": [
              "Varies with device    1695\n",
              "1,000+                   1\n",
              "Name: Size, dtype: int64"
            ]
          },
          "metadata": {
            "tags": []
          },
          "execution_count": 88
        }
      ]
    },
    {
      "cell_type": "markdown",
      "metadata": {
        "id": "tU0ejgQ7ab4W",
        "colab_type": "text"
      },
      "source": [
        "* Replace 'Varies with device' oleh nan dan\n",
        "* convert 1000+ to 1000 jadi numerik"
      ]
    },
    {
      "cell_type": "code",
      "metadata": {
        "id": "2e9RIL23GwWS",
        "colab_type": "code",
        "colab": {}
      },
      "source": [
        "data.Size=data.Size.replace('Varies with device',np.nan)\n",
        "data.Size=data.Size.replace('1,000+',1000)"
      ],
      "execution_count": 0,
      "outputs": []
    },
    {
      "cell_type": "markdown",
      "metadata": {
        "id": "PhJKlbUOawu_",
        "colab_type": "text"
      },
      "source": [
        "Convert data Size setelah dibersihkan"
      ]
    },
    {
      "cell_type": "code",
      "metadata": {
        "id": "iiHoWEnfa4VO",
        "colab_type": "code",
        "colab": {}
      },
      "source": [
        "data.Size=pd.to_numeric(data.Size)"
      ],
      "execution_count": 0,
      "outputs": []
    },
    {
      "cell_type": "markdown",
      "metadata": {
        "id": "Xp_29SdYbRU_",
        "colab_type": "text"
      },
      "source": [
        "## Installs"
      ]
    },
    {
      "cell_type": "markdown",
      "metadata": {
        "id": "7A7ujNUobU38",
        "colab_type": "text"
      },
      "source": [
        "Cek nilai unik dalam data install"
      ]
    },
    {
      "cell_type": "code",
      "metadata": {
        "id": "hNg59iZ1dxAH",
        "colab_type": "code",
        "colab": {
          "base_uri": "https://localhost:8080/",
          "height": 34
        },
        "outputId": "51766a58-416a-443c-a9b3-b4ad776898cd"
      },
      "source": [
        "data.Installs.shape"
      ],
      "execution_count": 91,
      "outputs": [
        {
          "output_type": "execute_result",
          "data": {
            "text/plain": [
              "(10841,)"
            ]
          },
          "metadata": {
            "tags": []
          },
          "execution_count": 91
        }
      ]
    },
    {
      "cell_type": "code",
      "metadata": {
        "id": "gHV3VnKMHYjf",
        "colab_type": "code",
        "colab": {
          "base_uri": "https://localhost:8080/",
          "height": 408
        },
        "outputId": "4450211b-f327-4920-9a18-3525e26400fc"
      },
      "source": [
        "data.Installs.value_counts()"
      ],
      "execution_count": 92,
      "outputs": [
        {
          "output_type": "execute_result",
          "data": {
            "text/plain": [
              "1,000,000+        1579\n",
              "10,000,000+       1252\n",
              "100,000+          1169\n",
              "10,000+           1054\n",
              "1,000+             907\n",
              "5,000,000+         752\n",
              "100+               719\n",
              "500,000+           539\n",
              "50,000+            479\n",
              "5,000+             477\n",
              "100,000,000+       409\n",
              "10+                386\n",
              "500+               330\n",
              "50,000,000+        289\n",
              "50+                205\n",
              "5+                  82\n",
              "500,000,000+        72\n",
              "1+                  67\n",
              "1,000,000,000+      58\n",
              "0+                  14\n",
              "0                    1\n",
              "Free                 1\n",
              "Name: Installs, dtype: int64"
            ]
          },
          "metadata": {
            "tags": []
          },
          "execution_count": 92
        }
      ]
    },
    {
      "cell_type": "markdown",
      "metadata": {
        "id": "k54VrlOCbdMA",
        "colab_type": "text"
      },
      "source": [
        "Dapat dilihat ada 22 nilai unik, yaitu\n",
        "* 1 -> 0\n",
        "* 1 -> free (sting)\n",
        "* dan numerik cuma dengan tanda '+' dan ',' yang harus dihapus untuk mengconvert kedalam numerik"
      ]
    },
    {
      "cell_type": "code",
      "metadata": {
        "id": "snm9jpD9bJ_S",
        "colab_type": "code",
        "colab": {
          "base_uri": "https://localhost:8080/",
          "height": 374
        },
        "outputId": "d3d3c30f-d002-47c3-e7a7-a641a72f9815"
      },
      "source": [
        "data.Installs=data.Installs.apply(lambda x: x.strip('+'))\n",
        "data.Installs=data.Installs.apply(lambda x: x.replace(',',''))\n",
        "data.Installs=data.Installs.replace('Free',np.nan)\n",
        "data.Installs.value_counts()"
      ],
      "execution_count": 93,
      "outputs": [
        {
          "output_type": "execute_result",
          "data": {
            "text/plain": [
              "1000000       1579\n",
              "10000000      1252\n",
              "100000        1169\n",
              "10000         1054\n",
              "1000           907\n",
              "5000000        752\n",
              "100            719\n",
              "500000         539\n",
              "50000          479\n",
              "5000           477\n",
              "100000000      409\n",
              "10             386\n",
              "500            330\n",
              "50000000       289\n",
              "50             205\n",
              "5               82\n",
              "500000000       72\n",
              "1               67\n",
              "1000000000      58\n",
              "0               15\n",
              "Name: Installs, dtype: int64"
            ]
          },
          "metadata": {
            "tags": []
          },
          "execution_count": 93
        }
      ]
    },
    {
      "cell_type": "markdown",
      "metadata": {
        "id": "gbjuSQxRcqUn",
        "colab_type": "text"
      },
      "source": [
        "Cek data"
      ]
    },
    {
      "cell_type": "code",
      "metadata": {
        "id": "ubR_5F7JcBxs",
        "colab_type": "code",
        "colab": {
          "base_uri": "https://localhost:8080/",
          "height": 34
        },
        "outputId": "79729920-e9b9-454c-92df-81e667af70a0"
      },
      "source": [
        "data.Installs.str.isnumeric().sum()"
      ],
      "execution_count": 94,
      "outputs": [
        {
          "output_type": "execute_result",
          "data": {
            "text/plain": [
              "10840"
            ]
          },
          "metadata": {
            "tags": []
          },
          "execution_count": 94
        }
      ]
    },
    {
      "cell_type": "markdown",
      "metadata": {
        "id": "CciE2AoCeNK0",
        "colab_type": "text"
      },
      "source": [
        "Artinya ada 1 data yang bukan numerik, yaitu nan (sudah diconvert dari Free ke nan)"
      ]
    },
    {
      "cell_type": "code",
      "metadata": {
        "id": "Z9YHsGkJeKV9",
        "colab_type": "code",
        "colab": {
          "base_uri": "https://localhost:8080/",
          "height": 119
        },
        "outputId": "e460cca6-03dc-42de-9958-f2fd53e54535"
      },
      "source": [
        "data.Installs=pd.to_numeric(data.Installs)\n",
        "data.Installs.head()"
      ],
      "execution_count": 95,
      "outputs": [
        {
          "output_type": "execute_result",
          "data": {
            "text/plain": [
              "0       10000.0\n",
              "1      500000.0\n",
              "2     5000000.0\n",
              "3    50000000.0\n",
              "4      100000.0\n",
              "Name: Installs, dtype: float64"
            ]
          },
          "metadata": {
            "tags": []
          },
          "execution_count": 95
        }
      ]
    },
    {
      "cell_type": "markdown",
      "metadata": {
        "id": "DgZmHYhgetSl",
        "colab_type": "text"
      },
      "source": [
        "## Reviews"
      ]
    },
    {
      "cell_type": "markdown",
      "metadata": {
        "id": "y_rAoDorexs9",
        "colab_type": "text"
      },
      "source": [
        "Cek semua nilai dalam data reviews"
      ]
    },
    {
      "cell_type": "code",
      "metadata": {
        "id": "E1N-paaNf5Te",
        "colab_type": "code",
        "colab": {
          "base_uri": "https://localhost:8080/",
          "height": 119
        },
        "outputId": "c3511a81-5f21-4f03-be0a-4a7bd2f49e42"
      },
      "source": [
        "data.Reviews.head()"
      ],
      "execution_count": 96,
      "outputs": [
        {
          "output_type": "execute_result",
          "data": {
            "text/plain": [
              "0       159\n",
              "1       967\n",
              "2     87510\n",
              "3    215644\n",
              "4       967\n",
              "Name: Reviews, dtype: object"
            ]
          },
          "metadata": {
            "tags": []
          },
          "execution_count": 96
        }
      ]
    },
    {
      "cell_type": "code",
      "metadata": {
        "id": "ONOfhCYOealP",
        "colab_type": "code",
        "colab": {
          "base_uri": "https://localhost:8080/",
          "height": 34
        },
        "outputId": "34df5d5d-2b98-4048-c840-bf93e0fffead"
      },
      "source": [
        "data.Reviews.str.isnumeric().sum()"
      ],
      "execution_count": 97,
      "outputs": [
        {
          "output_type": "execute_result",
          "data": {
            "text/plain": [
              "10840"
            ]
          },
          "metadata": {
            "tags": []
          },
          "execution_count": 97
        }
      ]
    },
    {
      "cell_type": "markdown",
      "metadata": {
        "id": "K_dbeOPqfFBd",
        "colab_type": "text"
      },
      "source": [
        "Artinya ada 1 yang bukan numerik. Kita cari!"
      ]
    },
    {
      "cell_type": "code",
      "metadata": {
        "id": "21j6R1SAe5s0",
        "colab_type": "code",
        "colab": {
          "base_uri": "https://localhost:8080/",
          "height": 185
        },
        "outputId": "f34dfd62-5175-416d-acc0-04f8c5bf7f9d"
      },
      "source": [
        "data[~data.Reviews.str.isnumeric()]"
      ],
      "execution_count": 98,
      "outputs": [
        {
          "output_type": "execute_result",
          "data": {
            "text/html": [
              "<div>\n",
              "<style scoped>\n",
              "    .dataframe tbody tr th:only-of-type {\n",
              "        vertical-align: middle;\n",
              "    }\n",
              "\n",
              "    .dataframe tbody tr th {\n",
              "        vertical-align: top;\n",
              "    }\n",
              "\n",
              "    .dataframe thead th {\n",
              "        text-align: right;\n",
              "    }\n",
              "</style>\n",
              "<table border=\"1\" class=\"dataframe\">\n",
              "  <thead>\n",
              "    <tr style=\"text-align: right;\">\n",
              "      <th></th>\n",
              "      <th>App</th>\n",
              "      <th>Category</th>\n",
              "      <th>Rating</th>\n",
              "      <th>Reviews</th>\n",
              "      <th>Size</th>\n",
              "      <th>Installs</th>\n",
              "      <th>Type</th>\n",
              "      <th>Price</th>\n",
              "      <th>Content Rating</th>\n",
              "      <th>Genres</th>\n",
              "      <th>Last Updated</th>\n",
              "      <th>Current Ver</th>\n",
              "      <th>Android Ver</th>\n",
              "    </tr>\n",
              "  </thead>\n",
              "  <tbody>\n",
              "    <tr>\n",
              "      <th>10472</th>\n",
              "      <td>Life Made WI-Fi Touchscreen Photo Frame</td>\n",
              "      <td>1.9</td>\n",
              "      <td>19.0</td>\n",
              "      <td>3.0M</td>\n",
              "      <td>1000.0</td>\n",
              "      <td>NaN</td>\n",
              "      <td>0</td>\n",
              "      <td>Everyone</td>\n",
              "      <td>NaN</td>\n",
              "      <td>February 11, 2018</td>\n",
              "      <td>1.0.19</td>\n",
              "      <td>4.0 and up</td>\n",
              "      <td>NaN</td>\n",
              "    </tr>\n",
              "  </tbody>\n",
              "</table>\n",
              "</div>"
            ],
            "text/plain": [
              "                                           App Category  ...  Current Ver Android Ver\n",
              "10472  Life Made WI-Fi Touchscreen Photo Frame      1.9  ...   4.0 and up         NaN\n",
              "\n",
              "[1 rows x 13 columns]"
            ]
          },
          "metadata": {
            "tags": []
          },
          "execution_count": 98
        }
      ]
    },
    {
      "cell_type": "markdown",
      "metadata": {
        "id": "ev0DcWoygYUV",
        "colab_type": "text"
      },
      "source": [
        "Kita bisa saja mengubahnya menjadi numerik tetapi datanya aneh (M : jutaan).maka kita bisa drop (baris) data  "
      ]
    },
    {
      "cell_type": "code",
      "metadata": {
        "id": "tHOfY_r2fTSB",
        "colab_type": "code",
        "colab": {}
      },
      "source": [
        "data=data.drop(data.index[10472])"
      ],
      "execution_count": 0,
      "outputs": []
    },
    {
      "cell_type": "markdown",
      "metadata": {
        "id": "XZQ_Py8ng_V_",
        "colab_type": "text"
      },
      "source": [
        "cek baris"
      ]
    },
    {
      "cell_type": "code",
      "metadata": {
        "id": "ij0pRS4Cg3bg",
        "colab_type": "code",
        "colab": {
          "base_uri": "https://localhost:8080/",
          "height": 233
        },
        "outputId": "2e36c548-9e0f-482f-9aa2-436a614a2fa2"
      },
      "source": [
        "data[10471:].head(2)"
      ],
      "execution_count": 100,
      "outputs": [
        {
          "output_type": "execute_result",
          "data": {
            "text/html": [
              "<div>\n",
              "<style scoped>\n",
              "    .dataframe tbody tr th:only-of-type {\n",
              "        vertical-align: middle;\n",
              "    }\n",
              "\n",
              "    .dataframe tbody tr th {\n",
              "        vertical-align: top;\n",
              "    }\n",
              "\n",
              "    .dataframe thead th {\n",
              "        text-align: right;\n",
              "    }\n",
              "</style>\n",
              "<table border=\"1\" class=\"dataframe\">\n",
              "  <thead>\n",
              "    <tr style=\"text-align: right;\">\n",
              "      <th></th>\n",
              "      <th>App</th>\n",
              "      <th>Category</th>\n",
              "      <th>Rating</th>\n",
              "      <th>Reviews</th>\n",
              "      <th>Size</th>\n",
              "      <th>Installs</th>\n",
              "      <th>Type</th>\n",
              "      <th>Price</th>\n",
              "      <th>Content Rating</th>\n",
              "      <th>Genres</th>\n",
              "      <th>Last Updated</th>\n",
              "      <th>Current Ver</th>\n",
              "      <th>Android Ver</th>\n",
              "    </tr>\n",
              "  </thead>\n",
              "  <tbody>\n",
              "    <tr>\n",
              "      <th>10471</th>\n",
              "      <td>Xposed Wi-Fi-Pwd</td>\n",
              "      <td>PERSONALIZATION</td>\n",
              "      <td>3.5</td>\n",
              "      <td>1042</td>\n",
              "      <td>404000.0</td>\n",
              "      <td>100000.0</td>\n",
              "      <td>Free</td>\n",
              "      <td>0</td>\n",
              "      <td>Everyone</td>\n",
              "      <td>Personalization</td>\n",
              "      <td>August 5, 2014</td>\n",
              "      <td>3.0.0</td>\n",
              "      <td>4.0.3 and up</td>\n",
              "    </tr>\n",
              "    <tr>\n",
              "      <th>10473</th>\n",
              "      <td>osmino Wi-Fi: free WiFi</td>\n",
              "      <td>TOOLS</td>\n",
              "      <td>4.2</td>\n",
              "      <td>134203</td>\n",
              "      <td>4100000.0</td>\n",
              "      <td>10000000.0</td>\n",
              "      <td>Free</td>\n",
              "      <td>0</td>\n",
              "      <td>Everyone</td>\n",
              "      <td>Tools</td>\n",
              "      <td>August 7, 2018</td>\n",
              "      <td>6.06.14</td>\n",
              "      <td>4.4 and up</td>\n",
              "    </tr>\n",
              "  </tbody>\n",
              "</table>\n",
              "</div>"
            ],
            "text/plain": [
              "                           App         Category  ...  Current Ver   Android Ver\n",
              "10471         Xposed Wi-Fi-Pwd  PERSONALIZATION  ...        3.0.0  4.0.3 and up\n",
              "10473  osmino Wi-Fi: free WiFi            TOOLS  ...      6.06.14    4.4 and up\n",
              "\n",
              "[2 rows x 13 columns]"
            ]
          },
          "metadata": {
            "tags": []
          },
          "execution_count": 100
        }
      ]
    },
    {
      "cell_type": "code",
      "metadata": {
        "id": "cT9cMHAQhCLE",
        "colab_type": "code",
        "colab": {}
      },
      "source": [
        "data.Reviews=data.Reviews.replace(data.Reviews[~data.Reviews.str.isnumeric()],np.nan)"
      ],
      "execution_count": 0,
      "outputs": []
    },
    {
      "cell_type": "code",
      "metadata": {
        "id": "6mje--_Yhe9w",
        "colab_type": "code",
        "colab": {}
      },
      "source": [
        "data.Reviews=pd.to_numeric(data.Reviews)"
      ],
      "execution_count": 0,
      "outputs": []
    },
    {
      "cell_type": "markdown",
      "metadata": {
        "id": "h7Bt5EQ3hxw6",
        "colab_type": "text"
      },
      "source": [
        "## Rating"
      ]
    },
    {
      "cell_type": "markdown",
      "metadata": {
        "id": "MAyyqnRdh2sT",
        "colab_type": "text"
      },
      "source": [
        "Nilai dari rating diantara 1-5. kita perlu pastikan dengan cara berikut"
      ]
    },
    {
      "cell_type": "code",
      "metadata": {
        "id": "C8Pdo6_Ahhot",
        "colab_type": "code",
        "colab": {
          "base_uri": "https://localhost:8080/",
          "height": 34
        },
        "outputId": "55e032d3-1350-4313-ebf1-3756ec0b1608"
      },
      "source": [
        "print(\"Range: \", data.Rating.min(),\"-\",data.Rating.max())"
      ],
      "execution_count": 104,
      "outputs": [
        {
          "output_type": "stream",
          "text": [
            "Range:  1.0 - 5.0\n"
          ],
          "name": "stdout"
        }
      ]
    },
    {
      "cell_type": "markdown",
      "metadata": {
        "id": "rznqTjnniVyC",
        "colab_type": "text"
      },
      "source": [
        "Cek jenis data untuk melihat apakah perlu dikonversi ke numerik"
      ]
    },
    {
      "cell_type": "code",
      "metadata": {
        "id": "QojDZiGrhrWt",
        "colab_type": "code",
        "colab": {
          "base_uri": "https://localhost:8080/",
          "height": 34
        },
        "outputId": "4bafc06b-6cfb-46ff-92b1-a709cf64f00c"
      },
      "source": [
        "data.Rating.dtype"
      ],
      "execution_count": 105,
      "outputs": [
        {
          "output_type": "execute_result",
          "data": {
            "text/plain": [
              "dtype('float64')"
            ]
          },
          "metadata": {
            "tags": []
          },
          "execution_count": 105
        }
      ]
    },
    {
      "cell_type": "markdown",
      "metadata": {
        "id": "XfU1tEh4ihf7",
        "colab_type": "text"
      },
      "source": [
        "Data sudah numerik. sekarang cek data yang memiliki nilai null"
      ]
    },
    {
      "cell_type": "code",
      "metadata": {
        "id": "S28ZCUZBifoN",
        "colab_type": "code",
        "colab": {
          "base_uri": "https://localhost:8080/",
          "height": 34
        },
        "outputId": "aaffcc82-433d-43bc-856e-42900ceb2a71"
      },
      "source": [
        "print(data.Rating.isna().sum(),\"null values out of\", len(data.Rating))"
      ],
      "execution_count": 106,
      "outputs": [
        {
          "output_type": "stream",
          "text": [
            "1474 null values out of 10840\n"
          ],
          "name": "stdout"
        }
      ]
    },
    {
      "cell_type": "markdown",
      "metadata": {
        "id": "x-AMHuxBi36J",
        "colab_type": "text"
      },
      "source": [
        "## Type"
      ]
    },
    {
      "cell_type": "markdown",
      "metadata": {
        "id": "k2GRlfPli6Xl",
        "colab_type": "text"
      },
      "source": [
        "Cek tipe nilai dan masalah lain"
      ]
    },
    {
      "cell_type": "code",
      "metadata": {
        "id": "mqC_drRiios7",
        "colab_type": "code",
        "colab": {
          "base_uri": "https://localhost:8080/",
          "height": 68
        },
        "outputId": "102db211-6760-4bca-9dda-a15fab66e2c3"
      },
      "source": [
        "data.Type.value_counts()"
      ],
      "execution_count": 108,
      "outputs": [
        {
          "output_type": "execute_result",
          "data": {
            "text/plain": [
              "Free    10039\n",
              "Paid      800\n",
              "Name: Type, dtype: int64"
            ]
          },
          "metadata": {
            "tags": []
          },
          "execution_count": 108
        }
      ]
    },
    {
      "cell_type": "markdown",
      "metadata": {
        "id": "-F5ypAK5jDON",
        "colab_type": "text"
      },
      "source": [
        "Ada dua tipe, yaitu freee dan paid"
      ]
    },
    {
      "cell_type": "code",
      "metadata": {
        "id": "bJttzlpfi0s1",
        "colab_type": "code",
        "colab": {}
      },
      "source": [
        ""
      ],
      "execution_count": 0,
      "outputs": []
    }
  ]
}