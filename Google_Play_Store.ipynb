{
  "nbformat": 4,
  "nbformat_minor": 0,
  "metadata": {
    "colab": {
      "name": "Google Play Store",
      "version": "0.3.2",
      "provenance": [],
      "include_colab_link": true
    },
    "kernelspec": {
      "name": "python3",
      "display_name": "Python 3"
    }
  },
  "cells": [
    {
      "cell_type": "markdown",
      "metadata": {
        "id": "view-in-github",
        "colab_type": "text"
      },
      "source": [
        "<a href=\"https://colab.research.google.com/github/heriswn/LatihanDTS/blob/master/Google_Play_Store.ipynb\" target=\"_parent\"><img src=\"https://colab.research.google.com/assets/colab-badge.svg\" alt=\"Open In Colab\"/></a>"
      ]
    },
    {
      "cell_type": "code",
      "metadata": {
        "id": "s_p-dISfEfrH",
        "colab_type": "code",
        "colab": {}
      },
      "source": [
        "import numpy as np\n",
        "import pandas as pd\n",
        "import scipy as sp\n",
        "import matplotlib as plt\n",
        "import seaborn as sns"
      ],
      "execution_count": 0,
      "outputs": []
    },
    {
      "cell_type": "code",
      "metadata": {
        "id": "3KYWSW61FyD7",
        "colab_type": "code",
        "colab": {}
      },
      "source": [
        "data=pd.read_csv(\"googleplaystore.csv\")"
      ],
      "execution_count": 0,
      "outputs": []
    },
    {
      "cell_type": "code",
      "metadata": {
        "id": "3eY7ddoTGdIC",
        "colab_type": "code",
        "outputId": "97c145b0-f025-4d7a-e138-d36619662200",
        "colab": {
          "base_uri": "https://localhost:8080/",
          "height": 271
        }
      },
      "source": [
        "data.head(2)"
      ],
      "execution_count": 3,
      "outputs": [
        {
          "output_type": "execute_result",
          "data": {
            "text/html": [
              "<div>\n",
              "<style scoped>\n",
              "    .dataframe tbody tr th:only-of-type {\n",
              "        vertical-align: middle;\n",
              "    }\n",
              "\n",
              "    .dataframe tbody tr th {\n",
              "        vertical-align: top;\n",
              "    }\n",
              "\n",
              "    .dataframe thead th {\n",
              "        text-align: right;\n",
              "    }\n",
              "</style>\n",
              "<table border=\"1\" class=\"dataframe\">\n",
              "  <thead>\n",
              "    <tr style=\"text-align: right;\">\n",
              "      <th></th>\n",
              "      <th>App</th>\n",
              "      <th>Category</th>\n",
              "      <th>Rating</th>\n",
              "      <th>Reviews</th>\n",
              "      <th>Size</th>\n",
              "      <th>Installs</th>\n",
              "      <th>Type</th>\n",
              "      <th>Price</th>\n",
              "      <th>Content Rating</th>\n",
              "      <th>Genres</th>\n",
              "      <th>Last Updated</th>\n",
              "      <th>Current Ver</th>\n",
              "      <th>Android Ver</th>\n",
              "    </tr>\n",
              "  </thead>\n",
              "  <tbody>\n",
              "    <tr>\n",
              "      <th>0</th>\n",
              "      <td>Photo Editor &amp; Candy Camera &amp; Grid &amp; ScrapBook</td>\n",
              "      <td>ART_AND_DESIGN</td>\n",
              "      <td>4.1</td>\n",
              "      <td>159</td>\n",
              "      <td>19M</td>\n",
              "      <td>10,000+</td>\n",
              "      <td>Free</td>\n",
              "      <td>0</td>\n",
              "      <td>Everyone</td>\n",
              "      <td>Art &amp; Design</td>\n",
              "      <td>January 7, 2018</td>\n",
              "      <td>1.0.0</td>\n",
              "      <td>4.0.3 and up</td>\n",
              "    </tr>\n",
              "    <tr>\n",
              "      <th>1</th>\n",
              "      <td>Coloring book moana</td>\n",
              "      <td>ART_AND_DESIGN</td>\n",
              "      <td>3.9</td>\n",
              "      <td>967</td>\n",
              "      <td>14M</td>\n",
              "      <td>500,000+</td>\n",
              "      <td>Free</td>\n",
              "      <td>0</td>\n",
              "      <td>Everyone</td>\n",
              "      <td>Art &amp; Design;Pretend Play</td>\n",
              "      <td>January 15, 2018</td>\n",
              "      <td>2.0.0</td>\n",
              "      <td>4.0.3 and up</td>\n",
              "    </tr>\n",
              "  </tbody>\n",
              "</table>\n",
              "</div>"
            ],
            "text/plain": [
              "                                              App  ...   Android Ver\n",
              "0  Photo Editor & Candy Camera & Grid & ScrapBook  ...  4.0.3 and up\n",
              "1                             Coloring book moana  ...  4.0.3 and up\n",
              "\n",
              "[2 rows x 13 columns]"
            ]
          },
          "metadata": {
            "tags": []
          },
          "execution_count": 3
        }
      ]
    },
    {
      "cell_type": "code",
      "metadata": {
        "id": "vEbMGAFMruc2",
        "colab_type": "code",
        "colab": {
          "base_uri": "https://localhost:8080/",
          "height": 276
        },
        "outputId": "55c860a1-31fd-4002-ecfc-7d45e82861cf"
      },
      "source": [
        "data.isnull().sum()"
      ],
      "execution_count": 4,
      "outputs": [
        {
          "output_type": "execute_result",
          "data": {
            "text/plain": [
              "App                  0\n",
              "Category             0\n",
              "Rating            1474\n",
              "Reviews              0\n",
              "Size                 0\n",
              "Installs             0\n",
              "Type                 1\n",
              "Price                0\n",
              "Content Rating       1\n",
              "Genres               0\n",
              "Last Updated         0\n",
              "Current Ver          8\n",
              "Android Ver          3\n",
              "dtype: int64"
            ]
          },
          "metadata": {
            "tags": []
          },
          "execution_count": 4
        }
      ]
    },
    {
      "cell_type": "markdown",
      "metadata": {
        "id": "lGWfmAU2XLkx",
        "colab_type": "text"
      },
      "source": [
        "# Eksplorasi setiap feature\n",
        "(data memiliki 12 tipe objek dan 1 tipe numerik)\n",
        "\n",
        "1. Size\n",
        "2. Installs\n",
        "3. Reviews\n",
        "4. Rating\n",
        "5. Type\n",
        "6. Price\n",
        "7. Category\n",
        "8. Content Rating\n",
        "9. Genres\n",
        "10. Last Updated\n",
        "11. Current Version\n",
        "12. Android Version"
      ]
    },
    {
      "cell_type": "markdown",
      "metadata": {
        "id": "4YEaTTf7Xfae",
        "colab_type": "text"
      },
      "source": [
        "## Size"
      ]
    },
    {
      "cell_type": "code",
      "metadata": {
        "id": "UZhSADj9rk6E",
        "colab_type": "code",
        "colab": {
          "base_uri": "https://localhost:8080/",
          "height": 276
        },
        "outputId": "e7537939-1da8-412b-8da9-e9abce7b53b1"
      },
      "source": [
        "data.isnull().sum()"
      ],
      "execution_count": 5,
      "outputs": [
        {
          "output_type": "execute_result",
          "data": {
            "text/plain": [
              "App                  0\n",
              "Category             0\n",
              "Rating            1474\n",
              "Reviews              0\n",
              "Size                 0\n",
              "Installs             0\n",
              "Type                 1\n",
              "Price                0\n",
              "Content Rating       1\n",
              "Genres               0\n",
              "Last Updated         0\n",
              "Current Ver          8\n",
              "Android Ver          3\n",
              "dtype: int64"
            ]
          },
          "metadata": {
            "tags": []
          },
          "execution_count": 5
        }
      ]
    },
    {
      "cell_type": "code",
      "metadata": {
        "id": "Sg-zkypYG7Bu",
        "colab_type": "code",
        "outputId": "09b03e9f-89ff-45ef-d377-fb0140aa3553",
        "colab": {
          "base_uri": "https://localhost:8080/",
          "height": 128
        }
      },
      "source": [
        "data.Size.value_counts()\n",
        "data.Size.head()"
      ],
      "execution_count": 6,
      "outputs": [
        {
          "output_type": "execute_result",
          "data": {
            "text/plain": [
              "0     19M\n",
              "1     14M\n",
              "2    8.7M\n",
              "3     25M\n",
              "4    2.8M\n",
              "Name: Size, dtype: object"
            ]
          },
          "metadata": {
            "tags": []
          },
          "execution_count": 6
        }
      ]
    },
    {
      "cell_type": "markdown",
      "metadata": {
        "id": "XU-fWvHXXzBA",
        "colab_type": "text"
      },
      "source": [
        "Dapat dilihat ada satuan kilo (k) dan Mega (M). Replace k dan M dengan nilai sesuai nilainya."
      ]
    },
    {
      "cell_type": "code",
      "metadata": {
        "id": "9eTdlwGaYW5q",
        "colab_type": "code",
        "outputId": "b25f611e-a8e9-4e31-b92a-f1386bf908f9",
        "colab": {
          "base_uri": "https://localhost:8080/",
          "height": 1000
        }
      },
      "source": [
        "data.Size=data.Size.str.replace('k','e+3')\n",
        "data.Size=data.Size.str.replace('M','e+6')\n",
        "data.Size"
      ],
      "execution_count": 7,
      "outputs": [
        {
          "output_type": "execute_result",
          "data": {
            "text/plain": [
              "0                     19e+6\n",
              "1                     14e+6\n",
              "2                    8.7e+6\n",
              "3                     25e+6\n",
              "4                    2.8e+6\n",
              "5                    5.6e+6\n",
              "6                     19e+6\n",
              "7                     29e+6\n",
              "8                     33e+6\n",
              "9                    3.1e+6\n",
              "10                    28e+6\n",
              "11                    12e+6\n",
              "12                    20e+6\n",
              "13                    21e+6\n",
              "14                    37e+6\n",
              "15                   2.7e+6\n",
              "16                   5.5e+6\n",
              "17                    17e+6\n",
              "18                    39e+6\n",
              "19                    31e+6\n",
              "20                    14e+6\n",
              "21                    12e+6\n",
              "22                   4.2e+6\n",
              "23                   7.0e+6\n",
              "24                    23e+6\n",
              "25                   6.0e+6\n",
              "26                    25e+6\n",
              "27                   6.1e+6\n",
              "28                   4.6e+6\n",
              "29                   4.2e+6\n",
              "                ...        \n",
              "10811                3.9e+6\n",
              "10812                 13e+6\n",
              "10813                2.7e+6\n",
              "10814                 31e+6\n",
              "10815                4.9e+6\n",
              "10816                6.8e+6\n",
              "10817                8.0e+6\n",
              "10818                1.5e+6\n",
              "10819                3.6e+6\n",
              "10820                8.6e+6\n",
              "10821                2.5e+6\n",
              "10822                3.1e+6\n",
              "10823                2.9e+6\n",
              "10824                 82e+6\n",
              "10825                7.7e+6\n",
              "10826    Varies with device\n",
              "10827                 13e+6\n",
              "10828                 13e+6\n",
              "10829                7.4e+6\n",
              "10830                2.3e+6\n",
              "10831                9.8e+6\n",
              "10832                582e+3\n",
              "10833                619e+3\n",
              "10834                2.6e+6\n",
              "10835                9.6e+6\n",
              "10836                 53e+6\n",
              "10837                3.6e+6\n",
              "10838                9.5e+6\n",
              "10839    Varies with device\n",
              "10840                 19e+6\n",
              "Name: Size, Length: 10841, dtype: object"
            ]
          },
          "metadata": {
            "tags": []
          },
          "execution_count": 7
        }
      ]
    },
    {
      "cell_type": "markdown",
      "metadata": {
        "id": "Zoz3F_h2YnpK",
        "colab_type": "text"
      },
      "source": [
        "Kita punya dua tipe nilai dari data Size.\n",
        "1. nilai exponensial (belum di convert ke string)\n",
        "2. Strings (tidak bisa diconvert ke numerik)\n",
        "\n",
        "untuk mengconvert category 1 ke numerik, jadikan category 1 dan 2 sebagai boolean array temp"
      ]
    },
    {
      "cell_type": "code",
      "metadata": {
        "id": "iTIlWBI2Geef",
        "colab_type": "code",
        "outputId": "13b43a98-4432-4853-e881-7e79d14adc34",
        "colab": {
          "base_uri": "https://localhost:8080/",
          "height": 128
        }
      },
      "source": [
        "def is_convertable(v):\n",
        "    try:\n",
        "        float(v)\n",
        "        return True\n",
        "    except ValueError:\n",
        "        return False\n",
        "    \n",
        "temp=data.Size.apply(lambda x: is_convertable(x))\n",
        "temp.head()"
      ],
      "execution_count": 8,
      "outputs": [
        {
          "output_type": "execute_result",
          "data": {
            "text/plain": [
              "0    True\n",
              "1    True\n",
              "2    True\n",
              "3    True\n",
              "4    True\n",
              "Name: Size, dtype: bool"
            ]
          },
          "metadata": {
            "tags": []
          },
          "execution_count": 8
        }
      ]
    },
    {
      "cell_type": "markdown",
      "metadata": {
        "id": "fraM5nZhaHTG",
        "colab_type": "text"
      },
      "source": [
        "Sekarang cek nilai non numerik"
      ]
    },
    {
      "cell_type": "code",
      "metadata": {
        "id": "pxwql9HBaM-m",
        "colab_type": "code",
        "outputId": "a49c9cae-cb91-4f89-e089-c6f58b7fe465",
        "colab": {
          "base_uri": "https://localhost:8080/",
          "height": 72
        }
      },
      "source": [
        "data.Size[~temp].value_counts()"
      ],
      "execution_count": 9,
      "outputs": [
        {
          "output_type": "execute_result",
          "data": {
            "text/plain": [
              "Varies with device    1695\n",
              "1,000+                   1\n",
              "Name: Size, dtype: int64"
            ]
          },
          "metadata": {
            "tags": []
          },
          "execution_count": 9
        }
      ]
    },
    {
      "cell_type": "markdown",
      "metadata": {
        "id": "tU0ejgQ7ab4W",
        "colab_type": "text"
      },
      "source": [
        "* Replace 'Varies with device' oleh nan dan\n",
        "* convert 1000+ to 1000 jadi numerik"
      ]
    },
    {
      "cell_type": "code",
      "metadata": {
        "id": "2e9RIL23GwWS",
        "colab_type": "code",
        "colab": {}
      },
      "source": [
        "data.Size=data.Size.replace('Varies with device',np.nan)\n",
        "data.Size=data.Size.replace('1,000+',1000)"
      ],
      "execution_count": 0,
      "outputs": []
    },
    {
      "cell_type": "markdown",
      "metadata": {
        "id": "PhJKlbUOawu_",
        "colab_type": "text"
      },
      "source": [
        "Convert data Size setelah dibersihkan"
      ]
    },
    {
      "cell_type": "code",
      "metadata": {
        "id": "iiHoWEnfa4VO",
        "colab_type": "code",
        "colab": {}
      },
      "source": [
        "data.Size=pd.to_numeric(data.Size)"
      ],
      "execution_count": 0,
      "outputs": []
    },
    {
      "cell_type": "code",
      "metadata": {
        "id": "gp5pYtiMsI9k",
        "colab_type": "code",
        "colab": {
          "base_uri": "https://localhost:8080/",
          "height": 276
        },
        "outputId": "98f3de66-5371-47b1-c2f2-36adc4f699bd"
      },
      "source": [
        "data.isnull().sum()"
      ],
      "execution_count": 12,
      "outputs": [
        {
          "output_type": "execute_result",
          "data": {
            "text/plain": [
              "App                  0\n",
              "Category             0\n",
              "Rating            1474\n",
              "Reviews              0\n",
              "Size              1695\n",
              "Installs             0\n",
              "Type                 1\n",
              "Price                0\n",
              "Content Rating       1\n",
              "Genres               0\n",
              "Last Updated         0\n",
              "Current Ver          8\n",
              "Android Ver          3\n",
              "dtype: int64"
            ]
          },
          "metadata": {
            "tags": []
          },
          "execution_count": 12
        }
      ]
    },
    {
      "cell_type": "markdown",
      "metadata": {
        "id": "Xp_29SdYbRU_",
        "colab_type": "text"
      },
      "source": [
        "## Installs"
      ]
    },
    {
      "cell_type": "markdown",
      "metadata": {
        "id": "7A7ujNUobU38",
        "colab_type": "text"
      },
      "source": [
        "Cek nilai unik dalam data install"
      ]
    },
    {
      "cell_type": "code",
      "metadata": {
        "id": "hNg59iZ1dxAH",
        "colab_type": "code",
        "outputId": "8652c73a-7d21-415f-db3e-9d4c20408493",
        "colab": {
          "base_uri": "https://localhost:8080/",
          "height": 35
        }
      },
      "source": [
        "data.Installs.shape"
      ],
      "execution_count": 13,
      "outputs": [
        {
          "output_type": "execute_result",
          "data": {
            "text/plain": [
              "(10841,)"
            ]
          },
          "metadata": {
            "tags": []
          },
          "execution_count": 13
        }
      ]
    },
    {
      "cell_type": "code",
      "metadata": {
        "id": "gHV3VnKMHYjf",
        "colab_type": "code",
        "outputId": "0a83343d-0229-4063-abff-4a7a4ddcda01",
        "colab": {
          "base_uri": "https://localhost:8080/",
          "height": 442
        }
      },
      "source": [
        "data.Installs.value_counts()"
      ],
      "execution_count": 14,
      "outputs": [
        {
          "output_type": "execute_result",
          "data": {
            "text/plain": [
              "1,000,000+        1579\n",
              "10,000,000+       1252\n",
              "100,000+          1169\n",
              "10,000+           1054\n",
              "1,000+             907\n",
              "5,000,000+         752\n",
              "100+               719\n",
              "500,000+           539\n",
              "50,000+            479\n",
              "5,000+             477\n",
              "100,000,000+       409\n",
              "10+                386\n",
              "500+               330\n",
              "50,000,000+        289\n",
              "50+                205\n",
              "5+                  82\n",
              "500,000,000+        72\n",
              "1+                  67\n",
              "1,000,000,000+      58\n",
              "0+                  14\n",
              "Free                 1\n",
              "0                    1\n",
              "Name: Installs, dtype: int64"
            ]
          },
          "metadata": {
            "tags": []
          },
          "execution_count": 14
        }
      ]
    },
    {
      "cell_type": "markdown",
      "metadata": {
        "id": "k54VrlOCbdMA",
        "colab_type": "text"
      },
      "source": [
        "Dapat dilihat ada 22 nilai unik, yaitu\n",
        "* 1 -> 0\n",
        "* 1 -> free (sting)\n",
        "* dan numerik cuma dengan tanda '+' dan ',' yang harus dihapus untuk mengconvert kedalam numerik"
      ]
    },
    {
      "cell_type": "code",
      "metadata": {
        "id": "snm9jpD9bJ_S",
        "colab_type": "code",
        "outputId": "cfc5061b-c4f5-4161-f7e2-4e2a41b33c9d",
        "colab": {
          "base_uri": "https://localhost:8080/",
          "height": 405
        }
      },
      "source": [
        "data.Installs=data.Installs.apply(lambda x: x.strip('+'))\n",
        "data.Installs=data.Installs.apply(lambda x: x.replace(',',''))\n",
        "data.Installs=data.Installs.replace('Free',np.nan)\n",
        "data.Installs.value_counts()"
      ],
      "execution_count": 15,
      "outputs": [
        {
          "output_type": "execute_result",
          "data": {
            "text/plain": [
              "1000000       1579\n",
              "10000000      1252\n",
              "100000        1169\n",
              "10000         1054\n",
              "1000           907\n",
              "5000000        752\n",
              "100            719\n",
              "500000         539\n",
              "50000          479\n",
              "5000           477\n",
              "100000000      409\n",
              "10             386\n",
              "500            330\n",
              "50000000       289\n",
              "50             205\n",
              "5               82\n",
              "500000000       72\n",
              "1               67\n",
              "1000000000      58\n",
              "0               15\n",
              "Name: Installs, dtype: int64"
            ]
          },
          "metadata": {
            "tags": []
          },
          "execution_count": 15
        }
      ]
    },
    {
      "cell_type": "markdown",
      "metadata": {
        "id": "gbjuSQxRcqUn",
        "colab_type": "text"
      },
      "source": [
        "Cek data"
      ]
    },
    {
      "cell_type": "code",
      "metadata": {
        "id": "ubR_5F7JcBxs",
        "colab_type": "code",
        "outputId": "078dedc3-ae99-46e8-e663-1e4349b05a13",
        "colab": {
          "base_uri": "https://localhost:8080/",
          "height": 35
        }
      },
      "source": [
        "data.Installs.str.isnumeric().sum()"
      ],
      "execution_count": 16,
      "outputs": [
        {
          "output_type": "execute_result",
          "data": {
            "text/plain": [
              "10840"
            ]
          },
          "metadata": {
            "tags": []
          },
          "execution_count": 16
        }
      ]
    },
    {
      "cell_type": "markdown",
      "metadata": {
        "id": "CciE2AoCeNK0",
        "colab_type": "text"
      },
      "source": [
        "Artinya ada 1 data yang bukan numerik, yaitu nan (sudah diconvert dari Free ke nan)"
      ]
    },
    {
      "cell_type": "code",
      "metadata": {
        "id": "Z9YHsGkJeKV9",
        "colab_type": "code",
        "outputId": "1e19dcfb-575a-48d0-a466-b3c45c708f32",
        "colab": {
          "base_uri": "https://localhost:8080/",
          "height": 128
        }
      },
      "source": [
        "data.Installs=pd.to_numeric(data.Installs)\n",
        "data.Installs.head()"
      ],
      "execution_count": 17,
      "outputs": [
        {
          "output_type": "execute_result",
          "data": {
            "text/plain": [
              "0       10000.0\n",
              "1      500000.0\n",
              "2     5000000.0\n",
              "3    50000000.0\n",
              "4      100000.0\n",
              "Name: Installs, dtype: float64"
            ]
          },
          "metadata": {
            "tags": []
          },
          "execution_count": 17
        }
      ]
    },
    {
      "cell_type": "markdown",
      "metadata": {
        "id": "DgZmHYhgetSl",
        "colab_type": "text"
      },
      "source": [
        "## Reviews"
      ]
    },
    {
      "cell_type": "markdown",
      "metadata": {
        "id": "y_rAoDorexs9",
        "colab_type": "text"
      },
      "source": [
        "Cek semua nilai dalam data reviews"
      ]
    },
    {
      "cell_type": "code",
      "metadata": {
        "id": "E1N-paaNf5Te",
        "colab_type": "code",
        "outputId": "ba9148b9-b643-4b09-ee18-aa2f96295630",
        "colab": {
          "base_uri": "https://localhost:8080/",
          "height": 128
        }
      },
      "source": [
        "data.Reviews.head()"
      ],
      "execution_count": 18,
      "outputs": [
        {
          "output_type": "execute_result",
          "data": {
            "text/plain": [
              "0       159\n",
              "1       967\n",
              "2     87510\n",
              "3    215644\n",
              "4       967\n",
              "Name: Reviews, dtype: object"
            ]
          },
          "metadata": {
            "tags": []
          },
          "execution_count": 18
        }
      ]
    },
    {
      "cell_type": "code",
      "metadata": {
        "id": "ONOfhCYOealP",
        "colab_type": "code",
        "outputId": "855dba43-15a0-4a54-df7f-d760d9f091bd",
        "colab": {
          "base_uri": "https://localhost:8080/",
          "height": 35
        }
      },
      "source": [
        "data.Reviews.str.isnumeric().sum()"
      ],
      "execution_count": 19,
      "outputs": [
        {
          "output_type": "execute_result",
          "data": {
            "text/plain": [
              "10840"
            ]
          },
          "metadata": {
            "tags": []
          },
          "execution_count": 19
        }
      ]
    },
    {
      "cell_type": "markdown",
      "metadata": {
        "id": "K_dbeOPqfFBd",
        "colab_type": "text"
      },
      "source": [
        "Artinya ada 1 yang bukan numerik. Kita cari!"
      ]
    },
    {
      "cell_type": "code",
      "metadata": {
        "id": "21j6R1SAe5s0",
        "colab_type": "code",
        "outputId": "d8cd0d4c-696b-4b09-b15b-4443d2aec5d2",
        "colab": {
          "base_uri": "https://localhost:8080/",
          "height": 188
        }
      },
      "source": [
        "data[~data.Reviews.str.isnumeric()]"
      ],
      "execution_count": 20,
      "outputs": [
        {
          "output_type": "execute_result",
          "data": {
            "text/html": [
              "<div>\n",
              "<style scoped>\n",
              "    .dataframe tbody tr th:only-of-type {\n",
              "        vertical-align: middle;\n",
              "    }\n",
              "\n",
              "    .dataframe tbody tr th {\n",
              "        vertical-align: top;\n",
              "    }\n",
              "\n",
              "    .dataframe thead th {\n",
              "        text-align: right;\n",
              "    }\n",
              "</style>\n",
              "<table border=\"1\" class=\"dataframe\">\n",
              "  <thead>\n",
              "    <tr style=\"text-align: right;\">\n",
              "      <th></th>\n",
              "      <th>App</th>\n",
              "      <th>Category</th>\n",
              "      <th>Rating</th>\n",
              "      <th>Reviews</th>\n",
              "      <th>Size</th>\n",
              "      <th>Installs</th>\n",
              "      <th>Type</th>\n",
              "      <th>Price</th>\n",
              "      <th>Content Rating</th>\n",
              "      <th>Genres</th>\n",
              "      <th>Last Updated</th>\n",
              "      <th>Current Ver</th>\n",
              "      <th>Android Ver</th>\n",
              "    </tr>\n",
              "  </thead>\n",
              "  <tbody>\n",
              "    <tr>\n",
              "      <th>10472</th>\n",
              "      <td>Life Made WI-Fi Touchscreen Photo Frame</td>\n",
              "      <td>1.9</td>\n",
              "      <td>19.0</td>\n",
              "      <td>3.0M</td>\n",
              "      <td>1000.0</td>\n",
              "      <td>NaN</td>\n",
              "      <td>0</td>\n",
              "      <td>Everyone</td>\n",
              "      <td>NaN</td>\n",
              "      <td>February 11, 2018</td>\n",
              "      <td>1.0.19</td>\n",
              "      <td>4.0 and up</td>\n",
              "      <td>NaN</td>\n",
              "    </tr>\n",
              "  </tbody>\n",
              "</table>\n",
              "</div>"
            ],
            "text/plain": [
              "                                           App Category  ...  Current Ver Android Ver\n",
              "10472  Life Made WI-Fi Touchscreen Photo Frame      1.9  ...   4.0 and up         NaN\n",
              "\n",
              "[1 rows x 13 columns]"
            ]
          },
          "metadata": {
            "tags": []
          },
          "execution_count": 20
        }
      ]
    },
    {
      "cell_type": "markdown",
      "metadata": {
        "id": "ev0DcWoygYUV",
        "colab_type": "text"
      },
      "source": [
        "Kita bisa saja mengubahnya menjadi numerik tetapi datanya aneh (M : jutaan).maka kita bisa drop (baris) data  "
      ]
    },
    {
      "cell_type": "code",
      "metadata": {
        "id": "tHOfY_r2fTSB",
        "colab_type": "code",
        "colab": {}
      },
      "source": [
        "data=data.drop(data.index[10472])"
      ],
      "execution_count": 0,
      "outputs": []
    },
    {
      "cell_type": "markdown",
      "metadata": {
        "id": "XZQ_Py8ng_V_",
        "colab_type": "text"
      },
      "source": [
        "cek baris"
      ]
    },
    {
      "cell_type": "code",
      "metadata": {
        "id": "ij0pRS4Cg3bg",
        "colab_type": "code",
        "outputId": "616c5b08-cf07-4392-b241-a569e485fe23",
        "colab": {
          "base_uri": "https://localhost:8080/",
          "height": 236
        }
      },
      "source": [
        "data[10471:].head(2)"
      ],
      "execution_count": 22,
      "outputs": [
        {
          "output_type": "execute_result",
          "data": {
            "text/html": [
              "<div>\n",
              "<style scoped>\n",
              "    .dataframe tbody tr th:only-of-type {\n",
              "        vertical-align: middle;\n",
              "    }\n",
              "\n",
              "    .dataframe tbody tr th {\n",
              "        vertical-align: top;\n",
              "    }\n",
              "\n",
              "    .dataframe thead th {\n",
              "        text-align: right;\n",
              "    }\n",
              "</style>\n",
              "<table border=\"1\" class=\"dataframe\">\n",
              "  <thead>\n",
              "    <tr style=\"text-align: right;\">\n",
              "      <th></th>\n",
              "      <th>App</th>\n",
              "      <th>Category</th>\n",
              "      <th>Rating</th>\n",
              "      <th>Reviews</th>\n",
              "      <th>Size</th>\n",
              "      <th>Installs</th>\n",
              "      <th>Type</th>\n",
              "      <th>Price</th>\n",
              "      <th>Content Rating</th>\n",
              "      <th>Genres</th>\n",
              "      <th>Last Updated</th>\n",
              "      <th>Current Ver</th>\n",
              "      <th>Android Ver</th>\n",
              "    </tr>\n",
              "  </thead>\n",
              "  <tbody>\n",
              "    <tr>\n",
              "      <th>10471</th>\n",
              "      <td>Xposed Wi-Fi-Pwd</td>\n",
              "      <td>PERSONALIZATION</td>\n",
              "      <td>3.5</td>\n",
              "      <td>1042</td>\n",
              "      <td>404000.0</td>\n",
              "      <td>100000.0</td>\n",
              "      <td>Free</td>\n",
              "      <td>0</td>\n",
              "      <td>Everyone</td>\n",
              "      <td>Personalization</td>\n",
              "      <td>August 5, 2014</td>\n",
              "      <td>3.0.0</td>\n",
              "      <td>4.0.3 and up</td>\n",
              "    </tr>\n",
              "    <tr>\n",
              "      <th>10473</th>\n",
              "      <td>osmino Wi-Fi: free WiFi</td>\n",
              "      <td>TOOLS</td>\n",
              "      <td>4.2</td>\n",
              "      <td>134203</td>\n",
              "      <td>4100000.0</td>\n",
              "      <td>10000000.0</td>\n",
              "      <td>Free</td>\n",
              "      <td>0</td>\n",
              "      <td>Everyone</td>\n",
              "      <td>Tools</td>\n",
              "      <td>August 7, 2018</td>\n",
              "      <td>6.06.14</td>\n",
              "      <td>4.4 and up</td>\n",
              "    </tr>\n",
              "  </tbody>\n",
              "</table>\n",
              "</div>"
            ],
            "text/plain": [
              "                           App         Category  ...  Current Ver   Android Ver\n",
              "10471         Xposed Wi-Fi-Pwd  PERSONALIZATION  ...        3.0.0  4.0.3 and up\n",
              "10473  osmino Wi-Fi: free WiFi            TOOLS  ...      6.06.14    4.4 and up\n",
              "\n",
              "[2 rows x 13 columns]"
            ]
          },
          "metadata": {
            "tags": []
          },
          "execution_count": 22
        }
      ]
    },
    {
      "cell_type": "code",
      "metadata": {
        "id": "cT9cMHAQhCLE",
        "colab_type": "code",
        "colab": {}
      },
      "source": [
        "data.Reviews=data.Reviews.replace(data.Reviews[~data.Reviews.str.isnumeric()],np.nan)"
      ],
      "execution_count": 0,
      "outputs": []
    },
    {
      "cell_type": "code",
      "metadata": {
        "id": "6mje--_Yhe9w",
        "colab_type": "code",
        "colab": {}
      },
      "source": [
        "data.Reviews=pd.to_numeric(data.Reviews)"
      ],
      "execution_count": 0,
      "outputs": []
    },
    {
      "cell_type": "markdown",
      "metadata": {
        "id": "h7Bt5EQ3hxw6",
        "colab_type": "text"
      },
      "source": [
        "## Rating"
      ]
    },
    {
      "cell_type": "markdown",
      "metadata": {
        "id": "MAyyqnRdh2sT",
        "colab_type": "text"
      },
      "source": [
        "Nilai dari rating diantara 1-5. kita perlu pastikan dengan cara berikut"
      ]
    },
    {
      "cell_type": "code",
      "metadata": {
        "id": "C8Pdo6_Ahhot",
        "colab_type": "code",
        "outputId": "16547913-caae-4adc-c74e-eea017beda35",
        "colab": {
          "base_uri": "https://localhost:8080/",
          "height": 35
        }
      },
      "source": [
        "print(\"Range: \", data.Rating.min(),\"-\",data.Rating.max())"
      ],
      "execution_count": 25,
      "outputs": [
        {
          "output_type": "stream",
          "text": [
            "Range:  1.0 - 5.0\n"
          ],
          "name": "stdout"
        }
      ]
    },
    {
      "cell_type": "markdown",
      "metadata": {
        "id": "rznqTjnniVyC",
        "colab_type": "text"
      },
      "source": [
        "Cek jenis data untuk melihat apakah perlu dikonversi ke numerik"
      ]
    },
    {
      "cell_type": "code",
      "metadata": {
        "id": "QojDZiGrhrWt",
        "colab_type": "code",
        "outputId": "9ad2cde0-ee7f-4ad3-d892-9af08c4b8e37",
        "colab": {
          "base_uri": "https://localhost:8080/",
          "height": 35
        }
      },
      "source": [
        "data.Rating.dtype"
      ],
      "execution_count": 26,
      "outputs": [
        {
          "output_type": "execute_result",
          "data": {
            "text/plain": [
              "dtype('float64')"
            ]
          },
          "metadata": {
            "tags": []
          },
          "execution_count": 26
        }
      ]
    },
    {
      "cell_type": "markdown",
      "metadata": {
        "id": "XfU1tEh4ihf7",
        "colab_type": "text"
      },
      "source": [
        "Data sudah numerik. sekarang cek data yang memiliki nilai null"
      ]
    },
    {
      "cell_type": "code",
      "metadata": {
        "id": "S28ZCUZBifoN",
        "colab_type": "code",
        "outputId": "ece6f59a-116f-4ef1-c989-e388c649beaa",
        "colab": {
          "base_uri": "https://localhost:8080/",
          "height": 35
        }
      },
      "source": [
        "print(data.Rating.isna().sum(),\"null values out of\", len(data.Rating))"
      ],
      "execution_count": 27,
      "outputs": [
        {
          "output_type": "stream",
          "text": [
            "1474 null values out of 10840\n"
          ],
          "name": "stdout"
        }
      ]
    },
    {
      "cell_type": "markdown",
      "metadata": {
        "id": "x-AMHuxBi36J",
        "colab_type": "text"
      },
      "source": [
        "## Type"
      ]
    },
    {
      "cell_type": "markdown",
      "metadata": {
        "id": "k2GRlfPli6Xl",
        "colab_type": "text"
      },
      "source": [
        "Cek tipe nilai dan masalah lain"
      ]
    },
    {
      "cell_type": "code",
      "metadata": {
        "id": "mqC_drRiios7",
        "colab_type": "code",
        "outputId": "7cc5996c-a98b-4e7f-b6e9-d008ea2db40a",
        "colab": {
          "base_uri": "https://localhost:8080/",
          "height": 72
        }
      },
      "source": [
        "data.Type.value_counts()"
      ],
      "execution_count": 28,
      "outputs": [
        {
          "output_type": "execute_result",
          "data": {
            "text/plain": [
              "Free    10039\n",
              "Paid      800\n",
              "Name: Type, dtype: int64"
            ]
          },
          "metadata": {
            "tags": []
          },
          "execution_count": 28
        }
      ]
    },
    {
      "cell_type": "markdown",
      "metadata": {
        "id": "-F5ypAK5jDON",
        "colab_type": "text"
      },
      "source": [
        "Ada dua tipe, yaitu free dan paid"
      ]
    },
    {
      "cell_type": "markdown",
      "metadata": {
        "id": "KvHNZHJ_V9Hy",
        "colab_type": "text"
      },
      "source": [
        "### Price"
      ]
    },
    {
      "cell_type": "markdown",
      "metadata": {
        "id": "qfN59feGWt-Q",
        "colab_type": "text"
      },
      "source": [
        "Cek nilai unik dari price"
      ]
    },
    {
      "cell_type": "code",
      "metadata": {
        "id": "bJttzlpfi0s1",
        "colab_type": "code",
        "outputId": "089121b0-9fed-418b-f019-c2438c5ed92f",
        "colab": {
          "base_uri": "https://localhost:8080/",
          "height": 296
        }
      },
      "source": [
        "data.Price.unique()"
      ],
      "execution_count": 29,
      "outputs": [
        {
          "output_type": "execute_result",
          "data": {
            "text/plain": [
              "array(['0', '$4.99', '$3.99', '$6.99', '$1.49', '$2.99', '$7.99', '$5.99',\n",
              "       '$3.49', '$1.99', '$9.99', '$7.49', '$0.99', '$9.00', '$5.49',\n",
              "       '$10.00', '$24.99', '$11.99', '$79.99', '$16.99', '$14.99',\n",
              "       '$1.00', '$29.99', '$12.99', '$2.49', '$10.99', '$1.50', '$19.99',\n",
              "       '$15.99', '$33.99', '$74.99', '$39.99', '$3.95', '$4.49', '$1.70',\n",
              "       '$8.99', '$2.00', '$3.88', '$25.99', '$399.99', '$17.99',\n",
              "       '$400.00', '$3.02', '$1.76', '$4.84', '$4.77', '$1.61', '$2.50',\n",
              "       '$1.59', '$6.49', '$1.29', '$5.00', '$13.99', '$299.99', '$379.99',\n",
              "       '$37.99', '$18.99', '$389.99', '$19.90', '$8.49', '$1.75',\n",
              "       '$14.00', '$4.85', '$46.99', '$109.99', '$154.99', '$3.08',\n",
              "       '$2.59', '$4.80', '$1.96', '$19.40', '$3.90', '$4.59', '$15.46',\n",
              "       '$3.04', '$4.29', '$2.60', '$3.28', '$4.60', '$28.99', '$2.95',\n",
              "       '$2.90', '$1.97', '$200.00', '$89.99', '$2.56', '$30.99', '$3.61',\n",
              "       '$394.99', '$1.26', '$1.20', '$1.04'], dtype=object)"
            ]
          },
          "metadata": {
            "tags": []
          },
          "execution_count": 29
        }
      ]
    },
    {
      "cell_type": "markdown",
      "metadata": {
        "id": "uzDtt9pAW3cL",
        "colab_type": "text"
      },
      "source": [
        "data memiliki simbol $ yangmana seharusnya dihapus dan diubah ke numerik"
      ]
    },
    {
      "cell_type": "code",
      "metadata": {
        "id": "IfMO9bpLUOCB",
        "colab_type": "code",
        "colab": {}
      },
      "source": [
        "data.Price=data.Price.apply(lambda x: x.strip('$'))"
      ],
      "execution_count": 0,
      "outputs": []
    },
    {
      "cell_type": "code",
      "metadata": {
        "id": "v3NCZg5SXHVg",
        "colab_type": "code",
        "colab": {}
      },
      "source": [
        "data.Price=pd.to_numeric(data.Price)"
      ],
      "execution_count": 0,
      "outputs": []
    },
    {
      "cell_type": "markdown",
      "metadata": {
        "id": "oLZMlrCBXtP6",
        "colab_type": "text"
      },
      "source": [
        "### Category"
      ]
    },
    {
      "cell_type": "markdown",
      "metadata": {
        "id": "UD5W_sc0XxvG",
        "colab_type": "text"
      },
      "source": [
        "Cek data"
      ]
    },
    {
      "cell_type": "code",
      "metadata": {
        "id": "MHdLdeJ7XOam",
        "colab_type": "code",
        "outputId": "42938675-f93f-474f-bc18-a01cbc89eb5a",
        "colab": {
          "base_uri": "https://localhost:8080/",
          "height": 203
        }
      },
      "source": [
        "data.Category.unique()"
      ],
      "execution_count": 32,
      "outputs": [
        {
          "output_type": "execute_result",
          "data": {
            "text/plain": [
              "array(['ART_AND_DESIGN', 'AUTO_AND_VEHICLES', 'BEAUTY',\n",
              "       'BOOKS_AND_REFERENCE', 'BUSINESS', 'COMICS', 'COMMUNICATION',\n",
              "       'DATING', 'EDUCATION', 'ENTERTAINMENT', 'EVENTS', 'FINANCE',\n",
              "       'FOOD_AND_DRINK', 'HEALTH_AND_FITNESS', 'HOUSE_AND_HOME',\n",
              "       'LIBRARIES_AND_DEMO', 'LIFESTYLE', 'GAME', 'FAMILY', 'MEDICAL',\n",
              "       'SOCIAL', 'SHOPPING', 'PHOTOGRAPHY', 'SPORTS', 'TRAVEL_AND_LOCAL',\n",
              "       'TOOLS', 'PERSONALIZATION', 'PRODUCTIVITY', 'PARENTING', 'WEATHER',\n",
              "       'VIDEO_PLAYERS', 'NEWS_AND_MAGAZINES', 'MAPS_AND_NAVIGATION'],\n",
              "      dtype=object)"
            ]
          },
          "metadata": {
            "tags": []
          },
          "execution_count": 32
        }
      ]
    },
    {
      "cell_type": "markdown",
      "metadata": {
        "id": "FC2dNDpqYK87",
        "colab_type": "text"
      },
      "source": [
        "Tidak ada data pengulangan atau palsu"
      ]
    },
    {
      "cell_type": "markdown",
      "metadata": {
        "id": "20f1LNJCYTqi",
        "colab_type": "text"
      },
      "source": [
        "### Genres"
      ]
    },
    {
      "cell_type": "markdown",
      "metadata": {
        "id": "fC9-c4q4YWcY",
        "colab_type": "text"
      },
      "source": [
        "Cek data unik"
      ]
    },
    {
      "cell_type": "code",
      "metadata": {
        "id": "zqFgM-7NYZu0",
        "colab_type": "code",
        "outputId": "7e1f50af-7645-4051-d735-986e26820e6f",
        "colab": {
          "base_uri": "https://localhost:8080/",
          "height": 906
        }
      },
      "source": [
        "data.Genres.unique()"
      ],
      "execution_count": 33,
      "outputs": [
        {
          "output_type": "execute_result",
          "data": {
            "text/plain": [
              "array(['Art & Design', 'Art & Design;Pretend Play',\n",
              "       'Art & Design;Creativity', 'Art & Design;Action & Adventure',\n",
              "       'Auto & Vehicles', 'Beauty', 'Books & Reference', 'Business',\n",
              "       'Comics', 'Comics;Creativity', 'Communication', 'Dating',\n",
              "       'Education;Education', 'Education', 'Education;Creativity',\n",
              "       'Education;Music & Video', 'Education;Action & Adventure',\n",
              "       'Education;Pretend Play', 'Education;Brain Games', 'Entertainment',\n",
              "       'Entertainment;Music & Video', 'Entertainment;Brain Games',\n",
              "       'Entertainment;Creativity', 'Events', 'Finance', 'Food & Drink',\n",
              "       'Health & Fitness', 'House & Home', 'Libraries & Demo',\n",
              "       'Lifestyle', 'Lifestyle;Pretend Play',\n",
              "       'Adventure;Action & Adventure', 'Arcade', 'Casual', 'Card',\n",
              "       'Casual;Pretend Play', 'Action', 'Strategy', 'Puzzle', 'Sports',\n",
              "       'Music', 'Word', 'Racing', 'Casual;Creativity',\n",
              "       'Casual;Action & Adventure', 'Simulation', 'Adventure', 'Board',\n",
              "       'Trivia', 'Role Playing', 'Simulation;Education',\n",
              "       'Action;Action & Adventure', 'Casual;Brain Games',\n",
              "       'Simulation;Action & Adventure', 'Educational;Creativity',\n",
              "       'Puzzle;Brain Games', 'Educational;Education', 'Card;Brain Games',\n",
              "       'Educational;Brain Games', 'Educational;Pretend Play',\n",
              "       'Entertainment;Education', 'Casual;Education',\n",
              "       'Music;Music & Video', 'Racing;Action & Adventure',\n",
              "       'Arcade;Pretend Play', 'Role Playing;Action & Adventure',\n",
              "       'Simulation;Pretend Play', 'Puzzle;Creativity',\n",
              "       'Sports;Action & Adventure', 'Educational;Action & Adventure',\n",
              "       'Arcade;Action & Adventure', 'Entertainment;Action & Adventure',\n",
              "       'Puzzle;Action & Adventure', 'Strategy;Action & Adventure',\n",
              "       'Music & Audio;Music & Video', 'Health & Fitness;Education',\n",
              "       'Adventure;Education', 'Board;Brain Games',\n",
              "       'Board;Action & Adventure', 'Board;Pretend Play',\n",
              "       'Casual;Music & Video', 'Role Playing;Pretend Play',\n",
              "       'Entertainment;Pretend Play', 'Video Players & Editors;Creativity',\n",
              "       'Card;Action & Adventure', 'Medical', 'Social', 'Shopping',\n",
              "       'Photography', 'Travel & Local',\n",
              "       'Travel & Local;Action & Adventure', 'Tools', 'Tools;Education',\n",
              "       'Personalization', 'Productivity', 'Parenting',\n",
              "       'Parenting;Music & Video', 'Parenting;Education',\n",
              "       'Parenting;Brain Games', 'Weather', 'Video Players & Editors',\n",
              "       'Video Players & Editors;Music & Video', 'News & Magazines',\n",
              "       'Maps & Navigation', 'Health & Fitness;Action & Adventure',\n",
              "       'Educational', 'Casino', 'Adventure;Brain Games',\n",
              "       'Trivia;Education', 'Lifestyle;Education',\n",
              "       'Books & Reference;Creativity', 'Books & Reference;Education',\n",
              "       'Puzzle;Education', 'Role Playing;Education',\n",
              "       'Role Playing;Brain Games', 'Strategy;Education',\n",
              "       'Racing;Pretend Play', 'Communication;Creativity',\n",
              "       'Strategy;Creativity'], dtype=object)"
            ]
          },
          "metadata": {
            "tags": []
          },
          "execution_count": 33
        }
      ]
    },
    {
      "cell_type": "markdown",
      "metadata": {
        "id": "VMNYhPA5ZAT6",
        "colab_type": "text"
      },
      "source": [
        "data dalam format Categoy;Subcategory.\n",
        "maka kita bagi kedalam dua kolom, satu sebagai category utama dan yang lain kategory kedua, menggunakan '';'' "
      ]
    },
    {
      "cell_type": "markdown",
      "metadata": {
        "id": "Za7iRW5NaTaw",
        "colab_type": "text"
      },
      "source": [
        "* Primary Category"
      ]
    },
    {
      "cell_type": "code",
      "metadata": {
        "id": "kbwLvzPzY0kV",
        "colab_type": "code",
        "outputId": "33d96d8c-93b9-4108-a658-e1199f915506",
        "colab": {
          "base_uri": "https://localhost:8080/",
          "height": 128
        }
      },
      "source": [
        "sep = ';'\n",
        "rest = data.Genres.apply(lambda x: x.split(sep)[0])\n",
        "data['Pri_Genres']=rest\n",
        "data.Pri_Genres.head()"
      ],
      "execution_count": 34,
      "outputs": [
        {
          "output_type": "execute_result",
          "data": {
            "text/plain": [
              "0    Art & Design\n",
              "1    Art & Design\n",
              "2    Art & Design\n",
              "3    Art & Design\n",
              "4    Art & Design\n",
              "Name: Pri_Genres, dtype: object"
            ]
          },
          "metadata": {
            "tags": []
          },
          "execution_count": 34
        }
      ]
    },
    {
      "cell_type": "markdown",
      "metadata": {
        "id": "sLERw0HbaXfk",
        "colab_type": "text"
      },
      "source": [
        "* Secoundary Category"
      ]
    },
    {
      "cell_type": "code",
      "metadata": {
        "id": "dQQuAFCDZ9R9",
        "colab_type": "code",
        "outputId": "b575e7e4-fe75-4c8c-eb41-9aa27aea8fb0",
        "colab": {
          "base_uri": "https://localhost:8080/",
          "height": 128
        }
      },
      "source": [
        "rest = data.Genres.apply(lambda x: x.split(sep)[-1])\n",
        "rest.unique()\n",
        "data['Sec_Genres']=rest\n",
        "data.Sec_Genres.head()"
      ],
      "execution_count": 35,
      "outputs": [
        {
          "output_type": "execute_result",
          "data": {
            "text/plain": [
              "0    Art & Design\n",
              "1    Pretend Play\n",
              "2    Art & Design\n",
              "3    Art & Design\n",
              "4      Creativity\n",
              "Name: Sec_Genres, dtype: object"
            ]
          },
          "metadata": {
            "tags": []
          },
          "execution_count": 35
        }
      ]
    },
    {
      "cell_type": "markdown",
      "metadata": {
        "id": "akfuEr7TapYp",
        "colab_type": "text"
      },
      "source": [
        "Buat grup berdasarkan Primary dan Secondary"
      ]
    },
    {
      "cell_type": "code",
      "metadata": {
        "id": "iugB-52-aMqP",
        "colab_type": "code",
        "outputId": "0cd647f3-4ea2-4f7b-fb1c-2b4a33f7adf9",
        "colab": {
          "base_uri": "https://localhost:8080/",
          "height": 331
        }
      },
      "source": [
        "grouped = data.groupby(['Pri_Genres','Sec_Genres'])\n",
        "grouped.size().head(15)"
      ],
      "execution_count": 36,
      "outputs": [
        {
          "output_type": "execute_result",
          "data": {
            "text/plain": [
              "Pri_Genres       Sec_Genres        \n",
              "Action           Action                365\n",
              "                 Action & Adventure     17\n",
              "Adventure        Action & Adventure     13\n",
              "                 Adventure              75\n",
              "                 Brain Games             1\n",
              "                 Education               2\n",
              "Arcade           Action & Adventure     16\n",
              "                 Arcade                220\n",
              "                 Pretend Play            1\n",
              "Art & Design     Action & Adventure      2\n",
              "                 Art & Design           58\n",
              "                 Creativity              7\n",
              "                 Pretend Play            2\n",
              "Auto & Vehicles  Auto & Vehicles        85\n",
              "Beauty           Beauty                 53\n",
              "dtype: int64"
            ]
          },
          "metadata": {
            "tags": []
          },
          "execution_count": 36
        }
      ]
    },
    {
      "cell_type": "markdown",
      "metadata": {
        "id": "7b4Ai_kEa4Bp",
        "colab_type": "text"
      },
      "source": [
        "buat dua tabel agar lebih dipahami"
      ]
    },
    {
      "cell_type": "code",
      "metadata": {
        "id": "i9b_0fw9a0dh",
        "colab_type": "code",
        "colab": {}
      },
      "source": [
        "twowaytable = pd.crosstab(index=data[\"Pri_Genres\"],columns=data[\"Sec_Genres\"])"
      ],
      "execution_count": 0,
      "outputs": []
    },
    {
      "cell_type": "markdown",
      "metadata": {
        "id": "DDcJ7UXlaGZ6",
        "colab_type": "text"
      },
      "source": [
        "# Checking"
      ]
    },
    {
      "cell_type": "code",
      "metadata": {
        "id": "SCpEEkA61o67",
        "colab_type": "code",
        "colab": {}
      },
      "source": [
        "data = data.drop(columns=['Last Updated','Current Ver','Android Ver'],axis=1)"
      ],
      "execution_count": 0,
      "outputs": []
    },
    {
      "cell_type": "code",
      "metadata": {
        "id": "RNp9ClMwZlVR",
        "colab_type": "code",
        "colab": {}
      },
      "source": [
        "data = data['Rating'] = data['Rating'].fillna(data['Rating'].mean())\n",
        "\n",
        "data.isnull().values.any()"
      ],
      "execution_count": 0,
      "outputs": []
    },
    {
      "cell_type": "code",
      "metadata": {
        "id": "-SafX2Vsggh3",
        "colab_type": "code",
        "colab": {
          "base_uri": "https://localhost:8080/",
          "height": 193
        },
        "outputId": "12fa1b20-a0db-42b8-a86d-b158440a0533"
      },
      "source": [
        "data.isnull().sum().sum()"
      ],
      "execution_count": 1,
      "outputs": [
        {
          "output_type": "error",
          "ename": "NameError",
          "evalue": "ignored",
          "traceback": [
            "\u001b[0;31m---------------------------------------------------------------------------\u001b[0m",
            "\u001b[0;31mNameError\u001b[0m                                 Traceback (most recent call last)",
            "\u001b[0;32m<ipython-input-1-5ae4e689266f>\u001b[0m in \u001b[0;36m<module>\u001b[0;34m()\u001b[0m\n\u001b[0;32m----> 1\u001b[0;31m \u001b[0mdata\u001b[0m\u001b[0;34m.\u001b[0m\u001b[0misnull\u001b[0m\u001b[0;34m(\u001b[0m\u001b[0;34m)\u001b[0m\u001b[0;34m.\u001b[0m\u001b[0msum\u001b[0m\u001b[0;34m(\u001b[0m\u001b[0;34m)\u001b[0m\u001b[0;34m.\u001b[0m\u001b[0msum\u001b[0m\u001b[0;34m(\u001b[0m\u001b[0;34m)\u001b[0m\u001b[0;34m\u001b[0m\u001b[0;34m\u001b[0m\u001b[0m\n\u001b[0m",
            "\u001b[0;31mNameError\u001b[0m: name 'data' is not defined"
          ]
        }
      ]
    },
    {
      "cell_type": "code",
      "metadata": {
        "id": "6z7q_85VgHjF",
        "colab_type": "code",
        "colab": {
          "base_uri": "https://localhost:8080/",
          "height": 193
        },
        "outputId": "20c59448-627b-4be4-df35-f03be0abacd8"
      },
      "source": [
        "data.isnull().sum()"
      ],
      "execution_count": 2,
      "outputs": [
        {
          "output_type": "error",
          "ename": "NameError",
          "evalue": "ignored",
          "traceback": [
            "\u001b[0;31m---------------------------------------------------------------------------\u001b[0m",
            "\u001b[0;31mNameError\u001b[0m                                 Traceback (most recent call last)",
            "\u001b[0;32m<ipython-input-2-2962204f287d>\u001b[0m in \u001b[0;36m<module>\u001b[0;34m()\u001b[0m\n\u001b[0;32m----> 1\u001b[0;31m \u001b[0mdata\u001b[0m\u001b[0;34m.\u001b[0m\u001b[0misnull\u001b[0m\u001b[0;34m(\u001b[0m\u001b[0;34m)\u001b[0m\u001b[0;34m.\u001b[0m\u001b[0msum\u001b[0m\u001b[0;34m(\u001b[0m\u001b[0;34m)\u001b[0m\u001b[0;34m\u001b[0m\u001b[0;34m\u001b[0m\u001b[0m\n\u001b[0m",
            "\u001b[0;31mNameError\u001b[0m: name 'data' is not defined"
          ]
        }
      ]
    },
    {
      "cell_type": "code",
      "metadata": {
        "id": "IEF7ITIl1Yy7",
        "colab_type": "code",
        "colab": {}
      },
      "source": [
        ""
      ],
      "execution_count": 0,
      "outputs": []
    }
  ]
}