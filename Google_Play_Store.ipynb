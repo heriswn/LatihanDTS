{
  "nbformat": 4,
  "nbformat_minor": 0,
  "metadata": {
    "colab": {
      "name": "Google Play Store",
      "version": "0.3.2",
      "provenance": [],
      "include_colab_link": true
    },
    "kernelspec": {
      "name": "python3",
      "display_name": "Python 3"
    }
  },
  "cells": [
    {
      "cell_type": "markdown",
      "metadata": {
        "id": "view-in-github",
        "colab_type": "text"
      },
      "source": [
        "<a href=\"https://colab.research.google.com/github/heriswn/LatihanDTS/blob/master/Google_Play_Store.ipynb\" target=\"_parent\"><img src=\"https://colab.research.google.com/assets/colab-badge.svg\" alt=\"Open In Colab\"/></a>"
      ]
    },
    {
      "cell_type": "code",
      "metadata": {
        "id": "s_p-dISfEfrH",
        "colab_type": "code",
        "colab": {}
      },
      "source": [
        "import numpy as np\n",
        "import pandas as pd\n",
        "import scipy as sp\n",
        "import matplotlib as plt\n",
        "import seaborn as sns"
      ],
      "execution_count": 0,
      "outputs": []
    },
    {
      "cell_type": "code",
      "metadata": {
        "id": "3KYWSW61FyD7",
        "colab_type": "code",
        "colab": {}
      },
      "source": [
        "data=pd.read_csv(\"googleplaystore.csv\")"
      ],
      "execution_count": 0,
      "outputs": []
    },
    {
      "cell_type": "code",
      "metadata": {
        "id": "3eY7ddoTGdIC",
        "colab_type": "code",
        "outputId": "f1bcf559-5ec1-492a-ea6a-10cc3e91dcef",
        "colab": {
          "base_uri": "https://localhost:8080/",
          "height": 271
        }
      },
      "source": [
        "data.head(2)"
      ],
      "execution_count": 163,
      "outputs": [
        {
          "output_type": "execute_result",
          "data": {
            "text/html": [
              "<div>\n",
              "<style scoped>\n",
              "    .dataframe tbody tr th:only-of-type {\n",
              "        vertical-align: middle;\n",
              "    }\n",
              "\n",
              "    .dataframe tbody tr th {\n",
              "        vertical-align: top;\n",
              "    }\n",
              "\n",
              "    .dataframe thead th {\n",
              "        text-align: right;\n",
              "    }\n",
              "</style>\n",
              "<table border=\"1\" class=\"dataframe\">\n",
              "  <thead>\n",
              "    <tr style=\"text-align: right;\">\n",
              "      <th></th>\n",
              "      <th>App</th>\n",
              "      <th>Category</th>\n",
              "      <th>Rating</th>\n",
              "      <th>Reviews</th>\n",
              "      <th>Size</th>\n",
              "      <th>Installs</th>\n",
              "      <th>Type</th>\n",
              "      <th>Price</th>\n",
              "      <th>Content Rating</th>\n",
              "      <th>Genres</th>\n",
              "      <th>Last Updated</th>\n",
              "      <th>Current Ver</th>\n",
              "      <th>Android Ver</th>\n",
              "    </tr>\n",
              "  </thead>\n",
              "  <tbody>\n",
              "    <tr>\n",
              "      <th>0</th>\n",
              "      <td>Photo Editor &amp; Candy Camera &amp; Grid &amp; ScrapBook</td>\n",
              "      <td>ART_AND_DESIGN</td>\n",
              "      <td>4.1</td>\n",
              "      <td>159</td>\n",
              "      <td>19M</td>\n",
              "      <td>10,000+</td>\n",
              "      <td>Free</td>\n",
              "      <td>0</td>\n",
              "      <td>Everyone</td>\n",
              "      <td>Art &amp; Design</td>\n",
              "      <td>January 7, 2018</td>\n",
              "      <td>1.0.0</td>\n",
              "      <td>4.0.3 and up</td>\n",
              "    </tr>\n",
              "    <tr>\n",
              "      <th>1</th>\n",
              "      <td>Coloring book moana</td>\n",
              "      <td>ART_AND_DESIGN</td>\n",
              "      <td>3.9</td>\n",
              "      <td>967</td>\n",
              "      <td>14M</td>\n",
              "      <td>500,000+</td>\n",
              "      <td>Free</td>\n",
              "      <td>0</td>\n",
              "      <td>Everyone</td>\n",
              "      <td>Art &amp; Design;Pretend Play</td>\n",
              "      <td>January 15, 2018</td>\n",
              "      <td>2.0.0</td>\n",
              "      <td>4.0.3 and up</td>\n",
              "    </tr>\n",
              "  </tbody>\n",
              "</table>\n",
              "</div>"
            ],
            "text/plain": [
              "                                              App  ...   Android Ver\n",
              "0  Photo Editor & Candy Camera & Grid & ScrapBook  ...  4.0.3 and up\n",
              "1                             Coloring book moana  ...  4.0.3 and up\n",
              "\n",
              "[2 rows x 13 columns]"
            ]
          },
          "metadata": {
            "tags": []
          },
          "execution_count": 163
        }
      ]
    },
    {
      "cell_type": "code",
      "metadata": {
        "id": "vEbMGAFMruc2",
        "colab_type": "code",
        "outputId": "38a1d2e2-a8ca-4df0-cf45-a61b7958b323",
        "colab": {
          "base_uri": "https://localhost:8080/",
          "height": 276
        }
      },
      "source": [
        "data.isnull().sum()"
      ],
      "execution_count": 164,
      "outputs": [
        {
          "output_type": "execute_result",
          "data": {
            "text/plain": [
              "App                  0\n",
              "Category             0\n",
              "Rating            1474\n",
              "Reviews              0\n",
              "Size                 0\n",
              "Installs             0\n",
              "Type                 1\n",
              "Price                0\n",
              "Content Rating       1\n",
              "Genres               0\n",
              "Last Updated         0\n",
              "Current Ver          8\n",
              "Android Ver          3\n",
              "dtype: int64"
            ]
          },
          "metadata": {
            "tags": []
          },
          "execution_count": 164
        }
      ]
    },
    {
      "cell_type": "markdown",
      "metadata": {
        "id": "lGWfmAU2XLkx",
        "colab_type": "text"
      },
      "source": [
        "# Eksplorasi setiap feature\n",
        "(data memiliki 12 tipe objek dan 1 tipe numerik)\n",
        "\n",
        "1. Size\n",
        "2. Installs\n",
        "3. Reviews\n",
        "4. Rating\n",
        "5. Type\n",
        "6. Price\n",
        "7. Category\n",
        "8. Content Rating\n",
        "9. Genres\n",
        "10. Last Updated\n",
        "11. Current Version\n",
        "12. Android Version"
      ]
    },
    {
      "cell_type": "markdown",
      "metadata": {
        "id": "4YEaTTf7Xfae",
        "colab_type": "text"
      },
      "source": [
        "## Size"
      ]
    },
    {
      "cell_type": "code",
      "metadata": {
        "id": "UZhSADj9rk6E",
        "colab_type": "code",
        "outputId": "a5b1b8b3-97c2-442f-9654-6ba0f02d9b59",
        "colab": {
          "base_uri": "https://localhost:8080/",
          "height": 276
        }
      },
      "source": [
        "data.isnull().sum()"
      ],
      "execution_count": 165,
      "outputs": [
        {
          "output_type": "execute_result",
          "data": {
            "text/plain": [
              "App                  0\n",
              "Category             0\n",
              "Rating            1474\n",
              "Reviews              0\n",
              "Size                 0\n",
              "Installs             0\n",
              "Type                 1\n",
              "Price                0\n",
              "Content Rating       1\n",
              "Genres               0\n",
              "Last Updated         0\n",
              "Current Ver          8\n",
              "Android Ver          3\n",
              "dtype: int64"
            ]
          },
          "metadata": {
            "tags": []
          },
          "execution_count": 165
        }
      ]
    },
    {
      "cell_type": "code",
      "metadata": {
        "id": "Sg-zkypYG7Bu",
        "colab_type": "code",
        "outputId": "8eda54fe-3a6b-4869-b663-0af0d0f8f49f",
        "colab": {
          "base_uri": "https://localhost:8080/",
          "height": 128
        }
      },
      "source": [
        "data.Size.value_counts()\n",
        "data.Size.head()"
      ],
      "execution_count": 166,
      "outputs": [
        {
          "output_type": "execute_result",
          "data": {
            "text/plain": [
              "0     19M\n",
              "1     14M\n",
              "2    8.7M\n",
              "3     25M\n",
              "4    2.8M\n",
              "Name: Size, dtype: object"
            ]
          },
          "metadata": {
            "tags": []
          },
          "execution_count": 166
        }
      ]
    },
    {
      "cell_type": "markdown",
      "metadata": {
        "id": "XU-fWvHXXzBA",
        "colab_type": "text"
      },
      "source": [
        "Dapat dilihat ada satuan kilo (k) dan Mega (M). Replace k dan M dengan nilai sesuai nilainya."
      ]
    },
    {
      "cell_type": "code",
      "metadata": {
        "id": "9eTdlwGaYW5q",
        "colab_type": "code",
        "outputId": "7cc52656-09e0-49a8-d80f-1a7625d56ae0",
        "colab": {
          "base_uri": "https://localhost:8080/",
          "height": 128
        }
      },
      "source": [
        "data.Size=data.Size.str.replace('k','e+3')\n",
        "data.Size=data.Size.str.replace('M','e+6')\n",
        "data.Size.head()"
      ],
      "execution_count": 167,
      "outputs": [
        {
          "output_type": "execute_result",
          "data": {
            "text/plain": [
              "0     19e+6\n",
              "1     14e+6\n",
              "2    8.7e+6\n",
              "3     25e+6\n",
              "4    2.8e+6\n",
              "Name: Size, dtype: object"
            ]
          },
          "metadata": {
            "tags": []
          },
          "execution_count": 167
        }
      ]
    },
    {
      "cell_type": "markdown",
      "metadata": {
        "id": "Zoz3F_h2YnpK",
        "colab_type": "text"
      },
      "source": [
        "Kita punya dua tipe nilai dari data Size.\n",
        "1. nilai exponensial (belum di convert ke string)\n",
        "2. Strings (tidak bisa diconvert ke numerik)"
      ]
    },
    {
      "cell_type": "code",
      "metadata": {
        "id": "iTIlWBI2Geef",
        "colab_type": "code",
        "colab": {}
      },
      "source": [
        "#def is_convertable(v):\n",
        "#    try:\n",
        "#        float(v)\n",
        "#        return True\n",
        "#    except ValueError:\n",
        "#        return False\n",
        "#    \n",
        "#temp=data.Size.apply(lambda x: is_convertable(x))\n",
        "#temp.head()"
      ],
      "execution_count": 0,
      "outputs": []
    },
    {
      "cell_type": "markdown",
      "metadata": {
        "id": "fraM5nZhaHTG",
        "colab_type": "text"
      },
      "source": [
        "Sekarang cek nilai non numerik"
      ]
    },
    {
      "cell_type": "code",
      "metadata": {
        "id": "pxwql9HBaM-m",
        "colab_type": "code",
        "colab": {}
      },
      "source": [
        "#data.Size[~temp].value_counts()"
      ],
      "execution_count": 0,
      "outputs": []
    },
    {
      "cell_type": "markdown",
      "metadata": {
        "id": "tU0ejgQ7ab4W",
        "colab_type": "text"
      },
      "source": [
        "* Replace 'Varies with device' oleh nan dan\n",
        "* convert 1000+ to 1000 jadi numerik"
      ]
    },
    {
      "cell_type": "code",
      "metadata": {
        "id": "2e9RIL23GwWS",
        "colab_type": "code",
        "colab": {}
      },
      "source": [
        "data.Size=data.Size.replace('Varies with device',np.nan)\n",
        "data.Size=data.Size.replace('1,000+',1000)"
      ],
      "execution_count": 0,
      "outputs": []
    },
    {
      "cell_type": "markdown",
      "metadata": {
        "id": "PhJKlbUOawu_",
        "colab_type": "text"
      },
      "source": [
        "Convert data Size setelah dibersihkan"
      ]
    },
    {
      "cell_type": "code",
      "metadata": {
        "id": "iiHoWEnfa4VO",
        "colab_type": "code",
        "colab": {}
      },
      "source": [
        "data.Size=pd.to_numeric(data.Size)"
      ],
      "execution_count": 0,
      "outputs": []
    },
    {
      "cell_type": "code",
      "metadata": {
        "id": "hJcEf_uMzpAc",
        "colab_type": "code",
        "colab": {}
      },
      "source": [
        "data['Size'] = data['Size'].fillna(data['Size'].mean())"
      ],
      "execution_count": 0,
      "outputs": []
    },
    {
      "cell_type": "markdown",
      "metadata": {
        "id": "q2xGjstoz-M8",
        "colab_type": "text"
      },
      "source": [
        "isi data kosong dengan mean"
      ]
    },
    {
      "cell_type": "markdown",
      "metadata": {
        "id": "Xp_29SdYbRU_",
        "colab_type": "text"
      },
      "source": [
        "## Installs"
      ]
    },
    {
      "cell_type": "markdown",
      "metadata": {
        "id": "7A7ujNUobU38",
        "colab_type": "text"
      },
      "source": [
        "Cek nilai unik dalam data install"
      ]
    },
    {
      "cell_type": "code",
      "metadata": {
        "id": "hNg59iZ1dxAH",
        "colab_type": "code",
        "outputId": "ad9fff4e-7bff-4697-e113-c3fe6adfcd2e",
        "colab": {
          "base_uri": "https://localhost:8080/",
          "height": 35
        }
      },
      "source": [
        "data.Installs.shape"
      ],
      "execution_count": 173,
      "outputs": [
        {
          "output_type": "execute_result",
          "data": {
            "text/plain": [
              "(10841,)"
            ]
          },
          "metadata": {
            "tags": []
          },
          "execution_count": 173
        }
      ]
    },
    {
      "cell_type": "code",
      "metadata": {
        "id": "gHV3VnKMHYjf",
        "colab_type": "code",
        "outputId": "a4257c2f-ae7f-4206-b17f-ac853c1bddcc",
        "colab": {
          "base_uri": "https://localhost:8080/",
          "height": 442
        }
      },
      "source": [
        "data.Installs.value_counts()"
      ],
      "execution_count": 174,
      "outputs": [
        {
          "output_type": "execute_result",
          "data": {
            "text/plain": [
              "1,000,000+        1579\n",
              "10,000,000+       1252\n",
              "100,000+          1169\n",
              "10,000+           1054\n",
              "1,000+             907\n",
              "5,000,000+         752\n",
              "100+               719\n",
              "500,000+           539\n",
              "50,000+            479\n",
              "5,000+             477\n",
              "100,000,000+       409\n",
              "10+                386\n",
              "500+               330\n",
              "50,000,000+        289\n",
              "50+                205\n",
              "5+                  82\n",
              "500,000,000+        72\n",
              "1+                  67\n",
              "1,000,000,000+      58\n",
              "0+                  14\n",
              "Free                 1\n",
              "0                    1\n",
              "Name: Installs, dtype: int64"
            ]
          },
          "metadata": {
            "tags": []
          },
          "execution_count": 174
        }
      ]
    },
    {
      "cell_type": "markdown",
      "metadata": {
        "id": "k54VrlOCbdMA",
        "colab_type": "text"
      },
      "source": [
        "Dapat dilihat ada 22 nilai unik, yaitu\n",
        "* 1 -> 0\n",
        "* 1 -> free (sting)\n",
        "* dan numerik cuma dengan tanda '+' dan ',' yang harus dihapus untuk mengconvert kedalam numerik"
      ]
    },
    {
      "cell_type": "code",
      "metadata": {
        "id": "snm9jpD9bJ_S",
        "colab_type": "code",
        "outputId": "f26ffd52-e7ba-423d-f9e8-8a652c31087d",
        "colab": {
          "base_uri": "https://localhost:8080/",
          "height": 405
        }
      },
      "source": [
        "data.Installs=data.Installs.apply(lambda x: x.strip('+'))\n",
        "data.Installs=data.Installs.apply(lambda x: x.replace(',',''))\n",
        "data.Installs=data.Installs.replace('Free',np.nan)\n",
        "data.Installs.value_counts()"
      ],
      "execution_count": 175,
      "outputs": [
        {
          "output_type": "execute_result",
          "data": {
            "text/plain": [
              "1000000       1579\n",
              "10000000      1252\n",
              "100000        1169\n",
              "10000         1054\n",
              "1000           907\n",
              "5000000        752\n",
              "100            719\n",
              "500000         539\n",
              "50000          479\n",
              "5000           477\n",
              "100000000      409\n",
              "10             386\n",
              "500            330\n",
              "50000000       289\n",
              "50             205\n",
              "5               82\n",
              "500000000       72\n",
              "1               67\n",
              "1000000000      58\n",
              "0               15\n",
              "Name: Installs, dtype: int64"
            ]
          },
          "metadata": {
            "tags": []
          },
          "execution_count": 175
        }
      ]
    },
    {
      "cell_type": "markdown",
      "metadata": {
        "id": "gbjuSQxRcqUn",
        "colab_type": "text"
      },
      "source": [
        "Cek data"
      ]
    },
    {
      "cell_type": "code",
      "metadata": {
        "id": "ubR_5F7JcBxs",
        "colab_type": "code",
        "colab": {}
      },
      "source": [
        "#data.Installs.str.isnumeric().sum()"
      ],
      "execution_count": 0,
      "outputs": []
    },
    {
      "cell_type": "markdown",
      "metadata": {
        "id": "CciE2AoCeNK0",
        "colab_type": "text"
      },
      "source": [
        "Artinya ada 1 data yang bukan numerik, yaitu nan (sudah diconvert dari Free ke nan)"
      ]
    },
    {
      "cell_type": "code",
      "metadata": {
        "id": "Z9YHsGkJeKV9",
        "colab_type": "code",
        "outputId": "ec580192-c76c-4dcd-b7a4-e8459c8cf2b2",
        "colab": {
          "base_uri": "https://localhost:8080/",
          "height": 128
        }
      },
      "source": [
        "#data.Installs=pd.to_numeric(data.Installs)\n",
        "data.Installs.head()"
      ],
      "execution_count": 177,
      "outputs": [
        {
          "output_type": "execute_result",
          "data": {
            "text/plain": [
              "0       10000\n",
              "1      500000\n",
              "2     5000000\n",
              "3    50000000\n",
              "4      100000\n",
              "Name: Installs, dtype: object"
            ]
          },
          "metadata": {
            "tags": []
          },
          "execution_count": 177
        }
      ]
    },
    {
      "cell_type": "markdown",
      "metadata": {
        "id": "DgZmHYhgetSl",
        "colab_type": "text"
      },
      "source": [
        "## Reviews"
      ]
    },
    {
      "cell_type": "markdown",
      "metadata": {
        "id": "y_rAoDorexs9",
        "colab_type": "text"
      },
      "source": [
        "Cek semua nilai dalam data reviews"
      ]
    },
    {
      "cell_type": "code",
      "metadata": {
        "id": "E1N-paaNf5Te",
        "colab_type": "code",
        "outputId": "b07c9364-32fa-4166-811b-24c989b0f3a2",
        "colab": {
          "base_uri": "https://localhost:8080/",
          "height": 128
        }
      },
      "source": [
        "data.Reviews.head()"
      ],
      "execution_count": 178,
      "outputs": [
        {
          "output_type": "execute_result",
          "data": {
            "text/plain": [
              "0       159\n",
              "1       967\n",
              "2     87510\n",
              "3    215644\n",
              "4       967\n",
              "Name: Reviews, dtype: object"
            ]
          },
          "metadata": {
            "tags": []
          },
          "execution_count": 178
        }
      ]
    },
    {
      "cell_type": "code",
      "metadata": {
        "id": "ONOfhCYOealP",
        "colab_type": "code",
        "outputId": "f0321717-95c8-4863-a5a6-5e0f6685052e",
        "colab": {
          "base_uri": "https://localhost:8080/",
          "height": 35
        }
      },
      "source": [
        "data.Reviews.str.isnumeric().sum()"
      ],
      "execution_count": 179,
      "outputs": [
        {
          "output_type": "execute_result",
          "data": {
            "text/plain": [
              "10840"
            ]
          },
          "metadata": {
            "tags": []
          },
          "execution_count": 179
        }
      ]
    },
    {
      "cell_type": "markdown",
      "metadata": {
        "id": "K_dbeOPqfFBd",
        "colab_type": "text"
      },
      "source": [
        "Artinya ada 1 yang bukan numerik. Kita cari!"
      ]
    },
    {
      "cell_type": "code",
      "metadata": {
        "id": "21j6R1SAe5s0",
        "colab_type": "code",
        "outputId": "b7268a63-901b-4289-92ce-8788fccdd376",
        "colab": {
          "base_uri": "https://localhost:8080/",
          "height": 188
        }
      },
      "source": [
        "data[~data.Reviews.str.isnumeric()]"
      ],
      "execution_count": 180,
      "outputs": [
        {
          "output_type": "execute_result",
          "data": {
            "text/html": [
              "<div>\n",
              "<style scoped>\n",
              "    .dataframe tbody tr th:only-of-type {\n",
              "        vertical-align: middle;\n",
              "    }\n",
              "\n",
              "    .dataframe tbody tr th {\n",
              "        vertical-align: top;\n",
              "    }\n",
              "\n",
              "    .dataframe thead th {\n",
              "        text-align: right;\n",
              "    }\n",
              "</style>\n",
              "<table border=\"1\" class=\"dataframe\">\n",
              "  <thead>\n",
              "    <tr style=\"text-align: right;\">\n",
              "      <th></th>\n",
              "      <th>App</th>\n",
              "      <th>Category</th>\n",
              "      <th>Rating</th>\n",
              "      <th>Reviews</th>\n",
              "      <th>Size</th>\n",
              "      <th>Installs</th>\n",
              "      <th>Type</th>\n",
              "      <th>Price</th>\n",
              "      <th>Content Rating</th>\n",
              "      <th>Genres</th>\n",
              "      <th>Last Updated</th>\n",
              "      <th>Current Ver</th>\n",
              "      <th>Android Ver</th>\n",
              "    </tr>\n",
              "  </thead>\n",
              "  <tbody>\n",
              "    <tr>\n",
              "      <th>10472</th>\n",
              "      <td>Life Made WI-Fi Touchscreen Photo Frame</td>\n",
              "      <td>1.9</td>\n",
              "      <td>19.0</td>\n",
              "      <td>3.0M</td>\n",
              "      <td>1000.0</td>\n",
              "      <td>NaN</td>\n",
              "      <td>0</td>\n",
              "      <td>Everyone</td>\n",
              "      <td>NaN</td>\n",
              "      <td>February 11, 2018</td>\n",
              "      <td>1.0.19</td>\n",
              "      <td>4.0 and up</td>\n",
              "      <td>NaN</td>\n",
              "    </tr>\n",
              "  </tbody>\n",
              "</table>\n",
              "</div>"
            ],
            "text/plain": [
              "                                           App Category  ...  Current Ver Android Ver\n",
              "10472  Life Made WI-Fi Touchscreen Photo Frame      1.9  ...   4.0 and up         NaN\n",
              "\n",
              "[1 rows x 13 columns]"
            ]
          },
          "metadata": {
            "tags": []
          },
          "execution_count": 180
        }
      ]
    },
    {
      "cell_type": "markdown",
      "metadata": {
        "id": "ev0DcWoygYUV",
        "colab_type": "text"
      },
      "source": [
        "Kita bisa saja mengubahnya menjadi numerik tetapi datanya aneh (M : jutaan).maka kita bisa drop (baris) data  "
      ]
    },
    {
      "cell_type": "code",
      "metadata": {
        "id": "tHOfY_r2fTSB",
        "colab_type": "code",
        "colab": {}
      },
      "source": [
        "data=data.drop(data.index[10472])"
      ],
      "execution_count": 0,
      "outputs": []
    },
    {
      "cell_type": "markdown",
      "metadata": {
        "id": "XZQ_Py8ng_V_",
        "colab_type": "text"
      },
      "source": [
        "cek baris"
      ]
    },
    {
      "cell_type": "code",
      "metadata": {
        "id": "ij0pRS4Cg3bg",
        "colab_type": "code",
        "outputId": "4bf925f1-0784-4e76-c7af-a50bb97e95ab",
        "colab": {
          "base_uri": "https://localhost:8080/",
          "height": 236
        }
      },
      "source": [
        "data[10471:].head(2)"
      ],
      "execution_count": 182,
      "outputs": [
        {
          "output_type": "execute_result",
          "data": {
            "text/html": [
              "<div>\n",
              "<style scoped>\n",
              "    .dataframe tbody tr th:only-of-type {\n",
              "        vertical-align: middle;\n",
              "    }\n",
              "\n",
              "    .dataframe tbody tr th {\n",
              "        vertical-align: top;\n",
              "    }\n",
              "\n",
              "    .dataframe thead th {\n",
              "        text-align: right;\n",
              "    }\n",
              "</style>\n",
              "<table border=\"1\" class=\"dataframe\">\n",
              "  <thead>\n",
              "    <tr style=\"text-align: right;\">\n",
              "      <th></th>\n",
              "      <th>App</th>\n",
              "      <th>Category</th>\n",
              "      <th>Rating</th>\n",
              "      <th>Reviews</th>\n",
              "      <th>Size</th>\n",
              "      <th>Installs</th>\n",
              "      <th>Type</th>\n",
              "      <th>Price</th>\n",
              "      <th>Content Rating</th>\n",
              "      <th>Genres</th>\n",
              "      <th>Last Updated</th>\n",
              "      <th>Current Ver</th>\n",
              "      <th>Android Ver</th>\n",
              "    </tr>\n",
              "  </thead>\n",
              "  <tbody>\n",
              "    <tr>\n",
              "      <th>10471</th>\n",
              "      <td>Xposed Wi-Fi-Pwd</td>\n",
              "      <td>PERSONALIZATION</td>\n",
              "      <td>3.5</td>\n",
              "      <td>1042</td>\n",
              "      <td>404000.0</td>\n",
              "      <td>100000</td>\n",
              "      <td>Free</td>\n",
              "      <td>0</td>\n",
              "      <td>Everyone</td>\n",
              "      <td>Personalization</td>\n",
              "      <td>August 5, 2014</td>\n",
              "      <td>3.0.0</td>\n",
              "      <td>4.0.3 and up</td>\n",
              "    </tr>\n",
              "    <tr>\n",
              "      <th>10473</th>\n",
              "      <td>osmino Wi-Fi: free WiFi</td>\n",
              "      <td>TOOLS</td>\n",
              "      <td>4.2</td>\n",
              "      <td>134203</td>\n",
              "      <td>4100000.0</td>\n",
              "      <td>10000000</td>\n",
              "      <td>Free</td>\n",
              "      <td>0</td>\n",
              "      <td>Everyone</td>\n",
              "      <td>Tools</td>\n",
              "      <td>August 7, 2018</td>\n",
              "      <td>6.06.14</td>\n",
              "      <td>4.4 and up</td>\n",
              "    </tr>\n",
              "  </tbody>\n",
              "</table>\n",
              "</div>"
            ],
            "text/plain": [
              "                           App         Category  ...  Current Ver   Android Ver\n",
              "10471         Xposed Wi-Fi-Pwd  PERSONALIZATION  ...        3.0.0  4.0.3 and up\n",
              "10473  osmino Wi-Fi: free WiFi            TOOLS  ...      6.06.14    4.4 and up\n",
              "\n",
              "[2 rows x 13 columns]"
            ]
          },
          "metadata": {
            "tags": []
          },
          "execution_count": 182
        }
      ]
    },
    {
      "cell_type": "code",
      "metadata": {
        "id": "cT9cMHAQhCLE",
        "colab_type": "code",
        "colab": {}
      },
      "source": [
        "data.Reviews=data.Reviews.replace(data.Reviews[~data.Reviews.str.isnumeric()],np.nan)"
      ],
      "execution_count": 0,
      "outputs": []
    },
    {
      "cell_type": "code",
      "metadata": {
        "id": "6mje--_Yhe9w",
        "colab_type": "code",
        "colab": {}
      },
      "source": [
        "data.Reviews=pd.to_numeric(data.Reviews)"
      ],
      "execution_count": 0,
      "outputs": []
    },
    {
      "cell_type": "markdown",
      "metadata": {
        "id": "h7Bt5EQ3hxw6",
        "colab_type": "text"
      },
      "source": [
        "## Rating"
      ]
    },
    {
      "cell_type": "markdown",
      "metadata": {
        "id": "MAyyqnRdh2sT",
        "colab_type": "text"
      },
      "source": [
        "Nilai dari rating diantara 1-5. kita perlu pastikan dengan cara berikut"
      ]
    },
    {
      "cell_type": "code",
      "metadata": {
        "id": "C8Pdo6_Ahhot",
        "colab_type": "code",
        "outputId": "d8bbb351-21ae-40e2-d482-90a7357be366",
        "colab": {
          "base_uri": "https://localhost:8080/",
          "height": 35
        }
      },
      "source": [
        "print(\"Range: \", data.Rating.min(),\"-\",data.Rating.max())"
      ],
      "execution_count": 185,
      "outputs": [
        {
          "output_type": "stream",
          "text": [
            "Range:  1.0 - 5.0\n"
          ],
          "name": "stdout"
        }
      ]
    },
    {
      "cell_type": "markdown",
      "metadata": {
        "id": "rznqTjnniVyC",
        "colab_type": "text"
      },
      "source": [
        "Cek jenis data untuk melihat apakah perlu dikonversi ke numerik"
      ]
    },
    {
      "cell_type": "code",
      "metadata": {
        "id": "QojDZiGrhrWt",
        "colab_type": "code",
        "outputId": "92903727-da29-4515-d7f8-d487ca28cc43",
        "colab": {
          "base_uri": "https://localhost:8080/",
          "height": 35
        }
      },
      "source": [
        "data.Rating.dtype"
      ],
      "execution_count": 186,
      "outputs": [
        {
          "output_type": "execute_result",
          "data": {
            "text/plain": [
              "dtype('float64')"
            ]
          },
          "metadata": {
            "tags": []
          },
          "execution_count": 186
        }
      ]
    },
    {
      "cell_type": "markdown",
      "metadata": {
        "id": "XfU1tEh4ihf7",
        "colab_type": "text"
      },
      "source": [
        "Data sudah numerik. sekarang cek data yang memiliki nilai null"
      ]
    },
    {
      "cell_type": "code",
      "metadata": {
        "id": "S28ZCUZBifoN",
        "colab_type": "code",
        "outputId": "dcc40e20-d323-4ea8-e7e3-5a8b9f332577",
        "colab": {
          "base_uri": "https://localhost:8080/",
          "height": 35
        }
      },
      "source": [
        "print(data.Rating.isna().sum(),\"null values out of\", len(data.Rating))"
      ],
      "execution_count": 187,
      "outputs": [
        {
          "output_type": "stream",
          "text": [
            "1474 null values out of 10840\n"
          ],
          "name": "stdout"
        }
      ]
    },
    {
      "cell_type": "markdown",
      "metadata": {
        "id": "x-AMHuxBi36J",
        "colab_type": "text"
      },
      "source": [
        "## Type"
      ]
    },
    {
      "cell_type": "markdown",
      "metadata": {
        "id": "k2GRlfPli6Xl",
        "colab_type": "text"
      },
      "source": [
        "Cek tipe nilai dan masalah lain"
      ]
    },
    {
      "cell_type": "code",
      "metadata": {
        "id": "mqC_drRiios7",
        "colab_type": "code",
        "outputId": "ab7ed71b-3eba-4813-c50b-7c46610ae80a",
        "colab": {
          "base_uri": "https://localhost:8080/",
          "height": 72
        }
      },
      "source": [
        "data.Type.value_counts()"
      ],
      "execution_count": 188,
      "outputs": [
        {
          "output_type": "execute_result",
          "data": {
            "text/plain": [
              "Free    10039\n",
              "Paid      800\n",
              "Name: Type, dtype: int64"
            ]
          },
          "metadata": {
            "tags": []
          },
          "execution_count": 188
        }
      ]
    },
    {
      "cell_type": "markdown",
      "metadata": {
        "id": "-F5ypAK5jDON",
        "colab_type": "text"
      },
      "source": [
        "Ada dua tipe, yaitu free dan paid"
      ]
    },
    {
      "cell_type": "code",
      "metadata": {
        "id": "6gsaxp0Xz3Pt",
        "colab_type": "code",
        "colab": {}
      },
      "source": [
        "data['Rating'] = data['Rating'].fillna(data['Rating'].mean())"
      ],
      "execution_count": 0,
      "outputs": []
    },
    {
      "cell_type": "markdown",
      "metadata": {
        "id": "qHVbgD5Sz5h-",
        "colab_type": "text"
      },
      "source": [
        "isi data kosong dengan mean"
      ]
    },
    {
      "cell_type": "markdown",
      "metadata": {
        "id": "KvHNZHJ_V9Hy",
        "colab_type": "text"
      },
      "source": [
        "### Price"
      ]
    },
    {
      "cell_type": "markdown",
      "metadata": {
        "id": "qfN59feGWt-Q",
        "colab_type": "text"
      },
      "source": [
        "Cek nilai unik dari price"
      ]
    },
    {
      "cell_type": "code",
      "metadata": {
        "id": "bJttzlpfi0s1",
        "colab_type": "code",
        "outputId": "44d3d2b1-a825-4a36-8724-edfa47c11887",
        "colab": {
          "base_uri": "https://localhost:8080/",
          "height": 0
        }
      },
      "source": [
        "data.Price.unique()"
      ],
      "execution_count": 190,
      "outputs": [
        {
          "output_type": "execute_result",
          "data": {
            "text/plain": [
              "array(['0', '$4.99', '$3.99', '$6.99', '$1.49', '$2.99', '$7.99', '$5.99',\n",
              "       '$3.49', '$1.99', '$9.99', '$7.49', '$0.99', '$9.00', '$5.49',\n",
              "       '$10.00', '$24.99', '$11.99', '$79.99', '$16.99', '$14.99',\n",
              "       '$1.00', '$29.99', '$12.99', '$2.49', '$10.99', '$1.50', '$19.99',\n",
              "       '$15.99', '$33.99', '$74.99', '$39.99', '$3.95', '$4.49', '$1.70',\n",
              "       '$8.99', '$2.00', '$3.88', '$25.99', '$399.99', '$17.99',\n",
              "       '$400.00', '$3.02', '$1.76', '$4.84', '$4.77', '$1.61', '$2.50',\n",
              "       '$1.59', '$6.49', '$1.29', '$5.00', '$13.99', '$299.99', '$379.99',\n",
              "       '$37.99', '$18.99', '$389.99', '$19.90', '$8.49', '$1.75',\n",
              "       '$14.00', '$4.85', '$46.99', '$109.99', '$154.99', '$3.08',\n",
              "       '$2.59', '$4.80', '$1.96', '$19.40', '$3.90', '$4.59', '$15.46',\n",
              "       '$3.04', '$4.29', '$2.60', '$3.28', '$4.60', '$28.99', '$2.95',\n",
              "       '$2.90', '$1.97', '$200.00', '$89.99', '$2.56', '$30.99', '$3.61',\n",
              "       '$394.99', '$1.26', '$1.20', '$1.04'], dtype=object)"
            ]
          },
          "metadata": {
            "tags": []
          },
          "execution_count": 190
        }
      ]
    },
    {
      "cell_type": "markdown",
      "metadata": {
        "id": "uzDtt9pAW3cL",
        "colab_type": "text"
      },
      "source": [
        "data memiliki simbol $ yangmana seharusnya dihapus dan diubah ke numerik"
      ]
    },
    {
      "cell_type": "code",
      "metadata": {
        "id": "IfMO9bpLUOCB",
        "colab_type": "code",
        "colab": {}
      },
      "source": [
        "data.Price=data.Price.apply(lambda x: x.strip('$'))"
      ],
      "execution_count": 0,
      "outputs": []
    },
    {
      "cell_type": "code",
      "metadata": {
        "id": "v3NCZg5SXHVg",
        "colab_type": "code",
        "colab": {}
      },
      "source": [
        "data.Price=pd.to_numeric(data.Price)"
      ],
      "execution_count": 0,
      "outputs": []
    },
    {
      "cell_type": "markdown",
      "metadata": {
        "id": "oLZMlrCBXtP6",
        "colab_type": "text"
      },
      "source": [
        "### Category"
      ]
    },
    {
      "cell_type": "markdown",
      "metadata": {
        "id": "UD5W_sc0XxvG",
        "colab_type": "text"
      },
      "source": [
        "Cek data"
      ]
    },
    {
      "cell_type": "code",
      "metadata": {
        "id": "MHdLdeJ7XOam",
        "colab_type": "code",
        "outputId": "59b0aa99-8e8d-4f65-a63d-24c10539e161",
        "colab": {
          "base_uri": "https://localhost:8080/",
          "height": 203
        }
      },
      "source": [
        "data.Category.unique()"
      ],
      "execution_count": 193,
      "outputs": [
        {
          "output_type": "execute_result",
          "data": {
            "text/plain": [
              "array(['ART_AND_DESIGN', 'AUTO_AND_VEHICLES', 'BEAUTY',\n",
              "       'BOOKS_AND_REFERENCE', 'BUSINESS', 'COMICS', 'COMMUNICATION',\n",
              "       'DATING', 'EDUCATION', 'ENTERTAINMENT', 'EVENTS', 'FINANCE',\n",
              "       'FOOD_AND_DRINK', 'HEALTH_AND_FITNESS', 'HOUSE_AND_HOME',\n",
              "       'LIBRARIES_AND_DEMO', 'LIFESTYLE', 'GAME', 'FAMILY', 'MEDICAL',\n",
              "       'SOCIAL', 'SHOPPING', 'PHOTOGRAPHY', 'SPORTS', 'TRAVEL_AND_LOCAL',\n",
              "       'TOOLS', 'PERSONALIZATION', 'PRODUCTIVITY', 'PARENTING', 'WEATHER',\n",
              "       'VIDEO_PLAYERS', 'NEWS_AND_MAGAZINES', 'MAPS_AND_NAVIGATION'],\n",
              "      dtype=object)"
            ]
          },
          "metadata": {
            "tags": []
          },
          "execution_count": 193
        }
      ]
    },
    {
      "cell_type": "markdown",
      "metadata": {
        "id": "FC2dNDpqYK87",
        "colab_type": "text"
      },
      "source": [
        "Tidak ada data pengulangan atau palsu"
      ]
    },
    {
      "cell_type": "markdown",
      "metadata": {
        "id": "20f1LNJCYTqi",
        "colab_type": "text"
      },
      "source": [
        "### Genres"
      ]
    },
    {
      "cell_type": "markdown",
      "metadata": {
        "id": "fC9-c4q4YWcY",
        "colab_type": "text"
      },
      "source": [
        "Cek data unik"
      ]
    },
    {
      "cell_type": "code",
      "metadata": {
        "id": "zqFgM-7NYZu0",
        "colab_type": "code",
        "outputId": "559e9878-4a8c-482b-97ea-711c619bde37",
        "colab": {
          "base_uri": "https://localhost:8080/",
          "height": 906
        }
      },
      "source": [
        "data.Genres.unique()"
      ],
      "execution_count": 194,
      "outputs": [
        {
          "output_type": "execute_result",
          "data": {
            "text/plain": [
              "array(['Art & Design', 'Art & Design;Pretend Play',\n",
              "       'Art & Design;Creativity', 'Art & Design;Action & Adventure',\n",
              "       'Auto & Vehicles', 'Beauty', 'Books & Reference', 'Business',\n",
              "       'Comics', 'Comics;Creativity', 'Communication', 'Dating',\n",
              "       'Education;Education', 'Education', 'Education;Creativity',\n",
              "       'Education;Music & Video', 'Education;Action & Adventure',\n",
              "       'Education;Pretend Play', 'Education;Brain Games', 'Entertainment',\n",
              "       'Entertainment;Music & Video', 'Entertainment;Brain Games',\n",
              "       'Entertainment;Creativity', 'Events', 'Finance', 'Food & Drink',\n",
              "       'Health & Fitness', 'House & Home', 'Libraries & Demo',\n",
              "       'Lifestyle', 'Lifestyle;Pretend Play',\n",
              "       'Adventure;Action & Adventure', 'Arcade', 'Casual', 'Card',\n",
              "       'Casual;Pretend Play', 'Action', 'Strategy', 'Puzzle', 'Sports',\n",
              "       'Music', 'Word', 'Racing', 'Casual;Creativity',\n",
              "       'Casual;Action & Adventure', 'Simulation', 'Adventure', 'Board',\n",
              "       'Trivia', 'Role Playing', 'Simulation;Education',\n",
              "       'Action;Action & Adventure', 'Casual;Brain Games',\n",
              "       'Simulation;Action & Adventure', 'Educational;Creativity',\n",
              "       'Puzzle;Brain Games', 'Educational;Education', 'Card;Brain Games',\n",
              "       'Educational;Brain Games', 'Educational;Pretend Play',\n",
              "       'Entertainment;Education', 'Casual;Education',\n",
              "       'Music;Music & Video', 'Racing;Action & Adventure',\n",
              "       'Arcade;Pretend Play', 'Role Playing;Action & Adventure',\n",
              "       'Simulation;Pretend Play', 'Puzzle;Creativity',\n",
              "       'Sports;Action & Adventure', 'Educational;Action & Adventure',\n",
              "       'Arcade;Action & Adventure', 'Entertainment;Action & Adventure',\n",
              "       'Puzzle;Action & Adventure', 'Strategy;Action & Adventure',\n",
              "       'Music & Audio;Music & Video', 'Health & Fitness;Education',\n",
              "       'Adventure;Education', 'Board;Brain Games',\n",
              "       'Board;Action & Adventure', 'Board;Pretend Play',\n",
              "       'Casual;Music & Video', 'Role Playing;Pretend Play',\n",
              "       'Entertainment;Pretend Play', 'Video Players & Editors;Creativity',\n",
              "       'Card;Action & Adventure', 'Medical', 'Social', 'Shopping',\n",
              "       'Photography', 'Travel & Local',\n",
              "       'Travel & Local;Action & Adventure', 'Tools', 'Tools;Education',\n",
              "       'Personalization', 'Productivity', 'Parenting',\n",
              "       'Parenting;Music & Video', 'Parenting;Education',\n",
              "       'Parenting;Brain Games', 'Weather', 'Video Players & Editors',\n",
              "       'Video Players & Editors;Music & Video', 'News & Magazines',\n",
              "       'Maps & Navigation', 'Health & Fitness;Action & Adventure',\n",
              "       'Educational', 'Casino', 'Adventure;Brain Games',\n",
              "       'Trivia;Education', 'Lifestyle;Education',\n",
              "       'Books & Reference;Creativity', 'Books & Reference;Education',\n",
              "       'Puzzle;Education', 'Role Playing;Education',\n",
              "       'Role Playing;Brain Games', 'Strategy;Education',\n",
              "       'Racing;Pretend Play', 'Communication;Creativity',\n",
              "       'Strategy;Creativity'], dtype=object)"
            ]
          },
          "metadata": {
            "tags": []
          },
          "execution_count": 194
        }
      ]
    },
    {
      "cell_type": "markdown",
      "metadata": {
        "id": "VMNYhPA5ZAT6",
        "colab_type": "text"
      },
      "source": [
        "data dalam format Categoy;Subcategory.\n",
        "maka kita bagi kedalam dua kolom, satu sebagai category utama dan yang lain kategory kedua, menggunakan '';'' "
      ]
    },
    {
      "cell_type": "markdown",
      "metadata": {
        "id": "Za7iRW5NaTaw",
        "colab_type": "text"
      },
      "source": [
        "* Primary Category"
      ]
    },
    {
      "cell_type": "code",
      "metadata": {
        "id": "kbwLvzPzY0kV",
        "colab_type": "code",
        "outputId": "eb7343f6-6615-471c-d40b-36231969c3a1",
        "colab": {
          "base_uri": "https://localhost:8080/",
          "height": 128
        }
      },
      "source": [
        "sep = ';'\n",
        "rest = data.Genres.apply(lambda x: x.split(sep)[0])\n",
        "data['Pri_Genres']=rest\n",
        "data.Pri_Genres.head()"
      ],
      "execution_count": 195,
      "outputs": [
        {
          "output_type": "execute_result",
          "data": {
            "text/plain": [
              "0    Art & Design\n",
              "1    Art & Design\n",
              "2    Art & Design\n",
              "3    Art & Design\n",
              "4    Art & Design\n",
              "Name: Pri_Genres, dtype: object"
            ]
          },
          "metadata": {
            "tags": []
          },
          "execution_count": 195
        }
      ]
    },
    {
      "cell_type": "markdown",
      "metadata": {
        "id": "sLERw0HbaXfk",
        "colab_type": "text"
      },
      "source": [
        "* Secoundary Category"
      ]
    },
    {
      "cell_type": "code",
      "metadata": {
        "id": "dQQuAFCDZ9R9",
        "colab_type": "code",
        "outputId": "fc569b7b-c9a7-4eab-cf9f-7d5ea8ad0ed3",
        "colab": {
          "base_uri": "https://localhost:8080/",
          "height": 128
        }
      },
      "source": [
        "rest = data.Genres.apply(lambda x: x.split(sep)[-1])\n",
        "rest.unique()\n",
        "data['Sec_Genres']=rest\n",
        "data.Sec_Genres.head()"
      ],
      "execution_count": 196,
      "outputs": [
        {
          "output_type": "execute_result",
          "data": {
            "text/plain": [
              "0    Art & Design\n",
              "1    Pretend Play\n",
              "2    Art & Design\n",
              "3    Art & Design\n",
              "4      Creativity\n",
              "Name: Sec_Genres, dtype: object"
            ]
          },
          "metadata": {
            "tags": []
          },
          "execution_count": 196
        }
      ]
    },
    {
      "cell_type": "markdown",
      "metadata": {
        "id": "akfuEr7TapYp",
        "colab_type": "text"
      },
      "source": [
        "Buat grup berdasarkan Primary dan Secondary"
      ]
    },
    {
      "cell_type": "code",
      "metadata": {
        "id": "iugB-52-aMqP",
        "colab_type": "code",
        "outputId": "52490dac-fad9-4e43-cd4f-99634bc7ba0d",
        "colab": {
          "base_uri": "https://localhost:8080/",
          "height": 331
        }
      },
      "source": [
        "grouped = data.groupby(['Pri_Genres','Sec_Genres'])\n",
        "grouped.size().head(15)"
      ],
      "execution_count": 197,
      "outputs": [
        {
          "output_type": "execute_result",
          "data": {
            "text/plain": [
              "Pri_Genres       Sec_Genres        \n",
              "Action           Action                365\n",
              "                 Action & Adventure     17\n",
              "Adventure        Action & Adventure     13\n",
              "                 Adventure              75\n",
              "                 Brain Games             1\n",
              "                 Education               2\n",
              "Arcade           Action & Adventure     16\n",
              "                 Arcade                220\n",
              "                 Pretend Play            1\n",
              "Art & Design     Action & Adventure      2\n",
              "                 Art & Design           58\n",
              "                 Creativity              7\n",
              "                 Pretend Play            2\n",
              "Auto & Vehicles  Auto & Vehicles        85\n",
              "Beauty           Beauty                 53\n",
              "dtype: int64"
            ]
          },
          "metadata": {
            "tags": []
          },
          "execution_count": 197
        }
      ]
    },
    {
      "cell_type": "markdown",
      "metadata": {
        "id": "7b4Ai_kEa4Bp",
        "colab_type": "text"
      },
      "source": [
        "buat dua tabel agar lebih dipahami"
      ]
    },
    {
      "cell_type": "code",
      "metadata": {
        "id": "i9b_0fw9a0dh",
        "colab_type": "code",
        "colab": {}
      },
      "source": [
        "twowaytable = pd.crosstab(index=data[\"Pri_Genres\"],columns=data[\"Sec_Genres\"])"
      ],
      "execution_count": 0,
      "outputs": []
    },
    {
      "cell_type": "code",
      "metadata": {
        "id": "4aNPUo1oiLec",
        "colab_type": "code",
        "outputId": "c337aacf-bcf0-4e06-fc6d-de24fea56a9a",
        "colab": {
          "base_uri": "https://localhost:8080/",
          "height": 574
        }
      },
      "source": [
        "data.head()"
      ],
      "execution_count": 199,
      "outputs": [
        {
          "output_type": "execute_result",
          "data": {
            "text/html": [
              "<div>\n",
              "<style scoped>\n",
              "    .dataframe tbody tr th:only-of-type {\n",
              "        vertical-align: middle;\n",
              "    }\n",
              "\n",
              "    .dataframe tbody tr th {\n",
              "        vertical-align: top;\n",
              "    }\n",
              "\n",
              "    .dataframe thead th {\n",
              "        text-align: right;\n",
              "    }\n",
              "</style>\n",
              "<table border=\"1\" class=\"dataframe\">\n",
              "  <thead>\n",
              "    <tr style=\"text-align: right;\">\n",
              "      <th></th>\n",
              "      <th>App</th>\n",
              "      <th>Category</th>\n",
              "      <th>Rating</th>\n",
              "      <th>Reviews</th>\n",
              "      <th>Size</th>\n",
              "      <th>Installs</th>\n",
              "      <th>Type</th>\n",
              "      <th>Price</th>\n",
              "      <th>Content Rating</th>\n",
              "      <th>Genres</th>\n",
              "      <th>Last Updated</th>\n",
              "      <th>Current Ver</th>\n",
              "      <th>Android Ver</th>\n",
              "      <th>Pri_Genres</th>\n",
              "      <th>Sec_Genres</th>\n",
              "    </tr>\n",
              "  </thead>\n",
              "  <tbody>\n",
              "    <tr>\n",
              "      <th>0</th>\n",
              "      <td>Photo Editor &amp; Candy Camera &amp; Grid &amp; ScrapBook</td>\n",
              "      <td>ART_AND_DESIGN</td>\n",
              "      <td>4.1</td>\n",
              "      <td>159</td>\n",
              "      <td>19000000.0</td>\n",
              "      <td>10000</td>\n",
              "      <td>Free</td>\n",
              "      <td>0.0</td>\n",
              "      <td>Everyone</td>\n",
              "      <td>Art &amp; Design</td>\n",
              "      <td>January 7, 2018</td>\n",
              "      <td>1.0.0</td>\n",
              "      <td>4.0.3 and up</td>\n",
              "      <td>Art &amp; Design</td>\n",
              "      <td>Art &amp; Design</td>\n",
              "    </tr>\n",
              "    <tr>\n",
              "      <th>1</th>\n",
              "      <td>Coloring book moana</td>\n",
              "      <td>ART_AND_DESIGN</td>\n",
              "      <td>3.9</td>\n",
              "      <td>967</td>\n",
              "      <td>14000000.0</td>\n",
              "      <td>500000</td>\n",
              "      <td>Free</td>\n",
              "      <td>0.0</td>\n",
              "      <td>Everyone</td>\n",
              "      <td>Art &amp; Design;Pretend Play</td>\n",
              "      <td>January 15, 2018</td>\n",
              "      <td>2.0.0</td>\n",
              "      <td>4.0.3 and up</td>\n",
              "      <td>Art &amp; Design</td>\n",
              "      <td>Pretend Play</td>\n",
              "    </tr>\n",
              "    <tr>\n",
              "      <th>2</th>\n",
              "      <td>U Launcher Lite – FREE Live Cool Themes, Hide ...</td>\n",
              "      <td>ART_AND_DESIGN</td>\n",
              "      <td>4.7</td>\n",
              "      <td>87510</td>\n",
              "      <td>8700000.0</td>\n",
              "      <td>5000000</td>\n",
              "      <td>Free</td>\n",
              "      <td>0.0</td>\n",
              "      <td>Everyone</td>\n",
              "      <td>Art &amp; Design</td>\n",
              "      <td>August 1, 2018</td>\n",
              "      <td>1.2.4</td>\n",
              "      <td>4.0.3 and up</td>\n",
              "      <td>Art &amp; Design</td>\n",
              "      <td>Art &amp; Design</td>\n",
              "    </tr>\n",
              "    <tr>\n",
              "      <th>3</th>\n",
              "      <td>Sketch - Draw &amp; Paint</td>\n",
              "      <td>ART_AND_DESIGN</td>\n",
              "      <td>4.5</td>\n",
              "      <td>215644</td>\n",
              "      <td>25000000.0</td>\n",
              "      <td>50000000</td>\n",
              "      <td>Free</td>\n",
              "      <td>0.0</td>\n",
              "      <td>Teen</td>\n",
              "      <td>Art &amp; Design</td>\n",
              "      <td>June 8, 2018</td>\n",
              "      <td>Varies with device</td>\n",
              "      <td>4.2 and up</td>\n",
              "      <td>Art &amp; Design</td>\n",
              "      <td>Art &amp; Design</td>\n",
              "    </tr>\n",
              "    <tr>\n",
              "      <th>4</th>\n",
              "      <td>Pixel Draw - Number Art Coloring Book</td>\n",
              "      <td>ART_AND_DESIGN</td>\n",
              "      <td>4.3</td>\n",
              "      <td>967</td>\n",
              "      <td>2800000.0</td>\n",
              "      <td>100000</td>\n",
              "      <td>Free</td>\n",
              "      <td>0.0</td>\n",
              "      <td>Everyone</td>\n",
              "      <td>Art &amp; Design;Creativity</td>\n",
              "      <td>June 20, 2018</td>\n",
              "      <td>1.1</td>\n",
              "      <td>4.4 and up</td>\n",
              "      <td>Art &amp; Design</td>\n",
              "      <td>Creativity</td>\n",
              "    </tr>\n",
              "  </tbody>\n",
              "</table>\n",
              "</div>"
            ],
            "text/plain": [
              "                                                 App  ...    Sec_Genres\n",
              "0     Photo Editor & Candy Camera & Grid & ScrapBook  ...  Art & Design\n",
              "1                                Coloring book moana  ...  Pretend Play\n",
              "2  U Launcher Lite – FREE Live Cool Themes, Hide ...  ...  Art & Design\n",
              "3                              Sketch - Draw & Paint  ...  Art & Design\n",
              "4              Pixel Draw - Number Art Coloring Book  ...    Creativity\n",
              "\n",
              "[5 rows x 15 columns]"
            ]
          },
          "metadata": {
            "tags": []
          },
          "execution_count": 199
        }
      ]
    },
    {
      "cell_type": "markdown",
      "metadata": {
        "id": "DDcJ7UXlaGZ6",
        "colab_type": "text"
      },
      "source": [
        "# Checking"
      ]
    },
    {
      "cell_type": "code",
      "metadata": {
        "id": "SCpEEkA61o67",
        "colab_type": "code",
        "colab": {}
      },
      "source": [
        "data = data.drop(columns=['Genres','Type','Last Updated','Current Ver','Android Ver'],axis=1)"
      ],
      "execution_count": 0,
      "outputs": []
    },
    {
      "cell_type": "markdown",
      "metadata": {
        "id": "p8vB2FdRxFnV",
        "colab_type": "text"
      },
      "source": [
        "drop data genres type last update current ver android ver"
      ]
    },
    {
      "cell_type": "code",
      "metadata": {
        "id": "0B9x0t0Yh2M-",
        "colab_type": "code",
        "outputId": "9066ce2a-9f93-479d-9034-1ad2f8900d62",
        "colab": {
          "base_uri": "https://localhost:8080/",
          "height": 35
        }
      },
      "source": [
        "data.isnull().values.any()"
      ],
      "execution_count": 201,
      "outputs": [
        {
          "output_type": "execute_result",
          "data": {
            "text/plain": [
              "False"
            ]
          },
          "metadata": {
            "tags": []
          },
          "execution_count": 201
        }
      ]
    },
    {
      "cell_type": "code",
      "metadata": {
        "id": "-SafX2Vsggh3",
        "colab_type": "code",
        "outputId": "f6efff7c-5b3b-40bb-b3a0-8faef770d1c4",
        "colab": {
          "base_uri": "https://localhost:8080/",
          "height": 35
        }
      },
      "source": [
        "data.isnull().sum().sum()"
      ],
      "execution_count": 202,
      "outputs": [
        {
          "output_type": "execute_result",
          "data": {
            "text/plain": [
              "0"
            ]
          },
          "metadata": {
            "tags": []
          },
          "execution_count": 202
        }
      ]
    },
    {
      "cell_type": "code",
      "metadata": {
        "id": "6z7q_85VgHjF",
        "colab_type": "code",
        "outputId": "6db002a3-5d8f-4ae4-b040-53a08c92f0b1",
        "colab": {
          "base_uri": "https://localhost:8080/",
          "height": 220
        }
      },
      "source": [
        "data.isnull().sum()"
      ],
      "execution_count": 203,
      "outputs": [
        {
          "output_type": "execute_result",
          "data": {
            "text/plain": [
              "App               0\n",
              "Category          0\n",
              "Rating            0\n",
              "Reviews           0\n",
              "Size              0\n",
              "Installs          0\n",
              "Price             0\n",
              "Content Rating    0\n",
              "Pri_Genres        0\n",
              "Sec_Genres        0\n",
              "dtype: int64"
            ]
          },
          "metadata": {
            "tags": []
          },
          "execution_count": 203
        }
      ]
    },
    {
      "cell_type": "code",
      "metadata": {
        "id": "1m7yaUbihBLk",
        "colab_type": "code",
        "outputId": "4636dc92-45b3-4095-c889-2e12741b9e7a",
        "colab": {
          "base_uri": "https://localhost:8080/",
          "height": 461
        }
      },
      "source": [
        "for i in data.columns: \n",
        "    if (data[i].dtypes in ['int64','float64']): \n",
        "        print('\\nAttribute-',i,':',data[i].dtypes) \n",
        "        Q1=data[i].quantile(0.25) \n",
        "        print('Q1',Q1) \n",
        "        Q3=data[i].quantile(0.75) \n",
        "        print('Q3',Q3) \n",
        "        IQR=Q3-Q1 \n",
        "        print('IQR',IQR) \n",
        "        min=data[i].min() \n",
        "        max=data[i].max() \n",
        "        min_IQR=Q1-1.5*IQR \n",
        "        max_IQR=Q3+1.5*IQR \n",
        "        if (min<min_IQR): \n",
        "            print('Low outlier is found') \n",
        "        if (max>max_IQR): \n",
        "            print('High outlier is found')"
      ],
      "execution_count": 204,
      "outputs": [
        {
          "output_type": "stream",
          "text": [
            "\n",
            "Attribute- Rating : float64\n",
            "Q1 4.1\n",
            "Q3 4.5\n",
            "IQR 0.40000000000000036\n",
            "Low outlier is found\n",
            "\n",
            "Attribute- Reviews : int64\n",
            "Q1 38.0\n",
            "Q3 54775.5\n",
            "IQR 54737.5\n",
            "High outlier is found\n",
            "\n",
            "Attribute- Size : float64\n",
            "Q1 5900000.0\n",
            "Q3 26000000.0\n",
            "IQR 20100000.0\n",
            "High outlier is found\n",
            "\n",
            "Attribute- Price : float64\n",
            "Q1 0.0\n",
            "Q3 0.0\n",
            "IQR 0.0\n",
            "High outlier is found\n"
          ],
          "name": "stdout"
        }
      ]
    },
    {
      "cell_type": "markdown",
      "metadata": {
        "id": "itPIB7EWwmXm",
        "colab_type": "text"
      },
      "source": [
        "Mencari outlier"
      ]
    },
    {
      "cell_type": "code",
      "metadata": {
        "id": "k6MKhFshj_TL",
        "colab_type": "code",
        "outputId": "41a90f5b-a76f-4285-bac4-42baa31fb52f",
        "colab": {
          "base_uri": "https://localhost:8080/",
          "height": 405
        }
      },
      "source": [
        "data.Installs.value_counts()"
      ],
      "execution_count": 205,
      "outputs": [
        {
          "output_type": "execute_result",
          "data": {
            "text/plain": [
              "1000000       1579\n",
              "10000000      1252\n",
              "100000        1169\n",
              "10000         1054\n",
              "1000           907\n",
              "5000000        752\n",
              "100            719\n",
              "500000         539\n",
              "50000          479\n",
              "5000           477\n",
              "100000000      409\n",
              "10             386\n",
              "500            330\n",
              "50000000       289\n",
              "50             205\n",
              "5               82\n",
              "500000000       72\n",
              "1               67\n",
              "1000000000      58\n",
              "0               15\n",
              "Name: Installs, dtype: int64"
            ]
          },
          "metadata": {
            "tags": []
          },
          "execution_count": 205
        }
      ]
    },
    {
      "cell_type": "code",
      "metadata": {
        "id": "n1E_SMKIq7Xf",
        "colab_type": "code",
        "colab": {}
      },
      "source": [
        "data.Installs = data.Installs.astype('int64')"
      ],
      "execution_count": 0,
      "outputs": []
    },
    {
      "cell_type": "markdown",
      "metadata": {
        "id": "0hPm82lOwe5N",
        "colab_type": "text"
      },
      "source": [
        "mengubah type data dari Installs"
      ]
    },
    {
      "cell_type": "code",
      "metadata": {
        "id": "0HwnpLKYsstv",
        "colab_type": "code",
        "outputId": "f77c63c4-f781-4227-a0ff-d647c884ce71",
        "colab": {
          "base_uri": "https://localhost:8080/",
          "height": 128
        }
      },
      "source": [
        "data.Installs.head()"
      ],
      "execution_count": 207,
      "outputs": [
        {
          "output_type": "execute_result",
          "data": {
            "text/plain": [
              "0       10000\n",
              "1      500000\n",
              "2     5000000\n",
              "3    50000000\n",
              "4      100000\n",
              "Name: Installs, dtype: int64"
            ]
          },
          "metadata": {
            "tags": []
          },
          "execution_count": 207
        }
      ]
    },
    {
      "cell_type": "code",
      "metadata": {
        "id": "fc9qfAettVEf",
        "colab_type": "code",
        "outputId": "38ac45a5-1a3a-415c-9a6d-1cd8e6f6d60a",
        "colab": {
          "base_uri": "https://localhost:8080/",
          "height": 574
        }
      },
      "source": [
        "data.head()"
      ],
      "execution_count": 208,
      "outputs": [
        {
          "output_type": "execute_result",
          "data": {
            "text/html": [
              "<div>\n",
              "<style scoped>\n",
              "    .dataframe tbody tr th:only-of-type {\n",
              "        vertical-align: middle;\n",
              "    }\n",
              "\n",
              "    .dataframe tbody tr th {\n",
              "        vertical-align: top;\n",
              "    }\n",
              "\n",
              "    .dataframe thead th {\n",
              "        text-align: right;\n",
              "    }\n",
              "</style>\n",
              "<table border=\"1\" class=\"dataframe\">\n",
              "  <thead>\n",
              "    <tr style=\"text-align: right;\">\n",
              "      <th></th>\n",
              "      <th>App</th>\n",
              "      <th>Category</th>\n",
              "      <th>Rating</th>\n",
              "      <th>Reviews</th>\n",
              "      <th>Size</th>\n",
              "      <th>Installs</th>\n",
              "      <th>Price</th>\n",
              "      <th>Content Rating</th>\n",
              "      <th>Pri_Genres</th>\n",
              "      <th>Sec_Genres</th>\n",
              "    </tr>\n",
              "  </thead>\n",
              "  <tbody>\n",
              "    <tr>\n",
              "      <th>0</th>\n",
              "      <td>Photo Editor &amp; Candy Camera &amp; Grid &amp; ScrapBook</td>\n",
              "      <td>ART_AND_DESIGN</td>\n",
              "      <td>4.1</td>\n",
              "      <td>159</td>\n",
              "      <td>19000000.0</td>\n",
              "      <td>10000</td>\n",
              "      <td>0.0</td>\n",
              "      <td>Everyone</td>\n",
              "      <td>Art &amp; Design</td>\n",
              "      <td>Art &amp; Design</td>\n",
              "    </tr>\n",
              "    <tr>\n",
              "      <th>1</th>\n",
              "      <td>Coloring book moana</td>\n",
              "      <td>ART_AND_DESIGN</td>\n",
              "      <td>3.9</td>\n",
              "      <td>967</td>\n",
              "      <td>14000000.0</td>\n",
              "      <td>500000</td>\n",
              "      <td>0.0</td>\n",
              "      <td>Everyone</td>\n",
              "      <td>Art &amp; Design</td>\n",
              "      <td>Pretend Play</td>\n",
              "    </tr>\n",
              "    <tr>\n",
              "      <th>2</th>\n",
              "      <td>U Launcher Lite – FREE Live Cool Themes, Hide ...</td>\n",
              "      <td>ART_AND_DESIGN</td>\n",
              "      <td>4.7</td>\n",
              "      <td>87510</td>\n",
              "      <td>8700000.0</td>\n",
              "      <td>5000000</td>\n",
              "      <td>0.0</td>\n",
              "      <td>Everyone</td>\n",
              "      <td>Art &amp; Design</td>\n",
              "      <td>Art &amp; Design</td>\n",
              "    </tr>\n",
              "    <tr>\n",
              "      <th>3</th>\n",
              "      <td>Sketch - Draw &amp; Paint</td>\n",
              "      <td>ART_AND_DESIGN</td>\n",
              "      <td>4.5</td>\n",
              "      <td>215644</td>\n",
              "      <td>25000000.0</td>\n",
              "      <td>50000000</td>\n",
              "      <td>0.0</td>\n",
              "      <td>Teen</td>\n",
              "      <td>Art &amp; Design</td>\n",
              "      <td>Art &amp; Design</td>\n",
              "    </tr>\n",
              "    <tr>\n",
              "      <th>4</th>\n",
              "      <td>Pixel Draw - Number Art Coloring Book</td>\n",
              "      <td>ART_AND_DESIGN</td>\n",
              "      <td>4.3</td>\n",
              "      <td>967</td>\n",
              "      <td>2800000.0</td>\n",
              "      <td>100000</td>\n",
              "      <td>0.0</td>\n",
              "      <td>Everyone</td>\n",
              "      <td>Art &amp; Design</td>\n",
              "      <td>Creativity</td>\n",
              "    </tr>\n",
              "  </tbody>\n",
              "</table>\n",
              "</div>"
            ],
            "text/plain": [
              "                                                 App  ...    Sec_Genres\n",
              "0     Photo Editor & Candy Camera & Grid & ScrapBook  ...  Art & Design\n",
              "1                                Coloring book moana  ...  Pretend Play\n",
              "2  U Launcher Lite – FREE Live Cool Themes, Hide ...  ...  Art & Design\n",
              "3                              Sketch - Draw & Paint  ...  Art & Design\n",
              "4              Pixel Draw - Number Art Coloring Book  ...    Creativity\n",
              "\n",
              "[5 rows x 10 columns]"
            ]
          },
          "metadata": {
            "tags": []
          },
          "execution_count": 208
        }
      ]
    },
    {
      "cell_type": "markdown",
      "metadata": {
        "id": "WDHiljUjxh6O",
        "colab_type": "text"
      },
      "source": [
        "# Kepopuleran"
      ]
    },
    {
      "cell_type": "code",
      "metadata": {
        "id": "KF2H3rqij1Uk",
        "colab_type": "code",
        "colab": {}
      },
      "source": [
        "condition = [\n",
        "    (data['Installs'] >= 50000000),\n",
        "    (data['Installs'] >= 500000) & (data['Installs'] < 50000000),\n",
        "    (data['Installs'] >= 5000) & (data['Installs'] < 500000),\n",
        "    (data['Installs'] >= 50) & (data['Installs'] < 5000)]\n",
        "choices = ['Very Populer', 'Populer', 'Ordinary', 'Less Populer']\n",
        "data['Popularity'] = np.select(condition, choices, default='Not Popular')"
      ],
      "execution_count": 0,
      "outputs": []
    },
    {
      "cell_type": "markdown",
      "metadata": {
        "id": "KBQlc4kowtIP",
        "colab_type": "text"
      },
      "source": [
        "Mengkategorikan Apps berdasarkan kepopuleran"
      ]
    },
    {
      "cell_type": "code",
      "metadata": {
        "id": "VHooSCeOg7tV",
        "colab_type": "code",
        "outputId": "33eb3559-45f2-46b5-ec32-a0201f5dc135",
        "colab": {
          "base_uri": "https://localhost:8080/",
          "height": 0
        }
      },
      "source": [
        "data.head(2)"
      ],
      "execution_count": 210,
      "outputs": [
        {
          "output_type": "execute_result",
          "data": {
            "text/html": [
              "<div>\n",
              "<style scoped>\n",
              "    .dataframe tbody tr th:only-of-type {\n",
              "        vertical-align: middle;\n",
              "    }\n",
              "\n",
              "    .dataframe tbody tr th {\n",
              "        vertical-align: top;\n",
              "    }\n",
              "\n",
              "    .dataframe thead th {\n",
              "        text-align: right;\n",
              "    }\n",
              "</style>\n",
              "<table border=\"1\" class=\"dataframe\">\n",
              "  <thead>\n",
              "    <tr style=\"text-align: right;\">\n",
              "      <th></th>\n",
              "      <th>App</th>\n",
              "      <th>Category</th>\n",
              "      <th>Rating</th>\n",
              "      <th>Reviews</th>\n",
              "      <th>Size</th>\n",
              "      <th>Installs</th>\n",
              "      <th>Price</th>\n",
              "      <th>Content Rating</th>\n",
              "      <th>Pri_Genres</th>\n",
              "      <th>Sec_Genres</th>\n",
              "      <th>Popularity</th>\n",
              "    </tr>\n",
              "  </thead>\n",
              "  <tbody>\n",
              "    <tr>\n",
              "      <th>0</th>\n",
              "      <td>Photo Editor &amp; Candy Camera &amp; Grid &amp; ScrapBook</td>\n",
              "      <td>ART_AND_DESIGN</td>\n",
              "      <td>4.1</td>\n",
              "      <td>159</td>\n",
              "      <td>19000000.0</td>\n",
              "      <td>10000</td>\n",
              "      <td>0.0</td>\n",
              "      <td>Everyone</td>\n",
              "      <td>Art &amp; Design</td>\n",
              "      <td>Art &amp; Design</td>\n",
              "      <td>Ordinary</td>\n",
              "    </tr>\n",
              "    <tr>\n",
              "      <th>1</th>\n",
              "      <td>Coloring book moana</td>\n",
              "      <td>ART_AND_DESIGN</td>\n",
              "      <td>3.9</td>\n",
              "      <td>967</td>\n",
              "      <td>14000000.0</td>\n",
              "      <td>500000</td>\n",
              "      <td>0.0</td>\n",
              "      <td>Everyone</td>\n",
              "      <td>Art &amp; Design</td>\n",
              "      <td>Pretend Play</td>\n",
              "      <td>Populer</td>\n",
              "    </tr>\n",
              "  </tbody>\n",
              "</table>\n",
              "</div>"
            ],
            "text/plain": [
              "                                              App  ... Popularity\n",
              "0  Photo Editor & Candy Camera & Grid & ScrapBook  ...   Ordinary\n",
              "1                             Coloring book moana  ...    Populer\n",
              "\n",
              "[2 rows x 11 columns]"
            ]
          },
          "metadata": {
            "tags": []
          },
          "execution_count": 210
        }
      ]
    },
    {
      "cell_type": "code",
      "metadata": {
        "id": "8MYpC7maxOCl",
        "colab_type": "code",
        "colab": {}
      },
      "source": [
        "data = data.drop(columns=['App'],axis=1)"
      ],
      "execution_count": 0,
      "outputs": []
    },
    {
      "cell_type": "markdown",
      "metadata": {
        "id": "7iSanVQtxVq1",
        "colab_type": "text"
      },
      "source": [
        "drop  data App"
      ]
    },
    {
      "cell_type": "markdown",
      "metadata": {
        "id": "o5BlVB1syVd8",
        "colab_type": "text"
      },
      "source": [
        "# Encode Data"
      ]
    },
    {
      "cell_type": "code",
      "metadata": {
        "id": "WOB-_58Wyunu",
        "colab_type": "code",
        "colab": {}
      },
      "source": [
        "from sklearn.preprocessing import LabelEncoder"
      ],
      "execution_count": 0,
      "outputs": []
    },
    {
      "cell_type": "code",
      "metadata": {
        "id": "s-opPIOQ1yYU",
        "colab_type": "code",
        "colab": {}
      },
      "source": [
        "data = data.drop(columns=['Category'],axis=1)"
      ],
      "execution_count": 0,
      "outputs": []
    },
    {
      "cell_type": "markdown",
      "metadata": {
        "id": "nMerF4Bz14v0",
        "colab_type": "text"
      },
      "source": [
        "drop Category"
      ]
    },
    {
      "cell_type": "code",
      "metadata": {
        "id": "Z5Dldlwv1QJt",
        "colab_type": "code",
        "outputId": "2beb7b39-0a4b-40c2-bc35-e447162d48eb",
        "colab": {
          "base_uri": "https://localhost:8080/",
          "height": 0
        }
      },
      "source": [
        "data.head(2)"
      ],
      "execution_count": 214,
      "outputs": [
        {
          "output_type": "execute_result",
          "data": {
            "text/html": [
              "<div>\n",
              "<style scoped>\n",
              "    .dataframe tbody tr th:only-of-type {\n",
              "        vertical-align: middle;\n",
              "    }\n",
              "\n",
              "    .dataframe tbody tr th {\n",
              "        vertical-align: top;\n",
              "    }\n",
              "\n",
              "    .dataframe thead th {\n",
              "        text-align: right;\n",
              "    }\n",
              "</style>\n",
              "<table border=\"1\" class=\"dataframe\">\n",
              "  <thead>\n",
              "    <tr style=\"text-align: right;\">\n",
              "      <th></th>\n",
              "      <th>Rating</th>\n",
              "      <th>Reviews</th>\n",
              "      <th>Size</th>\n",
              "      <th>Installs</th>\n",
              "      <th>Price</th>\n",
              "      <th>Content Rating</th>\n",
              "      <th>Pri_Genres</th>\n",
              "      <th>Sec_Genres</th>\n",
              "      <th>Popularity</th>\n",
              "    </tr>\n",
              "  </thead>\n",
              "  <tbody>\n",
              "    <tr>\n",
              "      <th>0</th>\n",
              "      <td>4.1</td>\n",
              "      <td>159</td>\n",
              "      <td>19000000.0</td>\n",
              "      <td>10000</td>\n",
              "      <td>0.0</td>\n",
              "      <td>Everyone</td>\n",
              "      <td>Art &amp; Design</td>\n",
              "      <td>Art &amp; Design</td>\n",
              "      <td>Ordinary</td>\n",
              "    </tr>\n",
              "    <tr>\n",
              "      <th>1</th>\n",
              "      <td>3.9</td>\n",
              "      <td>967</td>\n",
              "      <td>14000000.0</td>\n",
              "      <td>500000</td>\n",
              "      <td>0.0</td>\n",
              "      <td>Everyone</td>\n",
              "      <td>Art &amp; Design</td>\n",
              "      <td>Pretend Play</td>\n",
              "      <td>Populer</td>\n",
              "    </tr>\n",
              "  </tbody>\n",
              "</table>\n",
              "</div>"
            ],
            "text/plain": [
              "   Rating  Reviews        Size  ...    Pri_Genres    Sec_Genres Popularity\n",
              "0     4.1      159  19000000.0  ...  Art & Design  Art & Design   Ordinary\n",
              "1     3.9      967  14000000.0  ...  Art & Design  Pretend Play    Populer\n",
              "\n",
              "[2 rows x 9 columns]"
            ]
          },
          "metadata": {
            "tags": []
          },
          "execution_count": 214
        }
      ]
    },
    {
      "cell_type": "code",
      "metadata": {
        "id": "i1Bc_9y-12Kd",
        "colab_type": "code",
        "colab": {}
      },
      "source": [
        "lb_make = LabelEncoder()\n",
        "data[\"Content_Rating_code\"] = lb_make.fit_transform(data[\"Content Rating\"])"
      ],
      "execution_count": 0,
      "outputs": []
    },
    {
      "cell_type": "markdown",
      "metadata": {
        "id": "CJp-KJeJ2Tct",
        "colab_type": "text"
      },
      "source": [
        "Encode Content Rating"
      ]
    },
    {
      "cell_type": "code",
      "metadata": {
        "id": "AGcXbFa52J6c",
        "colab_type": "code",
        "colab": {}
      },
      "source": [
        "data = data.drop(columns=['Content Rating'],axis=1)"
      ],
      "execution_count": 0,
      "outputs": []
    },
    {
      "cell_type": "markdown",
      "metadata": {
        "id": "5GTm8IzA2WOE",
        "colab_type": "text"
      },
      "source": [
        "drop Content Rating"
      ]
    },
    {
      "cell_type": "code",
      "metadata": {
        "id": "u4xOnwBK2O_M",
        "colab_type": "code",
        "outputId": "4321f9d2-b00b-4f5e-cfac-68fcc34f39c1",
        "colab": {
          "base_uri": "https://localhost:8080/",
          "height": 0
        }
      },
      "source": [
        "data.head()"
      ],
      "execution_count": 217,
      "outputs": [
        {
          "output_type": "execute_result",
          "data": {
            "text/html": [
              "<div>\n",
              "<style scoped>\n",
              "    .dataframe tbody tr th:only-of-type {\n",
              "        vertical-align: middle;\n",
              "    }\n",
              "\n",
              "    .dataframe tbody tr th {\n",
              "        vertical-align: top;\n",
              "    }\n",
              "\n",
              "    .dataframe thead th {\n",
              "        text-align: right;\n",
              "    }\n",
              "</style>\n",
              "<table border=\"1\" class=\"dataframe\">\n",
              "  <thead>\n",
              "    <tr style=\"text-align: right;\">\n",
              "      <th></th>\n",
              "      <th>Rating</th>\n",
              "      <th>Reviews</th>\n",
              "      <th>Size</th>\n",
              "      <th>Installs</th>\n",
              "      <th>Price</th>\n",
              "      <th>Pri_Genres</th>\n",
              "      <th>Sec_Genres</th>\n",
              "      <th>Popularity</th>\n",
              "      <th>Content_Rating_code</th>\n",
              "    </tr>\n",
              "  </thead>\n",
              "  <tbody>\n",
              "    <tr>\n",
              "      <th>0</th>\n",
              "      <td>4.1</td>\n",
              "      <td>159</td>\n",
              "      <td>19000000.0</td>\n",
              "      <td>10000</td>\n",
              "      <td>0.0</td>\n",
              "      <td>Art &amp; Design</td>\n",
              "      <td>Art &amp; Design</td>\n",
              "      <td>Ordinary</td>\n",
              "      <td>1</td>\n",
              "    </tr>\n",
              "    <tr>\n",
              "      <th>1</th>\n",
              "      <td>3.9</td>\n",
              "      <td>967</td>\n",
              "      <td>14000000.0</td>\n",
              "      <td>500000</td>\n",
              "      <td>0.0</td>\n",
              "      <td>Art &amp; Design</td>\n",
              "      <td>Pretend Play</td>\n",
              "      <td>Populer</td>\n",
              "      <td>1</td>\n",
              "    </tr>\n",
              "    <tr>\n",
              "      <th>2</th>\n",
              "      <td>4.7</td>\n",
              "      <td>87510</td>\n",
              "      <td>8700000.0</td>\n",
              "      <td>5000000</td>\n",
              "      <td>0.0</td>\n",
              "      <td>Art &amp; Design</td>\n",
              "      <td>Art &amp; Design</td>\n",
              "      <td>Populer</td>\n",
              "      <td>1</td>\n",
              "    </tr>\n",
              "    <tr>\n",
              "      <th>3</th>\n",
              "      <td>4.5</td>\n",
              "      <td>215644</td>\n",
              "      <td>25000000.0</td>\n",
              "      <td>50000000</td>\n",
              "      <td>0.0</td>\n",
              "      <td>Art &amp; Design</td>\n",
              "      <td>Art &amp; Design</td>\n",
              "      <td>Very Populer</td>\n",
              "      <td>4</td>\n",
              "    </tr>\n",
              "    <tr>\n",
              "      <th>4</th>\n",
              "      <td>4.3</td>\n",
              "      <td>967</td>\n",
              "      <td>2800000.0</td>\n",
              "      <td>100000</td>\n",
              "      <td>0.0</td>\n",
              "      <td>Art &amp; Design</td>\n",
              "      <td>Creativity</td>\n",
              "      <td>Ordinary</td>\n",
              "      <td>1</td>\n",
              "    </tr>\n",
              "  </tbody>\n",
              "</table>\n",
              "</div>"
            ],
            "text/plain": [
              "   Rating  Reviews        Size  ...    Sec_Genres    Popularity Content_Rating_code\n",
              "0     4.1      159  19000000.0  ...  Art & Design      Ordinary                   1\n",
              "1     3.9      967  14000000.0  ...  Pretend Play       Populer                   1\n",
              "2     4.7    87510   8700000.0  ...  Art & Design       Populer                   1\n",
              "3     4.5   215644  25000000.0  ...  Art & Design  Very Populer                   4\n",
              "4     4.3      967   2800000.0  ...    Creativity      Ordinary                   1\n",
              "\n",
              "[5 rows x 9 columns]"
            ]
          },
          "metadata": {
            "tags": []
          },
          "execution_count": 217
        }
      ]
    },
    {
      "cell_type": "code",
      "metadata": {
        "id": "W65VgP4oFWNl",
        "colab_type": "code",
        "colab": {}
      },
      "source": [
        "data = data.drop(columns=['Pri_Genres'],axis=1)"
      ],
      "execution_count": 0,
      "outputs": []
    },
    {
      "cell_type": "code",
      "metadata": {
        "id": "wrFr4Qzd2oet",
        "colab_type": "code",
        "colab": {}
      },
      "source": [
        "lb_make = LabelEncoder()\n",
        "data[\"Sec_genres_code\"] = lb_make.fit_transform(data[\"Sec_Genres\"])"
      ],
      "execution_count": 0,
      "outputs": []
    },
    {
      "cell_type": "markdown",
      "metadata": {
        "id": "gqcvKVqi28ik",
        "colab_type": "text"
      },
      "source": [
        "Encode Secound Genres"
      ]
    },
    {
      "cell_type": "code",
      "metadata": {
        "id": "I6Rfvudo2tus",
        "colab_type": "code",
        "colab": {}
      },
      "source": [
        "data = data.drop(columns=['Sec_Genres'],axis=1)"
      ],
      "execution_count": 0,
      "outputs": []
    },
    {
      "cell_type": "markdown",
      "metadata": {
        "id": "2lRIVUOU3BbL",
        "colab_type": "text"
      },
      "source": [
        "Drop Primary Genres and Secound Genres"
      ]
    },
    {
      "cell_type": "code",
      "metadata": {
        "id": "HpL1xOsp2089",
        "colab_type": "code",
        "outputId": "21440791-80aa-4d2c-a20e-96435d04487a",
        "colab": {
          "base_uri": "https://localhost:8080/",
          "height": 0
        }
      },
      "source": [
        "data.head()"
      ],
      "execution_count": 221,
      "outputs": [
        {
          "output_type": "execute_result",
          "data": {
            "text/html": [
              "<div>\n",
              "<style scoped>\n",
              "    .dataframe tbody tr th:only-of-type {\n",
              "        vertical-align: middle;\n",
              "    }\n",
              "\n",
              "    .dataframe tbody tr th {\n",
              "        vertical-align: top;\n",
              "    }\n",
              "\n",
              "    .dataframe thead th {\n",
              "        text-align: right;\n",
              "    }\n",
              "</style>\n",
              "<table border=\"1\" class=\"dataframe\">\n",
              "  <thead>\n",
              "    <tr style=\"text-align: right;\">\n",
              "      <th></th>\n",
              "      <th>Rating</th>\n",
              "      <th>Reviews</th>\n",
              "      <th>Size</th>\n",
              "      <th>Installs</th>\n",
              "      <th>Price</th>\n",
              "      <th>Popularity</th>\n",
              "      <th>Content_Rating_code</th>\n",
              "      <th>Sec_genres_code</th>\n",
              "    </tr>\n",
              "  </thead>\n",
              "  <tbody>\n",
              "    <tr>\n",
              "      <th>0</th>\n",
              "      <td>4.1</td>\n",
              "      <td>159</td>\n",
              "      <td>19000000.0</td>\n",
              "      <td>10000</td>\n",
              "      <td>0.0</td>\n",
              "      <td>Ordinary</td>\n",
              "      <td>1</td>\n",
              "      <td>4</td>\n",
              "    </tr>\n",
              "    <tr>\n",
              "      <th>1</th>\n",
              "      <td>3.9</td>\n",
              "      <td>967</td>\n",
              "      <td>14000000.0</td>\n",
              "      <td>500000</td>\n",
              "      <td>0.0</td>\n",
              "      <td>Populer</td>\n",
              "      <td>1</td>\n",
              "      <td>36</td>\n",
              "    </tr>\n",
              "    <tr>\n",
              "      <th>2</th>\n",
              "      <td>4.7</td>\n",
              "      <td>87510</td>\n",
              "      <td>8700000.0</td>\n",
              "      <td>5000000</td>\n",
              "      <td>0.0</td>\n",
              "      <td>Populer</td>\n",
              "      <td>1</td>\n",
              "      <td>4</td>\n",
              "    </tr>\n",
              "    <tr>\n",
              "      <th>3</th>\n",
              "      <td>4.5</td>\n",
              "      <td>215644</td>\n",
              "      <td>25000000.0</td>\n",
              "      <td>50000000</td>\n",
              "      <td>0.0</td>\n",
              "      <td>Very Populer</td>\n",
              "      <td>4</td>\n",
              "      <td>4</td>\n",
              "    </tr>\n",
              "    <tr>\n",
              "      <th>4</th>\n",
              "      <td>4.3</td>\n",
              "      <td>967</td>\n",
              "      <td>2800000.0</td>\n",
              "      <td>100000</td>\n",
              "      <td>0.0</td>\n",
              "      <td>Ordinary</td>\n",
              "      <td>1</td>\n",
              "      <td>16</td>\n",
              "    </tr>\n",
              "  </tbody>\n",
              "</table>\n",
              "</div>"
            ],
            "text/plain": [
              "   Rating  Reviews  ...  Content_Rating_code  Sec_genres_code\n",
              "0     4.1      159  ...                    1                4\n",
              "1     3.9      967  ...                    1               36\n",
              "2     4.7    87510  ...                    1                4\n",
              "3     4.5   215644  ...                    4                4\n",
              "4     4.3      967  ...                    1               16\n",
              "\n",
              "[5 rows x 8 columns]"
            ]
          },
          "metadata": {
            "tags": []
          },
          "execution_count": 221
        }
      ]
    },
    {
      "cell_type": "code",
      "metadata": {
        "id": "VGM9aOd7J539",
        "colab_type": "code",
        "outputId": "56e092c8-1e76-4477-c014-952675bc8e73",
        "colab": {
          "base_uri": "https://localhost:8080/",
          "height": 0
        }
      },
      "source": [
        "data.shape"
      ],
      "execution_count": 222,
      "outputs": [
        {
          "output_type": "execute_result",
          "data": {
            "text/plain": [
              "(10840, 8)"
            ]
          },
          "metadata": {
            "tags": []
          },
          "execution_count": 222
        }
      ]
    },
    {
      "cell_type": "code",
      "metadata": {
        "id": "agLDUWUaKYo1",
        "colab_type": "code",
        "outputId": "c185cf93-439d-4d13-dcad-0aefbb95f075",
        "colab": {
          "base_uri": "https://localhost:8080/",
          "height": 0
        }
      },
      "source": [
        "data.head()"
      ],
      "execution_count": 223,
      "outputs": [
        {
          "output_type": "execute_result",
          "data": {
            "text/html": [
              "<div>\n",
              "<style scoped>\n",
              "    .dataframe tbody tr th:only-of-type {\n",
              "        vertical-align: middle;\n",
              "    }\n",
              "\n",
              "    .dataframe tbody tr th {\n",
              "        vertical-align: top;\n",
              "    }\n",
              "\n",
              "    .dataframe thead th {\n",
              "        text-align: right;\n",
              "    }\n",
              "</style>\n",
              "<table border=\"1\" class=\"dataframe\">\n",
              "  <thead>\n",
              "    <tr style=\"text-align: right;\">\n",
              "      <th></th>\n",
              "      <th>Rating</th>\n",
              "      <th>Reviews</th>\n",
              "      <th>Size</th>\n",
              "      <th>Installs</th>\n",
              "      <th>Price</th>\n",
              "      <th>Popularity</th>\n",
              "      <th>Content_Rating_code</th>\n",
              "      <th>Sec_genres_code</th>\n",
              "    </tr>\n",
              "  </thead>\n",
              "  <tbody>\n",
              "    <tr>\n",
              "      <th>0</th>\n",
              "      <td>4.1</td>\n",
              "      <td>159</td>\n",
              "      <td>19000000.0</td>\n",
              "      <td>10000</td>\n",
              "      <td>0.0</td>\n",
              "      <td>Ordinary</td>\n",
              "      <td>1</td>\n",
              "      <td>4</td>\n",
              "    </tr>\n",
              "    <tr>\n",
              "      <th>1</th>\n",
              "      <td>3.9</td>\n",
              "      <td>967</td>\n",
              "      <td>14000000.0</td>\n",
              "      <td>500000</td>\n",
              "      <td>0.0</td>\n",
              "      <td>Populer</td>\n",
              "      <td>1</td>\n",
              "      <td>36</td>\n",
              "    </tr>\n",
              "    <tr>\n",
              "      <th>2</th>\n",
              "      <td>4.7</td>\n",
              "      <td>87510</td>\n",
              "      <td>8700000.0</td>\n",
              "      <td>5000000</td>\n",
              "      <td>0.0</td>\n",
              "      <td>Populer</td>\n",
              "      <td>1</td>\n",
              "      <td>4</td>\n",
              "    </tr>\n",
              "    <tr>\n",
              "      <th>3</th>\n",
              "      <td>4.5</td>\n",
              "      <td>215644</td>\n",
              "      <td>25000000.0</td>\n",
              "      <td>50000000</td>\n",
              "      <td>0.0</td>\n",
              "      <td>Very Populer</td>\n",
              "      <td>4</td>\n",
              "      <td>4</td>\n",
              "    </tr>\n",
              "    <tr>\n",
              "      <th>4</th>\n",
              "      <td>4.3</td>\n",
              "      <td>967</td>\n",
              "      <td>2800000.0</td>\n",
              "      <td>100000</td>\n",
              "      <td>0.0</td>\n",
              "      <td>Ordinary</td>\n",
              "      <td>1</td>\n",
              "      <td>16</td>\n",
              "    </tr>\n",
              "  </tbody>\n",
              "</table>\n",
              "</div>"
            ],
            "text/plain": [
              "   Rating  Reviews  ...  Content_Rating_code  Sec_genres_code\n",
              "0     4.1      159  ...                    1                4\n",
              "1     3.9      967  ...                    1               36\n",
              "2     4.7    87510  ...                    1                4\n",
              "3     4.5   215644  ...                    4                4\n",
              "4     4.3      967  ...                    1               16\n",
              "\n",
              "[5 rows x 8 columns]"
            ]
          },
          "metadata": {
            "tags": []
          },
          "execution_count": 223
        }
      ]
    },
    {
      "cell_type": "code",
      "metadata": {
        "id": "hilKsFSnJeSe",
        "colab_type": "code",
        "outputId": "7662467f-4195-47bf-94d6-d7e64f26c0c9",
        "colab": {
          "base_uri": "https://localhost:8080/",
          "height": 0
        }
      },
      "source": [
        "m=data['Popularity']\n",
        "data = data.drop(columns='Popularity',axis=1)\n",
        "data.insert(7,'Popularity',m)\n",
        "data.head()"
      ],
      "execution_count": 224,
      "outputs": [
        {
          "output_type": "execute_result",
          "data": {
            "text/html": [
              "<div>\n",
              "<style scoped>\n",
              "    .dataframe tbody tr th:only-of-type {\n",
              "        vertical-align: middle;\n",
              "    }\n",
              "\n",
              "    .dataframe tbody tr th {\n",
              "        vertical-align: top;\n",
              "    }\n",
              "\n",
              "    .dataframe thead th {\n",
              "        text-align: right;\n",
              "    }\n",
              "</style>\n",
              "<table border=\"1\" class=\"dataframe\">\n",
              "  <thead>\n",
              "    <tr style=\"text-align: right;\">\n",
              "      <th></th>\n",
              "      <th>Rating</th>\n",
              "      <th>Reviews</th>\n",
              "      <th>Size</th>\n",
              "      <th>Installs</th>\n",
              "      <th>Price</th>\n",
              "      <th>Content_Rating_code</th>\n",
              "      <th>Sec_genres_code</th>\n",
              "      <th>Popularity</th>\n",
              "    </tr>\n",
              "  </thead>\n",
              "  <tbody>\n",
              "    <tr>\n",
              "      <th>0</th>\n",
              "      <td>4.1</td>\n",
              "      <td>159</td>\n",
              "      <td>19000000.0</td>\n",
              "      <td>10000</td>\n",
              "      <td>0.0</td>\n",
              "      <td>1</td>\n",
              "      <td>4</td>\n",
              "      <td>Ordinary</td>\n",
              "    </tr>\n",
              "    <tr>\n",
              "      <th>1</th>\n",
              "      <td>3.9</td>\n",
              "      <td>967</td>\n",
              "      <td>14000000.0</td>\n",
              "      <td>500000</td>\n",
              "      <td>0.0</td>\n",
              "      <td>1</td>\n",
              "      <td>36</td>\n",
              "      <td>Populer</td>\n",
              "    </tr>\n",
              "    <tr>\n",
              "      <th>2</th>\n",
              "      <td>4.7</td>\n",
              "      <td>87510</td>\n",
              "      <td>8700000.0</td>\n",
              "      <td>5000000</td>\n",
              "      <td>0.0</td>\n",
              "      <td>1</td>\n",
              "      <td>4</td>\n",
              "      <td>Populer</td>\n",
              "    </tr>\n",
              "    <tr>\n",
              "      <th>3</th>\n",
              "      <td>4.5</td>\n",
              "      <td>215644</td>\n",
              "      <td>25000000.0</td>\n",
              "      <td>50000000</td>\n",
              "      <td>0.0</td>\n",
              "      <td>4</td>\n",
              "      <td>4</td>\n",
              "      <td>Very Populer</td>\n",
              "    </tr>\n",
              "    <tr>\n",
              "      <th>4</th>\n",
              "      <td>4.3</td>\n",
              "      <td>967</td>\n",
              "      <td>2800000.0</td>\n",
              "      <td>100000</td>\n",
              "      <td>0.0</td>\n",
              "      <td>1</td>\n",
              "      <td>16</td>\n",
              "      <td>Ordinary</td>\n",
              "    </tr>\n",
              "  </tbody>\n",
              "</table>\n",
              "</div>"
            ],
            "text/plain": [
              "   Rating  Reviews  ...  Sec_genres_code    Popularity\n",
              "0     4.1      159  ...                4      Ordinary\n",
              "1     3.9      967  ...               36       Populer\n",
              "2     4.7    87510  ...                4       Populer\n",
              "3     4.5   215644  ...                4  Very Populer\n",
              "4     4.3      967  ...               16      Ordinary\n",
              "\n",
              "[5 rows x 8 columns]"
            ]
          },
          "metadata": {
            "tags": []
          },
          "execution_count": 224
        }
      ]
    },
    {
      "cell_type": "markdown",
      "metadata": {
        "id": "0eDQa1mv45zr",
        "colab_type": "text"
      },
      "source": [
        "# Exploring Correlation in Python"
      ]
    },
    {
      "cell_type": "code",
      "metadata": {
        "id": "xHZl_bT05Dg8",
        "colab_type": "code",
        "colab": {}
      },
      "source": [
        "import numpy as np \n",
        "import pandas as pd \n",
        "import seaborn as sns \n",
        "import matplotlib.pyplot as plt \n",
        "from scipy.stats import norm "
      ],
      "execution_count": 0,
      "outputs": []
    },
    {
      "cell_type": "markdown",
      "metadata": {
        "id": "ETNDgUMp7Ejp",
        "colab_type": "text"
      },
      "source": [
        "Pie Chart"
      ]
    },
    {
      "cell_type": "code",
      "metadata": {
        "id": "hL1LVks47jic",
        "colab_type": "code",
        "outputId": "f7a0c3b6-103e-4f57-f476-c4cb093cc3dd",
        "colab": {
          "base_uri": "https://localhost:8080/",
          "height": 0
        }
      },
      "source": [
        "data['Popularity'].value_counts().plot(kind='pie')"
      ],
      "execution_count": 226,
      "outputs": [
        {
          "output_type": "execute_result",
          "data": {
            "text/plain": [
              "<matplotlib.axes._subplots.AxesSubplot at 0x7fc1036248d0>"
            ]
          },
          "metadata": {
            "tags": []
          },
          "execution_count": 226
        },
        {
          "output_type": "display_data",
          "data": {
            "image/png": "[encoded data removed]",
            "text/plain": [
              "<Figure size 432x288 with 1 Axes>"
            ]
          },
          "metadata": {
            "tags": []
          }
        }
      ]
    },
    {
      "cell_type": "markdown",
      "metadata": {
        "id": "qZgwgO9TF4uW",
        "colab_type": "text"
      },
      "source": [
        "Correlation"
      ]
    },
    {
      "cell_type": "code",
      "metadata": {
        "id": "vg8kvAtND59J",
        "colab_type": "code",
        "outputId": "b417eb32-e840-42de-8c71-f986e59533ab",
        "colab": {
          "base_uri": "https://localhost:8080/",
          "height": 0
        }
      },
      "source": [
        "corr = data.corr()\n",
        "sns.heatmap(corr, annot=True, fmt='.2f')"
      ],
      "execution_count": 227,
      "outputs": [
        {
          "output_type": "execute_result",
          "data": {
            "text/plain": [
              "<matplotlib.axes._subplots.AxesSubplot at 0x7fc10353ab00>"
            ]
          },
          "metadata": {
            "tags": []
          },
          "execution_count": 227
        },
        {
          "output_type": "display_data",
          "data": {
            "image/png": "[encoded data removed]",
            "text/plain": [
              "<Figure size 432x288 with 2 Axes>"
            ]
          },
          "metadata": {
            "tags": []
          }
        }
      ]
    },
    {
      "cell_type": "markdown",
      "metadata": {
        "id": "W2RvNKDtQydy",
        "colab_type": "text"
      },
      "source": [
        "# Model"
      ]
    },
    {
      "cell_type": "code",
      "metadata": {
        "id": "Fo9pHE7Lha-w",
        "colab_type": "code",
        "colab": {}
      },
      "source": [
        "data = data.drop(columns=['Installs'],axis=1)"
      ],
      "execution_count": 0,
      "outputs": []
    },
    {
      "cell_type": "code",
      "metadata": {
        "id": "8h0YUujqF7ZW",
        "colab_type": "code",
        "colab": {}
      },
      "source": [
        "from sklearn.neighbors import KNeighborsClassifier\n",
        "from sklearn.naive_bayes import GaussianNB\n",
        "from sklearn.linear_model import LogisticRegression\n",
        "from sklearn.svm import SVC\n",
        "from sklearn.tree import DecisionTreeClassifier\n",
        "from sklearn.ensemble import RandomForestClassifier\n",
        "from sklearn.model_selection import train_test_split\n",
        "from sklearn.model_selection import KFold\n",
        "from sklearn.metrics import accuracy_score\n",
        "from sklearn.metrics import classification_report"
      ],
      "execution_count": 0,
      "outputs": []
    },
    {
      "cell_type": "code",
      "metadata": {
        "id": "ocMJQw2gINOm",
        "colab_type": "code",
        "colab": {}
      },
      "source": [
        "models = {\n",
        "\"knn\": KNeighborsClassifier(n_neighbors=1),\n",
        "\"naive_bayes\": GaussianNB(),\n",
        "\"decision_tree\": DecisionTreeClassifier(),\n",
        "\"random_forest\": RandomForestClassifier(n_estimators=100),\n",
        "}"
      ],
      "execution_count": 0,
      "outputs": []
    },
    {
      "cell_type": "code",
      "metadata": {
        "id": "HlUnFj_6IQk3",
        "colab_type": "code",
        "colab": {}
      },
      "source": [
        "X=data.iloc[:,: -1].values # Data training\n",
        "Y=data.iloc[:,-1].values # Target yang di-training\n",
        "\n",
        "model_names=[\"knn\",\"naive_bayes\",\"decision_tree\",\"random_forest\"]\n",
        "\n",
        "(trainX, testX, trainY, testY) = train_test_split(X,Y, random_state=3, test_size=0.25)"
      ],
      "execution_count": 0,
      "outputs": []
    },
    {
      "cell_type": "code",
      "metadata": {
        "id": "D4bbbV6ug6U6",
        "colab_type": "code",
        "colab": {
          "base_uri": "https://localhost:8080/",
          "height": 1000
        },
        "outputId": "a41e1f24-3ad5-4141-c829-5d0c069b2188"
      },
      "source": [
        "for model_name in models:\n",
        "    train=models[model_name].fit(trainX,trainY)\n",
        "    predicted=train.predict(testX)\n",
        "    print(model_name,\":\\n\", classification_report(testY,predicted))\n",
        "    print(\"\\n\")"
      ],
      "execution_count": 233,
      "outputs": [
        {
          "output_type": "stream",
          "text": [
            "knn :\n",
            "               precision    recall  f1-score   support\n",
            "\n",
            "Less Populer       0.66      0.68      0.67       517\n",
            " Not Popular       0.36      0.36      0.36       118\n",
            "    Ordinary       0.74      0.75      0.75       839\n",
            "     Populer       0.88      0.87      0.87      1061\n",
            "Very Populer       0.87      0.82      0.84       175\n",
            "\n",
            "    accuracy                           0.77      2710\n",
            "   macro avg       0.70      0.69      0.70      2710\n",
            "weighted avg       0.77      0.77      0.77      2710\n",
            "\n",
            "\n",
            "\n",
            "naive_bayes :\n",
            "               precision    recall  f1-score   support\n",
            "\n",
            "Less Populer       0.42      0.97      0.58       517\n",
            " Not Popular       0.00      0.00      0.00       118\n",
            "    Ordinary       0.51      0.30      0.38       839\n",
            "     Populer       0.94      0.76      0.84      1061\n",
            "Very Populer       0.87      0.78      0.82       175\n",
            "\n",
            "    accuracy                           0.63      2710\n",
            "   macro avg       0.55      0.56      0.53      2710\n",
            "weighted avg       0.66      0.63      0.61      2710\n",
            "\n",
            "\n",
            "\n",
            "decision_tree :\n",
            "               precision    recall  f1-score   support\n",
            "\n",
            "Less Populer       0.73      0.76      0.75       517\n",
            " Not Popular       0.48      0.46      0.47       118\n",
            "    Ordinary       0.82      0.81      0.81       839\n",
            "     Populer       0.90      0.89      0.90      1061\n",
            "Very Populer       0.82      0.89      0.85       175\n",
            "\n",
            "    accuracy                           0.82      2710\n",
            "   macro avg       0.75      0.76      0.76      2710\n",
            "weighted avg       0.82      0.82      0.82      2710\n",
            "\n",
            "\n",
            "\n"
          ],
          "name": "stdout"
        },
        {
          "output_type": "stream",
          "text": [
            "/usr/local/lib/python3.6/dist-packages/sklearn/metrics/classification.py:1437: UndefinedMetricWarning: Precision and F-score are ill-defined and being set to 0.0 in labels with no predicted samples.\n",
            "  'precision', 'predicted', average, warn_for)\n"
          ],
          "name": "stderr"
        },
        {
          "output_type": "stream",
          "text": [
            "random_forest :\n",
            "               precision    recall  f1-score   support\n",
            "\n",
            "Less Populer       0.78      0.82      0.80       517\n",
            " Not Popular       0.54      0.46      0.50       118\n",
            "    Ordinary       0.87      0.87      0.87       839\n",
            "     Populer       0.94      0.94      0.94      1061\n",
            "Very Populer       0.94      0.90      0.92       175\n",
            "\n",
            "    accuracy                           0.87      2710\n",
            "   macro avg       0.81      0.80      0.80      2710\n",
            "weighted avg       0.87      0.87      0.87      2710\n",
            "\n",
            "\n",
            "\n"
          ],
          "name": "stdout"
        }
      ]
    },
    {
      "cell_type": "markdown",
      "metadata": {
        "id": "F6mbxSjdj_Qp",
        "colab_type": "text"
      },
      "source": [
        "# Parameter Random Forest"
      ]
    },
    {
      "cell_type": "code",
      "metadata": {
        "id": "JccVkch1nQwA",
        "colab_type": "code",
        "colab": {
          "base_uri": "https://localhost:8080/",
          "height": 203
        },
        "outputId": "eb2ebd57-448e-403c-9025-4818e559f315"
      },
      "source": [
        "from sklearn.ensemble import RandomForestClassifier\n",
        "from sklearn.metrics import make_scorer, accuracy_score\n",
        "from sklearn.model_selection import GridSearchCV\n",
        "\n",
        "# Choose the type of classifier. \n",
        "clf = RandomForestClassifier()\n",
        "\n",
        "parameters = {'n_estimators': [4, 6, 9], \n",
        "              'max_features': ['log2', 'sqrt','auto'], \n",
        "              'criterion': ['entropy', 'gini'],\n",
        "              'max_depth': [2, 3, 5, 10], \n",
        "              'min_samples_split': [2, 3, 5],\n",
        "              'min_samples_leaf': [1,5,8]\n",
        "             }\n",
        "\n",
        "# Type of scoring used to compare parameter combinations\n",
        "acc_scorer = make_scorer(accuracy_score)\n",
        "\n",
        "# Run the grid search\n",
        "grid_obj = GridSearchCV(clf, parameters, scoring=acc_scorer)\n",
        "grid_obj = grid_obj.fit(trainX, trainY)\n",
        "\n",
        "# Set the clf to the best combination of parameters\n",
        "clf = grid_obj.best_estimator_\n",
        "\n",
        "# Fit the best algorithm to the data. \n",
        "clf.fit(trainX, trainY)"
      ],
      "execution_count": 245,
      "outputs": [
        {
          "output_type": "stream",
          "text": [
            "/usr/local/lib/python3.6/dist-packages/sklearn/model_selection/_split.py:1978: FutureWarning: The default value of cv will change from 3 to 5 in version 0.22. Specify it explicitly to silence this warning.\n",
            "  warnings.warn(CV_WARNING, FutureWarning)\n"
          ],
          "name": "stderr"
        },
        {
          "output_type": "execute_result",
          "data": {
            "text/plain": [
              "RandomForestClassifier(bootstrap=True, class_weight=None, criterion='entropy',\n",
              "                       max_depth=10, max_features='log2', max_leaf_nodes=None,\n",
              "                       min_impurity_decrease=0.0, min_impurity_split=None,\n",
              "                       min_samples_leaf=1, min_samples_split=3,\n",
              "                       min_weight_fraction_leaf=0.0, n_estimators=9,\n",
              "                       n_jobs=None, oob_score=False, random_state=None,\n",
              "                       verbose=0, warm_start=False)"
            ]
          },
          "metadata": {
            "tags": []
          },
          "execution_count": 245
        }
      ]
    },
    {
      "cell_type": "code",
      "metadata": {
        "id": "ZRLWBOlTof33",
        "colab_type": "code",
        "colab": {
          "base_uri": "https://localhost:8080/",
          "height": 239
        },
        "outputId": "d166f2cc-3d49-41d0-f7d1-857da8183022"
      },
      "source": [
        "predictions = clf.predict(testX)\n",
        "print(classification_report(testY, predictions))"
      ],
      "execution_count": 248,
      "outputs": [
        {
          "output_type": "stream",
          "text": [
            "              precision    recall  f1-score   support\n",
            "\n",
            "Less Populer       0.77      0.84      0.80       517\n",
            " Not Popular       0.60      0.47      0.53       118\n",
            "    Ordinary       0.87      0.86      0.87       839\n",
            "     Populer       0.93      0.92      0.93      1061\n",
            "Very Populer       0.88      0.85      0.86       175\n",
            "\n",
            "    accuracy                           0.86      2710\n",
            "   macro avg       0.81      0.79      0.80      2710\n",
            "weighted avg       0.86      0.86      0.86      2710\n",
            "\n"
          ],
          "name": "stdout"
        }
      ]
    },
    {
      "cell_type": "markdown",
      "metadata": {
        "id": "Ff6itRSkOJNy",
        "colab_type": "text"
      },
      "source": [
        "# Catatan Kaki\n",
        "Note \n",
        "- https://medium.com/@rrfd/cleaning-and-prepping-data-with-python-for-data-science-best-practices-and-helpful-packages-af1edfbe2a3\n",
        "- Pandas Conditional: https://stackoverflow.com/questions/19913659/pandas-conditional-creation-of-a-series-dataframe-column\n",
        "- Parameters: https://www.kaggle.com/cesartrevisan/scikit-learn-and-gridsearchcv"
      ]
    },
    {
      "cell_type": "code",
      "metadata": {
        "id": "FDSSafghoQFZ",
        "colab_type": "code",
        "colab": {}
      },
      "source": [
        ""
      ],
      "execution_count": 0,
      "outputs": []
    }
  ]
}